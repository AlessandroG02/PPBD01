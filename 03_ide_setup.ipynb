{
 "cells": [
  {
   "cell_type": "markdown",
   "metadata": {
    "slideshow": {
     "slide_type": "slide"
    },
    "tags": []
   },
   "source": [
    "# Prepararsi a programmare con Python"
   ]
  },
  {
   "cell_type": "markdown",
   "metadata": {
    "slideshow": {
     "slide_type": "slide"
    },
    "tags": []
   },
   "source": [
    "## Ambiente di sviluppo"
   ]
  },
  {
   "cell_type": "markdown",
   "metadata": {
    "slideshow": {
     "slide_type": "notes"
    },
    "tags": []
   },
   "source": [
    "Scrivere un programma comporta tutta una serie di compiti: scrivere il codice, trovare e correggere gli errori che inevitabilmente si presentano, poi il codice deve essere compilato, eseguito e documentato. E indovinate un po', tutto questo deve essere fatto più e più volte (e questo è semplicemente fantastico). Con semplici programmi come \"Hello World\", è possibile eseguire queste operazioni utilizzando un semplice editor di testo per scrivere il codice sorgente e una serie di strumenti per tradurre e avviare i programmi. Alcuni editor di testo possono anche evidenziare la sintassi, semplificando il processo di scrittura, ma questo potrebbe non essere sufficiente per lavorare su qualcosa di più grande e complesso."
   ]
  },
  {
   "cell_type": "markdown",
   "metadata": {
    "slideshow": {
     "slide_type": "fragment"
    },
    "tags": []
   },
   "source": [
    "Come sviluppatori professionisti, avete bisogno di uno strumento specializzato per navigare tra i file dei vostri programmi, modificarli, compilarli, eseguirli ed eseguirne il debug, visualizzare gli errori di sintassi e così via."
   ]
  },
  {
   "cell_type": "markdown",
   "metadata": {
    "slideshow": {
     "slide_type": "fragment"
    },
    "tags": []
   },
   "source": [
    "Un ambiente di sviluppo integrato (_**Integrated Development Environment**_ o _**IDE**_) è proprio questo: offre un unico programma con cui gli sviluppatori possono gestire tutti questi compiti comuni."
   ]
  },
  {
   "cell_type": "markdown",
   "metadata": {
    "slideshow": {
     "slide_type": "notes"
    },
    "tags": []
   },
   "source": [
    "Gli IDE sono stati creati per massimizzare la produttività del programmatore attraverso componenti ben integrati tra loro e con interfacce utente possibilmente intuitive. Ciò consente allo sviluppatore, rispetto ad usare programmi di sviluppo separati, di eseguire un minor numero di passaggi per passare da una modalità di lavoro all'altra. Tuttavia, i moderni IDE sono software abbastanza complessi. Ciò significa che si può ottenere un'accelerazione e un miglioramento del processo di lavoro solo dopo aver seguito una specifica formazione. Comunque, anche in questo caso non ci sono grosse difficoltà: molti IDE sono abbastanza intuitivi e le interfacce dei diversi produttori sono spesso molto simili, quindi non è troppo difficile passare da un IDE all'altro.\n",
    "\n",
    "Esistono molti IDE per diversi linguaggi di programmazione. Alcuni supportano un solo linguaggio, mentre altri ne supportano diversi o possono essere estesi con dei plugin. Ad esempio, alcuni IDE che supportano più linguaggi sono Eclipse, NetBeans, Android Studio, Visual Studio Code, IntelliJ IDEA. Degli IDE per un linguaggio di programmazione specifico sono invece Delphi, Dev-C++, IDLE per Python, PyCharm. Tutti gli ambienti qua citati possono essere eseguiti su Windows, Mac OS o GNU/Linux."
   ]
  },
  {
   "cell_type": "markdown",
   "metadata": {
    "slideshow": {
     "slide_type": "subslide"
    },
    "tags": []
   },
   "source": [
    "In generale, un ambiente di sviluppo comprende:\n",
    "\n",
    "- Un **editor di testo**, progettato per lavorare con i file di testo in modo interattivo. Permette di visualizzare il contenuto dei file di testo e di eseguire varie azioni come\n",
    "    - l'inserimento, l'eliminazione e la copia del testo,\n",
    "    - la ricerca a tutto testo (*full-text search*) all'interno di uno o opiù file,\n",
    "    - la sostituzione, l'ordinamento delle stringhe,\n",
    "    - la visualizzazione dei codici dei caratteri e la conversione delle codifiche,\n",
    "    - l'evidenziazione della sintassi (_**syntax highlighting**_),\n",
    "    - l'analisi del codice sorgente per evidenziare errori di programmazione, bug, errori stilistici e costrutti sospetti (_**lint**_).\n",
    "- Un **traduttore** (compilatore e/o interprete), che traduce un testo scritto in un linguaggio di programmazione in codice macchina e lo fa immediatamente prima di avviare il programma (compilazione) o riga per riga (interpretazione).\n",
    "- Strumenti di **automazione** dei test e della compilazione/pacchettizzazione, che preparano il codice e mettono tutto insieme.\n",
    "- Un **debugger**, che cerca gli errori nel codice e li segnala."
   ]
  },
  {
   "cell_type": "markdown",
   "metadata": {
    "slideshow": {
     "slide_type": "notes"
    },
    "tags": []
   },
   "source": [
    "In linea di massima, l'uso di un IDE rende lo sviluppatore più produttivo, perché un IDE fornisce componenti ben integrati fra loro e con un'interfaccia utente simile. Inoltre, automatizza alcune attività di routine e fornisce persino consigli e feedback. Tutto questo perché lo scopo dell'ambiente integrato è quello di combinare varie utility in un unico prodotto. Questo approccio consente agli sviluppatori di concentrarsi sulla risoluzione dei loro problemi principali, mentre le operazioni comuni e standard sono gestite dall'IDE."
   ]
  },
  {
   "cell_type": "markdown",
   "metadata": {
    "slideshow": {
     "slide_type": "subslide"
    },
    "tags": []
   },
   "source": [
    "Per riassumere:\n",
    "- un IDE è uno strumento specializzato che consente di navigare tra progetti con più file, modificarli, compilarli, eseguirli, eseguirne il debug e visualizzare anche gli errori di sintassi;\n",
    "- gli IDE più moderni hanno un'interfaccia grafica e sono interattivi;\n",
    "- alcuni IDE supportano un solo linguaggio, mentre altri supportano più linguaggi."
   ]
  },
  {
   "cell_type": "markdown",
   "metadata": {
    "slideshow": {
     "slide_type": "subslide"
    },
    "tags": []
   },
   "source": [
    "### Principali IDE ed editor di codice usati con Python\n",
    "\n",
    "|Nome|Licenza|Note|\n",
    "|----|-------|----|\n",
    "|IDLE|Python Software Foundation License (PSFL)|In bundle con il pacchetto di installazione di Python|\n",
    "|Visual Studio Code|MIT License + proprietarie|Microsoft|\n",
    "|PyCharm  CE|Apache License 2.0|JetBrains (azienda ceca)|\n",
    "|Eclipse (PyDev)|Eclipse Public License (EPL)|Eclipse Foundation (consorzio interaziendale)|\n",
    "|Spyder|MIT License|Collettivo di sviluppatori|\n",
    "|JupyterNotebook/JupyterLab|BSD syle|Jupyter Development Team (collettivo di sviluppatori)|\n",
    "|GitHub Codespaces|basato su Visual Studio Code<br/>(proprietaria - servizio online)|GitHub-Microsoft|\n",
    "|Sublime Text|proprietaria|Jon Skinner (Sublime HQ)|\n",
    "|Vim|VIM License|Bram Moolenaar et al.|"
   ]
  },
  {
   "cell_type": "markdown",
   "metadata": {
    "slideshow": {
     "slide_type": "subslide"
    },
    "tags": []
   },
   "source": [
    "### Installazione e configurazione di Visual Studio Code\n",
    "\n",
    "![vscode_logo.png](./imgs/vscode/vscode_logo.png)"
   ]
  },
  {
   "cell_type": "markdown",
   "metadata": {
    "slideshow": {
     "slide_type": "fragment"
    },
    "tags": []
   },
   "source": [
    "**[Visual Studio Code](https://code.visualstudio.com/)** (per gli amici **VS Code** o semplicemente `vscode`) è un IDE open source e un editor di codice sorgente realizzato da Microsoft con l'[Electron Framework](https://it.wikipedia.org/wiki/Electron_(framework)), per piattaforme Windows, Linux e macOS. È un software libero e gratuito, anche se la versione ufficiale distribuita da Microsoft contiene alcuni componenti sotto licenze proprietarie."
   ]
  },
  {
   "cell_type": "markdown",
   "metadata": {
    "slideshow": {
     "slide_type": "notes"
    },
    "tags": []
   },
   "source": [
    "Nel sondaggio Stack Overflow 2021 Developer Survey, Visual Studio Code è stato classificato come il più popolare tra gli ambienti di sviluppo tra gli 82.000 intervistati, con il 70% che ha dichiarato di utilizzarlo."
   ]
  },
  {
   "cell_type": "markdown",
   "metadata": {
    "slideshow": {
     "slide_type": "subslide"
    },
    "tags": []
   },
   "source": [
    "Tra le sue funzionalità principali vi sono:\n",
    "\n",
    "- supporto per il [debug](https://code.visualstudio.com/docs/editor/debugging),\n",
    "- syntax highlighting,\n",
    "- completamento intelligente del codice ([IntelliSense](https://code.visualstudio.com/docs/editor/intellisense)),\n",
    "- supporto per gli [snippet](https://code.visualstudio.com/docs/editor/userdefinedsnippets) e la sintassi [Emmet](https://code.visualstudio.com/docs/editor/emmet),\n",
    "- strumenti per il [refactoring del codice](https://code.visualstudio.com/docs/editor/refactoring),\n",
    "- [client Git](https://code.visualstudio.com/docs/sourcecontrol/overview) incorporato."
   ]
  },
  {
   "cell_type": "markdown",
   "metadata": {
    "slideshow": {
     "slide_type": "subslide"
    },
    "tags": []
   },
   "source": [
    "Gli utenti possono personalizzare il proprio ambiente di svilupppo modificado il [tema grafico](https://code.visualstudio.com/docs/getstarted/themes), le [scorciatoie da tastiera](https://code.visualstudio.com/docs/getstarted/keybindings) e le [preferenze](https://code.visualstudio.com/docs/getstarted/settings).\n",
    "Tramite l'[Extension Marketplace](https://marketplace.visualstudio.com/vscode) è inoltre possibile installare [estensioni ufficiali o di terze parti](https://code.visualstudio.com/docs/editor/extension-marketplace) che aggiungono ulteriori funzionalità. Naturalmente è possibile [creare le proprie estensioni](https://code.visualstudio.com/api) per personalizzare VS Code nei minimi dettagli."
   ]
  },
  {
   "cell_type": "markdown",
   "metadata": {
    "slideshow": {
     "slide_type": "subslide"
    },
    "tags": []
   },
   "source": [
    "L'editor di codice sorgente offre inoltre alcune fuzioni molto utili:\n",
    "\n",
    "- [selezioni del testo multiple](https://code.visualstudio.com/docs/editor/codebasics#_multiple-selections-multicursor) (multi-cursore),\n",
    "- [selezione del testo in colonna](https://code.visualstudio.com/docs/editor/codebasics#_column-box-selection),\n",
    "- [ricerca e sostituzione del testo](https://code.visualstudio.com/docs/editor/codebasics#_find-and-replace) con [opzioni avanzate](https://code.visualstudio.com/docs/editor/codebasics#_advanced-find-and-replace-options),\n",
    "- [hot exit](https://code.visualstudio.com/docs/editor/codebasics#_hot-exit)."
   ]
  },
  {
   "cell_type": "markdown",
   "metadata": {
    "slideshow": {
     "slide_type": "subslide"
    },
    "tags": []
   },
   "source": [
    "VS Code offre poi strumenti specifici per [sviluppare con Python](https://code.visualstudio.com/docs/python/python-tutorial):\n",
    "\n",
    "- [ambiente Python](https://code.visualstudio.com/docs/languages/python),\n",
    "- [linter](https://code.visualstudio.com/docs/python/linting) (analisi del codice),\n",
    "- strumenti di [debugging](https://code.visualstudio.com/docs/python/debugging),\n",
    "- gestione dei [virtual environment](https://code.visualstudio.com/docs/python/environments),\n",
    "- Jupiter Notebook e [IPython](https://code.visualstudio.com/docs/python/jupyter-support-py)."
   ]
  },
  {
   "cell_type": "markdown",
   "metadata": {
    "slideshow": {
     "slide_type": "subslide"
    },
    "tags": []
   },
   "source": [
    "Tra le estensioni che possono tornarci utili per il nostro corso abbiamo:\n",
    "\n",
    "- [Python](https://marketplace.visualstudio.com/items?itemName=ms-python.python),\n",
    "    - [Jupyter](https://marketplace.visualstudio.com/items?itemName=ms-toolsai.jupyter),\n",
    "    - [Pylance](https://marketplace.visualstudio.com/items?itemName=ms-python.vscode-pylance),\n",
    "    - [isort](https://marketplace.visualstudio.com/items?itemName=ms-python.isort),\n",
    "- [Python Environment Manager](https://marketplace.visualstudio.com/items?itemName=donjayamanne.python-environment-manager),\n",
    "- [GitHub Repositories](https://marketplace.visualstudio.com/items?itemName=GitHub.remotehub)."
   ]
  },
  {
   "cell_type": "markdown",
   "metadata": {
    "slideshow": {
     "slide_type": "subslide"
    },
    "tags": []
   },
   "source": [
    "Esiste anche la possibilità di eseguire VS Code tramite un browser web con \"[Visual Studio Code for the Web](https://code.visualstudio.com/docs/editor/vscode-web)\". Sul sito [vscode.dev](https://vscode.dev/) potete provare l'interfaccia."
   ]
  },
  {
   "cell_type": "markdown",
   "metadata": {
    "slideshow": {
     "slide_type": "subslide"
    },
    "tags": []
   },
   "source": [
    "Prima di procedere, scarichiamo dunque Visual Studio Code per il nostro sistema operativo dalla [pagina dei download](https://code.visualstudio.com/Download) e installiamolo."
   ]
  },
  {
   "cell_type": "markdown",
   "metadata": {
    "slideshow": {
     "slide_type": "subslide"
    },
    "tags": []
   },
   "source": [
    "#### Workspace\n",
    "\n",
    "Le cartelle di lavoro vengono essere raccolte nel cosiddetto [Workspace](https://code.visualstudio.com/docs/editor/workspaces), una sorta di collezione di cartelle."
   ]
  },
  {
   "cell_type": "markdown",
   "metadata": {
    "slideshow": {
     "slide_type": "fragment"
    },
    "tags": []
   },
   "source": [
    "Salvando il workspace è possibile riaprire velocemente le cartelle del progetto e impostare delle preferenze ad-hoc per personalizzare l'ambiente di lavoro (es. indicare il virtual environment da usare).\n",
    "\n",
    "È inoltre possibile eseguire una [ricerca a tutto testo tra i file](https://code.visualstudio.com/docs/editor/codebasics#_search-across-files) all'interno del workspace."
   ]
  },
  {
   "cell_type": "markdown",
   "metadata": {
    "slideshow": {
     "slide_type": "subslide"
    },
    "tags": []
   },
   "source": [
    "### Ricerca di testo nei file\n",
    "\n",
    "In programmazione è importante saper cercare del testo all'interno di uno o più file."
   ]
  },
  {
   "cell_type": "markdown",
   "metadata": {
    "slideshow": {
     "slide_type": "notes"
    },
    "tags": []
   },
   "source": [
    "Immagina di dover cercare una frase particolare all'interno di alcuni file di log o di dover individuare le linee esatte in cui una certa funzione viene invocata tra i molti file di un certo repository.\n",
    "\n",
    "Per uno sviluppatore è facile imbattersi in codice che non è accompagnato da una documentazione adeguata. In questi casi è necessario leggere il codice sorgente per capire come funzione e cosa fa quel determinato software.\n",
    "\n",
    "Naturalmente non si leggono tutti i sorgenti dall'inizio alla fine, ma bisogna orientarsi e navigare tra centinaia di file andando a cercare quello che ci interessa scoprire seguendo un proprio percorso di analisi.\n",
    "\n",
    "Esistono diversi strumenti che permettono di eseguire ricerche nel testo di più file."
   ]
  },
  {
   "cell_type": "markdown",
   "metadata": {
    "slideshow": {
     "slide_type": "fragment"
    },
    "tags": []
   },
   "source": [
    "Escludiamo inanzitutto lo struumento di ricerca che il nostro sistema operativo ci offre di default perché non è sufficientemente preciso."
   ]
  },
  {
   "cell_type": "markdown",
   "metadata": {
    "slideshow": {
     "slide_type": "fragment"
    },
    "tags": []
   },
   "source": [
    "Ci sono quindi strumenti sia per la command line (`grep` su Linux e macOS e `findstr` su Windows) sia per le interfacce grafiche."
   ]
  },
  {
   "cell_type": "markdown",
   "metadata": {
    "slideshow": {
     "slide_type": "fragment"
    },
    "tags": []
   },
   "source": [
    "VS Code, come tutti gli IDE moderni, ha uno [strumento per effettuare ricerche su file multipli](https://code.visualstudio.com/docs/editor/codebasics#_search-across-files) e aprire rapidamente un file che ci interessa tra i risultati, esattamente alla posizione in cui si trova il testo che abbiamo cercato."
   ]
  },
  {
   "cell_type": "markdown",
   "metadata": {
    "slideshow": {
     "slide_type": "fragment"
    },
    "tags": []
   },
   "source": [
    "Alcuni IDE offrono anche una [comoda vista](https://code.visualstudio.com/docs/editor/codebasics#_search-editor) che presenta i risultati con un estratto del testo che si trova attorno a quello che abbiamo cercato, in modo da avere un minimo di contesto."
   ]
  },
  {
   "cell_type": "markdown",
   "metadata": {
    "slideshow": {
     "slide_type": "subslide"
    },
    "tags": []
   },
   "source": [
    "![vscode_search.jpg](./imgs/vscode/vscode_search.jpg)"
   ]
  },
  {
   "cell_type": "markdown",
   "metadata": {
    "slideshow": {
     "slide_type": "slide"
    },
    "tags": []
   },
   "source": [
    "## Jupyter Notebook\n",
    "\n",
    "![jupyter_logo.png](./imgs/jupyter/jupyter_logo.png)"
   ]
  },
  {
   "cell_type": "markdown",
   "metadata": {
    "slideshow": {
     "slide_type": "notes"
    },
    "tags": []
   },
   "source": [
    "Possiamo interagire con Python attraverso la console, Visual Studio Code o altri IDE. Ma in questo momento tu puoi già interagire con Python. In realtà l'hai già fatto quando abbiamo visto \"The Zen of Python\" e gli altri easter egg."
   ]
  },
  {
   "cell_type": "markdown",
   "metadata": {
    "slideshow": {
     "slide_type": "fragment"
    },
    "tags": []
   },
   "source": [
    "Questo documento è fatto utilizzando **Jupyter Notebook**, che può essere visto come un ambiente di sviluppo vero e proprio."
   ]
  },
  {
   "cell_type": "markdown",
   "metadata": {
    "slideshow": {
     "slide_type": "fragment"
    },
    "tags": []
   },
   "source": [
    "Il nome Jupyter deriva dai principali linguaggi supportati: **Ju**lia, **Pyt**hon **e R**."
   ]
  },
  {
   "cell_type": "markdown",
   "metadata": {
    "slideshow": {
     "slide_type": "subslide"
    },
    "tags": []
   },
   "source": [
    "Si tratta di un potente strumento usato inizialmente e soprattutto per i progetti di data science."
   ]
  },
  {
   "cell_type": "markdown",
   "metadata": {},
   "source": [
    "È un'applicazione che consente di creare programmi nel browser. Jupyter può essere eseguito localmente sul computer (non è necessaria una connessione a Internet) o su un server remoto. Consente di eseguire il codice in piccole parti, il che è molto utile per il debug e per mostrare i risultati ad altri. Potete anche aggiungere del testo per spiegare cosa fa il vostro codice! Ecco perché molti data scientist e programmatori lo usano per condividere il loro lavoro con i colleghi."
   ]
  },
  {
   "cell_type": "markdown",
   "metadata": {
    "slideshow": {
     "slide_type": "fragment"
    },
    "tags": []
   },
   "source": [
    "Noi invece lo useremo come strumento didattico per:\n",
    "- condividere i testi con le nozioni teoriche in alternativa a libri e slide;\n",
    "- condividere le esercitazioni pratiche e le loro correzioni e soluzioni."
   ]
  },
  {
   "cell_type": "markdown",
   "metadata": {
    "slideshow": {
     "slide_type": "notes"
    },
    "tags": []
   },
   "source": [
    "In questo capitolo vedremo come configurare Jupyter Notebook sulla vostra macchina locale e come utilizzarlo per i vostri progetti."
   ]
  },
  {
   "cell_type": "markdown",
   "metadata": {
    "slideshow": {
     "slide_type": "subslide"
    },
    "tags": []
   },
   "source": [
    "### Installazione in locale\n",
    "\n",
    "È possibile installare Jupyter Notebook sul tuo computer due modi:"
   ]
  },
  {
   "cell_type": "markdown",
   "metadata": {
    "slideshow": {
     "slide_type": "fragment"
    },
    "tags": []
   },
   "source": [
    "1) Il modo più semplice e veloce per aprire i Notebok di Jupyter è tramite Visual Studio Code, installando l'estensione Jupyter Notebook dall'elenco dei plugin. Si potranno così aprire i notebook (file con estensione `.ipynb`) direttamente dall'IDE e usare l'interprete Python installato per eseguire il codice in essi contenuto."
   ]
  },
  {
   "cell_type": "markdown",
   "metadata": {
    "slideshow": {
     "slide_type": "fragment"
    },
    "tags": []
   },
   "source": [
    "2) Se invece volete avere un vero e proprio server Jupiter per avere un'esperienza più \"nativa\" tramite il web browser, allora bisogna installare il modulo di Python `jupyterlab` con un package manager. Usate quello previsto dalla distribuzione di Python che avete installato."
   ]
  },
  {
   "cell_type": "markdown",
   "metadata": {
    "slideshow": {
     "slide_type": "subslide"
    },
    "tags": []
   },
   "source": [
    "Se avete installato Python tramite i metodi tradizionali (dal sito ufficiale o dalle sorgenti), dovete usare `pip`, dalla command line del tuo sistema operativo:\n",
    "\n",
    "```bash\n",
    "    pip install jupyterlab\n",
    "```"
   ]
  },
  {
   "cell_type": "markdown",
   "metadata": {
    "slideshow": {
     "slide_type": "notes"
    },
    "tags": []
   },
   "source": [
    "Se avete installato Python tramite Anaconda, potete installare Jupyter Lab o Notebook tramite il suo gestore di pacchetti grafico \"Anaconda Navigator\". \n",
    "\n",
    "![anaconda_navigator.png](./imgs/jupyter/anaconda_navigator.png)"
   ]
  },
  {
   "cell_type": "markdown",
   "metadata": {
    "slideshow": {
     "slide_type": "subslide"
    },
    "tags": []
   },
   "source": [
    "### Avvio del server\n",
    "\n",
    "Se avete usato `pip`, digitate `jupyter-notebook` (o `jupyter-lab`) nel Terminale o nel prompt dei comandi."
   ]
  },
  {
   "cell_type": "markdown",
   "metadata": {
    "slideshow": {
     "slide_type": "notes"
    },
    "tags": []
   },
   "source": [
    "Se avete usato Anaconda, fate clic sul collegamento che è stato creato."
   ]
  },
  {
   "cell_type": "markdown",
   "metadata": {
    "slideshow": {
     "slide_type": "fragment"
    },
    "tags": []
   },
   "source": [
    "Jupyter Lab è un IDE più completo ma ancora sperimetale. Il package contiene anche il più semplice Notebook, che è quello che andremo ad illustrare."
   ]
  },
  {
   "cell_type": "markdown",
   "metadata": {
    "slideshow": {
     "slide_type": "subslide"
    },
    "tags": []
   },
   "source": [
    "Si aprirà una console che mostra i log di avvio del server e al fondo sarano elencati degli url.\n",
    "\n",
    "![starting_sever.png](./imgs/jupyter/starting_sever.png)"
   ]
  },
  {
   "cell_type": "markdown",
   "metadata": {
    "slideshow": {
     "slide_type": "fragment"
    },
    "tags": []
   },
   "source": [
    "Praticamente viene creato un server web locale e vengono generati degli URL in modo da poter accedere al server tramite il browser. È sufficiente copiare e incollare l'URL nel browser per accedere all'applicazione."
   ]
  },
  {
   "cell_type": "markdown",
   "metadata": {
    "slideshow": {
     "slide_type": "subslide"
    },
    "tags": []
   },
   "source": [
    "Verrà così visualizzata la pagina principale. Per impostazione predefinita, viene visualizzata la cartella in cui è installata l'applicazione Jupyter Notebook. Tuttavia, se prima di avviare il server tramite il comando `jupyter-notebook`, si modifica il percorso in cui ci troviamo con il comando `cd percorso/a/una/cartella`, è possibile avviare l'applicazione in modo che mostri qualsiasi altra cartella.\n",
    "\n",
    "![file_list.png](./imgs/jupyter/file_list.png)"
   ]
  },
  {
   "cell_type": "markdown",
   "metadata": {
    "slideshow": {
     "slide_type": "subslide"
    },
    "tags": []
   },
   "source": [
    "Per creare un nuovo notebook, selezionare *'Nuovo' > 'Python 3'*. Il pulsante \"Nuovo\" si trova nella parte superiore destra della pagina. Nella scheda \"Notebook\" si possono vedere i **kernel** disponibili."
   ]
  },
  {
   "cell_type": "markdown",
   "metadata": {
    "slideshow": {
     "slide_type": "notes"
    },
    "tags": []
   },
   "source": [
    "Ogni blocco note ha un kernel, ovvero un ambiente di esecuzione associato ad esso. Il kernel esegue il codice in un linguaggio di programmazione specifico (Julia, Python, R ecc.). Fornisce inoltre l'accesso a varie librerie, esegue i calcoli e restituisce i risultati."
   ]
  },
  {
   "cell_type": "markdown",
   "metadata": {
    "slideshow": {
     "slide_type": "fragment"
    },
    "tags": []
   },
   "source": [
    "Nel nostro caso, abbiamo bisogno di un solo kernel - Python 3 - poiché lavoriamo solo con questa versione del linguaggio."
   ]
  },
  {
   "cell_type": "markdown",
   "metadata": {
    "slideshow": {
     "slide_type": "fragment"
    },
    "tags": []
   },
   "source": [
    "Questo kernel fa parte del kernel globale **[IPython](https://en.wikipedia.org/wiki/IPython)**. IPython (Interactive Python) è una shell che fornisce una sintassi di comando aggiuntiva, l'evidenziazione del codice e il completamento automatico per Python."
   ]
  },
  {
   "cell_type": "markdown",
   "metadata": {
    "slideshow": {
     "slide_type": "notes"
    },
    "tags": []
   },
   "source": [
    "È inoltre possibile utilizzare i notebook con molti altri linguaggi installando kernel aggiuntivi, ad es. IRkernel, IJulia, ecc.\n",
    "\n",
    "Per l'utilizzo specifico di Jupyter Notebook, rimando alle attività che svolgeremo in classe."
   ]
  },
  {
   "cell_type": "markdown",
   "metadata": {
    "slideshow": {
     "slide_type": "fragment"
    },
    "tags": []
   },
   "source": [
    "![kernel.png](./imgs/jupyter/kernel.png)"
   ]
  },
  {
   "cell_type": "markdown",
   "metadata": {
    "slideshow": {
     "slide_type": "subslide"
    },
    "tags": []
   },
   "source": [
    "### L'interfaccia"
   ]
  },
  {
   "cell_type": "markdown",
   "metadata": {
    "slideshow": {
     "slide_type": "fragment"
    },
    "tags": []
   },
   "source": [
    "In Jupyter, un **notebook** è un documento che contiene parti di codice e vari elementi di testo (paragrafi, collegamenti e così via)."
   ]
  },
  {
   "cell_type": "markdown",
   "metadata": {
    "slideshow": {
     "slide_type": "fragment"
    },
    "tags": []
   },
   "source": [
    "![ui_anatomy.jpg](./imgs/jupyter/ui_anatomy.jpg)"
   ]
  },
  {
   "cell_type": "markdown",
   "metadata": {
    "slideshow": {
     "slide_type": "notes"
    },
    "tags": []
   },
   "source": [
    "Abbiamo evidenziato le parti principali dell'interfaccia. Vediamole più da vicino.\n",
    "\n",
    "1. L'unità principale di un blocco note è la **cella**. È qui che si può scrivere il codice o aggiungere qualsiasi informazione testuale. Ogni cella può essere eseguita in modo indipendente.\n",
    "2. Per impostazione predefinita, un blocco note ha il nome \"*Senza titolo*\", ma è possibile cambiarlo facilmente facendo clic su di esso.\n",
    "3. Il pulsante \"*File*\" consente di copiare, salvare, rinominare o scaricare il file. Si tenga presente che ci sono molte estensioni che possono salvare il blocco note. Ci concentreremo su due di esse: `.py` e `.ipynb`. La prima è un'estensione standard dei file Python che possono essere eseguiti con la console Python. La seconda estensione, `.ipynb`, sta per **IPython Notebook** ed è l'estensione predefinita del blocco note.\n",
    "4. Il simbolo del *floppy disk* consente di salvare il blocco note.\n",
    "5. Il simbolo \"*Più*\" (+) aggiunge celle.\n",
    "6. I tre pulsanti successivi consentono di rimuovere, copiare o inserire una cella.\n",
    "7. Le frecce \"*Su*\" e \"*Giù*\" spostano una cella.\n",
    "8. Premendo i pulsanti successivi, è possibile eseguire una cella, interrompere il kernel o riavviare il kernel. Per eseguire una cella, si può anche usare `Maiusc+Invio` . Per ulteriori informazioni sulle scorciatoie, consultare la [documentazione](https://jupyter-notebook.readthedocs.io/en/latest/examples/Notebook/Notebook%20Basics.html?highlight=keyboard#Keyboard-Navigation). L'interruzione del kernel è utile nel caso in cui si verifichi un ciclo infinito. Il riavvio consente di cancellare tutte le variabili.\n",
    "9. È inoltre possibile cambiare il tipo di cella facendo clic sul pulsante \"*Codice*\". Esistono quattro tipi: *codice*, *markdown*, *raw NBConvert* e *intestazione* (*heading*). Se è necessario modificare il titolo del notebook, utilizzare l'**intestazione**. La cella **markdown** viene utilizzata per scrivere un testo e trasformarlo con la speciale sintassi markdown. Per saperne di più, consulta la [guida di Markdown](https://www.markdownguide.org/basic-syntax/). Il tipo **Raw NBConvert** è utilizzato per i contenuti non modificati.\n",
    "10. Una volta che il codice è pronto, premere il pulsante \"*Logout*\" nell'angolo superiore destro della pagina. La sessione verrà interrotta."
   ]
  },
  {
   "cell_type": "markdown",
   "metadata": {
    "slideshow": {
     "slide_type": "subslide"
    },
    "tags": []
   },
   "source": [
    "Le scorciatoie da tastiera più utili sono:\n",
    "\n",
    "* Per eseguire il codice Python dentro una cella di Jupyter o per uscire dalla modalità modifica Markdown, premi `Control+Invio`\n",
    "* Per eseguire il codice Python dentro una cella di Jupyter o per uscire dalla modalità modifica Markdown e selezionare la cella seguente, premi `Maiusct+Invio`\n",
    "* Per eseguire il codice Python dentro una cella di Jupyter o per uscire dalla modalità modifica Markdown e creare una nuova cella subito dopo, premi `Alt+Invio`\n",
    "* Se per caso il Notebook sembra inchiodato, prova a selezionare `Kernel -> Restart`"
   ]
  },
  {
   "cell_type": "markdown",
   "metadata": {
    "slideshow": {
     "slide_type": "notes"
    },
    "tags": []
   },
   "source": [
    "Naturalmente, queste sono solo le basi. È possibile anche formattare le stringhe (cambiare i colori, ad esempio), aggiungere temi per l'intero blocco note, visualizzare i risultati e così via. Ecco perché sempre più scienziati, docenti e studenti passano a Jupyter notebook."
   ]
  },
  {
   "cell_type": "markdown",
   "metadata": {
    "slideshow": {
     "slide_type": "subslide"
    },
    "tags": []
   },
   "source": [
    "### Esempio di programma\n",
    "\n",
    "Discutiamo la pipeline di programmazione in modo più dettagliato. Supponiamo di dover scrivere una calcolatrice di base per sommare due numeri interi. Di seguito è riportato un esempio di questo programma (le schermate sono state ritagliate per motivi di leggibilità):"
   ]
  },
  {
   "cell_type": "code",
   "execution_count": 1,
   "metadata": {
    "slideshow": {
     "slide_type": "fragment"
    },
    "tags": []
   },
   "outputs": [],
   "source": [
    "a = 15\n",
    "b = 34"
   ]
  },
  {
   "cell_type": "code",
   "execution_count": 2,
   "metadata": {
    "tags": []
   },
   "outputs": [],
   "source": [
    "c = a + b"
   ]
  },
  {
   "cell_type": "code",
   "execution_count": 3,
   "metadata": {
    "tags": []
   },
   "outputs": [
    {
     "name": "stdout",
     "output_type": "stream",
     "text": [
      "49\n"
     ]
    }
   ],
   "source": [
    "print(c)"
   ]
  },
  {
   "cell_type": "markdown",
   "metadata": {
    "slideshow": {
     "slide_type": "fragment"
    },
    "tags": []
   },
   "source": [
    "I risultati vengono stampati subito dopo la cella. Naturalmente, è possibile scrivere tutto in una cella."
   ]
  },
  {
   "cell_type": "markdown",
   "metadata": {
    "slideshow": {
     "slide_type": "subslide"
    },
    "tags": []
   },
   "source": [
    "A proposito, avete notato i numeri nelle parentesi quadre a sinistra delle celle? Indicano l'ordine di esecuzione delle celle. Questo ordine è fondamentale in Jupyter Notebook. Supponiamo che si esegua prima la cella centrale. Cosa succederà in questo caso?"
   ]
  },
  {
   "cell_type": "markdown",
   "metadata": {
    "slideshow": {
     "slide_type": "fragment"
    },
    "tags": []
   },
   "source": [
    "![cell_error.png](./imgs/jupyter/cell_error.png)"
   ]
  },
  {
   "cell_type": "markdown",
   "metadata": {
    "slideshow": {
     "slide_type": "fragment"
    },
    "tags": []
   },
   "source": [
    "Verrà generato un errore poiché non sono state impostate le variabili! Fate attenzione all'ordine di esecuzione."
   ]
  },
  {
   "cell_type": "markdown",
   "metadata": {
    "slideshow": {
     "slide_type": "subslide"
    },
    "tags": []
   },
   "source": [
    "Possiamo anche installare le librerie con Jupyter Notebook. È possibile eseguire comandi da terminale direttamente in Jupyter Notebook. Per farlo, mettere un punto esclamativo `!` all'inizio del comando. Questo indicherà all'applicazione che non si tratta di un comando Python."
   ]
  },
  {
   "cell_type": "markdown",
   "metadata": {
    "slideshow": {
     "slide_type": "fragment"
    },
    "tags": []
   },
   "source": [
    "![import.png](./imgs/jupyter/import.png)"
   ]
  },
  {
   "cell_type": "markdown",
   "metadata": {
    "slideshow": {
     "slide_type": "fragment"
    },
    "tags": []
   },
   "source": [
    "Abbiamo quindi installato e importato una libreria e ora possiamo lavorare con essa come al solito."
   ]
  },
  {
   "cell_type": "markdown",
   "metadata": {
    "slideshow": {
     "slide_type": "subslide"
    },
    "tags": []
   },
   "source": [
    "### Riassumendo\n",
    "Che cosa abbiamo imparato finora su Jupyter Notebook?"
   ]
  },
  {
   "cell_type": "markdown",
   "metadata": {
    "slideshow": {
     "slide_type": "fragment"
    },
    "tags": []
   },
   "source": [
    "- L'ambiente di lavoro Jupyter è noto come notebook; un notebook è costituito da celle di codice e di testo.\n",
    "- I notebook sono dei file con estensione `.ipynb` (**I**nteractive **Py**thon **N**ote**B**ook).\n",
    "- Può essere installato in diversi modi: con `pip` o con Anaconda."
   ]
  },
  {
   "cell_type": "markdown",
   "metadata": {
    "slideshow": {
     "slide_type": "notes"
    },
    "tags": []
   },
   "source": [
    "Ora avete una conoscenza di base dell'interfaccia e sapete come eseguire le celle e installare le librerie."
   ]
  },
  {
   "cell_type": "markdown",
   "metadata": {
    "slideshow": {
     "slide_type": "fragment"
    },
    "tags": []
   },
   "source": [
    "Se siete interessati a maggiori informazioni, potete sempre leggere la [documentazione ufficiale](https://jupyter-notebook.readthedocs.io/en/stable/)."
   ]
  },
  {
   "cell_type": "markdown",
   "metadata": {
    "slideshow": {
     "slide_type": "slide"
    },
    "tags": []
   },
   "source": [
    "### Markdown\n",
    "\n",
    "![markdown_logo.png](./imgs/jupyter/markdown_logo.png)"
   ]
  },
  {
   "cell_type": "markdown",
   "metadata": {
    "slideshow": {
     "slide_type": "fragment"
    },
    "tags": []
   },
   "source": [
    "Markdown è un [linguaggio di markup](https://it.wikipedia.org/wiki/Linguaggio_di_markup) leggero che consente di creare testo formattato utilizzando un editor di testo semplice (*plain text*). In particolare permette di generare HTML da un file di testo opportunamente \"formattato\"."
   ]
  },
  {
   "cell_type": "markdown",
   "metadata": {
    "slideshow": {
     "slide_type": "notes"
    },
    "tags": []
   },
   "source": [
    "Con esso è possibile aggiungere titoli agli articoli, rendere le parole in grassetto o in corsivo, inserire elenchi e molto altro. Allo stesso tempo, il testo rimarrà comprensibile e facilmente leggibile per le persone in quanto Markdown ha una sintassi intuitiva e poco invasiva. Markdown è spesso usato per scrivere testi e semplici descrizioni, come i post sui forum (es. Stack Overflow), gli articoli sui blog o la documentazione e le descrizioni dei progetti su Github e Gitlab (es. i file README)."
   ]
  },
  {
   "cell_type": "markdown",
   "metadata": {
    "slideshow": {
     "slide_type": "fragment"
    },
    "tags": []
   },
   "source": [
    "Anche Jupiter Notebook lo usa per le parti testuali e le guide di questo corso sono scritte proprio con questa sintassi: ciò che stai leggendo è un testo scritto Markdown!"
   ]
  },
  {
   "cell_type": "markdown",
   "metadata": {
    "slideshow": {
     "slide_type": "notes"
    },
    "tags": []
   },
   "source": [
    "Se stai leggendo dall'editor di testo, ti basta fare doppio click su questo *blocco* per vedere le \"sorgenti\" del testo."
   ]
  },
  {
   "cell_type": "markdown",
   "metadata": {
    "slideshow": {
     "slide_type": "notes"
    },
    "tags": []
   },
   "source": [
    "Saper interpretare ed usare questa sintassi sarà un requisito fondamentale come sviluppatori in quanto, come abbiamo detto, è molto usata per scrivere la documentazione dei software. È quindi importante imparare a famigliarizzare fin da subito con Markdown perché prima o poi sarete costretti ad usarlo. È possibile trovare tutte le informazioni sulla sintassi di Markdown sul web. Seguono alcune risorse utili."
   ]
  },
  {
   "cell_type": "markdown",
   "metadata": {
    "slideshow": {
     "slide_type": "subslide"
    },
    "tags": []
   },
   "source": [
    "Sintassi specifica utilizzabile in Jupiter Notebook:\n",
    "- [Guida completa di Markdown in Jupiter Notebook](https://jupyter.brynmawr.edu/services/public/dblank/Jupyter%20Notebook%20Users%20Manual.ipynb#4.-Using-Markdown-Cells-for-Writing)\n",
    "- [Cheatsheet di Markdown in Jupiter Notebook (PDF)](https://notebook.community/tschinz/iPython_Workspace/00_Admin/CheatSheet/Markdown%20CheatSheet)"
   ]
  },
  {
   "cell_type": "markdown",
   "metadata": {
    "slideshow": {
     "slide_type": "notes"
    },
    "tags": []
   },
   "source": [
    "Sintassi standard utilizzabile (non tutte le funzioni elencate in queste guide sono disponibili con Jupiter Notebook):\n",
    "- [Guida di Markdown standard](https://www.markdownguide.org/)\n",
    "- [Cheatsheet di Markdown standard (PDF)](https://sqlbak.com/blog/wp-content/uploads/2020/12/Jupyter-Notebook-Markdown-Cheatsheet2.pdf)"
   ]
  },
  {
   "cell_type": "markdown",
   "metadata": {
    "slideshow": {
     "slide_type": "fragment"
    },
    "tags": []
   },
   "source": [
    "Per fare un po di pratica, prova ad esercitarti con la sintassi aggiungendo un blocco \"Markdown\" nel presente documento o in un nuovo notebook creato apposta (crei un nuovo file in Visual Studio Code e lo salvi subito con estensione `.ipynb`)."
   ]
  },
  {
   "cell_type": "markdown",
   "metadata": {
    "slideshow": {
     "slide_type": "subslide"
    },
    "tags": []
   },
   "source": [
    "Per avere un'idea più interattiva di come funziona il Markdown, potete smanettare un po' sulla web app [StackEdit](https://stackedit.io/). Tenete presente però che Jupiter Notebook potrebbe non riconoscere alcune sintassi particolari implementate come estensioni di Markdown e disponinbili in altri software."
   ]
  },
  {
   "cell_type": "markdown",
   "metadata": {
    "slideshow": {
     "slide_type": "subslide"
    },
    "tags": []
   },
   "source": [
    "#### Un po' di storia\n",
    "\n",
    "Markdown è stato pubblicato nel 2004 dallo sforzo congiunto di John Gruber e Aaron Swartz, che avevano l'obiettivo di creare un linguaggio di markup che fosse gradevole per un lettore umano anche nella sua forma di codice sorgente. Gruber e Swartz si sono ispirati da convenzioni preesistenti per la marcatura del testo semplice nelle e-mail e nei post di *usenet*, come i linguaggi di markup *setext*, *Textile* o *reStructuredText*."
   ]
  },
  {
   "cell_type": "markdown",
   "metadata": {
    "slideshow": {
     "slide_type": "notes"
    },
    "tags": []
   },
   "source": [
    "Tutto iniziò quando nel 2002 Aaron Swartz, amico di Gruber, creò *atx*, definendolo come \"il vero formato di testo strutturato\". Gruber, ha poi proseguito il lavoro (sempre con l'aiuto e i suggerimenti di Swartz) per arrivare alla [pubblicazione dell linguaggio Markdown nel 2004](https://daringfireball.net/projects/markdown/), con l'obiettivo di consentire alle persone \"*di scrivere utilizzando un formato di testo semplice e di facile lettura, che possa facoltativamente essere convertito in XHTML (o HTML) strutturalmente valido*\"."
   ]
  },
  {
   "cell_type": "markdown",
   "metadata": {
    "slideshow": {
     "slide_type": "fragment"
    },
    "tags": []
   },
   "source": [
    "#### Un po' di cultura generale"
   ]
  },
  {
   "cell_type": "markdown",
   "metadata": {
    "slideshow": {
     "slide_type": "fragment"
    },
    "tags": []
   },
   "source": [
    "Se non conoscete la storia di [Aaron H. Swartz](https://it.wikipedia.org/wiki/Aaron_Swartz), vi suggerisco di porre rimedio. Ovviamente basta cercare sul web per scoprire di più sulla sua intensa e purtoppo breve vita, ma esiste un documentario molto ben fatto dal titolo \"[The Internet's Own Boy: The Story of Aaron Swartz](https://www.youtube.com/watch?v=gQLIodJVbz8)\", pubblicato ora sotto licenza libera Creative Commons, che vi consiglio caldamente di vedere."
   ]
  },
  {
   "cell_type": "markdown",
   "metadata": {
    "slideshow": {
     "slide_type": "slide"
    },
    "tags": []
   },
   "source": [
    "### Google Colab\n",
    "\n",
    "![colab_logo.png](./imgs/jupyter/colab_logo.png)"
   ]
  },
  {
   "cell_type": "markdown",
   "metadata": {
    "slideshow": {
     "slide_type": "fragment"
    },
    "tags": []
   },
   "source": [
    "Ora dovresti conoscere le basi di Jupyter Notebook. Immagina però che tu debba lavorare con dei *[big data](https://it.wikipedia.org/wiki/Big_data)* e che il tuo PC non abbia sufficiente potenza di calcolo."
   ]
  },
  {
   "cell_type": "markdown",
   "metadata": {
    "slideshow": {
     "slide_type": "fragment"
    },
    "tags": []
   },
   "source": [
    "È qui che [Google Colab](https://colab.research.google.com/) si rivela utile. Si tratta di un servizio online offerto da Google. Con **Colab** o \"*Colaboratory*\" è possibile scrivere ed eseguire notebook e programmi di Jupyter Notebook, salvare e condividere i risultati, il tutto avendo accesso alle potenti risorse di calcolo che possono offrire i datacenter di Google. Tutto nel proprio browser."
   ]
  },
  {
   "cell_type": "markdown",
   "metadata": {
    "slideshow": {
     "slide_type": "notes"
    },
    "tags": []
   },
   "source": [
    "In questo argomento mostreremo i principali vantaggi e svantaggi del servizio e descriveremo come lavorare con esso."
   ]
  },
  {
   "cell_type": "markdown",
   "metadata": {
    "slideshow": {
     "slide_type": "subslide"
    },
    "tags": []
   },
   "source": [
    "Confrontiamo le caratteristiche principali di Google Colab e Jupyter Notebook.\n",
    "\n",
    "|Google Colab | Jupyter Notebook|\n",
    "|------------ | --------------- |\n",
    "|Consente di avviare sessioni online per lavorare con il proprio team. | Non consente un lavoro di gruppo immediato. Un ricercatore deve aspettare che un altro finisca la sua parte di codice e la invii per poterla modificare a sua volta.|\n",
    "|Utilizza la potenza di calcolo di Google. | Utilizza solo la potenza del vostro computer.|\n",
    "|La maggior parte delle librerie ML (*machine learning*) sono integrate. | È necessario installare prima le librerie sul proprio computer.|\n",
    "|Ogni riga di codice può essere salvata su Google Drive. | A volte è difficile navigare tra i vari notebook presenti nelle varie cartelle locali.|"
   ]
  },
  {
   "cell_type": "markdown",
   "metadata": {
    "slideshow": {
     "slide_type": "fragment"
    },
    "tags": []
   },
   "source": [
    "Google Colab ha però anche qualche piccolo svantaggio: non può essere eseguito offline. È inoltre possibile perdere parte del lavoro se si chiude l'ambiente senza salvere/scaricare il codice e/o i risultati."
   ]
  },
  {
   "cell_type": "markdown",
   "metadata": {
    "slideshow": {
     "slide_type": "fragment"
    },
    "tags": []
   },
   "source": [
    "Inoltre senza un abbonamento \"pro\" a Google, i notebook possono essere eseguiti per un massimo di **12 ore**."
   ]
  },
  {
   "cell_type": "markdown",
   "metadata": {
    "slideshow": {
     "slide_type": "notes"
    },
    "tags": []
   },
   "source": [
    "Stando alle [FAQ ufficiali](https://research.google.com/colaboratory/intl/it/faq.html), nella versione gratuita di Colab i notebook possono essere eseguiti per un massimo di **12 ore**, a seconda della disponibilità delle risorte da parte di Google e delle modalità di utilizzo da parte dell'utente. Inoltre viene sottolineato che Colab dà priorità al calcolo interattivo e dunque il runtime viene interrotto se l'utente è inattivo."
   ]
  },
  {
   "cell_type": "markdown",
   "metadata": {
    "slideshow": {
     "slide_type": "subslide"
    },
    "tags": []
   },
   "source": [
    "Riassumendo, Google Colab:\n",
    "\n",
    "- È un'applicazione Google eseguita nel cloud.\n",
    "- Permette di modificare i file `.ipynb` di Jupiter Notebook.\n",
    "- Permette di lavorare online con i propri amici e colleghi.\n",
    "- Possiede la maggior parte delle librerie per il *machine learning* già pre-installate, quindi si possono usare fin da subito.\n",
    "- Permette di caricare i propri notebook e i file che devono essere processati nell'ambiente Colab e scaricarli di nuovo al termine del lavoro."
   ]
  },
  {
   "cell_type": "markdown",
   "metadata": {
    "slideshow": {
     "slide_type": "notes"
    },
    "tags": []
   },
   "source": [
    "Naturalmente, questo è solo un assaggio. La pagina [Welcome to Colaboratory](https://colab.research.google.com/notebooks/intro.ipynb) contiene ulteriori informazioni su questo ambiente.\n",
    "\n",
    "Se lo desideri, puoi usarlo per visualizzare i notebook delle nostre lezioni."
   ]
  },
  {
   "cell_type": "markdown",
   "metadata": {
    "slideshow": {
     "slide_type": "slide"
    },
    "tags": []
   },
   "source": [
    "## Git (e GitHub)"
   ]
  },
  {
   "cell_type": "markdown",
   "metadata": {
    "slideshow": {
     "slide_type": "notes"
    },
    "tags": []
   },
   "source": [
    "In questo argomento inizieremo a esplorare Git, uno strumento essenziale per gestire, controllare e unire le versioni del codice. Impareremo cos'è Git, quando usarlo e come installarlo sui tre principali sistemi operativi."
   ]
  },
  {
   "cell_type": "markdown",
   "metadata": {
    "slideshow": {
     "slide_type": "fragment"
    },
    "tags": []
   },
   "source": [
    "### Che cos'è Git?\n",
    "\n",
    "![git_logo.png](./imgs/git/git_logo.png)\n",
    "\n",
    "Git è un sistema *distribuito* per il controllo di versione (*version control*) che aiuta gli sviluppatori a tracciare e registrare le modifiche ai file."
   ]
  },
  {
   "cell_type": "markdown",
   "metadata": {
    "slideshow": {
     "slide_type": "notes"
    },
    "tags": []
   },
   "source": [
    "Questi possono essere qualsiasi file con cui si voglia lavorare, ma in questo corso ci occuperemo più da vicino dei codici sorgente dei programmi. Con Git è possibile tornare a una versione precedente del progetto, confrontarla, analizzarla e unire le modifiche. Questo processo si chiama appunto *controllo di versione*.\n",
    "Git è *distribuito*, cioè non dipende da un singolo server centrale che memorizza i file. Funziona invece interamente a livello locale, memorizzando i dati in cartelle sul disco rigido chiamate *repository*. Il repository locale esiste solo sul disco del proprio computer. Tuttavia, è possibile mantenerne una copia online, cosa che facilita molto le cose quando più persone devono lavorare sullo stesso progetto. In questo caso, si parla di repository remoto."
   ]
  },
  {
   "cell_type": "markdown",
   "metadata": {
    "slideshow": {
     "slide_type": "subslide"
    },
    "tags": []
   },
   "source": [
    "È possibile installare e creare il proprio server Git, tuttavia esistono numerosi servizi che forniscono hosting per i repository Git; tra i più famosi vi sono GitHub, GitLab, Bitbucket, Launchpad, SourceForge Codebase."
   ]
  },
  {
   "cell_type": "markdown",
   "metadata": {
    "slideshow": {
     "slide_type": "fragment"
    },
    "tags": []
   },
   "source": [
    "Di seguito, discuteremo solo di GitHub dato che è la più popolare tra queste risorse. In ogni caso, per i vostri progetti, potete utilizzare indifferentemente uno qualunque dei servizi citati dato che le basi di funzionamento di Git sono le medesime."
   ]
  },
  {
   "cell_type": "markdown",
   "metadata": {
    "slideshow": {
     "slide_type": "fragment"
    },
    "tags": []
   },
   "source": [
    "Git è un software gratuito e open-source sviluppato principalmente per Linux, ma supporta anche la maggior parte dei principali sistemi operativi, compresi macOS e Windows."
   ]
  },
  {
   "cell_type": "markdown",
   "metadata": {
    "slideshow": {
     "slide_type": "subslide"
    },
    "tags": []
   },
   "source": [
    "### Struttura e funzionamento di Git"
   ]
  },
  {
   "cell_type": "markdown",
   "metadata": {
    "slideshow": {
     "slide_type": "notes"
    },
    "tags": []
   },
   "source": [
    "Come abbiamo detto, Git è un sistema di controllo delle versioni. Ma cosa c'è dietro questa definizione? Come funziona il sistema e perché è così conveniente utilizzarlo?"
   ]
  },
  {
   "cell_type": "markdown",
   "metadata": {
    "slideshow": {
     "slide_type": "fragment"
    },
    "tags": []
   },
   "source": [
    "Il compito principale quando si lavora con Git è il *versionamento del progetto*. Per farlo, è necessario:"
   ]
  },
  {
   "cell_type": "markdown",
   "metadata": {
    "slideshow": {
     "slide_type": "fragment"
    },
    "tags": []
   },
   "source": [
    "- disporre degli \"strumenti di lavoro\" che sono contenuti in una cartella `.git` che viene creata subito dopo la dichiarazione di un nuovo repository;"
   ]
  },
  {
   "cell_type": "markdown",
   "metadata": {
    "slideshow": {
     "slide_type": "fragment"
    },
    "tags": []
   },
   "source": [
    "- tracciare lo stato dei file per capire a quale stadio di lavorazione si trova il progetto e in che direzione prenderà in seguito;"
   ]
  },
  {
   "cell_type": "markdown",
   "metadata": {
    "slideshow": {
     "slide_type": "fragment"
    },
    "tags": []
   },
   "source": [
    "- fare il commit delle modifiche apportate ai file del progetto quando il lavoro è terminato."
   ]
  },
  {
   "cell_type": "markdown",
   "metadata": {
    "slideshow": {
     "slide_type": "subslide"
    },
    "tags": []
   },
   "source": [
    "### Installazione di Git"
   ]
  },
  {
   "cell_type": "markdown",
   "metadata": {
    "slideshow": {
     "slide_type": "fragment"
    },
    "tags": []
   },
   "source": [
    "#### Windows\n",
    "\n",
    "Ci sono diversi modi per installare Git su Windows. Innanzitutto, si può andare sul [sito ufficiale di Git](http://git-scm.com/download/win) e il download si avvierà automaticamente. Dopo l'installazione, è necessario selezionare le opzioni necessarie nelle impostazioni."
   ]
  },
  {
   "cell_type": "markdown",
   "metadata": {
    "slideshow": {
     "slide_type": "fragment"
    },
    "tags": []
   },
   "source": [
    "Un altro modo semplice per installare Git è installare **GitHub Desktop**. Il suo programma di installazione include i tool per la riga di comando e un'interfaccia grafica per Git. È possibile scaricare GitHub per Windows dal [sito web di GitHub](https://desktop.github.com/)."
   ]
  },
  {
   "cell_type": "markdown",
   "metadata": {
    "slideshow": {
     "slide_type": "notes"
    },
    "tags": []
   },
   "source": [
    "#### Linux\n",
    "\n",
    "Potete semplicemente aprire un terminale e installare l'applicazione utilizzando il gestore di pacchetti della vostra distribuzione.\n",
    "\n",
    "Per esempio, se avete una distribuzione basata su Debian come Ubuntu, provate con `apt`:\n",
    "\n",
    "        $ sudo apt install git\n",
    "\n",
    "#### macOS\n",
    "\n",
    "Ci sono diversi modi per installare Git su Mac.\n",
    "\n",
    "È possibile installare gli strumenti a riga di comando di Xcode digitando il seguente comando nel terminale:\n",
    "\n",
    "        $ xcode-select --install\n",
    "\n",
    "Poi si può semplicemente controllare se Git è già installato:\n",
    "\n",
    "        $ git --version\n",
    "\n",
    "Se Git non è installato, verrà richiesto di installarlo.\n",
    "\n",
    "Se poi di solito usate [Homebrew](https://brew.sh/) e lo avete installato, il comando è questo:\n",
    "\n",
    "        $ brew install git\n",
    "\n",
    "Infine, come per Windows un modo semplice per installare Git è installare GitHub Desktop che, oltre a un'interfaccia grafica per Git, ha un'opzione ad hoc per installare gli strumenti per la riga di comando. È possibile scaricare GitHub per Mac dal [sito web di GitHub](https://desktop.github.com/)."
   ]
  },
  {
   "cell_type": "markdown",
   "metadata": {
    "slideshow": {
     "slide_type": "subslide"
    },
    "tags": []
   },
   "source": [
    "### `git config`: impostazioni di base"
   ]
  },
  {
   "cell_type": "markdown",
   "metadata": {
    "slideshow": {
     "slide_type": "notes"
    },
    "tags": []
   },
   "source": [
    "Dopo aver installato Git dobbiamo sistemare alcune impostazioni. Ci sono diverse opzioni con cui smanettare, ma noi imposteremo le più importanti: il nostro nome utente e l'indirizzo e-mail. Aprite il terminale ed eseguite i comandi:"
   ]
  },
  {
   "cell_type": "markdown",
   "metadata": {
    "slideshow": {
     "slide_type": "fragment"
    },
    "tags": []
   },
   "source": [
    "```bash\n",
    "$ git config --global user.name \"Leonardo da Vinci\"\n",
    "$ git config --global user.email leonardo@davinci.com\n",
    "```"
   ]
  },
  {
   "cell_type": "markdown",
   "metadata": {
    "slideshow": {
     "slide_type": "fragment"
    },
    "tags": []
   },
   "source": [
    "Da questo momento, ogni nostra azione sarà contrassegnata con il nostro nome e il nostro indirizzo e-mail. In questo modo, tutti sapranno sempre chi è responsabile di certe modifiche: questo porta ordine!"
   ]
  },
  {
   "cell_type": "markdown",
   "metadata": {
    "slideshow": {
     "slide_type": "subslide"
    },
    "tags": []
   },
   "source": [
    "### `git --version`: controllo dell'installazione"
   ]
  },
  {
   "cell_type": "markdown",
   "metadata": {
    "slideshow": {
     "slide_type": "notes"
    },
    "tags": []
   },
   "source": [
    "Di solito l'installazione va a buon fine, ma per sicurezza vi consigliamo di verificare che sia stata effettivamente installata l'ultima versione di Git eseguendo il comando `git --version` nel terminale."
   ]
  },
  {
   "cell_type": "markdown",
   "metadata": {
    "slideshow": {
     "slide_type": "fragment"
    },
    "tags": []
   },
   "source": [
    "```bash\n",
    "$ git --version\n",
    "```"
   ]
  },
  {
   "cell_type": "markdown",
   "metadata": {
    "slideshow": {
     "slide_type": "fragment"
    },
    "tags": []
   },
   "source": [
    "```bash\n",
    "git version 2.37.1\n",
    "```"
   ]
  },
  {
   "cell_type": "markdown",
   "metadata": {
    "slideshow": {
     "slide_type": "fragment"
    },
    "tags": []
   },
   "source": [
    "Le versioni vengono aggiornate, quindi ne potreste avere una diversa. Nel nostro esempio, si tratta della versione `2.37.1`. Assicurati di avere una versione maggiore o uguale alla `2.35`."
   ]
  },
  {
   "cell_type": "markdown",
   "metadata": {
    "slideshow": {
     "slide_type": "notes"
    },
    "tags": []
   },
   "source": [
    "A questo punto Git dovrebbe essere installato e si può iniziare a lavorare con esso.\n",
    "\n",
    "Ora possiamo creare il nostro primo repository Git, cioè la directory del file system che contiene i file. È evidente che il repository è lo spazio in cui lavoriamo con Git, quindi prima di tutto dobbiamo crearlo.\n",
    "\n",
    "Ricordate i due tipi di repository: locale e remoto? Poiché all'inizio di solito tutto viene fatto localmente e solo in seguito viene trasferito in remoto, dovremmo creare prima un repository locale."
   ]
  },
  {
   "cell_type": "markdown",
   "metadata": {
    "slideshow": {
     "slide_type": "subslide"
    },
    "tags": []
   },
   "source": [
    "### Creazione di un repository locale"
   ]
  },
  {
   "cell_type": "markdown",
   "metadata": {
    "slideshow": {
     "slide_type": "fragment"
    },
    "tags": []
   },
   "source": [
    "Per prima cosa creiamo una cartella che sarà il contenitore del nostro repository, quella che viene chiamata la _**working directory**_, ovvero la cartella di lavoro.\n",
    "\n",
    "```bash\n",
    "$ mkdir tutorial_project\n",
    "```"
   ]
  },
  {
   "cell_type": "markdown",
   "metadata": {
    "slideshow": {
     "slide_type": "fragment"
    },
    "tags": []
   },
   "source": [
    "E entriamo all'interno della cartella appena creata:\n",
    "\n",
    "```bash\n",
    "$ cd tutorial_project\n",
    "```"
   ]
  },
  {
   "cell_type": "markdown",
   "metadata": {
    "slideshow": {
     "slide_type": "subslide"
    },
    "tags": []
   },
   "source": [
    "### `git status`: com'è la situazione?"
   ]
  },
  {
   "cell_type": "markdown",
   "metadata": {
    "slideshow": {
     "slide_type": "notes"
    },
    "tags": []
   },
   "source": [
    "Innanzitutto controlliamo di non essere già all'interno di un repository Git. Per fare questo verifichiamo lo stato del repository usando il comando `git status` nella cartella appena creata:"
   ]
  },
  {
   "cell_type": "markdown",
   "metadata": {
    "slideshow": {
     "slide_type": "fragment"
    },
    "tags": []
   },
   "source": [
    "```bash\n",
    "$ git status\n",
    "```"
   ]
  },
  {
   "cell_type": "markdown",
   "metadata": {
    "slideshow": {
     "slide_type": "fragment"
    },
    "tags": []
   },
   "source": [
    "```bash\n",
    "fatal: not a git repository (or any of the parent directories): .git\n",
    "```\n",
    "\n",
    "Questo output vuol dire che Git non ha trovato nessun repository nella cartella o in una sua cartella genitore. Bene."
   ]
  },
  {
   "cell_type": "markdown",
   "metadata": {
    "slideshow": {
     "slide_type": "notes"
    },
    "tags": []
   },
   "source": [
    "Una volta creata la cartella contenitore possiamo procedere con inizializzare il repository."
   ]
  },
  {
   "cell_type": "markdown",
   "metadata": {
    "slideshow": {
     "slide_type": "subslide"
    },
    "tags": []
   },
   "source": [
    "### `git init`: inizializzare il repository"
   ]
  },
  {
   "cell_type": "markdown",
   "metadata": {
    "slideshow": {
     "slide_type": "notes"
    },
    "tags": []
   },
   "source": [
    "Git memorizza i suoi file e la sua cronologia proprio nella cartella del progetto. Per creare un nuovo repository, dobbiamo aprire un terminale, andare nella cartella del progetto ed eseguire il comando `git init`:"
   ]
  },
  {
   "cell_type": "markdown",
   "metadata": {
    "slideshow": {
     "slide_type": "fragment"
    },
    "tags": []
   },
   "source": [
    "```bash\n",
    "$ git init\n",
    "```"
   ]
  },
  {
   "cell_type": "markdown",
   "metadata": {
    "slideshow": {
     "slide_type": "fragment"
    },
    "tags": []
   },
   "source": [
    "```bash\n",
    "Initialized empty Git repository in /percorso/al/repository/tutorial_project/.git/\n",
    "```"
   ]
  },
  {
   "cell_type": "markdown",
   "metadata": {
    "slideshow": {
     "slide_type": "fragment"
    },
    "tags": []
   },
   "source": [
    "In pratica l'inizializzazione del repository consiste nella creazioe una directory `.git` nascosta, dove saranno memorizzate la cronologia e le impostazioni del repository."
   ]
  },
  {
   "cell_type": "markdown",
   "metadata": {
    "slideshow": {
     "slide_type": "subslide"
    },
    "tags": []
   },
   "source": [
    "Se eseguiamo di nuovo il comando git status:\n",
    "\n",
    "```bash\n",
    "$ git status\n",
    "```"
   ]
  },
  {
   "cell_type": "markdown",
   "metadata": {
    "slideshow": {
     "slide_type": "fragment"
    },
    "tags": []
   },
   "source": [
    "```bash\n",
    "On branch master\n",
    "\n",
    "No commits yet\n",
    "\n",
    "nothing to commit (create/copy files and use \"git add\" to track)\n",
    "```"
   ]
  },
  {
   "cell_type": "markdown",
   "metadata": {
    "slideshow": {
     "slide_type": "fragment"
    },
    "tags": []
   },
   "source": [
    "L'output del comando mostra che il repository è stato creato con successo, ma è ancora vuoto. Come ci viene suggerito, dobbiamo creare o copiare dei file e poi usare \"git add\" per iniziare a tracciare/monitorare le loro modifiche."
   ]
  },
  {
   "cell_type": "markdown",
   "metadata": {
    "slideshow": {
     "slide_type": "notes"
    },
    "tags": []
   },
   "source": [
    "> IMPORTANTE: Abituatevi ad usare sovente il comando `git status`, in qualsiasi fase del lavoro con il repository, in modo da poter sempre controllare se tutto è corretto ed avere eventuali suggerimenti sulle prossime azioni da compiere. Nel testo dell'output ci saranno ancora concetti che possono risultare incomprensibili, come \"On branch master\", ma li spiegheremo più avanti."
   ]
  },
  {
   "cell_type": "markdown",
   "metadata": {
    "slideshow": {
     "slide_type": "subslide"
    },
    "tags": []
   },
   "source": [
    "### Cartella `.git`"
   ]
  },
  {
   "cell_type": "markdown",
   "metadata": {
    "slideshow": {
     "slide_type": "notes"
    },
    "tags": []
   },
   "source": [
    "Dopo aver creato un nuovo repository, Git crea la cartella `.git`. La cartella contiene tutto ciò che serve per lavorare con Git. È anche possibile eliminarla se non si ha bisogno di Git nel progetto. I file del progetto rimarranno sul disco."
   ]
  },
  {
   "cell_type": "markdown",
   "metadata": {
    "slideshow": {
     "slide_type": "fragment"
    },
    "tags": []
   },
   "source": [
    "Ecco il contenuto di una tipica cartella `.git` prima del primo commit:"
   ]
  },
  {
   "cell_type": "markdown",
   "metadata": {
    "slideshow": {
     "slide_type": "fragment"
    },
    "tags": []
   },
   "source": [
    "- `HEAD`: è il file che contiene un puntatore al _**branch corrente**_ e in particolare all'_**ultimo commit**_ effettuato; in pratica indica dove ci troviamo quando stiamo operando con Git.\n",
    "- `config`: questo file contiene le impostazioni per il repository; qui, per esempio, sono memorizzati l'URL del repository, il proprio nome, l'email, che si possono configurare usando il comando git config dopo aver creato il repository. Ogni volta che si esegue git config, si farà riferimento a questo file;\n",
    "- `description` è un file usato dall'interfaccia di Gitweb per visualizzare una descrizione del repository;\n",
    "- `hooks/`: questa cartella contiene script che possono essere eseguiti in varie fasi dell'esecuzione di Git. Un esempio di hook è lo script di controllo dello stile prima del push al repository;\n",
    "- `info/exclude`: in questo file sono descritti i file che non si vogliono includere nel repository."
   ]
  },
  {
   "cell_type": "markdown",
   "metadata": {
    "slideshow": {
     "slide_type": "subslide"
    },
    "tags": []
   },
   "source": [
    "### Aggiungere i file alla *working directory*"
   ]
  },
  {
   "cell_type": "markdown",
   "metadata": {
    "slideshow": {
     "slide_type": "fragment"
    },
    "tags": []
   },
   "source": [
    "Creiamo dunque dei file di esempio:\n",
    "\n",
    "```bash\n",
    "$ touch index.html\n",
    "$ touch style.css\n",
    "```"
   ]
  },
  {
   "cell_type": "markdown",
   "metadata": {
    "slideshow": {
     "slide_type": "fragment"
    },
    "tags": []
   },
   "source": [
    "E verifichiamo di nuovo lo stato del nostro repository:\n",
    "\n",
    "```bash\n",
    "$ git status\n",
    "```"
   ]
  },
  {
   "cell_type": "markdown",
   "metadata": {
    "slideshow": {
     "slide_type": "fragment"
    },
    "tags": []
   },
   "source": [
    "```bash\n",
    "On branch master\n",
    "\n",
    "No commits yet\n",
    "\n",
    "Untracked files:\n",
    "(use \"git add <file>...\" to include in what will be committed)\n",
    "    index.html\n",
    " style.css\n",
    "\n",
    "nothing added to commit but untracked files present (use \"git add\" to track)\n",
    "```"
   ]
  },
  {
   "cell_type": "markdown",
   "metadata": {
    "slideshow": {
     "slide_type": "notes"
    },
    "tags": []
   },
   "source": [
    "Git ci informa che ci sono file non tracciati e che posssiamo usare il comando `git add <file>...` per includere i file che si intende inserire nel prossimo commit. Inoltre ci dice che il commit è ancora vuoto. In gergo tecnico, il luogo in cui vengono \"raccolte\" le modifiche che faranno parte del prossimo commit, viene chiamato _**staging area**_. Facciamo dunque come dice e ordininamo a Git di iniziare il tracking su questi due nuovi file rendendoli, come si suol dire, _**staged**_."
   ]
  },
  {
   "cell_type": "markdown",
   "metadata": {
    "slideshow": {
     "slide_type": "subslide"
    },
    "tags": []
   },
   "source": [
    "### `git add`: aggiungere le modifiche alla *staging area*"
   ]
  },
  {
   "cell_type": "markdown",
   "metadata": {
    "slideshow": {
     "slide_type": "fragment"
    },
    "tags": []
   },
   "source": [
    "Abbiamo due opzioni: possiamo aggiungere i file uno alla volta usando il comando `git add <file>...`\n",
    "\n",
    "```bash\n",
    "$ git add index.html\n",
    "$ git add style.css\n",
    "```"
   ]
  },
  {
   "cell_type": "markdown",
   "metadata": {
    "slideshow": {
     "slide_type": "fragment"
    },
    "tags": []
   },
   "source": [
    "Oppure aggiungere tutti i file attualmennte untraked con `git add -A` o `--all`:\n",
    "\n",
    "```bash\n",
    "$ git add -A\n",
    "```"
   ]
  },
  {
   "cell_type": "markdown",
   "metadata": {
    "slideshow": {
     "slide_type": "notes"
    },
    "tags": []
   },
   "source": [
    "> NOTA: Ci sono delle differenze tra un metodo e l'altro a seconda che i file siano stati creati, modificati o eliminati, ma di questo ce ne occuperemo più avanti."
   ]
  },
  {
   "cell_type": "markdown",
   "metadata": {
    "slideshow": {
     "slide_type": "subslide"
    },
    "tags": []
   },
   "source": [
    "Bene, ora abbiamo i file, ma per essere sicuri di aver fatto tutto correttamente e per controllare le modifiche, controlliamo di nuovo lo stato del repository usando il comando `git status`.\n",
    "\n",
    "```bash\n",
    "$ git status             \n",
    "```"
   ]
  },
  {
   "cell_type": "markdown",
   "metadata": {
    "slideshow": {
     "slide_type": "fragment"
    },
    "tags": []
   },
   "source": [
    "```bash\n",
    "On branch master\n",
    "    \n",
    "No commits yet\n",
    "    \n",
    "Changes to be committed:\n",
    "(use \"git rm --cached <file>...\" to unstage)\n",
    "        new file:   index.html\n",
    "        new file:   style.css\n",
    "```\n",
    "\n",
    "L'output del comando mostra che ci sono cambiamenti nella _**staging area**_ per i quali può essere fatto un _**commit**_. Inoltre per ciascun file viene indicato il tipo di modifica, ovvero \"_new file_\"."
   ]
  },
  {
   "cell_type": "markdown",
   "metadata": {
    "slideshow": {
     "slide_type": "notes"
    },
    "tags": []
   },
   "source": [
    "Passiamo ora alla fase finale di questo primo esperimento, che consiste nel fare il _**commit**_ delle modifiche al repository, cioè nell'applicare e confermare i cambiamenti apportati che, in questo caso specifico, consistono nell'aggiunta di due file. Per farlo, useremo il comando `git commit`."
   ]
  },
  {
   "cell_type": "markdown",
   "metadata": {
    "slideshow": {
     "slide_type": "subslide"
    },
    "tags": []
   },
   "source": [
    "### `git commit`: applicare le modifiche al *repository*"
   ]
  },
  {
   "cell_type": "markdown",
   "metadata": {
    "slideshow": {
     "slide_type": "fragment"
    },
    "tags": []
   },
   "source": [
    "Il verbo \"_to commit_\" non è propriamente traducibile, ma significa applicare, registrare, confermare o letteralmente \"commettere\" le modifiche che abbiamo precedeentemente inserito nella _**staging area**_."
   ]
  },
  {
   "cell_type": "markdown",
   "metadata": {
    "slideshow": {
     "slide_type": "fragment"
    },
    "tags": []
   },
   "source": [
    "Usato come sostantivo, un \"_commit_\" rappresenta lo stato, una \"fotografia\" del repository in un momento specifico."
   ]
  },
  {
   "cell_type": "markdown",
   "metadata": {
    "slideshow": {
     "slide_type": "notes"
    },
    "tags": []
   },
   "source": [
    "In pratica, ogni commit applica e fissa le modifiche fatte rispetto al commit precedente in modo da tenerne traccia e consentirci di ripercorrere la loro \"storia\" in seguito."
   ]
  },
  {
   "cell_type": "markdown",
   "metadata": {
    "slideshow": {
     "slide_type": "subslide"
    },
    "tags": []
   },
   "source": [
    "Per eseguire il commit delle modifiche, è necessaria almeno una *modifica di staging*, ad esempio l'aggiunta di nuovi file come abbiamo appena fatto. Dopodiché, digitiamo:"
   ]
  },
  {
   "cell_type": "markdown",
   "metadata": {
    "slideshow": {
     "slide_type": "fragment"
    },
    "tags": []
   },
   "source": [
    "```bash\n",
    "$ git commit -m \"Primo commit\"\n",
    "```"
   ]
  },
  {
   "cell_type": "markdown",
   "metadata": {
    "slideshow": {
     "slide_type": "fragment"
    },
    "tags": []
   },
   "source": [
    "```bash\n",
    "[master (root-commit) 5ddcc57] Primo commit\n",
    "2 files changed, 0 insertions(+), 0 deletions(-)\n",
    "create mode 100644 index.html\n",
    "create mode 100644 style.css\n",
    "```"
   ]
  },
  {
   "cell_type": "markdown",
   "metadata": {
    "slideshow": {
     "slide_type": "fragment"
    },
    "tags": []
   },
   "source": [
    "Questo comando creerà un nuovo commit con tutte le modifiche di staging."
   ]
  },
  {
   "cell_type": "markdown",
   "metadata": {
    "slideshow": {
     "slide_type": "fragment"
    },
    "tags": []
   },
   "source": [
    "L'opzione `-m` sta per \"message\" e `\"Primo commit\"` è il messaggio o, in altre parole, il commento che si aggiunge al commit."
   ]
  },
  {
   "cell_type": "markdown",
   "metadata": {
    "slideshow": {
     "slide_type": "fragment"
    },
    "tags": []
   },
   "source": [
    "È considerata una buona pratica fare commit frequentemente e scrivere sempre commenti significativi, perché questo rende più facile per voi e per gli altri capire e ricordare quello che è stato fatto."
   ]
  },
  {
   "cell_type": "markdown",
   "metadata": {
    "slideshow": {
     "slide_type": "subslide"
    },
    "tags": []
   },
   "source": [
    "Controllando di nuovo lo stato, ora dovremmo ottenere:\n",
    "\n",
    "```bash\n",
    "$ git status \n",
    "```\n",
    "\n",
    "```bash\n",
    "On branch master\n",
    "nothing to commit, working tree clean\n",
    "```"
   ]
  },
  {
   "cell_type": "markdown",
   "metadata": {
    "slideshow": {
     "slide_type": "fragment"
    },
    "tags": []
   },
   "source": [
    "L'output indica che non c'è più nulla per cui è necessario fare un commit e che la cartella di lavoro (working tree/directory) è pulita."
   ]
  },
  {
   "cell_type": "markdown",
   "metadata": {
    "slideshow": {
     "slide_type": "fragment"
    },
    "tags": []
   },
   "source": [
    "Ottimo! Abbiamo fatto il nostro primo commit!"
   ]
  },
  {
   "cell_type": "markdown",
   "metadata": {
    "slideshow": {
     "slide_type": "subslide"
    },
    "tags": []
   },
   "source": [
    "Ora modifichiamo un file ed eliminiamo l'altro. Poi proviamo a controllare di nuovo lo stato:\n",
    "```bash\n",
    "$ echo \"Ciao mondo!\" > index.html \n",
    "$ rm style.css\n",
    "```"
   ]
  },
  {
   "cell_type": "markdown",
   "metadata": {
    "slideshow": {
     "slide_type": "fragment"
    },
    "tags": []
   },
   "source": [
    "```bash\n",
    "$ git status\n",
    "        \n",
    "On branch master\n",
    "Changes not staged for commit:\n",
    "(use \"git add <file>...\" to update what will be committed)\n",
    "(use \"git restore <file>...\" to discard changes in working directory)\n",
    "    modified:   index.html\n",
    "    deleted:    style.css\n",
    "\n",
    "no changes added to commit (use \"git add\" and/or \"git commit -a\")\n",
    "```"
   ]
  },
  {
   "cell_type": "markdown",
   "metadata": {
    "slideshow": {
     "slide_type": "notes"
    },
    "tags": []
   },
   "source": [
    "Adesso l'output ci informa che ci sono modifiche non ancora aggiunte alla staging area e che possiamo aggiungerle in modo che vengano incluse nel prossimo commit, oppure possiamo annullare le modifiche e ripristinare il file all'ultima versione registrata. Inoltre informa che la staging area non contiene modifiche utili a un commit."
   ]
  },
  {
   "cell_type": "markdown",
   "metadata": {
    "slideshow": {
     "slide_type": "subslide"
    },
    "tags": []
   },
   "source": [
    "Procediamo dunque ad aggiungere il file modificato alla staging area e verifichiamo di nuovo lo stato.\n",
    "\n",
    "```bash\n",
    "$ git add -A\n",
    "```"
   ]
  },
  {
   "cell_type": "markdown",
   "metadata": {
    "slideshow": {
     "slide_type": "fragment"
    },
    "tags": []
   },
   "source": [
    "```bash\n",
    "$ git status\n",
    "\n",
    "On branch master\n",
    "Changes to be committed:\n",
    "(use \"git restore --staged <file>...\" to unstage)\n",
    "    modified:   index.html\n",
    "    deleted:    style.css\n",
    "```"
   ]
  },
  {
   "cell_type": "markdown",
   "metadata": {
    "slideshow": {
     "slide_type": "notes"
    },
    "tags": []
   },
   "source": [
    "Questa volta, invece della dicitura `new file` abbiamo `modified` e `deleted`, il che indica che il cambiamento inserito nella staging area è rispettivamennte una modifica e una eliminazione."
   ]
  },
  {
   "cell_type": "markdown",
   "metadata": {
    "slideshow": {
     "slide_type": "subslide"
    },
    "tags": []
   },
   "source": [
    "Chiudiamo infine con un'ultimo commit:\n",
    "\n",
    "```bash\n",
    "$ git commit -m \"Secondo commit\"\n",
    "\n",
    "[master a9c7f66] Secondo commit\n",
    "2 files changed, 1 insertion(+)\n",
    "delete mode 100644 style.css\n",
    "```\n",
    "```bash\n",
    "$ git status \n",
    "\n",
    "On branch master\n",
    "nothing to commit, working tree clean\n",
    "```"
   ]
  },
  {
   "cell_type": "markdown",
   "metadata": {
    "slideshow": {
     "slide_type": "notes"
    },
    "tags": []
   },
   "source": [
    "Anche in questo caso, l'output del comando `commit` ci fornisce la conferma che 2 file sono stati modificati: su uno è stata fatta una modifica mentre l'altro è stato eliminato."
   ]
  },
  {
   "cell_type": "markdown",
   "metadata": {
    "slideshow": {
     "slide_type": "subslide"
    },
    "tags": []
   },
   "source": [
    "### Monitoraggio dei commit"
   ]
  },
  {
   "cell_type": "markdown",
   "metadata": {
    "slideshow": {
     "slide_type": "notes"
    },
    "tags": []
   },
   "source": [
    "Abbiamo imparato a fare i commit delle nostre modifiche ai file. Ma cosa serve salvare tutte le versioni se poi non sappiamo come accedervi? Immagina per esempio di lavorare con dei colleghi e di trovare un errore nel codice di un certo file. Come possiamo sapere chi e quando ha introdotto la modifica con quell'errore? E se volessimo annullare quella modifica, ripristinando il file ad una versione precedente? In tutti questi casi è necessario poter accedere alla cronologia (*log*) dei commit per poter vedere cosa è successo in precedenza."
   ]
  },
  {
   "cell_type": "markdown",
   "metadata": {
    "slideshow": {
     "slide_type": "fragment"
    },
    "tags": []
   },
   "source": [
    "Prima di iniziare facciamo un'ulteriore modifica al nostro repository di esempio e creiamo un nuovo commit."
   ]
  },
  {
   "cell_type": "markdown",
   "metadata": {
    "slideshow": {
     "slide_type": "fragment"
    },
    "tags": []
   },
   "source": [
    "```bash\n",
    "$ echo \"Questa è una nuova riga aggiunta con il terzo commit.\" >> index.html\n",
    "```"
   ]
  },
  {
   "cell_type": "markdown",
   "metadata": {
    "slideshow": {
     "slide_type": "fragment"
    },
    "tags": []
   },
   "source": [
    "```bash\n",
    "$ git add index.html\n",
    "```"
   ]
  },
  {
   "cell_type": "markdown",
   "metadata": {
    "slideshow": {
     "slide_type": "fragment"
    },
    "tags": []
   },
   "source": [
    "```bash\n",
    "$ git commit -m \"Terzo commit\"\n",
    "\n",
    "[master 131bd0d] Terzo commit\n",
    "1 file changed, 1 insertion(+)\n",
    "```"
   ]
  },
  {
   "cell_type": "markdown",
   "metadata": {
    "slideshow": {
     "slide_type": "subslide"
    },
    "tags": []
   },
   "source": [
    "#### `git log`: vedere tutti i commit\n",
    "\n",
    "Ogni commit ha un proprio ***identificativo*** (*identifier*) univoco sotto forma di una stringa di numeri e lettere. Per vedere un elenco di tutti i commit e dei loro ID, si può usare il comando `git log`:"
   ]
  },
  {
   "cell_type": "markdown",
   "metadata": {
    "slideshow": {
     "slide_type": "fragment"
    },
    "tags": []
   },
   "source": [
    "```bash\n",
    "$ git log\n",
    "```"
   ]
  },
  {
   "cell_type": "markdown",
   "metadata": {
    "slideshow": {
     "slide_type": "fragment"
    },
    "tags": []
   },
   "source": [
    "```bash\n",
    "commit 131bd0d184f0606935928564e9c06d40c2873348 (HEAD -> master)\n",
    "Author: Leonardo da Vinci <leonardo@davinci.com>\n",
    "Date:   Mon Feb 13 15:57:49 2023 +0100\n",
    "\n",
    "    Terzo commit\n",
    "\n",
    "commit a9c7f663dbcde945ffa657679c66ba9afafafe3a\n",
    "Author: Leonardo da Vinci <leonardo@davinci.com>\n",
    "Date:   Mon Feb 13 10:43:30 2023 +0100\n",
    "\n",
    "    Secondo commit\n",
    "\n",
    "commit 5ddcc574d6041edd5c24201bcfbc4b9683eb0515\n",
    "Author: Leonardo da Vinci <leonardo@davinci.com>\n",
    "Date:   Mon Feb 13 08:03:11 2023 +0100\n",
    "\n",
    "    Primo commit\n",
    "```"
   ]
  },
  {
   "cell_type": "markdown",
   "metadata": {
    "slideshow": {
     "slide_type": "subslide"
    },
    "tags": []
   },
   "source": [
    "#### `git show`: vedere un commit specifico"
   ]
  },
  {
   "cell_type": "markdown",
   "metadata": {
    "slideshow": {
     "slide_type": "notes"
    },
    "tags": []
   },
   "source": [
    "Come si può vedere, gli identificatori sono piuttosto lunghi e inquietanti, ma non è necessario copiare l'intera stringa per lavorarci, sono sufficienti i primi caratteri. Per vedere cosa c'è di nuovo nel commit, possiamo usare il comando `git show <ID commit>`. Per vedere i dettagli del secondo commit, possiamo fare: "
   ]
  },
  {
   "cell_type": "markdown",
   "metadata": {
    "slideshow": {
     "slide_type": "fragment"
    },
    "tags": []
   },
   "source": [
    "```bash    \n",
    "$ git show a9c7f66\n",
    "```"
   ]
  },
  {
   "cell_type": "markdown",
   "metadata": {
    "slideshow": {
     "slide_type": "fragment"
    },
    "tags": []
   },
   "source": [
    "```bash\n",
    "commit a9c7f663dbcde945ffa657679c66ba9afafafe3a\n",
    "Author: Leonardo da Vinci <leonardo@davinci.com>\n",
    "Date:   Mon Feb 13 10:43:30 2023 +0100\n",
    "\n",
    "    Secondo commit\n",
    "\n",
    "diff --git a/index.html b/index.html\n",
    "index e69de29..a09ebc6 100644\n",
    "--- a/index.html\n",
    "+++ b/index.html\n",
    "@@ -0,0 +1 @@\n",
    "+Ciao mondo!\n",
    "\n",
    "diff --git a/style.css b/style.css\n",
    "deleted file mode 100644\n",
    "index e69de29..0000000\n",
    "```"
   ]
  },
  {
   "cell_type": "markdown",
   "metadata": {
    "slideshow": {
     "slide_type": "notes"
    },
    "tags": []
   },
   "source": [
    "Questo esempio mostra differenze rispetto al commit precedente (in questo caso il \"5ddcc57\"). Possiamo vedere quando i file sono stati modificati, da chi e che tipo di modifica è stata apportata: sul file `index.html` è stata aggiunta una riga di testo che contiene \"*Ciao mondo!*\" e il file `style.css` è stato eliminato."
   ]
  },
  {
   "cell_type": "markdown",
   "metadata": {
    "slideshow": {
     "slide_type": "subslide"
    },
    "tags": []
   },
   "source": [
    "#### `git diff`: vedere le differenze tra i commit\n",
    "\n",
    "Per vedere invece le differenze tra due commit specifici e scoprrire come, quando e chi ha fatto delle modifiche, si può usare il comando `git diff <ID commit A>..<ID commit B>`."
   ]
  },
  {
   "cell_type": "markdown",
   "metadata": {
    "slideshow": {
     "slide_type": "notes"
    },
    "tags": []
   },
   "source": [
    "Proviamo a confrontare il primo commit con l'ultimo per vedere tutte le modifiche apportate."
   ]
  },
  {
   "cell_type": "markdown",
   "metadata": {
    "slideshow": {
     "slide_type": "fragment"
    },
    "tags": []
   },
   "source": [
    "```bash\n",
    "git diff 5ddcc57..131bd0d\n",
    "```"
   ]
  },
  {
   "cell_type": "markdown",
   "metadata": {},
   "source": [
    "```bash\n",
    "diff --git a/index.html b/index.html\n",
    "index e69de29..95e6f67 100644\n",
    "--- a/index.html\n",
    "+++ b/index.html\n",
    "@@ -0,0 +1,2 @@\n",
    "+Ciao mondo!\n",
    "+Questa è una nuova riga aggiunta con il terzo commit.\n",
    "\n",
    "diff --git a/style.css b/style.css\n",
    "deleted file mode 100644\n",
    "index e69de29..0000000\n",
    "```"
   ]
  },
  {
   "cell_type": "markdown",
   "metadata": {
    "slideshow": {
     "slide_type": "notes"
    },
    "tags": []
   },
   "source": [
    "Rispetto all'esempio precedente sul file `index.html` sono state aggiunte due righe di testo: \"*Ciao mondo!*\" e \"*Questa è una nuova riga aggiunta con il terzo commit.*\"."
   ]
  },
  {
   "cell_type": "markdown",
   "metadata": {
    "slideshow": {
     "slide_type": "subslide"
    },
    "tags": []
   },
   "source": [
    "### Il flusso di lavoro con Git\n",
    "\n",
    "Per riassumere quanto abiamo visto fino ad ora, ci sono quattro stati principali in cui possono trovarsi i file:\n",
    "\n",
    "- _**untracked**_, cioè il file è stato creato o eliminato ma non è nella staging area e quindi non può ancora essere oggetto di un commit;\n",
    "- _**committed**_/_**unmodified**_, cioè il file, con tutte le modifiche applicate, salvato nel database locale;\n",
    "- _**modified**_, cioè il file contiene delle modifiche non inserite nella staging area e che quindi non possono ancora essere oggetto di un commit;\n",
    "- _**staged**_, cioè le modifiche a un file vengono aggiunte alla staging area e dunque è come se fossero contrassegnate per essere incluse nel prossimo commit."
   ]
  },
  {
   "cell_type": "markdown",
   "metadata": {
    "slideshow": {
     "slide_type": "subslide"
    },
    "tags": []
   },
   "source": [
    "![lifecycle_states.png](./imgs/git/lifecycle_states.png)"
   ]
  },
  {
   "cell_type": "markdown",
   "metadata": {
    "slideshow": {
     "slide_type": "notes"
    },
    "tags": []
   },
   "source": [
    "Rispettivamente questi stati si possono ricondurre a tre \"location\" principali sull'architettura di Git, le tre sezioni fondamentali di un progetto Git. *NOTA: non vi è corrispondenza di colori tra l'immagine precedente e quella che segue.*"
   ]
  },
  {
   "cell_type": "markdown",
   "metadata": {
    "slideshow": {
     "slide_type": "subslide"
    },
    "tags": []
   },
   "source": [
    "![lifecycle_locations.png](./imgs/git/lifecycle_locations.png)"
   ]
  },
  {
   "cell_type": "markdown",
   "metadata": {
    "slideshow": {
     "slide_type": "subslide"
    },
    "tags": []
   },
   "source": [
    "- La ***working directory*** (directory di lavoro) contiene l'istantanea di una specifica versione del progetto, ovviamente di solito lavoriamo sulla versione corrente. I file vengono decompressi da un database compresso in una directory Git e messi su disco nella working directory, in modo da poterli usare e modificare."
   ]
  },
  {
   "cell_type": "markdown",
   "metadata": {
    "slideshow": {
     "slide_type": "fragment"
    },
    "tags": []
   },
   "source": [
    "- La ***staging area*** è un file situato nella directory `.git` che contiene informazioni sulle modifiche che verranno apportate ed inserite al prossimo commit. Quest'area è chiamata anche \"indice\", ma è comune chiamarla area di stage. Quando si aggiunge un file con il comado `add`, questo viene inserito subito nell'indice e solo dopo il commit esso è registrato nel repository vero e proprio."
   ]
  },
  {
   "cell_type": "markdown",
   "metadata": {
    "slideshow": {
     "slide_type": "fragment"
    },
    "tags": []
   },
   "source": [
    "- La ***directory `.git`*** è il luogo in cui Git memorizza i metadati e il database del progetto, ovvero il ***repository*** vero e proprio. È la parte più importante di Git, che viene copiata quando si clona un repository da/su un'altra macchina."
   ]
  },
  {
   "cell_type": "markdown",
   "metadata": {
    "slideshow": {
     "slide_type": "subslide"
    },
    "tags": []
   },
   "source": [
    "Riassumendo, l'approccio di base di Git è il seguente:\n",
    "\n",
    "1. Si modificano i file nella propria directory di lavoro.\n",
    "2. Si aggiungono i file all'indice, aggiungendo così le loro istantanee alla staging area.\n",
    "3. Quando si esegue il commit, i file presenti nell'indice (staging area) vengono utilizzati così come sono e questa istantanea viene salvata nella directory `.git` del progetto."
   ]
  },
  {
   "cell_type": "markdown",
   "metadata": {
    "slideshow": {
     "slide_type": "notes"
    },
    "tags": []
   },
   "source": [
    "L'intera struttura di Git si basa in gran parte sulla necessità di salvare di volta in volta la versione corrente del progetto. Immaginate come sarebbe se non avessimo questo sistema e quanto sarebbe scomodo lavorare con i file. Se il file venisse modificato, ma fosse necessario tornare alla versione precedente a causa, ad esempio, di modifiche errate, sarebbe molto complicato ripristinare lo status quo e correggere l'errore a partire da semplici copie di backup effettuate di tanto in tanto.\n",
    "\n",
    "Ecco perché uno dei concetti più importanti di Git è quello di commit, che significa salvare lo stato attuale del progetto. Ogni volta che si effettua un commit, il sistema registra l'aspetto di ogni file in quel momento e salva un link a questa istantanea. Per aumentare l'efficienza, a meno che non si faccia commit di un nuovo file, Git individua e archivia solo le modifiche al file (ovvero le differenze), non tutto il file per intero. Se non ci sono state modifiche, Git crea solo un \"link\" alla versione precedente del file identico già salvato.\n",
    "\n",
    "Tutte le modifiche sono memorizzate nel database locale contenuto nella cartella `.git` che, come abbiamo detto, viene creata subito dopo l'inizializzazione di Git nella cartella del progetto. Ciò significa che la cronologia completa del progetto è accessibile sempre e istantaneamente. Se è necessario esaminare le modifiche apportate tra la versione corrente di un file e una versione creata un mese fa, Git è in grado di trovare il file di un mese fa e di calcolare le differenze.\n",
    "\n",
    "Git possiede inoltre un sistema per assicurare la consistenza di questo database. In pratica non è possibile prendere e modificare il contenuto di un qualunque file (né della versione corrente né di una precedente) senza che Git se ne accorga. Questa funzionalità è integrata in Git a basso livello. In questo modo, per esempio durante un trasferimento dati, non si corre il rischio di perdere informazioni o di ottenere file danneggiati; se così fosse, Git se ne accorgerebbe immediatamente e ci avviserebbe che il database è stato corrotto."
   ]
  },
  {
   "cell_type": "markdown",
   "metadata": {
    "slideshow": {
     "slide_type": "subslide"
    },
    "tags": []
   },
   "source": [
    "### Modifica dei commit"
   ]
  },
  {
   "cell_type": "markdown",
   "metadata": {
    "slideshow": {
     "slide_type": "notes"
    },
    "tags": []
   },
   "source": [
    "Ma cosa succede se ci sono molte modifiche e alcune di esse si rivelano errate? E se abbiamo sbagliato l'ultimo commit e vogliamo annullarlo? Oppure se volgiamo ripristinare un file (o l'intero repository) alla sua versione precedente? Vediamo come fare.\n",
    "\n",
    "Ci sono vari modi in cui è possibile procedere."
   ]
  },
  {
   "cell_type": "markdown",
   "metadata": {
    "slideshow": {
     "slide_type": "fragment"
    },
    "tags": []
   },
   "source": [
    "#### `git commit --amend`: annullare l'ultimo commit"
   ]
  },
  {
   "cell_type": "markdown",
   "metadata": {
    "slideshow": {
     "slide_type": "notes"
    },
    "tags": []
   },
   "source": [
    "Innanzitutto, se si è fatto un commit e ci si è subito resi conto che era sbagliato, si può usare il comando `git commit --amend`. Questo comando aggiunge tutto ciò che è stato fatto nell'ultimo commit all'area di staging e tenta di fare un nuovo commit, per cui è sufficiente digitarlo dopo il comando `git commit`. In questo modo è possibile correggere il commento o aggiungere i file mancanti all'area di staging."
   ]
  },
  {
   "cell_type": "markdown",
   "metadata": {
    "slideshow": {
     "slide_type": "fragment"
    },
    "tags": []
   },
   "source": [
    "#### `git revert`: annullare le modifiche apportate da un commit"
   ]
  },
  {
   "cell_type": "markdown",
   "metadata": {
    "slideshow": {
     "slide_type": "notes"
    },
    "tags": []
   },
   "source": [
    "Se l'errore è stato commesso diversi commit fa e le modifiche sono già state inviate al server, è necessario usare il comando `git revert`. Questo comando crea un commit che annulla le modifiche apportate nel commit con l'ID indicato:"
   ]
  },
  {
   "cell_type": "markdown",
   "metadata": {
    "slideshow": {
     "slide_type": "fragment"
    },
    "tags": []
   },
   "source": [
    "```bash\n",
    "$ git revert b10cc123\n",
    "```"
   ]
  },
  {
   "cell_type": "markdown",
   "metadata": {
    "slideshow": {
     "slide_type": "fragment"
    },
    "tags": []
   },
   "source": [
    "È possibile accedere al commit più recente inviato al server aggiungendo `HEAD` al comando `git revert` senza ID:\n",
    "\n",
    "```bash\n",
    "$ git revert HEAD\n",
    "```"
   ]
  },
  {
   "cell_type": "markdown",
   "metadata": {
    "slideshow": {
     "slide_type": "fragment"
    },
    "tags": []
   },
   "source": [
    "Quando si annullano i vecchi commit, bisogna essere preparati ai **conflitti**. Questi si verificano se il file è stato modificato da un altro commit più recente e ora git non riesce a trovare le righe che devono essere annullate perché, per esempio, potrebbero non esistere più. Cercate di tenerne conto."
   ]
  },
  {
   "cell_type": "markdown",
   "metadata": {
    "slideshow": {
     "slide_type": "subslide"
    },
    "tags": []
   },
   "source": [
    "#### `git checkout`: ripristinare una versione precedente"
   ]
  },
  {
   "cell_type": "markdown",
   "metadata": {
    "slideshow": {
     "slide_type": "notes"
    },
    "tags": []
   },
   "source": [
    "C'è un altro modo per gestire i commit errati, usando il comando `git checkout`. Se si vuole ottenere un file da un altro commit in cui l'errore non c'è ancora o è stato corretto, è possibile ottenerlo tramite `git checkout`. È necessario scrivere il comando stesso, l'ID del commit che si vuole eliminare e il nome del file in cui è stata apportata la modifica errata."
   ]
  },
  {
   "cell_type": "markdown",
   "metadata": {
    "slideshow": {
     "slide_type": "fragment"
    },
    "tags": []
   },
   "source": [
    "```bash\n",
    "$ git checkout 09bd8cc1 my_file.txt\n",
    "```"
   ]
  },
  {
   "cell_type": "markdown",
   "metadata": {
    "slideshow": {
     "slide_type": "fragment"
    },
    "tags": []
   },
   "source": [
    "Torneremo sul comando `git checkout` quando parleremo di ***branching***, ma lì sarà usato in un contesto completamente diverso."
   ]
  },
  {
   "cell_type": "markdown",
   "metadata": {
    "slideshow": {
     "slide_type": "subslide"
    },
    "tags": []
   },
   "source": [
    "### Riassumendo\n",
    "\n",
    "In questa sezione abbiamo visto i comandi base per operare su un repository locale. Riassumiamo quanto abbiamo imparato fino ad ora:"
   ]
  },
  {
   "cell_type": "markdown",
   "metadata": {
    "slideshow": {
     "slide_type": "fragment"
    },
    "tags": []
   },
   "source": [
    "- Per creare un nuovo repository, usare il comando `git init`.\n",
    "- Per controllare lo stato del repository in qualsiasi momento, usare il comando `git status`.\n",
    "- Per aggiungere file al repository, usare `git add <filename.extension>` o `git add -A` per aggiungere tutti i file modificati nella working directory.\n",
    "- Per fare il commit delle modifiche, usare `git commit` e non dimenticare di scrivere il commento!\n",
    "- Per vedere quali commit sono stati fatti, è necessario ricordare i seguenti tre comandi:\n",
    "    - `git log` per individuare il ***commit idetifier*** (ID commmit);\n",
    "    - `git show <ID commit>` per vedere un commit specifico in base al suo identificatore;\n",
    "    - `git diff <ID commit A>..<ID commit B>` per confrontare i commit.\n",
    "- Per modificare i commit, usare:\n",
    "    - `commit --amend` se ci si accorge dell'errore subito dopo aver fatto un commit;\n",
    "    - se le modifiche sono già presenti sul server, usare `git revert <ID commit>` o `git revert HEAD` per l'ultimo commit.\n",
    "- Per annullare il commit, usare il comando `git checkout`."
   ]
  },
  {
   "cell_type": "markdown",
   "metadata": {
    "slideshow": {
     "slide_type": "slide"
    },
    "tags": []
   },
   "source": [
    "### GitHub\n",
    "\n",
    "![github_logo.png](./imgs/git/github_logo.png)"
   ]
  },
  {
   "cell_type": "markdown",
   "metadata": {
    "slideshow": {
     "slide_type": "fragment"
    },
    "tags": []
   },
   "source": [
    "Dato che useremo GitHub come provider di hosting Git, apriamo un breve intermezzo, prima di affrontare il discorso sui repository remoti. Vediamo cos'è GitHub, come creare un account e come impostare un repo remoto."
   ]
  },
  {
   "cell_type": "markdown",
   "metadata": {
    "slideshow": {
     "slide_type": "notes"
    },
    "tags": []
   },
   "source": [
    "**[GitHub](https://github.com/)** è una piattaforma di hosting di codice. È un luogo in cui gli sviluppatori possono archiviare i loro progetti e lavorare insieme per svilupparne di nuovi. In questo modo è più facile collaborare e controllare le varie versioni dei software. **GitHub** si basa sul popolare sistema di controllo delle versioni **Git** e offre alcune funzionalità aggiuntive come un'interfaccia web, strumenti di collaborazione, un issue tracker, statistiche sui progetti e altro ancora.\n",
    "\n",
    "GitHub è il più grande host di codice sorgente al mondo. Potete trovare molti progetti open-source popolari ospitati su GitHub e dare il vostro contributo.\n",
    "\n",
    "In questa sezione imparerete a utilizzare GitHub attraverso il browser web. Vi consigliamo di ripetere passo dopo passo tutto ciò che facciamo qui."
   ]
  },
  {
   "cell_type": "markdown",
   "metadata": {
    "slideshow": {
     "slide_type": "subslide"
    },
    "tags": []
   },
   "source": [
    "#### Creare un account su GitHub\n",
    "\n",
    "Per proccedere nel corso, è necessario [creare un account gratuito su GitHub](https://github.com/signup) (o utilizzarne uno esistente)."
   ]
  },
  {
   "cell_type": "markdown",
   "metadata": {
    "slideshow": {
     "slide_type": "fragment"
    },
    "tags": []
   },
   "source": [
    "Il profilo è la vostra pagina pubblica su GitHub, proprio come il profilo di un social network. Quando cercate un lavoro come programmatore, i potenziali datori di lavoro potrebbero controllare il vostro profilo su GitHub e tenerne conto per valutare la vostra candidatura."
   ]
  },
  {
   "cell_type": "markdown",
   "metadata": {
    "slideshow": {
     "slide_type": "notes"
    },
    "tags": []
   },
   "source": [
    "Quando create un account, vi verranno fatte tutta una serie di domande. Per ora è sufficiente indicare cbe non lavorate in team, che siete degli studenti e che userete la piattaforma per fare *collaborative coding*. Nell'ultimo passaggio scegliete infine \"*Continue for free*\".\n",
    "\n",
    "Dopo aver completato la registrazione, sarete reindirizzati alla vostra dashboard. Nella parte superiore della pagina troverete la casella di ricerca e le informazioni sul vostro profilo. Potete aprire il vostro **profilo** e apportare modifiche (ad esempio, potete aggiungere una biografia o caricare una foto)."
   ]
  },
  {
   "cell_type": "markdown",
   "metadata": {
    "slideshow": {
     "slide_type": "subslide"
    },
    "tags": []
   },
   "source": [
    "#### github.dev\n",
    "\n",
    "L'editor web di [`github.dev`](`github.dev`) consente di visualizzare e modficare file dei repository GitHub direttamente nel browser. In pratica è un IDE online basato su Visual Studio Code."
   ]
  },
  {
   "cell_type": "markdown",
   "metadata": {
    "slideshow": {
     "slide_type": "fragment"
    },
    "tags": []
   },
   "source": [
    "Ci sono due modi per passare all'ambiente Visual Studio Code di `github.dev` nel browser e iniziare la codifica:\n",
    "\n",
    "- Premere il tasto `.` su qualsiasi repository o richiesta di pull.\n",
    "- Sostituire `.com` con `.dev` nell'URL. Ad esempio, questo repository https://github.COM/github/dev diventa http://github.DEV/github/dev."
   ]
  },
  {
   "cell_type": "markdown",
   "metadata": {
    "slideshow": {
     "slide_type": "fragment"
    },
    "tags": []
   },
   "source": [
    "Tuttavia non è possibile eseguire o fare il debug di codice Python, per fare ciò è necessario un container o una macchina virtuale, disponibile invece con _**GitHub Codespace**_. "
   ]
  },
  {
   "cell_type": "markdown",
   "metadata": {
    "slideshow": {
     "slide_type": "subslide"
    },
    "tags": []
   },
   "source": [
    "#### GitHub Codespace\n",
    "\n",
    "Dalla tua dashboard di GitHub hai anche accesso a [Codespace](https://github.com/codespaces), un IDE online \"istataneo\", basato su Visual Studio Code, che puoi usare con il tuo browser."
   ]
  },
  {
   "cell_type": "markdown",
   "metadata": {
    "slideshow": {
     "slide_type": "fragment"
    },
    "tags": []
   },
   "source": [
    "A differenza di `github.dev` Per funzionare deve essere creato un container Docker, in esecuzione su una macchina virtuale (Ubuntu Linux di default) nel cloud di GitHub."
   ]
  },
  {
   "cell_type": "markdown",
   "metadata": {
    "slideshow": {
     "slide_type": "fragment"
    },
    "tags": []
   },
   "source": [
    "A febbraio 2023, con l'account gratuito, ogni mese potete usare Codespace per:\n",
    "\n",
    "- 60 ore con una CPU da 2 core e 4 GB di RAM.\n",
    "- 30 ore con una CPU da 4 core e 8 GB di RAM.\n",
    "\n",
    "Inoltre avete 15 GB di spazio gratuito su disco."
   ]
  },
  {
   "cell_type": "markdown",
   "metadata": {
    "slideshow": {
     "slide_type": "subslide"
    },
    "tags": []
   },
   "source": [
    "#### Esplorare un repository\n",
    "\n",
    "GitHub ospita milioni di progetti scritti in diversi linguaggi di programmazione. Ogni progetto è inserito in un proprio contenitore chiamato ***repository*** (o ***repo***) che può contenere codice, configurazioni, set di dati, immagini e altri file inclusi nel progetto."
   ]
  },
  {
   "cell_type": "markdown",
   "metadata": {
    "slideshow": {
     "slide_type": "fragment"
    },
    "tags": []
   },
   "source": [
    "Tutte le modifiche apportate ai file all'interno di un repository vengono tracciate tramite il controllo di versione."
   ]
  },
  {
   "cell_type": "markdown",
   "metadata": {
    "slideshow": {
     "slide_type": "notes"
    },
    "tags": []
   },
   "source": [
    "Dopo aver ottenuto il proprio account, non si dispone di alcun repository. Nella dashboard personale potete cliccare sul pulsante verde a sinistra, \"Crea un repository\" e seguire le istruzioni."
   ]
  },
  {
   "cell_type": "markdown",
   "metadata": {
    "slideshow": {
     "slide_type": "notes"
    },
    "tags": []
   },
   "source": [
    "Se si desidera trovare un repository specifico di un progetto, digitarne il nome o parte del nome nella casella di ricerca. Verrà visualizzato un elenco di repository adatti. A volte potrebbero esserci molti repository con lo stesso nome. Ad esempio, provare a cercare \"`libgit2`\". Di solito, si parte da un link a un repository. Molti progetti open-source pubblicano i link sui loro siti web personali, oppure i vostri colleghi potrebbero darvi un link a un repository di un progetto."
   ]
  },
  {
   "cell_type": "markdown",
   "metadata": {
    "slideshow": {
     "slide_type": "fragment"
    },
    "tags": []
   },
   "source": [
    "Ecco il link diretto a un [repository di esempio](https://github.com/libgit2/libgit2) esistente. Aprite questo repository e date un'occhiata alla sua struttura interna."
   ]
  },
  {
   "cell_type": "markdown",
   "metadata": {
    "slideshow": {
     "slide_type": "notes"
    },
    "tags": []
   },
   "source": [
    "> NOTA: Su Github, dal 1° ottobre 2020, il ramo di default `master` è stato rinominato in `main`. Ora, in tutti i repository che verranno creati, il ramo principale si chiamerà `main`, mentre i vecchi repository creati prima di ottobre di quest'anno rimarranno invariati."
   ]
  },
  {
   "cell_type": "markdown",
   "metadata": {
    "slideshow": {
     "slide_type": "subslide"
    },
    "tags": []
   },
   "source": [
    "Ci sono molti file nella scheda **Code**. `README.md` è un file che descrive il progetto; ogni repository dovrebbe avere questo file. GitHub trova questo file e ne visualizza il contenuto sotto il repo. Un altro file è `.gitignore`, che contiene una lista di quali file e directory Git deve ignorare."
   ]
  },
  {
   "cell_type": "markdown",
   "metadata": {
    "slideshow": {
     "slide_type": "fragment"
    },
    "tags": []
   },
   "source": [
    "Anche se questo repo è pubblico, non si possono modificare direttamente i file in esso contenuti, perché si ha accesso in sola lettura a qualsiasi repository pubblico. Per modificare i file, è necessario essere un **collaboratore** di questo progetto."
   ]
  },
  {
   "cell_type": "markdown",
   "metadata": {
    "slideshow": {
     "slide_type": "fragment"
    },
    "tags": []
   },
   "source": [
    "La scheda **Pull requests** contiene proposte di modifica dei file presenti nel repository (aggiunta, eliminazione o modifica di file). I proprietari del repository possono esaminare una richiesta e approvare le modifiche se sono sufficientemente valide."
   ]
  },
  {
   "cell_type": "markdown",
   "metadata": {
    "slideshow": {
     "slide_type": "fragment"
    },
    "tags": []
   },
   "source": [
    "È possibile creare una **Issue** o fare una **Pull request** (PR) per contribuire al progetto, anche se non si è un collaboratore."
   ]
  },
  {
   "cell_type": "markdown",
   "metadata": {
    "slideshow": {
     "slide_type": "subslide"
    },
    "tags": []
   },
   "source": [
    "In questo progetto, non è attiva la scheda **Wiki**, ma in teoria è il luogo in cui dovrebbe essere conservata la documentazione del progetto (come usarlo, come è stato progettato, i suoi principi fondamentali e così via). In pratica è usato raramente e i progetti open source usano spesso piattaforme di terze parti come \"[Read the Docs](https://readthedocs.org/)\" o il servizio interno \"[GitHub Pages](https://pages.github.com/)\", offerto sempre sulla medesima piattaforma."
   ]
  },
  {
   "cell_type": "markdown",
   "metadata": {
    "slideshow": {
     "slide_type": "fragment"
    },
    "tags": []
   },
   "source": [
    "Mentre un `README.md` serve a far sapere rapidamente ai lettori cosa è in grado di fare il progetto, i wiki aiutano a fornire ulteriori informazioni."
   ]
  },
  {
   "cell_type": "markdown",
   "metadata": {
    "slideshow": {
     "slide_type": "notes"
    },
    "tags": []
   },
   "source": [
    "In questa lezione non discutiamo le scheda **Projects**, **Actions** e **Security**."
   ]
  },
  {
   "cell_type": "markdown",
   "metadata": {
    "slideshow": {
     "slide_type": "fragment"
    },
    "tags": []
   },
   "source": [
    "Nella scheda **Insight** si possono trovare statistiche e informazioni sul repository."
   ]
  },
  {
   "cell_type": "markdown",
   "metadata": {
    "slideshow": {
     "slide_type": "fragment"
    },
    "tags": []
   },
   "source": [
    "Si possono anche vedere i **commit** che rappresentano le modifiche al contenuto del repository. [Ecco un link](https://github.com/libgit2/libgit2/commits/main) per vederli direttamente."
   ]
  },
  {
   "cell_type": "markdown",
   "metadata": {
    "slideshow": {
     "slide_type": "notes"
    },
    "tags": []
   },
   "source": [
    "#### Riassumendo\n",
    "\n",
    "GitHub è una piattaforma web in cui le persone possono archiviare i loro progetti come repo Git. Utilizzando la sua interfaccia web, è possibile creare un account, un repo e cercare i repo di altri progetti. Ogni repo sulla piattaforma ha diverse schede al suo interno, come **Code** con il file `README.md`, **Pull requests** dove è possibile proporre modifiche ai file, la scheda **Wiki** con la documentazione del progetto e **Insights** con le statistiche sul repository."
   ]
  },
  {
   "cell_type": "markdown",
   "metadata": {
    "slideshow": {
     "slide_type": "subslide"
    },
    "tags": []
   },
   "source": [
    "### Lavorare con un repository remoto"
   ]
  },
  {
   "cell_type": "markdown",
   "metadata": {
    "slideshow": {
     "slide_type": "notes"
    },
    "tags": []
   },
   "source": [
    "Immaginate che voi e il vostro team stiate sviluppando un progetto grande e complesso. Avete deciso di dividerlo in parti, di modo che ognuno possa concentrarsi su una di esse, e alla fine di unire i contributi di tutti. Qual è il modo migliore per farlo? L'approccio più semplice è quello di creare un repository remoto in cui ognuno caricherà le proprie versioni. In questo modo, non rischierete di fare confusione con le varie versioni del codice e di perdere gli aggiornamenti che provengono dagli altri membri.\n",
    "\n",
    "In altre parole, quando qualcuno completa una parte del progetto, i nuovi dati vengono caricati nel repository remoto. Dopo aver aggiornato i dati, un altro membro del team potrà scaricarli, allineare il suo repo locale e continuare a lavorarci."
   ]
  },
  {
   "cell_type": "markdown",
   "metadata": {
    "slideshow": {
     "slide_type": "notes"
    },
    "tags": []
   },
   "source": [
    "Esistono comandi utili, git clone, git push e git pull, per caricare e scaricare i dati da lì. Vediamo come funzionano."
   ]
  },
  {
   "cell_type": "markdown",
   "metadata": {
    "slideshow": {
     "slide_type": "fragment"
    },
    "tags": []
   },
   "source": [
    "Abbiamo due possibilità.\n",
    "\n",
    "- Il repository remoto è già esistente e vogliamo scaricarlo per lavorare su di esso.\n",
    "- Il repository è stato creato in locale e si desidera copiarlo su un server remoto."
   ]
  },
  {
   "cell_type": "markdown",
   "metadata": {
    "slideshow": {
     "slide_type": "fragment"
    },
    "tags": []
   },
   "source": [
    "Vediamo prima il caso, in cui il repo remoto sia già esistente."
   ]
  },
  {
   "cell_type": "markdown",
   "metadata": {
    "slideshow": {
     "slide_type": "fragment"
    },
    "tags": []
   },
   "source": [
    "Questo repository remoto può essere stato creato ex novo (originale) oppure facendo il _**fork**_ di un'altro repository, il punto fondamentale è che dovete avere pieno accesso ad esso."
   ]
  },
  {
   "cell_type": "markdown",
   "metadata": {
    "slideshow": {
     "slide_type": "subslide"
    },
    "tags": []
   },
   "source": [
    "#### Modifiche tramite interfaccia web\n",
    "\n",
    "Alcuni provideri di hosting Git mettono a disposizione degli strumenti che consentono di modificare i file i file dei propri repositpry ed eseguire i commit direttamente tramite un'interfaccia web."
   ]
  },
  {
   "cell_type": "markdown",
   "metadata": {
    "slideshow": {
     "slide_type": "notes"
    },
    "tags": []
   },
   "source": [
    "Questa interfaccia può essere un semplice editor di testo o un vero e proprio IDE sviluppato come una web app. Per esempio GitHub o GitLab offrono questo servizio."
   ]
  },
  {
   "cell_type": "markdown",
   "metadata": {
    "slideshow": {
     "slide_type": "fragment"
    },
    "tags": []
   },
   "source": [
    "Tuttavia gli strumenti di sviluppo messi a disposizione sono più limitati rispetto a un IDE installato sul proprio PC e molte operazioni sul codice (es. esecuzione e debug) è possibile eseguirle più facilmente e velocemente in locale;"
   ]
  },
  {
   "cell_type": "markdown",
   "metadata": {
    "slideshow": {
     "slide_type": "fragment"
    },
    "tags": []
   },
   "source": [
    "Il metodo standard consiste dunque nel _**clonare**_ un repository remoto in una cartella locale e lavorare su di essa, preoccupandosi poi di mantenere allineate la copia locale e quella remota."
   ]
  },
  {
   "cell_type": "markdown",
   "metadata": {
    "slideshow": {
     "slide_type": "subslide"
    },
    "tags": []
   },
   "source": [
    "#### Usare repository pubblici"
   ]
  },
  {
   "cell_type": "markdown",
   "metadata": {
    "slideshow": {
     "slide_type": "notes"
    },
    "tags": []
   },
   "source": [
    "Supponiamo di voler modificare il progetto di qualcun altro o di usare il progetto di qualcun altro come punto di partenza per la nostra idea. Se non si è un collaboratore, non si possono modificare i file nel repo del progetto. Questo vale per un qualsiasi repository remoto non di vostra proprietà o, genericamente, su quelli per cui non avete le credenziali di accesso."
   ]
  },
  {
   "cell_type": "markdown",
   "metadata": {
    "slideshow": {
     "slide_type": "fragment"
    },
    "tags": []
   },
   "source": [
    "Possiamo clonare direttamente in locale qualunque repository pubblico, ma poi dove carichiamo in remoto le nuove modifiche se non abbiamo accesso al repo originale?"
   ]
  },
  {
   "cell_type": "markdown",
   "metadata": {
    "slideshow": {
     "slide_type": "fragment"
    },
    "tags": []
   },
   "source": [
    "È duque consigliabile effettuare prima un _**fork**_ del repo tramite l'interfaccia web del nostro provider Git. Questa operazione crea una copia del repo originale nel nostro account, rendendoci così proprietari di quella copia."
   ]
  },
  {
   "cell_type": "markdown",
   "metadata": {
    "slideshow": {
     "slide_type": "fragment"
    },
    "tags": []
   },
   "source": [
    "Successivamente possiamo poi _**clonare**_ in locale il fork appena creato, su cui abbiamo il premesso di scriviere."
   ]
  },
  {
   "cell_type": "markdown",
   "metadata": {
    "slideshow": {
     "slide_type": "notes"
    },
    "tags": []
   },
   "source": [
    "Possiamo ovviamente clonare in locale direttamente il repo originale, creare poi un repo rermoto vuoto di nostra proprietà e infine caricare su di esso il repo locale. In questo modo, non utilizzando l'opzione di fork, il nostro provider Git non identificherà automaticamente il nostro repo come un fork di quello originale. Anche se è possibile sistemare le cose in seguito, questo complica le operazioni in caso decidessimo di collaborare col progetto originale.\n",
    "\n",
    "Se lo desideriamo è infatti possibile proporre ai manutentori del progetto originale le modifiche che abbiamo apportato tramite una _**richiesta di pull**_ (_**pull request**_ o PR). Se i proprietari/collaboratori del progetto apprezzano le vostre modifiche, potrebbero inserirle nel repository originale. Se il nostro repo clonato risulta essere un fork dell'originale, il nostro provider Git ci semplificherà le operazioni di pull request."
   ]
  },
  {
   "cell_type": "markdown",
   "metadata": {
    "slideshow": {
     "slide_type": "subslide"
    },
    "tags": []
   },
   "source": [
    "#### Creare un *fork*"
   ]
  },
  {
   "cell_type": "markdown",
   "metadata": {
    "slideshow": {
     "slide_type": "fragment"
    },
    "tags": []
   },
   "source": [
    "Dato che usiamo GitHub come provider Git, per creare un fork, è necessario inanzitutto fare il login su GitHub. Aprite [questo repository di esempio](https://github.com/libgit2/libgit2) e fate clic su **Fork** nell'angolo in alto a destra della pagina."
   ]
  },
  {
   "cell_type": "markdown",
   "metadata": {
    "slideshow": {
     "slide_type": "subslide"
    },
    "tags": []
   },
   "source": [
    "Si aprirà una pagina che vi consente di:\n",
    "\n",
    "- Scegliere un nome per il repository. Lasiamo `libgit2`.\n",
    "- Decidere se copiare solo il branch principale (`main`) anziché l'intero repository (con tutti gli altri branch). Lasciamo spuntata l'opzione e copiamo solo il branch `main`.\n",
    "\n",
    "![github-fork.png](./imgs/git/github-fork.png)"
   ]
  },
  {
   "cell_type": "markdown",
   "metadata": {
    "slideshow": {
     "slide_type": "notes"
    },
    "tags": []
   },
   "source": [
    "Dopo che avrete confermato, verrete automaticamente reindirizzati al vostro fork del repository originale. Potete trovarlo anche nella pagina \"Your repositories\" (cliccate sul vostro profilo nell'angolo in alto a destra della pagina)."
   ]
  },
  {
   "cell_type": "markdown",
   "metadata": {
    "slideshow": {
     "slide_type": "subslide"
    },
    "tags": []
   },
   "source": [
    "Una volta effettuato il fork del [repository di esempio](https://github.com/libgit2/libgit2), dovremmo avere la seguente situazione:\n",
    "\n",
    "- https://github.com/libgit2/libgit2 che ospita il repository originale.\n",
    "- https://github.com/MyAccountName/libgit2 che ospita il nostro fork."
   ]
  },
  {
   "cell_type": "markdown",
   "metadata": {
    "slideshow": {
     "slide_type": "fragment"
    },
    "tags": []
   },
   "source": [
    "Un fork non è altro che un normale repository ospitato su GitHub, come quello originale."
   ]
  },
  {
   "cell_type": "markdown",
   "metadata": {
    "slideshow": {
     "slide_type": "fragment"
    },
    "tags": []
   },
   "source": [
    "Per mantenere aggiornato il vostro fork, potete usare la fuzione \"Sync\":\n",
    "\n",
    "![github-forked-repo.png](./imgs/git/github-forked-repo.png)"
   ]
  },
  {
   "cell_type": "markdown",
   "metadata": {
    "slideshow": {
     "slide_type": "subslide"
    },
    "tags": []
   },
   "source": [
    "D'ora in avanti la seguente esercitazione userà il repository fittizio `https://github.com/MyAccountName/libgit2.git`. Nauralmente dovrete sostituire \"`MyAccountName`\" con il nome del vostro account GitHub."
   ]
  },
  {
   "cell_type": "markdown",
   "metadata": {
    "slideshow": {
     "slide_type": "subslide"
    },
    "tags": []
   },
   "source": [
    "#### Flusso di lavoro con GitHub"
   ]
  },
  {
   "cell_type": "markdown",
   "metadata": {
    "slideshow": {
     "slide_type": "notes"
    },
    "tags": []
   },
   "source": [
    "L'approccio standard per lavorare con un progetto è dunque quello di avere una copia locale del repository e fare il commit delle modifiche su questa copia. Questo repository locale ha la cronologia completa delle versioni del progetto, che può essere utile quando si lavora senza una connessione a Internet. Dopo aver modificato qualcosa nel repository locale, si possono inviare le modifiche al repository remoto per renderle visibili agli altri sviluppatori."
   ]
  },
  {
   "cell_type": "markdown",
   "metadata": {
    "slideshow": {
     "slide_type": "notes"
    },
    "tags": []
   },
   "source": [
    "L'immagine seguente mostra il flusso di lavoro valido con un qualsiasi provider di hosting Git."
   ]
  },
  {
   "cell_type": "markdown",
   "metadata": {
    "slideshow": {
     "slide_type": "fragment"
    },
    "tags": []
   },
   "source": [
    "![lifecycle_local_remote.png](./imgs/git/lifecycle_local_remote.png)"
   ]
  },
  {
   "cell_type": "markdown",
   "metadata": {
    "slideshow": {
     "slide_type": "subslide"
    },
    "tags": []
   },
   "source": [
    "Osserviamko il blocco relativo al Git hosting provider. Ci sono due repository:\n",
    "\n",
    "- `upstream` è il repository originale del progetto che avete biforcato;\n",
    "- `origin` è il vostro ***fork*** (copia) su GitHub a cui avete pieno accesso."
   ]
  },
  {
   "cell_type": "markdown",
   "metadata": {
    "slideshow": {
     "slide_type": "fragment"
    },
    "tags": []
   },
   "source": [
    "Per implementare le modifiche dal vostro fork al repo originale del progetto, dovete fare una ***pull request*** come abbiamo detto in precedenza, ma questo è un argomento più avanzato che potrete approfondire per conto vostro, se e quando ne avrete la necessità."
   ]
  }
 ],
 "metadata": {
  "kernelspec": {
   "display_name": "Python 3 (ipykernel)",
   "language": "python",
   "name": "python3"
  },
  "language_info": {
   "codemirror_mode": {
    "name": "ipython",
    "version": 3
   },
   "file_extension": ".py",
   "mimetype": "text/x-python",
   "name": "python",
   "nbconvert_exporter": "python",
   "pygments_lexer": "ipython3",
   "version": "3.11.2"
  },
  "vscode": {
   "interpreter": {
    "hash": "e6f25737dda967aa6ad8da4764c832ec57727c0329acf0be14f62a51d35ee438"
   }
  }
 },
 "nbformat": 4,
 "nbformat_minor": 4
}
