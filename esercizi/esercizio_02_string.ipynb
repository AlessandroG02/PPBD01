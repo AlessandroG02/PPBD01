{
 "cells": [
  {
   "attachments": {},
   "cell_type": "markdown",
   "metadata": {},
   "source": [
    "# Esercizio - La ricetta della nonna\n",
    "\n",
    "Requisiti: stringhe, liste, if, for, import, \n",
    "\n",
    "La nonna ci ha dato la sua miracolosa ricetta della pasta olive acciughe \n",
    "e capperi.\n",
    "\n",
    "<u>Variante 1:</u> Dobbiamo andare a comprare tutti gli ingredienti che appaiono nella lista più di una volta.\n",
    "\n",
    "<u>Variante 2:</u> Dobbiamo andare a comprare gli ingredienti e dobbiamo capire quanti \"**cappero**\", \"**oliva**\" e \"**pepe**\" comprare. Di pasta e altri ingredienti ne abbiamo già in quantità, quindi non ci interessano.\n",
    "\n",
    "- **ATTENZIONE:** la nonna ha la sua età ed è sempre stata pasticciona e quindi la ricetta è scritta in modo non consistente, e le parole vanno *normalizzate*    \n",
    "- **SUGGERIMENTO**: c'è un comodo metodo delle stringhe per separare le parole...\n",
    "  \n",
    "Esempio - dati:\n",
    "\n",
    "```python\n",
    "ricetta = \"oliva\\t, pepe,cappero ,\\n detersivo,\\t \\n cappero, peperone, acciuga ,oliva , pepe\\t,\\t cappero , \\noliva,pasta\\n\"\n",
    "```\n",
    "\n",
    "stampa:\n",
    "\n",
    "```\n",
    "  Servono:\n",
    "     3 oliva\n",
    "     2 pepe\n",
    "     3 cappero\n",
    "``` "
   ]
  },
  {
   "cell_type": "code",
   "execution_count": 1,
   "metadata": {},
   "outputs": [
    {
     "ename": "SyntaxError",
     "evalue": "invalid syntax (2046108304.py, line 6)",
     "output_type": "error",
     "traceback": [
      "\u001b[1;36m  Cell \u001b[1;32mIn[1], line 6\u001b[1;36m\u001b[0m\n\u001b[1;33m    for key in report _spesa:\u001b[0m\n\u001b[1;37m                      ^\u001b[0m\n\u001b[1;31mSyntaxError\u001b[0m\u001b[1;31m:\u001b[0m invalid syntax\n"
     ]
    }
   ],
   "source": [
    "ricetta_orig = \"oliva\\t, pepe,cappero ,\\n detersivo,\\t \\n cappero, peperone, acciuga ,oliva , pepe\\t,\\t cappero , \\noliva,pasta\\n\"\n",
    "# ricetta = \"oliva\\t, pepe,cappero ,\\n dete\\nrsivo,\\t \\n cappero, peperone, acciuga ,oliva , pepe\\t,\\t cappero , \\noliva,pasta\\n\"\n",
    "# ricetta = \"cappone , pepe,\\noliva\\n,\\n\\tpepe, acciuga \"   #  1 oliva 2 pepe 0 cappero\n",
    "\n",
    "# scrivi qui\n",
    "for key in report _spesa:\n",
    "  if report_spesa[key]>1:\n",
    "    print(')\\t',report _spesa [key],key)"
   ]
  }
 ],
 "metadata": {
  "kernelspec": {
   "display_name": "Python 3",
   "language": "python",
   "name": "python3"
  },
  "language_info": {
   "codemirror_mode": {
    "name": "ipython",
    "version": 3
   },
   "file_extension": ".py",
   "mimetype": "text/x-python",
   "name": "python",
   "nbconvert_exporter": "python",
   "pygments_lexer": "ipython3",
   "version": "3.10.11"
  },
  "orig_nbformat": 4
 },
 "nbformat": 4,
 "nbformat_minor": 2
}
