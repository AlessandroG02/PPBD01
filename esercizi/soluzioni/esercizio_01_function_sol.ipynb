{
 "cells": [
  {
   "attachments": {},
   "cell_type": "markdown",
   "metadata": {},
   "source": [
    "### Esercizio - Convertitori di grandezze\n",
    "\n",
    "Convertire la temperatura da Fahrenheit a Celsius nella funzione sottostante. È possibile utilizzare questa formula:\n",
    "\n",
    "Arrotondare il risultato restituito a 3 cifre decimali.\n",
    "\n",
    "Non è necessario gestire l'input, basta implementare la funzione sottostante.\n",
    "\n",
    "Inoltre, assicurarsi che la funzione restituisca il valore. NON stampare nulla.\n",
    "\n",
    "$$ C° = (F° - 32)  \\times  \\frac{5}{9} $$"
   ]
  },
  {
   "cell_type": "code",
   "execution_count": 1,
   "metadata": {},
   "outputs": [
    {
     "data": {
      "text/plain": [
       "37.778"
      ]
     },
     "execution_count": 1,
     "metadata": {},
     "output_type": "execute_result"
    }
   ],
   "source": [
    "def fahrenheit_to_celsius(f):\n",
    "    return round((f - 32) * (5 / 9), 3)\n",
    "\n",
    "fahrenheit_to_celsius(100)"
   ]
  },
  {
   "attachments": {},
   "cell_type": "markdown",
   "metadata": {},
   "source": [
    "Passiamo al livello successivo della conversione di miglia in chilometri! Definite una funzione che accetti il numero di miglia e restituisca la distanza in chilometri.\n",
    "\n",
    "Supponiamo che un miglio sia approssimativamente uguale a 1,609 chilometri.\n",
    "\n",
    "Non è necessario gestire l'input, basta implementare la funzione."
   ]
  },
  {
   "cell_type": "code",
   "execution_count": 4,
   "metadata": {},
   "outputs": [
    {
     "name": "stdout",
     "output_type": "stream",
     "text": [
      "8.045\n"
     ]
    }
   ],
   "source": [
    "KM_PER_MILE = 1.609\n",
    "\n",
    "def mi_to_km(mi):\n",
    "    return mi * KM_PER_MILE\n",
    "\n",
    "result = mi_to_km(5)\n",
    "print(result)"
   ]
  },
  {
   "cell_type": "code",
   "execution_count": 13,
   "metadata": {},
   "outputs": [
    {
     "name": "stdout",
     "output_type": "stream",
     "text": [
      "160.9\n"
     ]
    }
   ],
   "source": [
    "KM_PER_MILE = 1.609\n",
    "\n",
    "def mi_to_km(mi):\n",
    "    return mi * KM_PER_MILE\n",
    "\n",
    "user_input = input('Inserire numero di miglia da convertire in chilometri:')\n",
    "result = mi_to_km(float(user_input))\n",
    "print(result)"
   ]
  },
  {
   "cell_type": "code",
   "execution_count": 14,
   "metadata": {},
   "outputs": [
    {
     "name": "stdout",
     "output_type": "stream",
     "text": [
      "161.7045\n"
     ]
    }
   ],
   "source": [
    "KM_PER_MILE = 1.609\n",
    "\n",
    "def mi_to_km():\n",
    "    mi = input('Inserire numero di miglia da convertire in chilometri:')\n",
    "    return float(mi) * KM_PER_MILE\n",
    "\n",
    "result = mi_to_km()\n",
    "print(result)"
   ]
  },
  {
   "attachments": {},
   "cell_type": "markdown",
   "metadata": {},
   "source": [
    "Proviamo ad aggiungere anche i *type hints*"
   ]
  },
  {
   "cell_type": "code",
   "execution_count": 15,
   "metadata": {},
   "outputs": [
    {
     "name": "stdout",
     "output_type": "stream",
     "text": [
      "Help on function mi_to_km in module __main__:\n",
      "\n",
      "mi_to_km(mi: float) -> float\n",
      "    Converts miles to kilometers\n",
      "    :param mi: number of miles\n",
      "    :type mi: int\n",
      "    :rtype: float\n",
      "\n"
     ]
    }
   ],
   "source": [
    "KM_PER_MILE = 1.609\n",
    "\n",
    "def mi_to_km(mi: float) -> float:\n",
    "    \"\"\"\n",
    "    Converts miles to kilometers\n",
    "    :param mi: number of miles\n",
    "    :type mi: float\n",
    "    :rtype: float\n",
    "    \"\"\"\n",
    "    return mi * KM_PER_MILE\n",
    "\n",
    "help(mi_to_km)"
   ]
  }
 ],
 "metadata": {
  "kernelspec": {
   "display_name": ".venv",
   "language": "python",
   "name": "python3"
  },
  "language_info": {
   "codemirror_mode": {
    "name": "ipython",
    "version": 3
   },
   "file_extension": ".py",
   "mimetype": "text/x-python",
   "name": "python",
   "nbconvert_exporter": "python",
   "pygments_lexer": "ipython3",
   "version": "3.10.0"
  },
  "orig_nbformat": 4
 },
 "nbformat": 4,
 "nbformat_minor": 2
}
