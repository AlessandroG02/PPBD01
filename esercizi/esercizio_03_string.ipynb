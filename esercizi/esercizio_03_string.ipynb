{
 "cells": [
  {
   "attachments": {},
   "cell_type": "markdown",
   "metadata": {},
   "source": [
    "## Esercizio - Censura al tiramisù\n",
    " \n",
    "Ci è stato inviato un testo illegale, immorale e che fa pure ingrassare. \n",
    "Per tutelare la pubblica salute abbiamo l'arduo compito di censurarlo e \n",
    "renderlo consono al buon costume.\n",
    " \n",
    "1) E' necessario sostituire OGNI occorrenza delle due parole malefiche con una  più salubre censura, trasformando il testo in modo che la print  di testo_censurato non contenga nessuna parola incriminata.\n",
    "\n",
    "Esempio:\n",
    "\n",
    "```python\n",
    "testo= \"Grazie all'uso di Cera Splendent tutto brilla!\"\n",
    "parola_malefica = \"splendent\"\n",
    "censura = \"******\"\n",
    "testo_censurato: \"Grazie all'uso di Cera ****** tutto brilla!\"\n",
    "```\n",
    "\n",
    "2) Per scrivere il nostro rapporto di censori dobbiamo rendere conto di quante parole abbiamo censurato. Stampare alla fine il numero (ovviamente in maniera automatica ), per esempio:\n",
    "\n",
    "```\n",
    "\"Censurata 1 parola\"\n",
    "```"
   ]
  },
  {
   "cell_type": "code",
   "execution_count": null,
   "metadata": {},
   "outputs": [],
   "source": []
  },
  {
   "cell_type": "code",
   "execution_count": null,
   "metadata": {},
   "outputs": [],
   "source": []
  },
  {
   "cell_type": "code",
   "execution_count": 27,
   "metadata": {},
   "outputs": [
    {
     "name": "stdout",
     "output_type": "stream",
     "text": [
      "Ed è proprio da questa portentosa crema che nasce la crema al mascarpone\n",
      "base del ******, prima classificata al premio Crema dell'Anno insieme\n",
      "alla ******. Il dolce italiano per eccellenza, quello più famoso e amato,\n",
      "ma soprattutto che ha dato vita a tantissime altre versioni, anche ****** senza uova!\n",
      "Poi il ****** alle fragole o quello alla ******, giusto per citarne un paio!\n",
      "Senza contare le rivisitazioni più raffinate come la crostata morbida o la torta al ******.\n",
      "\n",
      "6\n"
     ]
    },
    {
     "ename": "NameError",
     "evalue": "name 'contacensura' is not defined",
     "output_type": "error",
     "traceback": [
      "\u001b[1;31m---------------------------------------------------------------------------\u001b[0m",
      "\u001b[1;31mNameError\u001b[0m                                 Traceback (most recent call last)",
      "Cell \u001b[1;32mIn[27], line 31\u001b[0m\n\u001b[0;32m     29\u001b[0m     testocensurato \u001b[39m=\u001b[39m testocensurato\u001b[39m.\u001b[39mreplace(parola\u001b[39m.\u001b[39mtitle(), censura)\n\u001b[0;32m     30\u001b[0m contacensure \u001b[39m=\u001b[39m testocensurato\u001b[39m.\u001b[39mcount(censura)\n\u001b[1;32m---> 31\u001b[0m \u001b[39mif\u001b[39;00m contacensura \u001b[39m==\u001b[39m\u001b[39m1\u001b[39m:\n\u001b[0;32m     32\u001b[0m     msgpre \u001b[39m=\u001b[39m \u001b[39m'\u001b[39m\u001b[39mtrovata\u001b[39m\u001b[39m'\u001b[39m\n\u001b[0;32m     33\u001b[0m     msgpost \u001b[39m=\u001b[39m \u001b[39m'\u001b[39m\u001b[39mparola\u001b[39m\u001b[39m'\u001b[39m\n",
      "\u001b[1;31mNameError\u001b[0m: name 'contacensura' is not defined"
     ]
    }
   ],
   "source": [
    "testo = \"\"\"Ed è proprio da questa portentosa crema che nasce la crema al mascarpone\n",
    "base del tiramisù, prima classificata al premio Crema dell'Anno insieme\n",
    "alla nutella. Il dolce italiano per eccellenza, quello più famoso e amato,\n",
    "ma soprattutto che ha dato vita a tantissime altre versioni, anche tiramisù senza uova!\n",
    "Poi il Tiramisù alle fragole o quello alla Nutella, giusto per citarne un paio!\n",
    "Senza contare le rivisitazioni più raffinate come la crostata morbida o la torta al tiramisù.\n",
    "\"\"\"\n",
    "\n",
    "parola_malefica1 = \"Tiramisù\"\n",
    "parola_malefica2 = \"nutella\"\n",
    "\n",
    "censura = \"******\"\n",
    "\n",
    "\n",
    "testo_censurato = ''\n",
    "\n",
    "# 1° soluzione\n",
    "testolower = testo.replace('Tiramisù','tiramisù').replace('Nutella','nutella')\n",
    "testocensurato=testolower.replace('tiramisù','******').replace('nutella','******')\n",
    "print(testocensurato)\n",
    "print(testocensurato.count('******'))\n",
    "\n",
    "#2° \n",
    "paroledacens = ['Tiramisù', ' nutella'] \n",
    "testocensurato = testo\n",
    "censura = '***t**'\n",
    "for parola in paroledacens:\n",
    "    testocensurato = testocensurato.replace(parola.lower(), censura)\n",
    "    testocensurato = testocensurato.replace(parola.title(), censura)\n",
    "contacensure = testocensurato.count(censura)\n",
    "if contacensura ==1:\n",
    "    msgpre = 'trovata'\n",
    "    msgpost = 'parola'\n",
    "else:\n",
    "    msgpre = 'trovate'\n",
    "    msgpost = 'parole'\n",
    "print(msgpre, contacensure, msgpost)\n",
    "\n",
    "\n",
    "# 3°\n",
    "\n"
   ]
  }
 ],
 "metadata": {
  "kernelspec": {
   "display_name": "Python 3",
   "language": "python",
   "name": "python3"
  },
  "language_info": {
   "codemirror_mode": {
    "name": "ipython",
    "version": 3
   },
   "file_extension": ".py",
   "mimetype": "text/x-python",
   "name": "python",
   "nbconvert_exporter": "python",
   "pygments_lexer": "ipython3",
   "version": "3.10.0"
  },
  "orig_nbformat": 4
 },
 "nbformat": 4,
 "nbformat_minor": 2
}
