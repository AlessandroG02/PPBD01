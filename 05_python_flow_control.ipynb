{
 "cells": [
  {
   "cell_type": "markdown",
   "metadata": {},
   "source": [
    "# Dichiarare una funzione"
   ]
  },
  {
   "cell_type": "markdown",
   "metadata": {},
   "source": [
    "Spesso le funzioni integrate non sono sufficienti, nemmeno per i principianti.\n",
    "\n",
    "In questo caso, non c'è altra scelta se non quella di creare una propria funzione utilizzando la parola chiave `def` (che sta per *define*). Vediamo la sintassi:\n",
    "\n",
    "```python\n",
    "def function_name(parameter1, parameter2, ...):\n",
    "    # function's body\n",
    "    ...\n",
    "    return \"return value\"\n",
    "```"
   ]
  },
  {
   "cell_type": "markdown",
   "metadata": {},
   "source": [
    "Dopo `def`, scriviamo il nome della nostra funzione (in modo da poterla invocare in seguito) e i nomi dei parametri che la nostra funzione può accettare, racchiusi tra parentesi.\n",
    "\n",
    "Non perdete i due punti alla fine della riga.\n",
    "\n",
    "I nomi di una funzione e dei suoi parametri seguono la stessa convenzione dei nomi delle variabili, cioè vanno scritti in minuscolo con trattini bassi tra le parole.\n",
    "\n",
    "Un rientro di 4 spazi indica all'interprete dove inizia e dove finisce il corpo della funzione. Tutti gli enunciati del corpo della funzione devono essere rientrati. È possibile eseguire calcoli all'interno della funzione e utilizzare la parola chiave return per inviare il risultato. Solo quando l'indentazione è assente, la definizione della funzione termina.\n",
    "\n",
    "Successivamente, i parametri assumono i valori passati in una chiamata di funzione. I valori che passiamo a una funzione sono noti come **argomenti**. L'unica distinzione tra **parametri** e **argomenti** è che introduciamo i parametri in una definizione di funzione e forniamo gli argomenti (i valori specifici) in una chiamata di funzione. Ecco un esempio meno astratto di funzione:"
   ]
  },
  {
   "cell_type": "markdown",
   "metadata": {},
   "source": [
    "```python\n",
    "# Definizione della funzione\n",
    "def moltiplica(x, y):\n",
    "    return x * y\n",
    "\n",
    "\n",
    "# Chiamata di funzione\n",
    "a = moltiplica(3, 5)   # 15\n",
    "b = moltiplica(a, 10)  # 150\n",
    "```"
   ]
  },
  {
   "cell_type": "markdown",
   "metadata": {},
   "source": [
    "Nel caso in cui non si voglia passare alcun argomento, le parentesi tonde rimangono vuote:\n",
    "\n",
    "```python\n",
    "def welcome():\n",
    "    print(\"Ciao, gente!\")\n",
    "```\n",
    "\n",
    "È anche possibile dichiarare una sorta di funzione vuota con l'istruzione `pass` o `...` (*Ellipsis*):\n",
    "\n",
    "```python\n",
    "# Questa funzione non fa nulla\n",
    "def empty_func(param):\n",
    "    pass\n",
    "\n",
    "# Questa funzione non fa nulla, per ora\n",
    "def future_func(param):\n",
    "    ...\n",
    "```"
   ]
  },
  {
   "cell_type": "markdown",
   "metadata": {},
   "source": [
    "Quando si sceglie di chiamare una delle due precedenti funzioni con un valore arbitrario come argomento, non succederà nulla. Quindi `pass` è solo un segnaposto, ma almeno il codice sarà valido con esso."
   ]
  },
  {
   "cell_type": "markdown",
   "metadata": {},
   "source": [
    "## Parametri vs. argomenti"
   ]
  },
  {
   "cell_type": "markdown",
   "metadata": {},
   "source": [
    "Chiariamo meglio cosa sono i parametri. In realtà, i parametri sono solo degli alias per i valori che possono essere passati a una funzione. Si consideri il seguente esempio:\n",
    "\n",
    "```python\n",
    "def send_postcard(address, message):\n",
    "    print(\"Sending a postcard to\", address)\n",
    "    print(\"With the message:\", message)\n",
    "\n",
    "\n",
    "send_postcard(\"Hilton, 97\", \"Hello, bro!\")\n",
    "# Sending a postcard to Hilton, 97\n",
    "# With the message: Hello, bro!\n",
    "\n",
    "send_postcard(\"Piccadilly, London\", \"Hi, London!\")\n",
    "# Sending a postcard to Piccadilly, London\n",
    "# With the message: Hi, London!\n",
    "```"
   ]
  },
  {
   "cell_type": "markdown",
   "metadata": {},
   "source": [
    "Come si può vedere, questa funzione è un pezzo di codice riutilizzabile, che può essere eseguito con argomenti diversi, cioè con valori diversi passati a questa funzione. In questo caso, indirizzo e messaggio sono solo degli alias, con i quali la funzione riceve i valori e li elabora nel corpo.\n",
    "\n",
    "Questa funzione accetta esattamente 2 argomenti, quindi non sarà possibile eseguirla con più o meno di 2 argomenti:"
   ]
  },
  {
   "cell_type": "markdown",
   "metadata": {},
   "source": [
    "```python\n",
    "send_postcard(\"Big Ben, London\")\n",
    "\n",
    "TypeError: send_postcard() missing 1 required positional argument: 'message'\n",
    "```"
   ]
  },
  {
   "cell_type": "markdown",
   "metadata": {},
   "source": [
    "## Esecuzione e ritorno"
   ]
  },
  {
   "cell_type": "markdown",
   "metadata": {},
   "source": [
    "La nostra funzione precedente eseguiva solo alcune azioni, ma non aveva alcun valore di ritorno. Tuttavia, si potrebbe voler calcolare qualcosa in una funzione e restituire il risultato a un certo punto. Si veda l'esempio seguente:"
   ]
  },
  {
   "cell_type": "markdown",
   "metadata": {},
   "source": [
    "```python\n",
    "def celsius_to_fahrenheit(temps_c):\n",
    "    temps_f = temps_c * 9 / 5 + 32\n",
    "    return round(temps_f, 2)\n",
    "\n",
    "\n",
    "# Convert the boiling point of water\n",
    "water_bp = celsius_to_fahrenheit(100)\n",
    "print(water_bp)  # 212.0\n",
    "```"
   ]
  },
  {
   "cell_type": "markdown",
   "metadata": {},
   "source": [
    "La parola chiave return viene utilizzata per indicare i valori in uscita dalla funzione. In pratica, è il risultato della chiamata alla funzione. Quindi, nell'esempio precedente, abbiamo memorizzato il valore restituito dalla nostra funzione nella variabile water_bp. Per sicurezza, abbiamo stampato il risultato."
   ]
  },
  {
   "cell_type": "markdown",
   "metadata": {},
   "source": [
    "Un'altra cosa da dire è che le funzioni non hanno necessariamente dei valori di ritorno. La nota funzione print(), infatti, non restituisce nulla. Esaminate il codice qui sotto:"
   ]
  },
  {
   "cell_type": "markdown",
   "metadata": {},
   "source": [
    "```python\n",
    "chant = print(\"We Will Rock You\")\n",
    "print(chant)\n",
    "```"
   ]
  },
  {
   "cell_type": "markdown",
   "metadata": {},
   "source": [
    "E il suo risultato:\n",
    "\n",
    "```python\n",
    "We Will Rock You\n",
    "None\n",
    "```"
   ]
  },
  {
   "cell_type": "markdown",
   "metadata": {},
   "source": [
    "Abbiamo dichiarato la variabile chant e invocato print(). Ovviamente la funzione è stata eseguita. Ma la variabile stessa si è rivelata essere l'oggetto None, il che significa che la funzione chiamata non aveva nulla da restituire. Il valore di chant è None."
   ]
  },
  {
   "cell_type": "markdown",
   "metadata": {},
   "source": [
    "Python interpreter stops performing the function after return. But what if the function body contains more than one return statement? Then the execution will end after the first one. Please, keep that in mind!"
   ]
  },
  {
   "cell_type": "markdown",
   "metadata": {},
   "source": [
    "> L'interprete Python interrompe l'esecuzione della funzione dopo il ritorno. Ma cosa succede se il corpo della funzione contiene più di una dichiarazione di ritorno? Allora l'esecuzione terminerà dopo la prima. Tenetelo presente!"
   ]
  },
  {
   "cell_type": "markdown",
   "metadata": {},
   "source": [
    "## Riassumendo"
   ]
  },
  {
   "cell_type": "markdown",
   "metadata": {},
   "source": [
    "Abbiamo imparato la sintassi per la dichiarazione delle funzioni. Ora sappiamo che:\n",
    "\n",
    "- I parametri di una funzione sono semplicemente degli alias o dei segnaposto per i valori che gli verranno passati. I parametri vengono reinizializzati ogni volta che si chiama la funzione. All'interno della funzione, si ha accesso a questi valori, il che significa che è possibile eseguire calcoli su di essi."
   ]
  },
  {
   "cell_type": "markdown",
   "metadata": {},
   "source": [
    "- Una funzione può semplicemente eseguire un'azione senza restituire nulla o restituire un risultato specifico. Se la funzione non restituisce nulla, assegnando il risultato a una variabile o stampandolo si ottiene None."
   ]
  },
  {
   "cell_type": "markdown",
   "metadata": {},
   "source": [
    "Dichiarare le proprie funzioni rende il codice più strutturato e riutilizzabile. Ogni volta che utilizzate lo stesso pezzo di codice più di una volta, cercate di crearne una funzione!"
   ]
  }
 ],
 "metadata": {
  "kernelspec": {
   "display_name": "Python 3 (ipykernel)",
   "language": "python",
   "name": "python3"
  },
  "language_info": {
   "codemirror_mode": {
    "name": "ipython",
    "version": 3
   },
   "file_extension": ".py",
   "mimetype": "text/x-python",
   "name": "python",
   "nbconvert_exporter": "python",
   "pygments_lexer": "ipython3",
   "version": "3.11.2"
  }
 },
 "nbformat": 4,
 "nbformat_minor": 4
}
