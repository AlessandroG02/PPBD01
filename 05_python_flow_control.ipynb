{
 "cells": [
  {
   "cell_type": "markdown",
   "metadata": {},
   "source": [
    "# `<class 'function'>`\n",
    "\n",
    "Le funzioni possono essere definite direttamente all'interno del nostro programma o separatamente, in moduli o librerie che possono essere utilizzate (in Python, `import`) dal nostro programma.\n",
    "\n",
    "A seconda del linguaggio di programmazione e del contesto in cui ci troviamo, una *funzione* può essere chiamata *routine*, *sottoprogramma*, *subroutine*, *metodo* o *procedura*.\n",
    "\n",
    "Il termine più generico potebbe essere *callable unit* (unità invocabile).\n"
   ]
  },
  {
   "cell_type": "markdown",
   "metadata": {},
   "source": [
    "## Dichiarare una funzione"
   ]
  },
  {
   "attachments": {},
   "cell_type": "markdown",
   "metadata": {},
   "source": [
    "Spesso le funzioni built-in non sono sufficienti, nemmeno per un principiante.\n",
    "\n",
    "In questo caso, non c'è altra scelta se non quella di creare una propria funzione utilizzando la parola chiave `def` (che sta per *define*). Vediamo la sintassi:\n",
    "\n",
    "```python\n",
    "def function_name(parameter1, parameter2):\n",
    "    # function's body\n",
    "    ...\n",
    "    return \"return value\"\n",
    "```"
   ]
  },
  {
   "attachments": {},
   "cell_type": "markdown",
   "metadata": {},
   "source": [
    "```python\n",
    "def function_name(parameter1, parameter2):\n",
    "```\n",
    "Dopo `def`, scriviamo il nome della nostra funzione, in modo da poterla invocare in seguito.\n",
    "\n",
    "A seguire i nomi dei *parametri* che la nostra funzione può accettare, racchiusi tra parentesi tonde."
   ]
  },
  {
   "attachments": {},
   "cell_type": "markdown",
   "metadata": {},
   "source": [
    "ATTENZIONE: Non dimenticate i due punti `:` dopo le parentesi, alla fine della prima riga."
   ]
  },
  {
   "cell_type": "markdown",
   "metadata": {},
   "source": [
    "I nomi di una funzione e dei suoi parametri seguono la stessa convenzione dei nomi delle variabili, cioè vanno scritti in minuscolo con l'underscore `_` tra le parole."
   ]
  },
  {
   "attachments": {},
   "cell_type": "markdown",
   "metadata": {},
   "source": [
    "```python\n",
    "def function_name(parameter1, parameter2):\n",
    "    # INIZO corpo della funzione\n",
    "    print(\"Questo è un print eseguito all'interno della funzione.\")\n",
    "    result = parameter1 / parameter2\n",
    "    result *= 3.1415\n",
    "    return \"return value\"\n",
    "    # FINE corpo della funzione\n",
    "print(\"Questo è un print eseguito all'esterno della funzione.\")\n",
    "```\n",
    "\n",
    "Il corpo della funzione (*function body*) deve avere una indentazione (rientro) di 4 spazi. Ciò indica all'interprete dove inizia e dove finisce il codice che la funzione deve eseguire.\n",
    "\n",
    "La prima riga che rientra al livello di indentazione del nom dopo il blocco di codice indentato\n",
    "Quando l'indentazione viene Tutti gli enunciati del corpo della funzione devono essere rientrati.\n",
    "\n",
    "È possibile eseguire calcoli all'interno della funzione.\n",
    "\n",
    "Infine è possibile utilizzare la parola chiave `return` per restituire un qualche risultato.\n",
    "\n",
    "Solo quando l'indentazione è assente, la definizione della funzione termina."
   ]
  },
  {
   "attachments": {},
   "cell_type": "markdown",
   "metadata": {},
   "source": [
    "```python\n",
    "function_name(10, 40)\n",
    "```\n",
    "\n",
    "Successivamente, quando eseguiamo una *chiamata di funzione*, possiamo passare dei valori e i parametri della nostra funzione assumeranno quei valori.\n",
    "\n",
    "I valori che passiamo a una funzione sono noti come **argomenti**.\n",
    "\n",
    "L'unica distinzione tra **parametri** e **argomenti** è che:\n",
    "- introduciamo i parametri (`params`) in una *definizione di funzione*;\n",
    "- forniamo gli argomenti (`args`), ovvero i valori specifici, in una *chiamata di funzione*.\n",
    "\n",
    "Ecco un esempio meno astratto di funzione:"
   ]
  },
  {
   "attachments": {},
   "cell_type": "markdown",
   "metadata": {},
   "source": [
    "```python\n",
    "# Definizione della funzione\n",
    "def moltiplica(x, y):\n",
    "    return x * y\n",
    "\n",
    "# Chiamata di funzione\n",
    "a = moltiplica(3, 5)   # 15\n",
    "b = moltiplica(a, 10)  # 150\n",
    "```"
   ]
  },
  {
   "attachments": {},
   "cell_type": "markdown",
   "metadata": {},
   "source": [
    "Nel caso in cui non siano necessari parametri, le parentesi tonde rimangono vuote:\n",
    "\n",
    "```python\n",
    "# Definizione della funzione\n",
    "def welcome():\n",
    "    print(\"Ciao, gente!\")\n",
    "\n",
    "# Chiamata di funzione\n",
    "welcome()\n",
    "```\n",
    "\n",
    "## Funzione \"vuota\"\n",
    "\n",
    "Python non consente blocchi di codice vuoti. Che sia all'interno di una funzione\n",
    "\n",
    "(vedremo altri esempi più avanti anche con `if`, `for` o `while)`, di un `if` o di `for`, \n",
    "\n",
    "È anche possibile dichiarare una sorta di funzione vuota con l'istruzione `pass` o `...` (*Ellipsis*):\n",
    "\n",
    "```python\n",
    "# Questa funzione non fa nulla\n",
    "# (magari disponibile per eventuale override)\n",
    "def empty_func():\n",
    "    pass\n",
    "\n",
    "# Questa funzione non fa nulla, per ora\n",
    "# (in futuro è previsto che ci sarà qualcosa qua dentro)\n",
    "def future_func(param):\n",
    "    ...\n",
    "```"
   ]
  },
  {
   "cell_type": "markdown",
   "metadata": {},
   "source": [
    "Quando si sceglie di chiamare una delle due precedenti funzioni con un valore arbitrario come argomento, non succederà nulla. Quindi `pass` e `...` sono solo dei segnaposto, ma almeno in questo modo il codice sarà valido."
   ]
  },
  {
   "cell_type": "markdown",
   "metadata": {},
   "source": [
    "## Parametri vs. argomenti"
   ]
  },
  {
   "attachments": {},
   "cell_type": "markdown",
   "metadata": {},
   "source": [
    "In realtà, i parametri sono solo degli alias per i valori che possono essere passati a una funzione. Si consideri il seguente esempio:"
   ]
  },
  {
   "cell_type": "code",
   "execution_count": 39,
   "metadata": {},
   "outputs": [
    {
     "name": "stdout",
     "output_type": "stream",
     "text": [
      "Invio di una cartolina a Hilton, 97\n",
      "Con il messaggio: Ciao zio!\n",
      "-------------------\n",
      "Invio di una cartolina a Piccadilly, London\n",
      "Con il messaggio: Saluti da Torino!\n",
      "-------------------\n"
     ]
    }
   ],
   "source": [
    "def invia_cartolina(indirizzo, messaggio):\n",
    "    print('Invio di una cartolina a', indirizzo)\n",
    "    print('Con il messaggio:', messaggio)\n",
    "    print('-------------------')\n",
    "\n",
    "\n",
    "invia_cartolina('Hilton, 97', 'Ciao zio!')\n",
    "\n",
    "invia_cartolina('Piccadilly, London', 'Saluti da Torino!')"
   ]
  },
  {
   "attachments": {},
   "cell_type": "markdown",
   "metadata": {},
   "source": [
    "Come si può vedere, questa funzione è un pezzo di codice riutilizzabile, che può essere eseguito con argomenti diversi, cioè con valori diversi passati a questa funzione. In questo caso, `indirizzo` e `messaggio` sono solo degli alias, con i quali la funzione riceve i valori e li elabora nel corpo.\n",
    "\n",
    "> NOTA: I parametri vengono reinizializzati ogni volta che si chiama la funzione.\n",
    "\n",
    "Questa funzione accetta esattamente 2 argomenti, quindi non sarà possibile eseguirla con più o meno di 2 argomenti:\n"
   ]
  },
  {
   "attachments": {},
   "cell_type": "markdown",
   "metadata": {},
   "source": [
    "```python\n",
    "invia_cartolina('Musée du Louvre de Paris')\n",
    "\n",
    "TypeError: invia_cartolina() missing 1 required positional argument: 'messaggio'\n",
    "```"
   ]
  },
  {
   "cell_type": "markdown",
   "metadata": {},
   "source": [
    "## Esecuzione e ritorno"
   ]
  },
  {
   "cell_type": "markdown",
   "metadata": {},
   "source": [
    "La nostra funzione precedente eseguiva solo alcune azioni, ma non aveva alcun valore di ritorno. Tuttavia, si potrebbe voler calcolare qualcosa in una funzione e restituire il risultato a un certo punto. Si veda l'esempio seguente:"
   ]
  },
  {
   "cell_type": "code",
   "execution_count": 40,
   "metadata": {},
   "outputs": [
    {
     "name": "stdout",
     "output_type": "stream",
     "text": [
      "212.0\n"
     ]
    }
   ],
   "source": [
    "def celsius_to_fahrenheit(temp_c):\n",
    "    temp_f = temp_c * 9 / 5 + 32\n",
    "    return round(temp_f, 2)\n",
    "\n",
    "\n",
    "# Convertire il punto di ebollizione dell'acqua\n",
    "water_bp = celsius_to_fahrenheit(100)\n",
    "print(water_bp)"
   ]
  },
  {
   "attachments": {},
   "cell_type": "markdown",
   "metadata": {},
   "source": [
    "La parola chiave `return` viene utilizzata per indicare i valori in uscita dalla funzione. In pratica, è il risultato della chiamata alla funzione.\n",
    "\n",
    "Quindi, nell'esempio precedente, abbiamo memorizzato il valore restituito dalla nostra funzione nella variabile `water_bp`."
   ]
  },
  {
   "attachments": {},
   "cell_type": "markdown",
   "metadata": {},
   "source": [
    "Un'altra cosa da dire è che le funzioni non hanno necessariamente dei valori di ritorno. La nota funzione `print()`, infatti, non restituisce nulla.\n",
    "\n",
    "Esaminiamo il codice qui sotto e il suo risultato:"
   ]
  },
  {
   "cell_type": "code",
   "execution_count": 41,
   "metadata": {},
   "outputs": [
    {
     "name": "stdout",
     "output_type": "stream",
     "text": [
      "We Will Rock You\n",
      "None\n"
     ]
    }
   ],
   "source": [
    "chant = print(\"We Will Rock You\")\n",
    "print(chant)"
   ]
  },
  {
   "attachments": {},
   "cell_type": "markdown",
   "metadata": {},
   "source": [
    "Abbiamo dichiarato la variabile `chant` e invocato `print()`.\n",
    "\n",
    "Ovviamente la funzione è stata eseguita, ma alla variabile `chant` è stato assegnato l'oggetto `None`. Questo perché la funzione chiamata non ha restituito letteralmente nulla."
   ]
  },
  {
   "attachments": {},
   "cell_type": "markdown",
   "metadata": {},
   "source": [
    "> L'interprete Python interrompe l'esecuzione della funzione non appena trova un `return`. Ma cosa succede se il corpo della funzione contiene più di una dichiarazione di `return`? In questo caso l'eventuale restante codice non sarà eseguito. Tenetelo presente!"
   ]
  },
  {
   "cell_type": "code",
   "execution_count": null,
   "metadata": {},
   "outputs": [],
   "source": [
    "def multi_ritorno_inutile(param1, param2):\n",
    "    return param1 * param2\n",
    "    print('Questa stringa non verrà stampata')\n",
    "    return param1 / param2\n",
    "\n",
    "def multi_ritorno_esplicito(param1, param2):\n",
    "    if param2 == 0:\n",
    "        return\n",
    "    else:\n",
    "        return param1 / param2"
   ]
  },
  {
   "attachments": {},
   "cell_type": "markdown",
   "metadata": {},
   "source": [
    "## Ritorno multiplo\n",
    "\n",
    "È possibile restituire più valori in una sola volta, in questo modo:"
   ]
  },
  {
   "cell_type": "code",
   "execution_count": 43,
   "metadata": {},
   "outputs": [
    {
     "name": "stdout",
     "output_type": "stream",
     "text": [
      "20 40 80\n"
     ]
    }
   ],
   "source": [
    "def ritorno_massivo(param1):\n",
    "    a = param1 * 2\n",
    "    b = param1 * 4\n",
    "    c = param1 * 8\n",
    "    return a, b, c\n",
    "\n",
    "var1, var2, var3 = ritorno_massivo(10)\n",
    "\n",
    "print(var1, var2, var3)"
   ]
  },
  {
   "attachments": {},
   "cell_type": "markdown",
   "metadata": {},
   "source": [
    "> Notate che viene restituito un oggetto di tipo `tuple`."
   ]
  },
  {
   "attachments": {},
   "cell_type": "markdown",
   "metadata": {},
   "source": [
    "Se i valori da restituire sono molti, forse è meglio una struttura dati più comoda, per esempio un `dict`:"
   ]
  },
  {
   "cell_type": "code",
   "execution_count": 45,
   "metadata": {},
   "outputs": [
    {
     "name": "stdout",
     "output_type": "stream",
     "text": [
      "{'res1': 20, 'res2': 40, 'res3': 80, 'res4': 160, 'res5': 320}\n",
      "80\n"
     ]
    }
   ],
   "source": [
    "def ritorno_massivo(param1):\n",
    "    a = param1 * 2\n",
    "    b = param1 * 4\n",
    "    c = param1 * 8\n",
    "    d = param1 * 16\n",
    "    e = param1 * 32\n",
    "    return {\n",
    "        'res1': a,\n",
    "        'res2': b,\n",
    "        'res3': c,\n",
    "        'res4': d,\n",
    "        'res5': e,\n",
    "    }\n",
    "\n",
    "risulato = ritorno_massivo(10)\n",
    "\n",
    "print(risulato)\n",
    "print(risulato['res3'])"
   ]
  },
  {
   "cell_type": "markdown",
   "metadata": {},
   "source": [
    "## Riassumendo"
   ]
  },
  {
   "attachments": {},
   "cell_type": "markdown",
   "metadata": {},
   "source": [
    "Abbiamo imparato la sintassi per la dichiarazione delle funzioni. Ora sappiamo che:\n",
    "\n",
    "- I parametri di una funzione:\n",
    "    - sono semplicemente degli alias o dei segnaposto per i valori che gli verranno passati;\n",
    "    - vengono reinizializzati ogni volta che si chiama la funzione;\n",
    "    - sono disponibili nel corpo della funzione per eseguire i calcoli."
   ]
  },
  {
   "attachments": {},
   "cell_type": "markdown",
   "metadata": {},
   "source": [
    "- Una funzione può eseguire il proprio codice e:\n",
    "    - non restituire un risultato specifico. Se la funzione non restituisce nulla, assegnando il risultato a una variabile o stampandolo si ottiene `None`.\n",
    "    - restituire uno o più valori sotto forma di tupla o qualsiasi altro contenitore utile."
   ]
  },
  {
   "cell_type": "markdown",
   "metadata": {},
   "source": [
    "Dichiarare le proprie funzioni rende il codice più strutturato e riutilizzabile. Ogni volta che utilizzate lo stesso pezzo di codice più di una volta, cercate di crearne una funzione!"
   ]
  },
  {
   "attachments": {},
   "cell_type": "markdown",
   "metadata": {},
   "source": [
    "## Visibilità e accessibilità delle variabili (*scope*)"
   ]
  },
  {
   "attachments": {},
   "cell_type": "markdown",
   "metadata": {},
   "source": [
    "Nell'esempio che segue, se volessimo provare a modificare il valore di `a` all'interno delle funzioni, otterremo in un caso un errore e nell'altro un buco nell'acqua."
   ]
  },
  {
   "cell_type": "code",
   "execution_count": 7,
   "metadata": {},
   "outputs": [
    {
     "name": "stdout",
     "output_type": "stream",
     "text": [
      "Fuori prima: 3\n",
      "Dentro dopo: 5\n",
      "Fuori dopo: 3\n"
     ]
    }
   ],
   "source": [
    "a = 3\n",
    "print('Fuori prima:', a)\n",
    "\n",
    "def pippo_errato():\n",
    "    print('Dentro prima:', a)\n",
    "    a = 5\n",
    "    print('Dentro dopo:', a) # qua non ci arriva, si rompe prima!\n",
    "\n",
    "def pippo_inutile():\n",
    "    # qua non possiamo leggere la variabile a altrimenti sarebbe come pippo_errato()\n",
    "    a = 5\n",
    "    print('Dentro dopo:', a)\n",
    "\n",
    "# Commenta e decommenta alternativamente le due chiamate di funzione\n",
    "# per vedere il diverso comportamento\n",
    "\n",
    "# pippo_errato()\n",
    "pippo_inutile()\n",
    "\n",
    "print('Fuori dopo:', a)"
   ]
  },
  {
   "attachments": {},
   "cell_type": "markdown",
   "metadata": {},
   "source": [
    "Potremmo fare così, ma è sconsigliato se non espressamente necessario:"
   ]
  },
  {
   "cell_type": "code",
   "execution_count": 23,
   "metadata": {},
   "outputs": [
    {
     "name": "stdout",
     "output_type": "stream",
     "text": [
      "Fuori prima: 3\n",
      "Dentro prima: 3\n",
      "Dentro dopo: 5\n",
      "Fuori dopo: 5\n"
     ]
    }
   ],
   "source": [
    "a = 3\n",
    "print('Fuori prima:', a)\n",
    "\n",
    "def pippo_globalizzato():\n",
    "    global a # è come se importassimo la variabile \"a\" dallo strato esterno\n",
    "    print('Dentro prima:', a)\n",
    "    a = 5\n",
    "    print('Dentro dopo:', a)\n",
    "\n",
    "# Commenta e decommenta alternativamente le due chiamate di funzione\n",
    "# per vedere il diverso comportamento\n",
    "\n",
    "pippo_globalizzato()\n",
    "\n",
    "print('Fuori dopo:', a)"
   ]
  },
  {
   "attachments": {},
   "cell_type": "markdown",
   "metadata": {},
   "source": [
    "Fare questo è ancora più insidioso:"
   ]
  },
  {
   "cell_type": "code",
   "execution_count": 9,
   "metadata": {},
   "outputs": [
    {
     "name": "stdout",
     "output_type": "stream",
     "text": [
      "fantastico\n"
     ]
    }
   ],
   "source": [
    "def pippo_globalizzatore():\n",
    "  global new_var # è come se creassimo la variabile anche nello strato esterno\n",
    "  new_var = \"fantastico\"\n",
    "\n",
    "pippo_globalizzatore()\n",
    "print(new_var)"
   ]
  },
  {
   "attachments": {},
   "cell_type": "markdown",
   "metadata": {},
   "source": [
    "Tutti i casi precedenti sono sconsigliati. Se dovete modificare la nostra variabile `a`, fatelo in modo semplice ed esplicito:"
   ]
  },
  {
   "cell_type": "code",
   "execution_count": 11,
   "metadata": {},
   "outputs": [
    {
     "name": "stdout",
     "output_type": "stream",
     "text": [
      "Fuori prima: 3\n",
      "Fuori dopo: 5\n"
     ]
    }
   ],
   "source": [
    "a = 3\n",
    "print('Fuori prima:', a)\n",
    "\n",
    "def pippo_normale():\n",
    "    return 5\n",
    "\n",
    "a = pippo_normale()\n",
    "\n",
    "print('Fuori dopo:', a)"
   ]
  },
  {
   "attachments": {},
   "cell_type": "markdown",
   "metadata": {},
   "source": [
    "## Saper distinguere le funzioni\n",
    "\n",
    "Capire come possono comportarsi le funzioni, ci permette di:\n",
    "- usare al meglio le funzioni già disponibili;\n",
    "- scrivere le proprie funzioni in modo più consapevole.\n",
    "\n",
    "Puoi trovare 3 categorie di funzioni/procedure e naturalmente tutte le loro possibili combinazioni:"
   ]
  },
  {
   "cell_type": "markdown",
   "metadata": {},
   "source": [
    "1. Produce dei *SIDE EFFECTS* (effetti collaterali) che modificano l'ambiente di esecuzione in qualche modo. Ad esempio: \n",
    "    - stampare,\n",
    "    - richiedere input utente,\n",
    "    - modificare oggetti globali,\n",
    "    - leggere/scrivere sul filesystem (file e cartelle).\n"
   ]
  },
  {
   "attachments": {},
   "cell_type": "markdown",
   "metadata": {},
   "source": [
    "2. RESTITUISCE un risultato"
   ]
  },
  {
   "attachments": {},
   "cell_type": "markdown",
   "metadata": {},
   "source": [
    "3. MODIFICA gli argomenti ricevuti (l'input della funzione)"
   ]
  },
  {
   "attachments": {},
   "cell_type": "markdown",
   "metadata": {},
   "source": [
    "E naturalmente anche tutti i comportamenti risultanti da combinazioni dei precedenti. Ad esempio:\n",
    "- MODIFICA gli argomenti ricevuti e ne RESTITUISCE almeno uno (permette la concatenazione di chiamate, detto _chaining_)"
   ]
  },
  {
   "cell_type": "markdown",
   "metadata": {},
   "source": [
    "\n",
    "Proviamo ora a capire le differenze con diversi esempi."
   ]
  },
  {
   "attachments": {},
   "cell_type": "markdown",
   "metadata": {},
   "source": [
    "### SIDE EFFECTS\n",
    "\n",
    "Stampa, richiede input utente, modifica oggetti globali, legge/scrive sul filesystem.\n",
    "\n",
    "- NON modifica l'input.\n",
    "- NON restituisce niente.\n",
    "\n",
    "Esempio: "
   ]
  },
  {
   "cell_type": "code",
   "execution_count": 1,
   "metadata": {},
   "outputs": [
    {
     "name": "stdout",
     "output_type": "stream",
     "text": [
      "I primi due elementi sono 8 e 5\n"
     ]
    }
   ],
   "source": [
    "def informa_utente(lista):\n",
    "    \"\"\"STAMPA i primi due elementi della lista data\n",
    "    \"\"\"    \n",
    "    print('I primi due elementi sono', lista[0], 'e', lista[1])\n",
    "\n",
    "mia_lista = [8,5,6,2]\n",
    "\n",
    "informa_utente(mia_lista)"
   ]
  },
  {
   "attachments": {},
   "cell_type": "markdown",
   "metadata": {},
   "source": [
    "### RESTITUISCE\n",
    "\n",
    "RESTITUISCE qualche valore, come una NUOVA regione di memoria o un puntatore a una regione di memoria esistente, in accordo al testo della funzione\n",
    "\n",
    "- NON modifica l'input.\n",
    "\n",
    "Esempio:"
   ]
  },
  {
   "cell_type": "code",
   "execution_count": 42,
   "metadata": {},
   "outputs": [
    {
     "name": "stdout",
     "output_type": "stream",
     "text": [
      "Lista originale prima: [5, 2, 6, 3]\n",
      "Lista restituita: [10, 4, 12, 6]\n",
      "Lista originale dopo: [5, 2, 6, 3]\n",
      "Lista restituita + reverse: None\n"
     ]
    }
   ],
   "source": [
    "def crea_nuova_lista_raddoppiata(lista):\n",
    "    \"\"\"Restituisce una nuova lista i cui elementi vengono raddoppiati\n",
    "    \"\"\"    \n",
    "    res = []\n",
    "    for elem in lista:\n",
    "        res.append(elem * 2)\n",
    "    return res   \n",
    "\n",
    "mia_lista = [5,2,6,3]\n",
    "print('Lista originale prima:', mia_lista)\n",
    "\n",
    "risultato = crea_nuova_lista_raddoppiata(mia_lista)\n",
    "print(\"Lista restituita:\", risultato)\n",
    "print('Lista originale dopo:', mia_lista)\n",
    "\n",
    "# Non è possibile concatenare funzioni\n",
    "# risultato_reversed = crea_nuova_lista_raddoppiata(mia_lista).reverse()\n",
    "# print('Lista restituita + reverse:', risultato_reversed)\n"
   ]
  },
  {
   "attachments": {},
   "cell_type": "markdown",
   "metadata": {},
   "source": [
    "### MODIFICA\n",
    "\n",
    "MODIFICA l'input \"in-place\", ovvero cambia i dati dentro regioni di memoria esistenti (limitando il più possibile la creazione di regioni nuove).\n",
    "\n",
    "- NON ritorna niente!\n",
    "- NON crea nuove regioni di memoria accessibili dall'esterno della funzione.\n",
    "\n",
    "Esempio:"
   ]
  },
  {
   "cell_type": "code",
   "execution_count": 16,
   "metadata": {},
   "outputs": [
    {
     "name": "stdout",
     "output_type": "stream",
     "text": [
      "Lista originale prima: [5, 2, 6, 3]\n",
      "Lista originale dopo: [10, 4, 12, 6]\n"
     ]
    }
   ],
   "source": [
    "def raddoppia_lista(lista):\n",
    "    for i in range(len(lista)):\n",
    "        lista[i] = lista[i] * 2    \n",
    "    \n",
    "mia_lista = [5,2,6,3]\n",
    "print('Lista originale prima:', mia_lista)\n",
    "\n",
    "raddoppia_lista(mia_lista)\n",
    "print('Lista originale dopo:', mia_lista)"
   ]
  },
  {
   "attachments": {},
   "cell_type": "markdown",
   "metadata": {},
   "source": [
    "### Combinazioni: MODIFICA + RESTITUISCE\n",
    "\n",
    "MODIFICA l'input \"in-place\" e RESTITUISCE un puntatore all'input stesso\n",
    "\n",
    "- NON crea nuove regioni di memoria accessibili dall'esterno della funzione.\n",
    "\n",
    "Nota: permette così il concatenamento di chiamate \"in-place\" (detto *in-place chaining*)."
   ]
  },
  {
   "cell_type": "code",
   "execution_count": 31,
   "metadata": {},
   "outputs": [
    {
     "name": "stdout",
     "output_type": "stream",
     "text": [
      "Lista originale prima: [5, 2, 6, 3]\n",
      "None\n",
      "Lista originale dopo + reverse: [6, 12, 4, 10]\n"
     ]
    }
   ],
   "source": [
    "def raddoppia_lista_e_ritorna(lista):\n",
    "    for i in range(len(lista)):\n",
    "        lista[i] = lista[i] * 2  \n",
    "    return lista  # Se provi a commentare il return si genererà un errore!\n",
    "                  # perché si rientra nel caso precedente.\n",
    "    \n",
    "mia_lista = [5,2,6,3]\n",
    "print('Lista originale prima:', mia_lista)\n",
    "\n",
    "raddoppia_lista_e_ritorna(mia_lista).reverse()\n",
    "print('Lista originale dopo + reverse:', mia_lista)"
   ]
  }
 ],
 "metadata": {
  "kernelspec": {
   "display_name": "Python 3 (ipykernel)",
   "language": "python",
   "name": "python3"
  },
  "language_info": {
   "codemirror_mode": {
    "name": "ipython",
    "version": 3
   },
   "file_extension": ".py",
   "mimetype": "text/x-python",
   "name": "python",
   "nbconvert_exporter": "python",
   "pygments_lexer": "ipython3",
   "version": "3.11.2"
  }
 },
 "nbformat": 4,
 "nbformat_minor": 4
}
