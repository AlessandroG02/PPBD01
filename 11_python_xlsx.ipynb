{
 "cells": [
  {
   "attachments": {},
   "cell_type": "markdown",
   "metadata": {},
   "source": [
    "# Scrivere e creare file di Excel"
   ]
  },
  {
   "attachments": {},
   "cell_type": "markdown",
   "metadata": {},
   "source": [
    "Se stai seguendo questo corso, immagino che tu abbia già aperto un file di Excel. La maggior parte delle persone che fa lavori d'ufficio è probabile che ne apra parecchi ogni giorno. Questo perché è piuttosto facile da usare e può memorizzare molti dati in forma strutturata.\n",
    "\n",
    "Excel, e in generale tutti i software definiti come [\"fogli elettronici\" o \"fogli di calcolo](https://it.wikipedia.org/wiki/Foglio_elettronico)\" (in inglese *spreadsheet*) consentono di memorizzare dati tabellari, ovvero sotto forma di classiche tabelle, le cui celle sono individuabili dall'incrocio di una riga con una colonna. \n",
    "\n",
    "Avendo a disposizione una tabella, convenzionalmente gli utenti tendono a strutturare i dati nello stesso modo che abbiamo visto nei file CSV, ovvero una \"griglia\" (matrice) di dati in cui le righe rappresentano i \"record\", ovvero delle entità, e le colonne rappresentano delle proprietà di queste entità. In pratica in una cella viene memorizzata una specifica proprietà di una specifica entità.\n",
    "\n",
    "Purtroppo, a volte è difficile e logorante elaborare manualmente centinaia di dati, e soprattutto centinaia di file. Per questo, potremmo usare Python!\n",
    "\n",
    "Python non offre supporto per i file Excel nativamente nella libreria standard. Tuttavia esistono alcune librerie di terze parti. Con esse, è possibile creare e modificare i file Excel e in questo notebook vedremo le basi di un paio di queste librerie. Esistono anche altri strumenti per manipolare le tabelle di Excel; potete leggere di più in questa [pagina dedicata](https://www.python-excel.org/)."
   ]
  },
  {
   "attachments": {},
   "cell_type": "markdown",
   "metadata": {},
   "source": [
    "## Formati dei file"
   ]
  },
  {
   "attachments": {},
   "cell_type": "markdown",
   "metadata": {},
   "source": [
    "Per i file `.xlsx` (Excel 2007-oggi):\n",
    "\n",
    "- `openpyxl`: è il pacchetto più usato per leggere e scrivere file `.xlsx` utilizzando python. Ottimo per compilare i fogli di calcolo in modo \"lineare\", mantenendo il formato \"tabellare\". Se è necessario creare fogli con strutture più complesse e formattazioni, è preferibile preparare dei template che poi saranno compilati nelle parti interessate. Legge tutti i formati (`.xlsx/xlsm/xltx/xltm`).\n",
    "\n",
    "- `xlsxwriter`: un pacchetto alternativo per la lettura e la scrittura di file e la formattazione di file `.xlsx.`. È lo strumento giusto se vuoi creare da zero un file di Excel strutturato, anche in modo complesso, usando formattazioni speciali, formule e grafici.\n",
    "\n",
    "\n",
    "Per i file `.xls` (Excel 97-2003): \n",
    "\n",
    "- `xlrd`: lettura delle vecchie versioni di file Excel `.xls`.\n",
    "- `xlwt`: scrittura e formattazione delle vecchie versioni di file Excel `.xls`."
   ]
  },
  {
   "attachments": {},
   "cell_type": "markdown",
   "metadata": {},
   "source": [
    "## Nomenclatura Excel\n",
    "\n",
    "Seguendo la nomenclatura Microsoft, i fogli elettronici sono composti da:\n",
    "\n",
    "- Cartella di lavoro (*workbook*): è l'intero file, che può contenere più fogli.\n",
    "- Foglio di lavoro (*worksheet*): è un singolo foglio, contenuto nella cartella di lavoro.\n",
    "- Cella (*cell*): punto di incrocio tra una riga e una colonna all'interno di un Foglio di lavoro."
   ]
  },
  {
   "attachments": {},
   "cell_type": "markdown",
   "metadata": {},
   "source": [
    "## Spreadsheet softwares\n",
    "\n",
    "Prima di lavorare con Python su un foglio di calcolo dovresti conoscere <u>**molto bene**</u> Excel o qualunque altro software di questa categoria:\n",
    "\n",
    "- Microsoft Excel;\n",
    "- LibreOffice;\n",
    "- OpenOffice;\n",
    "- Google Fogli (Sheets)\n",
    "\n",
    "Se non sei ancora a livello \"molto bene\", sappi che devi innanzitutto saper fare le sequenti cose con un foglio di calcolo:\n",
    "\n",
    "COMPILAZIONE (immissione i dati):\n",
    "- compilare un'intera tabella usando solo la tastiera;\n",
    "- selezionare intervalli di celle, colonne, righe folgio completo;\n",
    "- copiare, tagliare, incollare:\n",
    "    - celle da altre porzioni di tabella e da altri file;\n",
    "    - fogli all'interno del file stesso e tra file diversi;\n",
    "- formattare le celle;\n",
    "    - aspetto del testo, font, dimensione, colore testo e sfondo...;\n",
    "    - formato dei dati (testo, numeri, date, valuta...);\n",
    "- inserire, rimuovere, tagliare, incollare righe e colonne;\n",
    "\n",
    "PROGRAMMAZIONE (logica dei calcoli):\n",
    "- scrivere riferimenti ad altre celle/intervalli e a celle/intervalli in altri fogli; \n",
    "- scrivere espressioni: scrivere formule e usare funzioni;\n",
    "- utilizzare la formattazione condizionale;\n",
    "\n",
    "> CHE BELLO!! Le macro, il linguaggio VBA o gli Office Script non ci servono! ABBIAMO PYTHON!!\n",
    "\n",
    "MANIPOLAZIONE DATI:\n",
    "- importare dati da CSV;\n",
    "- applicazione filtri automatici;\n",
    "    - applicazione filtro;\n",
    "    - applicazione ordinamento;\n",
    "- rimozione dei duplicati;\n",
    "- convalida dei dati;\n",
    "\n",
    "VISUALIZZAZIONE, STAMPA e ESPORTAZIONE:\n",
    "- gestire lo zoom;\n",
    "- gestione layout (normale, di pagina);\n",
    "- gestione stampa;\n",
    "    - area stampa;\n",
    "    - margini, intestazione, piè pagina;\n",
    "    - orientamento e adatta alla pagina;\n",
    "- esportazione in PDF;\n",
    "- esportare dati in CSV;\n"
   ]
  },
  {
   "attachments": {},
   "cell_type": "markdown",
   "metadata": {},
   "source": [
    "## Modulo `openpyxl`\n",
    "\n",
    "- [Sito ufficiale](https://openpyxl.readthedocs.io/en/stable/) della documentazione.\n",
    "- [Pagina su PyPi](https://pypi.org/project/openpyxl/) (Python Package Index).\n",
    "- [Repo Git](https://foss.heptapod.net/openpyxl/openpyxl).\n",
    "\n",
    "Poiché si tratta di una libreria esterna, bisogna per prima cosa installarla (meglio in un virtual enviroment):"
   ]
  },
  {
   "attachments": {},
   "cell_type": "markdown",
   "metadata": {},
   "source": [
    "```bash\n",
    "# MAC/LINUX:\n",
    "(my_venv) $ pip install openpyxl\n",
    "\n",
    "# WINDOWS:\n",
    "(my_venv) C:\\my_proj> pip install openpyxl\n",
    "```"
   ]
  },
  {
   "attachments": {},
   "cell_type": "markdown",
   "metadata": {},
   "source": [
    "\n",
    "Se sei su Windows, non hai creato un virtual environment (male!;) e devi usare il `py` launcher:\n",
    "\n",
    "```powershell\n",
    "C:\\my_proj> py -m pip install docxtpl\n",
    "```"
   ]
  },
  {
   "attachments": {},
   "cell_type": "markdown",
   "metadata": {},
   "source": [
    "## Nomenclatura `openpyxl`\n",
    "\n",
    "Seguendo la nomenclatura di `openpyxl`, i fogli elettronici sono composti da:\n",
    "\n",
    "- oggetto di tipo `Workbook`, la *cartella di lavoro*;\n",
    "- oggetto di tipo `Worksheet`, il *foglio di lavoro*;\n",
    "- oggetto di tipo `Cell`, la *cella*."
   ]
  },
  {
   "attachments": {},
   "cell_type": "markdown",
   "metadata": {},
   "source": [
    "### Creare un file\n",
    "\n",
    "Ora siamo pronti a lavorare con la libreria. Vediamo dunque il processo di creazione e salvataggio di un nuovo file Excel.\n",
    "\n",
    "Prima di tutto, dobbiamo importare la classe `Workbook`, la quale ci permette di creare oggetti che fungono da [*interfaccia*](https://it.wikipedia.org/wiki/Interfaccia_(informatica)#Interfaccia_nella_programmazione_orientata_agli_oggetti) tra il nostro codice e i documenti XLSX. In altre parole, gli oggetti di tipo `Workbook` sono oggetti equipaggiati con attributi, proprietà e metodi utili per manipolare i fogli di calcolo.\n",
    "\n",
    "Come seconda cosa, dobbiamo creare una nuova cartella di lavoro (*workbook*) e salvarla in una variabile. Per impostazione predefinita, `openpyxl` (esattamente come fa Excel) crea un workbook con un unico foglio di lavoro, vuoto. Possiamo quindi usare la proprietà `Workbook.active` per accedere al foglio attivo.\n",
    "\n",
    "In questo modo creiamo l'ambiente di lavoro che utilizzeremo successivamente."
   ]
  },
  {
   "attachments": {},
   "cell_type": "markdown",
   "metadata": {},
   "source": [
    "```python\n",
    "from openpyxl import Workbook    # importa la classe Workbook\n",
    "\n",
    "nuovo_book = Workbook()          # crea la cartella di lavoro\n",
    "nuovo_sheet = nuovo_book.active  # seleziona il foglio di lavoro attivo\n",
    "```"
   ]
  },
  {
   "attachments": {},
   "cell_type": "markdown",
   "metadata": {},
   "source": [
    "Dopo aver ottenuto la variabile che puntata al nostro nuovo foglio, possiamo iniziare a riempirlo di dati.\n",
    "\n",
    "Cominciamo con lo scrivere una semplice lista di parole. \n",
    "\n",
    "### Accedere a una cella\n",
    "\n",
    "Per scrivere un dato in una cella, come su Excel, dobbiamo prima selezionarla. Abbiamo due modi per farlo:\n",
    "\n",
    "- Tramite le sue coordinate \"classiche\" sotto forma di stringa. È come se il foglio fosse un enorme dizionario le cui chiavi sono le coordinate di ciascuna cella. Ad esempio:\n",
    "    - `nuovo_sheet['A1']`, in cui la lettera rappresenta la colonna e il numero la riga.\n",
    "\n",
    "*oppure*\n",
    "\n",
    "- Tramite il numero di riga e di colonna, passate come argomenti al metodo `Worksheet.cell()`. Ad esempio:\n",
    "    - `nuovo_sheet.cell(row=1, column=1)`.\n",
    "\n",
    "#### Modo statico\n",
    "Il primo modo, anche se a prima vista sembra intuitivo, in realtà è abbastanza inutile. Funziona bene se abbiamo un file di Excel già in parte \"preparato\" (come una sorta di template) e vogliamo scrivere/leggere in punti precisi del foglio che sono stabiliti a priori. In questo modo è comoda la notazione lettera-numero, perché rispetta quella usata da Excel. Es. `'A1' -> A` (column) `1` (row). Tuttavia siamo costretti a scrivere le \"coordinate\" in modo hard-coded nel codice perché, anche se possibile, è poco pratico comporre le stringhe delle chiavi (lettera-numero) in modo dinamico e automatico.\n",
    "\n",
    "#### Modo dinamico\n",
    "Dunque, se vogliamo automatizzare la compilazione di una tabella, il primo metodo si rivela problematico. Se dobbiamo scrivere i dati nelle celle, passando da una all'altra in modo sequenziale, useremo di probabilmente un ciclo `for`. In questo caso ci farebbero comodo degli indici numerici, uno per le righe e uno per le colonne. Il metodo `Worksheet.cell()` accetta esattamente due integer come argomenti. Es. `row=1` e `column=1`."
   ]
  },
  {
   "cell_type": "code",
   "execution_count": 6,
   "metadata": {},
   "outputs": [],
   "source": [
    "from openpyxl import Workbook\n",
    "\n",
    "nuovo_book = Workbook()\n",
    "nuovo_sheet = nuovo_book.active\n",
    "\n",
    "nuovo_sheet['A1'] = 'gatto'\n",
    "nuovo_sheet['A2'] = 'cane'\n",
    "nuovo_sheet['A3'] = 'pappagallo'\n",
    "nuovo_sheet['A4'] = 'criceto'\n",
    "\n",
    "nuovo_book.save('./files_esercizi/outputs/nuovo_file.xlsx')"
   ]
  },
  {
   "attachments": {},
   "cell_type": "markdown",
   "metadata": {},
   "source": [
    "C'è però un modo migliore inserire un valore: possiamo specificare esplicitamente il numero di riga e di colonna."
   ]
  },
  {
   "cell_type": "code",
   "execution_count": 3,
   "metadata": {},
   "outputs": [
    {
     "name": "stdout",
     "output_type": "stream",
     "text": [
      "<class 'openpyxl.cell.cell.Cell'>\n"
     ]
    }
   ],
   "source": [
    "nuovo_sheet.cell(row=5, column=1).value = 'furetto'\n",
    "nuovo_book.save('./files_esercizi/outputs/nuovo_file.xlsx')"
   ]
  },
  {
   "attachments": {},
   "cell_type": "markdown",
   "metadata": {},
   "source": [
    "Diamo un'occhiata ai nostri oggetti:"
   ]
  },
  {
   "cell_type": "code",
   "execution_count": 8,
   "metadata": {},
   "outputs": [
    {
     "name": "stdout",
     "output_type": "stream",
     "text": [
      "<class 'openpyxl.workbook.workbook.Workbook'>\n",
      "<class 'openpyxl.worksheet.worksheet.Worksheet'>\n",
      "<class 'openpyxl.cell.cell.Cell'>\n",
      "<class 'openpyxl.cell.cell.Cell'>\n"
     ]
    }
   ],
   "source": [
    "# Workbook\n",
    "print(type(nuovo_book))\n",
    "\n",
    "# Worksheet\n",
    "print(type(nuovo_sheet))\n",
    "\n",
    "# Cell\n",
    "print(type(nuovo_sheet['A1']))\n",
    "print(type(nuovo_sheet.cell(row=1, column=1)))"
   ]
  },
  {
   "attachments": {},
   "cell_type": "markdown",
   "metadata": {},
   "source": [
    "> ATTENZIONE: Righe e colonne vengono numerate a partire da `1` e non da zero `0`, come siamo abituati con le liste o altre sequenze."
   ]
  },
  {
   "attachments": {},
   "cell_type": "markdown",
   "metadata": {},
   "source": [
    "### Leggere un file\n",
    "\n",
    "Vediamo ora come leggere un file esistente. Avete pianificato le vacanze estive e invernali per tutti i vostri amici. Le vacanze estive sono descritte nel primo foglio e quelle invernali nel secondo. Il file Excel contiene le seguenti informazioni: nome, cognome, città, data di partenza, giorni di soggiorno.\n",
    "\n",
    "Lettura del file delle vacanze\n",
    "\n",
    "Prima di tutto, dobbiamo utilizzare la funzione `openpyxl.load_workbook()` per aprire il nostro file. Dopodiché, dobbiamo specificare il foglio da trattare. `\"Estate\"` è il nome del foglio che ci interessa."
   ]
  },
  {
   "cell_type": "code",
   "execution_count": 25,
   "metadata": {},
   "outputs": [],
   "source": [
    "import openpyxl\n",
    "\n",
    "workbook = openpyxl.load_workbook('./files_esercizi/Vacanze.xlsx')\n",
    "\n",
    "foglio_estate = workbook['Estate']"
   ]
  },
  {
   "attachments": {},
   "cell_type": "markdown",
   "metadata": {},
   "source": [
    "Se ci si è dimenticati il nome del foglio, ma ci si ricorda che è per esempio il primo, è possibile utilizzare il comando seguente per aprirlo. La seguente istruzione ci permette di aprire il foglio `Vacanze estive`, che è il primo:"
   ]
  },
  {
   "cell_type": "code",
   "execution_count": 26,
   "metadata": {},
   "outputs": [
    {
     "name": "stdout",
     "output_type": "stream",
     "text": [
      "['Estate', 'Inverno']\n"
     ]
    }
   ],
   "source": [
    "lista_nomi_fogli = workbook.sheetnames\n",
    "\n",
    "print(lista_nomi_fogli)\n",
    "\n",
    "foglio_estate = workbook[lista_nomi_fogli[0]]"
   ]
  },
  {
   "attachments": {},
   "cell_type": "markdown",
   "metadata": {},
   "source": [
    "`Workbook.sheetnames` restituisce tutti i nomi dei fogli di un file Excel in una lista. In seguito, sarà possibile accedervi facilmente utilizzando l'indice corrispondente.\n",
    "\n",
    "Ora stampiamo il nome e il cognome del primo amico e la città. Possiamo accedervi con l'attributo `value`."
   ]
  },
  {
   "cell_type": "code",
   "execution_count": 27,
   "metadata": {},
   "outputs": [
    {
     "name": "stdout",
     "output_type": "stream",
     "text": [
      "Luca\n",
      "Rossi\n",
      "Dubai\n"
     ]
    }
   ],
   "source": [
    "print(foglio_estate['A2'].value)\n",
    "print(foglio_estate['B2'].value)\n",
    "print(foglio_estate['C2'].value)"
   ]
  },
  {
   "attachments": {},
   "cell_type": "markdown",
   "metadata": {},
   "source": [
    "Se è necessario stampare alcune informazioni dal secondo foglio, è possibile accedervi allo stesso modo specificandone il nome:"
   ]
  },
  {
   "cell_type": "code",
   "execution_count": 28,
   "metadata": {},
   "outputs": [
    {
     "name": "stdout",
     "output_type": "stream",
     "text": [
      "Gianna\n",
      "Bianchi\n",
      "Il Cairo\n"
     ]
    }
   ],
   "source": [
    "foglio_inverno = workbook['Inverno']\n",
    "# foglio_inverno = workbook[workbook.sheetnames[1]]\n",
    "\n",
    "print(foglio_inverno['A3'].value)\n",
    "print(foglio_inverno['B3'].value)\n",
    "print(foglio_inverno['C3'].value)"
   ]
  },
  {
   "attachments": {},
   "cell_type": "markdown",
   "metadata": {},
   "source": [
    "### Scrivere su un file\n",
    "Continuiamo a lavorare con il nostro file. Vogliamo organizzare le vacanze per i nostri amici per la prossima primavera. Parliamo di Tom. Conosce la città che desidera visitare, ma non è sicuro della data. Possiamo creare un nuovo foglio e scrivere le informazioni su di lui:"
   ]
  },
  {
   "cell_type": "code",
   "execution_count": 30,
   "metadata": {},
   "outputs": [],
   "source": [
    "workbook.create_sheet(title='Primavera')\n",
    "foglio_primavera = workbook['Primavera']\n",
    "\n",
    "# Copio la riga di intestazione dal foglio \"Inverno\"\n",
    "foglio_primavera['A1'] = foglio_inverno['A1'].value\n",
    "foglio_primavera['B1'] = foglio_inverno['B1'].value\n",
    "foglio_primavera['C1'] = foglio_inverno['C1'].value\n",
    "foglio_primavera['D1'] = foglio_inverno['D1'].value\n",
    "foglio_primavera['E1'] = foglio_inverno['E1'].value\n",
    "\n",
    "# Inserisco i nuovi dati\n",
    "foglio_primavera['A2'] = 'Luca'\n",
    "foglio_primavera['B2'] = 'Rossi'\n",
    "foglio_primavera['C2'] = 'Praga'\n",
    "foglio_primavera['D2'] = 'Da confermare'\n",
    "foglio_primavera['E2'] = 7\n",
    "\n",
    "# Salvo il file su disco\n",
    "workbook.save(\"./files_esercizi/outputs/Vacanze_new.xlsx\")"
   ]
  },
  {
   "attachments": {},
   "cell_type": "markdown",
   "metadata": {},
   "source": [
    "`Workbook.create_sheet()` viene utilizzato per aggiungere un nuovo foglio. È possibile specificare il nome tra le parentesi. Dopodiché, possiamo aprire il foglio e scriverci le informazioni. Non dimenticate di salvare il file!\n",
    "\n",
    "Evviva! Il record è stato aggiunto con successo."
   ]
  },
  {
   "attachments": {},
   "cell_type": "markdown",
   "metadata": {},
   "source": [
    "### Filtrare le voci\n",
    "\n",
    "Gli esempi precedenti sono abbastanza facili da gestire. Ma cosa succede se un file Excel contiene migliaia di voci e dobbiamo mostrarne solo alcune? In questo caso, possiamo utilizzare le dichiarazioni `if` e i cicli `for`.\n",
    "\n",
    "Analizziamo un file che contiene informazioni sulle merci vendute: settore economico, Paese, numero di merci vendute, sconti e così via.\n",
    "\n",
    "\n",
    "Se è troppo difficile contare manualmente le righe e le colonne, si può usare sheet.max_row e sheet.max_column per sapere quante righe e colonne ci sono nel file:"
   ]
  },
  {
   "cell_type": "code",
   "execution_count": null,
   "metadata": {},
   "outputs": [],
   "source": [
    "workbook = openpyxl.load_workbook('sample-xls-file-for-testing.xlsx')\n",
    "\n",
    "sheet = workbook['Sheet1']\n",
    "\n",
    "rows = sheet.max_row\n",
    "cols = sheet.max_column\n",
    "print(rows)  # 701\n",
    "print(cols)  # 16"
   ]
  },
  {
   "attachments": {},
   "cell_type": "markdown",
   "metadata": {},
   "source": [
    "If we want to print all entries, we can do it like this:"
   ]
  },
  {
   "cell_type": "code",
   "execution_count": null,
   "metadata": {},
   "outputs": [],
   "source": [
    "for row in range(1, rows + 1):\n",
    "    string = ''\n",
    "    for column in range(1, cols + 1):\n",
    "        value = sheet.cell(row=row, column=column).value\n",
    "        string = string + str(value) + ', '\n",
    "    string = string[:-2]  # we remove the last appended comma and space\n",
    "    print(string)\n",
    "\n",
    "# Segment, Country, Product, Discount Band, Units Sold ... \n",
    "# Government, Canada, Carretera, None, 1618.5 ... \n",
    "# Government, Germany, Carretera, None, 1321 ...\n",
    "# ..."
   ]
  },
  {
   "attachments": {},
   "cell_type": "markdown",
   "metadata": {},
   "source": [
    "Possiamo definire il punto di partenza per il conteggio delle colonne e delle righe con range(). Possiamo creare un elenco di valori recuperati con l'aiuto di sheet.cell(). Esiste anche un modo per unire i valori separati da una virgola in una stringa.\n",
    "\n",
    "Facciamo un passo avanti e stampiamo solo le voci che contengono Germania:"
   ]
  },
  {
   "cell_type": "code",
   "execution_count": null,
   "metadata": {},
   "outputs": [],
   "source": [
    "for row in range(1, rows + 1):\n",
    "    string = ''\n",
    "    for column in range(1, cols + 1):\n",
    "        value = sheet.cell(row=row, column=column).value\n",
    "        string = string + str(value) + ', '\n",
    "    string = string[:-2]\n",
    "    check = sheet.cell(row=row, column=2)\n",
    "    check = str(check.value)\n",
    "    if check == 'Germany':\n",
    "        print(string)\n",
    "\n",
    "# Government, Germany, Carretera, None, 1321 ... \n",
    "# Midmarket, Germany, Carretera, None, 888 ...\n",
    "# Government, Germany, Carretera, None, 1513 ...\n",
    "# ..."
   ]
  },
  {
   "attachments": {},
   "cell_type": "markdown",
   "metadata": {},
   "source": [
    "Creiamo la variabile `check` in cui sarà riportato il nome di una città. Sappiamo che si tratta della seconda colonna. Per prima cosa, iteriamo su ogni riga e prendiamo in considerazione la seconda colonna. In secondo luogo, prendiamo il valore da una certa cella e lo trasformiamo in stringa. Se la nostra variabile è `'Germania'`, allora stamperemo la voce.\n",
    "\n",
    "È possibile fare lo stesso con altri valori nei file."
   ]
  },
  {
   "attachments": {},
   "cell_type": "markdown",
   "metadata": {},
   "source": [
    "### Ricapitolando\n",
    "\n",
    "Su lla libreria `openpyxl`, abbiamo visto:\n",
    "\n",
    "- come creare un file Excel;\n",
    "- come selezionare il foglio \"attivo\" con `Workbook.active`\n",
    "- come leggere e scrivere su file Excel;\n",
    "- come creare un semplice filtro per selezionare solo le informazioni che ci interessano.\n",
    "\n",
    "Se siete interessati ad approfondire le caratteristiche di questa libreria, potete dare un'occhiata alla sua [documentazione ufficiale](https://openpyxl.readthedocs.io/en/stable/)."
   ]
  },
  {
   "attachments": {},
   "cell_type": "markdown",
   "metadata": {},
   "source": [
    "## `xlsxwriter`"
   ]
  },
  {
   "attachments": {},
   "cell_type": "markdown",
   "metadata": {},
   "source": [
    "Provate a cercare, leggere la documentazione e poi ad usarlo con gli esempi precedenti."
   ]
  }
 ],
 "metadata": {
  "kernelspec": {
   "display_name": ".venv",
   "language": "python",
   "name": "python3"
  },
  "language_info": {
   "codemirror_mode": {
    "name": "ipython",
    "version": 3
   },
   "file_extension": ".py",
   "mimetype": "text/x-python",
   "name": "python",
   "nbconvert_exporter": "python",
   "pygments_lexer": "ipython3",
   "version": "3.11.2"
  },
  "orig_nbformat": 4
 },
 "nbformat": 4,
 "nbformat_minor": 2
}
