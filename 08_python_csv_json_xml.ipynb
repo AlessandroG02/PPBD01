{
 "cells": [
  {
   "attachments": {},
   "cell_type": "markdown",
   "metadata": {},
   "source": [
    "# CSV, JSON e XML\n",
    "\n",
    "Nel notebook precedente sui file abbiamo accennato ai tre formati pricipali per la serializzazione dei dati: CSV, JSON e XML.\n",
    "\n",
    "Prendiamo prima in dettaglio brevemente le loro caratteristiche principali e poi proviamo a vedere come leggerli e generarli in modo efficace.\n",
    "\n",
    "- [CSV](https://it.wikipedia.org/wiki/Comma-separated_values): Comma Separated Values (standard [RFC 4180)](https://www.rfc-editor.org/rfc/rfc4180)). \n",
    "- [JSON](https://it.wikipedia.org/wiki/JavaScript_Object_Notation): JavaScript Object Notation (standard [RFC 8259](https://www.rfc-editor.org/rfc/rfc8259)).\n",
    "- [XML](https://it.wikipedia.org/wiki/XML): eXtensible Markup Language (standard [by W3C](https://www.w3.org/TR/xml/) o SGML [ISO 8879](https://www.iso.org/standard/16387.html))."
   ]
  },
  {
   "attachments": {},
   "cell_type": "markdown",
   "metadata": {},
   "source": [
    "Se osserviamo l'andamento dell'uso dei termini CSV, XML e JSON nella letteratura utilizzando [Google Ngram Viewer](https://books.google.com/ngrams/graph?content=csv%2Cjson%2Cxml&year_start=1990&year_end=2019&corpus=en-2019&smoothing=2), il risultato è il seguente:\n",
    "\n",
    "![csv-json-xml_ngram.png](./imgs/serialization/csv-json-xml_ngram.png)\n",
    "\n"
   ]
  },
  {
   "attachments": {},
   "cell_type": "markdown",
   "metadata": {},
   "source": [
    "## CSV\n",
    "\n",
    "`.csv` è uno dei formati più vecchi e diffusi.\n",
    "\n",
    "CSV sta per *Comma-Separated Values*, ovvero \"valori separati da virgola\". Un file CSV consente di memorizzare i dati in un formato tabellare.\n",
    "\n",
    "Si tratta in realtà di un semplice file in cui ogni riga rappresenta solitamente una serie di dati che possiamo considerare come un insieme di *entry* o meglio, utilizzando un temine tipico dei database, un *record*.\n",
    "\n",
    "Ogni riga contiene poi più elementi separati da virgole, ovvero gli *attributi* del record.\n",
    "\n",
    "I dati in formato CSV possono essere facilmente importati in un foglio di calcolo (es. LibreOffice Calc o Excel) o in un database.\n",
    "\n",
    "I file CSV sono spesso utilizzati per lo scambio di dati tra software con formati interni diversi. Sono particolarmente utili nelle attività commerciali. In particolare, è possibile spostare i dati tra le implementazioni di diversi fornitori di fogli di calcolo, database e servizi web in generale."
   ]
  },
  {
   "attachments": {},
   "cell_type": "markdown",
   "metadata": {},
   "source": [
    "### Sintassi e struttura di base\n",
    "\n",
    "Un file CSV è composto dai seguenti elementi:\n",
    "\n",
    "- Riga di intestazione: una riga contenente i nomi delle colonne. È facoltativa, ma caldamente consigliata perché ci dice cosa sono i dati contenuti nel file.\n",
    "- Una o più righe contenenti i dati: ogni riga rappresenta una entità o \"record\" le cui proprietà sono elencate in serie, sulla riga stessa.\n",
    "- Un carattere separatore: usato per separare i dati su ciascuna riga. Di standard è il carattere virgola `,` (in inglese si dice _**comma**_).\n",
    "- Un carattere delimitatore di testo: usato per racchiudere valori ambigui (facoltativo). Di standard sono le virgolette `\"`.\n",
    "\n",
    "Vediamo un esempio di CSV:\n",
    "\n",
    "```csv\n",
    "blog title, date, author, file size\n",
    "Data Formats 101, 08-01-2017, Ben, 17kb\n",
    "```\n",
    "\n",
    "Questa scrittura deve essere interpretata così:\n",
    "\n",
    "| `blog title`       | `date`       | `author`    | `file size` |\n",
    "|--------------------|--------------|-------------|-------------|\n",
    "| `Data Formats 101` | `08-01-2017` | `Ben`       | `17kb`      |\n",
    "\n",
    "In realtà ne esistono molte varianti, in base al delimitatore che si vuole usare."
   ]
  },
  {
   "attachments": {},
   "cell_type": "markdown",
   "metadata": {},
   "source": [
    "Esiste l'espressione ombrello [_**Delimiter-Separated Values**_](https://en.wikipedia.org/wiki/Delimiter-separated_values) o DSV, che indica genericamente dei dati separati da un delimitatore. Ad esempio:\n",
    "- Tab (carattere di tabulazione) &rarr; TSV\n",
    "- Pipe (carattere `|`) &rarr; PSV\n",
    "\n",
    "Tuttavia i file vengono solitamente nominati con estensione `.csv` indipendentemente dal separatore usato!"
   ]
  },
  {
   "attachments": {},
   "cell_type": "markdown",
   "metadata": {},
   "source": [
    "#### In Italia - punto e virgola `;`\n",
    "\n",
    "In Italia e nei paesi di lingua romanza si tende ad usare il punto e virgola `;` anziché la virgola come separatore.\n",
    "\n",
    "> NOTA: Se il sistema operativo (Windows o macOS) sono impostati con la localizzazione italiana se si prova ad aprire un CSV con valori separati da virgole `,` anziché da punto e virgola `;` con Excel non si otterà il risultato sperato. È necessario andare su `Dati > Importa dati esterni > Importa da file di testo` e poi seguire la procedura guidata (wizard) per l'importazione e selezionare la virgola come separatore."
   ]
  },
  {
   "attachments": {},
   "cell_type": "markdown",
   "metadata": {},
   "source": [
    "### Inserimento di caratteri \"speciali\" nel testo dei dati\n",
    "\n",
    "In caso all'interno di un valore dovesse essere usato il carattere separatore è necessario ricorrere all'uso di un delimitatore di testo.\n",
    "\n",
    "E se il delimitatore di testo viene usato all'interno del testo, questo va raddoppiato.\n",
    "\n",
    "Per esempio:\n",
    "\n",
    "```csv\n",
    "blog title, date, author, file size\n",
    "Data Formats 101, 08-01-2017, Ben, 17kb\n",
    "\"Hello, Python!\", 23-04-2015, John \"\"Big Boy\"\" McCoy, 49kb\n",
    "```\n",
    "\n",
    "| `blog title`       | `date`       | `author`               | `file size` |\n",
    "|--------------------|--------------|------------------------|-------------|\n",
    "| `Data Formats 101` | `08-01-2017` | `Ben`                  | `17kb`      |\n",
    "| `Hello, Python!`   | `23-04-2015` | `John \"Big Boy\" McCoy` | `49kb`      |\n",
    "\n",
    "Fin qua sembra abbastanza semplice..."
   ]
  },
  {
   "attachments": {},
   "cell_type": "markdown",
   "metadata": {},
   "source": [
    "#### Ma se...\n",
    "\n",
    "Ma se bisogna scrivere sia il separatore che il delimitatore?\n",
    "\n",
    "| Valore effettivo      | Valore in CSV             |\n",
    "|:---------------------:|:-------------------------:|\n",
    "| `regular_value` | `regular_value` |\n",
    "| `Fresh, brown \"eggs\"` | `\"Fresh, brown \"\"eggs\"\"\"` |\n",
    "| `\"` | `\"\"\"\"` |\n",
    "| `\",\"` | `\"\"\",\"\"\"` |\n",
    "| `,,,\"` | `\",,,\"\"\"` |\n",
    "| `,\"\",` | `\",\"\"\"\",\"` |\n",
    "| `\"\"\"` | `\"\"\"\"\"\"\"\"` |\n",
    "\n",
    "Altri esempi [su Wikipedia](https://en.wikipedia.org/wiki/Comma-separated_values#Example)."
   ]
  },
  {
   "attachments": {},
   "cell_type": "markdown",
   "metadata": {},
   "source": [
    "Per fortuna Python ha degli strumenti che si occupano loro di gestire gran parte delle casistiche sia in lettura che in scrittura, quindi questi esempi ci servono solo a capire che, se apriamo manualmente e leggiamo un file CSV, a volte potremmo trovarci di fronte a sintassi un po' strane, ma queste servono solo a gestire questi casi speciali."
   ]
  },
  {
   "attachments": {},
   "cell_type": "markdown",
   "metadata": {},
   "source": [
    "### Pro e contro del CSV\n",
    "\n",
    "Pro:\n",
    "\n",
    "- Sono facilmente importabili su un foglio di calcolo standard (Excel, LibreOffice Calc ecc.)\n",
    "- Forniscono uno schema di informazioni semplice da creare e analizzare.\n",
    "- Sono molto compatti.\n",
    "\n",
    "Contro:\n",
    "\n",
    "- Quando i dati in ciascuna colonna hanno dimensioni molto diverse, si perde l'allineamento delle colonne e diventa difficile leggere i file CSV come testo semplice.\n",
    "- Un file CSV può contenere una sola \"tabella\".\n",
    "- Non c'è distinzione tra testo e valori numerici. Bisogna inoltre prestare particolare attenzione ai valori float e al loro separatore dei decimali (`.` contro `,`) quando leggiamo i dati perché questo dipende da quale separatore dei dati è stato usato usato (e viceversa). Insomma, è facile sbagliare!\n",
    "- Non esiste un modo standard per rappresentare i dati binari.\n",
    "- Problemi con la distinzione tra valori nulli e stringhe vuote.\n",
    "- Le sequenze di escape non sono proprio intuitive."
   ]
  },
  {
   "attachments": {},
   "cell_type": "markdown",
   "metadata": {},
   "source": [
    "## JSON\n",
    "\n",
    "JSON sta per \"JavaScript Object Notation\". Deriva dal linguaggio [JavaScript](https://it.wikipedia.org/wiki/JavaScript), ma è considerato indipendente dal linguaggio: funziona con quasi tutti i linguaggi di programmazione.\n",
    "\n",
    "`.json` è un formato che utilizza una struttura dati molto simile a un dizionario Python, ma con alcune differenze, che vedremo più avanti.\n",
    "\n",
    "```json\n",
    "{ \"blog title\": \"Data Formats 101\", \"date\": \"08-01-2017\", \"author\": \"ben\", \"file size\": \"17kb\" }\n",
    "```\n",
    "Con il formato JSON possimo creare anche annidare i dati, crando così anche strutture più complesse:\n",
    "\n",
    "```json\n",
    "{ \"blog title\": \"Data Formats 101\", \"date\": \"08-01-2017\", \"author\": \"ben\", \"file size\": \"17kb\", \"sections\": { \"Section_1\": \"JSON\", \"Section_2\": \"XML\", \"Section_3\": \"CSV\", \"Section_4\": \"TSV\" }, \"publication_channels\" : [\"medium\", \"twitter\", \"facebook\", \"linkedin\"] }\n",
    "```"
   ]
  },
  {
   "attachments": {},
   "cell_type": "markdown",
   "metadata": {},
   "source": [
    "[Link alla versione \"beautified/prettyfied\"](https://prettier.io/playground/#N4Igxg9gdgLgprEAuEwAEAdEAjANhAczRgEsZc4slMQARAQxnrQDEIAnAW0YGc0BGAAz8sAGhoATRpWQ1BADgC0wxQCZhAdjE16AVxgALDlRrYE2rADMSFNDxIAvGdSz8NAa2wWQPOGFLQPCboWADKfgFQAPoislgAUqEA8gBy3uH+JNBRqiZYABoAsgAy6RFZ0QDMeSAAwqEAamWZ2QAsNQAqjVhoAL7iWAAOungkYIwVUWAG9FBQcLhBIGjUANpYnHASJLqc3jAA7mTw7N6W9GBw2BAQ7t64JFDuW49YALp9IKIgEIORPMhQPR2OwIAcAArAhAAlD0XAHegATwB32w7AuzxgoXom2KjzgyHOizgqPRYExoUGF0eBGQMHYuhJIDgnDMEgkW2KswIunoBDgbC4jFIUFpsP0EC+IAMME4uAA6gYyHAeFTLuEoPZSAA3MiI5DgHgokCPXzsGDg9EEbiEuG+b4AKx4AA9QjSKABFXQQeC24nfKnsM0Gp3QKWDdiPGDykgSQzIeSCAOg3zy9GDA0RlVwdjagnfACO3vglt+MJA9B4inmWy2UvYcCLJAblr5NqQRPtPhZJDpDKZ9lFFAAgjB6SRsPo4OCc3j5n6u4OCJ7iwSO3amUxsDG4wZkK1vvT6DYabUIJx28yeABWKW6XwdejYGGdpnaxkASSgHNgoTAkb+Ydv1CGBEQoBc4F6XogA)."
   ]
  },
  {
   "attachments": {},
   "cell_type": "markdown",
   "metadata": {},
   "source": [
    "Grazie alla sintassi leggera di JSON, è possibile memorizzare e inviare facilmente ad altre applicazioni qualsiasi cosa, da numeri e stringhe ad array e oggetti. È anche possibile creare strutture di dati più complesse collegando nidificando oggetti e array."
   ]
  },
  {
   "attachments": {},
   "cell_type": "markdown",
   "metadata": {},
   "source": [
    "### Sintassi e struttura di base\n",
    "\n",
    "Il testo JSON sopporta due strutture di base:\n",
    "\n",
    "- oggetto `{ }`: un insieme di coppie `chiave:valore` separate da virgola (anche detto \"array associativo\" o \"dizionario\");\n",
    "- array `[ ]`: un insieme ordinato di valori separati da virgola (anche detto \"lista\").\n",
    "\n",
    "> NOTA: JSON non supporta nativamente i commenti.\n",
    ">\n",
    "> Se ti interessa saperene di più, è stato proposto un formato `jsonc` che supporta commenti come in Javascipt (`//` o `/* ... */`). La sua [implementazione \"più ufficiale\"](https://github.com/microsoft/node-jsonc-parser) è scritta in JavaScript per *node.js* ed è sviluppata da Microsoft ma ci sono già alcune implementazioni per Python facilmente reperibili su PyPi e/o GitHub."
   ]
  },
  {
   "attachments": {},
   "cell_type": "markdown",
   "metadata": {},
   "source": [
    "#### [JSON.ORG](https://www.json.org/)"
   ]
  },
  {
   "attachments": {},
   "cell_type": "markdown",
   "metadata": {},
   "source": [
    "#### Oggetti\n",
    "\n",
    "Gli oggetti JSON sono scritti tra parentesi graffe `{}` e le loro coppie `chiave:valore` sono separate da una virgola `,`. La chiave e il valore della coppia sono separati da due punti `:`. Ecco un esempio:\n",
    "\n",
    "```json\n",
    "{\n",
    "    \"first_name\": \"Sophie\",\n",
    "    \"last_name\": \"Goodwin\",\n",
    "    \"age\": 34\n",
    "}\n",
    "```\n",
    "\n",
    "Qui si possono vedere i dati di alcuni utenti in formato JSON.\n",
    "\n",
    "Le chiavi di un oggetto sono sempre stringhe, mentre i valori possono essere di sette tipi diversi, compresi altri oggetti o array.\n",
    "\n",
    "Si noti che non è necessario mettere una virgola (`,`) dopo l'ultima coppia `chiave:valore`."
   ]
  },
  {
   "attachments": {},
   "cell_type": "markdown",
   "metadata": {},
   "source": [
    "#### Array\n",
    "\n",
    "Gli array sono scritti tra parentesi quadre `[]` e i loro valori sono separati da una virgola `,`. Il valore dell'array, ancora una volta, può essere di qualsiasi tipo, compreso un altro array o un oggetto. Ecco un esempio di array:\n",
    "\n",
    "```json\n",
    "[\"night\", \"street\", false, [ 345, 23, 8, \"juice\"], \"fruit\", {\"name\": \"Pippo\", \"age\": 65}]\n",
    "```\n",
    "\n",
    "Il più delle volte, un array include elementi simili, ma non è obbligatorio, come vediamo nell'esepio.\n"
   ]
  },
  {
   "attachments": {},
   "cell_type": "markdown",
   "metadata": {},
   "source": [
    "### Oggetti annidati\n",
    "\n",
    "JSON è un formato molto flessibile. È possibile annidare oggetti e array all'interno di altri oggetti e array creando strutture ad albero:\n",
    "\n",
    "```json\n",
    "{\n",
    "  \"persons\": [\n",
    "    {\n",
    "      \"firstName\": \"Whitney\",\n",
    "      \"lastName\": \"Byrd\",\n",
    "      \"age\": 20\n",
    "    },\n",
    "    {\n",
    "      \"firstName\": \"Eugene\",\n",
    "      \"lastName\": \"Lang\",\n",
    "      \"age\": 26\n",
    "    },\n",
    "    {\n",
    "      \"firstName\": \"Sophie\",\n",
    "      \"lastName\": \"Goodwin\",\n",
    "      \"age\": 34,\n",
    "      \"book_ids\": [456, 567, 34, 64, 98]\n",
    "    }\n",
    "  ]\n",
    "}\n",
    "```\n",
    "\n",
    "Gli oggetti annidati sono completamente indipendenti e possono avere proprietà diverse (vedi `book_ids` nell'esempio). In pratica però, questi oggetti si assomigliano spesso perché di solito gli \"oggetti fratelli\" dovrebbero avere le stesse caratteristiche."
   ]
  },
  {
   "attachments": {},
   "cell_type": "markdown",
   "metadata": {},
   "source": [
    "### camelCase VS snake_case\n",
    "\n",
    "Se avete letto con attenzione gli esempi di oggetti JSON, potresti esserti posto questa domanda: quale stile di scrittura delle parole composte si dovrebbe usare per JSON?\n",
    "\n",
    "- _**CamelCase**_ è uno stile in cui le parole composte sono scritte insieme e senza spazi, ma ogni parola all'interno della frase inizia con una lettera maiuscola. Lo stile si chiama \"camelCase\" perché le lettere maiuscole all'interno della parola assomigliano alle gobbe di un cammello.\n",
    "- _**snake_case**_ è uno stile dove le parole sono unite tra loro con l'underscore `_`.\n",
    "\n",
    "In realtà, la scelta della giusta convenzione di denominazione JSON dipende direttamente dal linguaggio di programmazione e dalle librerie che utilizzate. È possibile utilizzare sia *camelCase* che *snake_case*, qualsiasi scelta sarà valida, ma è sconsigliato mischiare gli stili all'interno dello stesso file o base di dati.\n",
    "\n"
   ]
  },
  {
   "attachments": {},
   "cell_type": "markdown",
   "metadata": {},
   "source": [
    "### Inserimento di caratteri \"speciali\" nel testo dei dati\n",
    "\n",
    "Se dobbiamo inserire delle virgolette `\"` o un backslash `\\` all'interno dei dati dobbiamo prima inserire il carattere di escape `\\`:\n",
    "\n",
    "| Valore effettivo | Valore in JSON |\n",
    "|:----------------:|:--------------:|\n",
    "| `\"`              | `\\\"`           |\n",
    "| `\\`              | `\\\\`           |\n",
    "| `\\\"`             | `\\\\\\\"`         |"
   ]
  },
  {
   "attachments": {},
   "cell_type": "markdown",
   "metadata": {},
   "source": [
    "### File JSON\n",
    "\n",
    "Secondo le specifiche tecniche, un file JSON deve contenere un solo unico oggetto o array, il quale contiene tutti gli altri. In altre parole, ci può essere un solo oggetto o array a livello di \"root\".\n",
    "\n",
    "Questo va molto bene se il nostro file è di piccole dimensioni, tuttavia diventa problematico gestire un file molto grande, perché questo deve essere caricato in memoria completamente. Anche se ci serve un solo record all'interno di un array, dobbiamo caricare in memoria l'intero oggetto, perché non c'è modo di leggere un oggetto alla volta a livello di file.\n",
    "\n",
    "Le soluzioni sono due:\n",
    "\n",
    "- inviare più file, conformi allo standard, ciascuno con un solo oggetto JSON;\n",
    "- inviare un solo file, ma con più oggetti concatenati tra loro, violando però così lo standard JSON.\n",
    "\n",
    "Questa seconda soluzione è spesso necessaria per ragioni tecnico-pratiche che sarebbero un po' complicate da spiegare in questa sede, sappi solo che potrebbe capitarti di trovarti di fronte a un file JSON non conforme. "
   ]
  },
  {
   "attachments": {},
   "cell_type": "markdown",
   "metadata": {},
   "source": [
    "### Streaming JSON\n",
    "\n",
    "Abbiamo già detto che JSON è un formato molto diffuso per lo scambio di dati strutturati tra sistemi connessi in rete.\n",
    "\n",
    "Spesso è necessario e/o più conveniente inviare uno stream di oggetti JSON su un'unica connessione TCP, come ad esempio un indice di borsa o i record del log di un'applicazione. In questi casi è necessario identificare dove finisce un oggetto codificato in JSON e dove inizia il successivo. Tecnicamente questo è noto come framing.\n",
    "\n",
    "Con [*streaming JSON*](https://en.wikipedia.org/wiki/JSON_streaming) si intende un'insieme di tecniche e protocolli di comunicazione per separare/delimitare gli oggetti JSON costruiti utilizzando protocolli di basso livello orientati allo streaming (come il TCP), che assicurano il riconoscimento dei singoli oggetti JSON (ovviamente il server e i client devono utilizzare lo stesso protocollo). Questo è necessario perché JSON è un protocollo \"non concatenativo\" (la concatenazione di due oggetti JSON non produce un oggetto JSON valido).\n",
    "\n",
    "Ad oggi sono emerse tre tecniche per poter iterare un oggetto JSON alla volta, senza dover necessariamente leggere prima l'intero file, né senza dover aspettare che sia stato scaricato completamente:"
   ]
  },
  {
   "attachments": {},
   "cell_type": "markdown",
   "metadata": {},
   "source": [
    "- Inviare gli oggetti JSON concatenati con un [carattere di controllo](https://it.wikipedia.org/wiki/Carattere_di_controllo) come separatore tra gli oggetti. I più usato è il carattere di *newline*. Naturalmente, qualunque carattere si scelga, questo  deve essere usato SOLO come separatore tra gli oggetti. Se usiamo il *newline*, in pratica ciascun oggetto deve essere scritto su una propria riga. In questo caso sfruttiamo il fatto che il formato JSON considera i caratteri di *newline* come parte dei dati solo se si trovano all'interno di stringhe e con l'opportuno carattere di escape. Quindi possiamo usare il *newline* sia nei dati sia come separatore tra gli oggetti senza il rischio che vengano confusi. Quasi tutti i grandi provider di servizi che permettono di interragire con dataset di grandi dimensioni è compatibile con questo standard (es. Google BigQuery).\n",
    "\n",
    "```json\n",
    "{\"some\":\"thing\\n\"}\n",
    "{\"may\":{\"include\":\"nested\",\"objects\":[\"and\",\"arrays\"]}}\n",
    "{\"another\":\"thing\\n\"}\n",
    "```\n",
    "\n",
    "- Inviare uno stream gli oggetti JSON concatenati senza delimitatori e affidarsi a un parser per estrarli, il quale iniziando a leggere, carattere dopo carattere, capisce quando inizia e finisce ciascun oggetto. In pratica, ogni volta che il parser raggiunge il carattere di chiusura di un oggetto contenuto nella root del documento (`}` o `]`) questo si ferma e attende che gli venga richiesto di passare all'oggetto successivo.\n",
    "\n",
    "```json\n",
    "{ \"some\": \"thing\\n\" }\n",
    "{\n",
    "  \"may\": {\n",
    "    \"include\": \"nested\",\n",
    "    \"objects\": [\n",
    "      \"and\",\n",
    "      \"arrays\"\n",
    "    ]\n",
    "  }\n",
    "}\n",
    "{ \"another\": \"thing\\n\" }\n",
    "```\n",
    "\n",
    "- Inviare uno stream di oggetti JSON concatenati, ma anteponendo a ciascuno di essi un prefisso che indichi la loro lunghezza e affidarsi a un parser che a questo punto deve solo \"tagliare\" le stringe al momento giusto e passarcele una ad una.\n",
    "\n",
    "```json\n",
    "18{\"some\":\"thing\\n\"}55{\"may\":{\"include\":\"nested\",\"objects\":[\"and\",\"arrays\"]}}21{\"another\":\"thing\\n\"}\n",
    "```\n",
    "\n",
    "- Inviare un file JSON standard, formattato come meglio si preferisce, e utilizzare una libreria di terze parti come `ijson` (Iterable JSON). Se vuoi puoi fare degli esperimenti con [questo dataset](https://github.com/zemirco/sf-city-lots-json).\n",
    "\n",
    "Per approfondire il problema, puoi partire dall'[articolo su Wikipedia](https://en.wikipedia.org/wiki/JSON_streaming)."
   ]
  },
  {
   "attachments": {},
   "cell_type": "markdown",
   "metadata": {},
   "source": [
    "#### Newline delimited JSON\n",
    "\n",
    "Tuttavia, il modo che (per ora) ci interessa a noi è gestire oggetti JSON concatenati con il *newline* come carattere di delimitazione, perché è il più usato ed il più facile da usare con Python. Questo metodo viene definito _**newline delimited JSON**_. \n",
    "\n",
    "Dato che non è ancora stato stabilito uno standard per i JSON separati da *newline*, potrete incappare in varie denominazioni, che tuttavia si riferiscono al medesimo formato, destinato principalmente allo streaming dei file JSON:\n",
    "\n",
    "- *JSON Lines* (`.jsonl`): [jsonlines.org](https://jsonlines.org/), \n",
    "- *Newline-Delimited JSON* (`.ndjson`): [ndjson.org](http://ndjson.org/), \n",
    "\n",
    "NOTA: Inizialmente `.ndjson` era stato chiamato \"*Line-Delimited JSON*\" e usava l'estensione `.ldjson`, ma per non creare confusione con il già esistente termine JSON-LD (che non c'entra nulla con lo streaming JSON) si è preferito passare a `.ndjson`.\n",
    "\n",
    "Ti ricordo che il sito ufficiale dello standard JSON è questo:\n",
    "\n",
    "- [`.json` – json.org](https://www.json.org/): sito ufficiale dello standard JSON"
   ]
  },
  {
   "attachments": {},
   "cell_type": "markdown",
   "metadata": {},
   "source": [
    "### Pro e contro del JSON\n",
    "\n",
    "Pro:\n",
    "\n",
    "- Data la sua ompattezza e leggerezza rispetto all'XML, JSON è il formato di interscambio più usato sul Web per le comunicazioni client-server.\n",
    "- Maggiore flessibilità nella descrizione di strutture dati complesse (nidificazione e coppie chiave-valore) rispetto al semplice CSV.\n",
    "- Alta leggibilità, anche per non è programmatore. Il formato JSON è anche sovente usato nei file di configurazione dei programmi. Per esempio VS Code salva le tue configurazioni in file JSON.\n",
    "- La maggior parte dei linguaggi di programmazione dispone di funzioni e librerie per leggere e creare strutture JSON.\n",
    "\n",
    "Contro:\n",
    "\n",
    "- Non esiste ancora un unico standard internazionale che descrive il linguaggio univocamente.\n",
    "- L'alta flessibilità rende però le strutture di dati JSON meno robuste rispetto all'XML.\n",
    "- Non è prevista la possibilità di definire una grammatica formale come invece si può fare con l'XML.\n",
    "- Non è possibile inserire commenti esplicitamente (ovvero parti di testo che devono essere ignorate e non considerate dati). Eventuali commenti vanno inseriti come dati e marcati secondo una convenzione prestabilita, in modo da ignorarli quando andiamo a leggere i dati.\n"
   ]
  },
  {
   "attachments": {},
   "cell_type": "markdown",
   "metadata": {},
   "source": [
    "## XML\n",
    "\n",
    "XML sta per \"eXtensible Markup Language\".\n",
    "\n",
    "`.xml` è un formato appartenenete alla macro-famiglia detta [SGML](https://it.wikipedia.org/wiki/Standard_Generalized_Markup_Language) (*Standard Generalized Markup Language*), da cui deriva anche il più famoso [HTML](https://it.wikipedia.org/wiki/HTML).\n",
    "\n",
    "In pratica XML e HTML sono strettemente imparentati. Infatti se hai già visto del codice HTML, questa sintassi dovrebbe esserti familiare:\n",
    "\n",
    "```xml\n",
    "<entry> <blog_title>Data Formats 101</blog_title> <date>08-01-2017</date> <author>Ben</author> <file_size>17kb</file_size> </entry>\n",
    "```\n",
    "\n",
    "Anche l'XML permette l'annidamento dei dati:\n",
    "\n",
    "```xml\n",
    "<entry> <blog_title>Data Formats 101</blog_title> <date>08-01-2017</date> <author>Ben</author> <file_size>17kb</file_size> <sections type=”object”> <section_1>JSON</section_1> <section_2>XML</section_2> <section_3>CSV</section_3> <section_4>TSV</section_4> </sections>@t <publication_channels type=”array”> <value>medium</value> <value>twitter</value> <value>facebook</value> <value>linkedin</value> </publication_channels> </entry>\n",
    "```"
   ]
  },
  {
   "attachments": {},
   "cell_type": "markdown",
   "metadata": {},
   "source": [
    "[Link alla versione \"beautified/prettyfied\"](https://prettier.io/playground/#N4Igxg9gdgLgprEAuEAeBMBOBPAfAAlQCMAbCAcwH0YBLGEuXAEQEMYX8AxCTAWzYDO+AIwAGYagD0pCtToMCqACZtGogBwBacZoBM4gOxSV8RSwCuMABY9cAIQRSL124QBmNBpQE0AXo2EDAGsiKQ8vH39FATgwWmghGGwABzgAXkBcAggiACtYmAzo-JpoSmFcACkAZQB5ADkpGLiSqDKi5tLdXAANAFkAGUbizvb41oBmXABhKoA1IY6J0ZbKABZcABU5hbG1xUkmsYFcAAEYQmTzUhowNhWwKxYoKDgSRJT0jJZMTBZsQsIADcWCRzIxeHAlDRzLwpMDQYwgSCwbgYAB3OjwTBw5GI1DwlFuFhgOBECAQII4hGKAmMEg0KBBSEMqkowiSS7XW67B5PF5vfYYHC4EAAGhAEGSR2QoG+mAgaIACt8EAJkCAQWi-mrxURfmAmTAqiwIf0GXBkES3nBdfrDVVksSGeRkFgweK4LwiJClJD+k9yOYWOQ4Nw+GxaFAXShnBAxSArDBeCQAOpWOhwASOklVVV0GiAujYdU0chQHgW8UMmKYGCK37kfiWkExcU5AQADyqzoYAEVzBB4M3reLHZga+rE8n48lMAyYCmaEprMh1KJR-KYinfsl1bPM3BMIDKyAAI4D+D1yVqmMCTQvSGQ+OYODnmgv+vBptIK2tkAxXgaFdTB3X-Hs4AAQRgLAaCISw4EVQ8zReYc-x8KM+wvC0fxbG0QHYIhF2XKxkFWcUsBYTxnSmCBeG-EBMwAVnjcwYg2FgiBvX88MBMEAEkoF9WAqjAOcpQgwSqiSBhULgABfOSgA)."
   ]
  },
  {
   "attachments": {},
   "cell_type": "markdown",
   "metadata": {},
   "source": [
    "La differenza più rilevante tra JSON e XML è che l'XML consente di memorizzare anche i cosiddetti \"[metadati](https://it.wikipedia.org/wiki/Metadato)\" in un modo inequivocabile.\n",
    "\n",
    "```xml\n",
    "<date timezone=\"UTC\">2020-03-20T01:30:08.180856</date>\n",
    "```\n",
    "\n",
    "se avessimo voluto fare la stessa cosa con JSON, avremmo dovuto creare un \"campo\" apposito:\n",
    "\n",
    "```json\n",
    "{ \"timezone\": \"UTC\", \"date\": \"2020-03-20T01:30:08.180856\" }\n",
    "```"
   ]
  },
  {
   "attachments": {},
   "cell_type": "markdown",
   "metadata": {},
   "source": [
    "### Sintassi e struttura di base\n",
    "\n",
    "In XML abbiamo due contenitori per i nosti dati: i _**tag**_ e gli _**attributi**_ dei tag.\n",
    "\n",
    "- I tag definiscono gli elementi che possono contenere dati.\n",
    "- Gli attributi definiscono le proprità degli elementi che possono contenere dati. \n",
    "- I tag possono contenere altri tag, per creare strutture nidificate."
   ]
  },
  {
   "attachments": {},
   "cell_type": "markdown",
   "metadata": {},
   "source": [
    "### Tag ed elementi\n",
    "\n",
    "Ogni documento XML è da _**elementi**_ descritti e delimitati da _**tag**_.\n",
    "\n",
    "Un tag è una stringa con un significato assegnato, che di solito rappresenta un'entità come un libro, una persona ecc.\n",
    "\n",
    "La stringa è racchiusa tra parentesi uncinate (o angolari) `< >`.\n",
    "\n",
    "È interessante notare che lo standard XML non fornisca affatto i tag, ma offre agli sviluppatori l'opportunità di \"inventarli\" autonomamente.\n",
    "\n",
    "Un elemento è un blocco/frammento di una struttura XML: è definito con i tag e può contenere testo, altri tag (e dunque altri elementi) e _**attributi**_.\n",
    "\n",
    "Ecco un esempio di documento XML che descrive un libro con un titolo e un autore:\n",
    "\n",
    "```xml\n",
    "<?xml version=\"1.0\" encoding=\"UTF-8\"?>\n",
    "<libro>\n",
    "    <titolo>Think Python</titolo>\n",
    "    <autore>Downey, Allen B.</autore>\n",
    "</libro>\n",
    "```\n",
    "\n",
    "Questo documento ha tre tag: `<libro>`, `<titolo>` e `<autore>`."
   ]
  },
  {
   "attachments": {},
   "cell_type": "markdown",
   "metadata": {},
   "source": [
    "I tag (elementi) possono essere scritti usando:\n",
    "\n",
    "- una coppia di *Start-tag/End-tag* (`<tag> </tag>`) \n",
    "- un singolo *Empty-element-tag* (`<tag/>`)\n",
    "\n",
    "In pratica tutti gli elementi devono avere un tag di chiusura (un tag simile, ma con una barra `/` davanti) o terminare semplicemente con una barra (`/>`):\n",
    "\n",
    "```xml\n",
    "<elemento-tag>dato1</elemento-tag>\n",
    "\n",
    "<elemento-tag testo=\"dato1\"/>\n",
    "```"
   ]
  },
  {
   "attachments": {},
   "cell_type": "markdown",
   "metadata": {},
   "source": [
    "### Elementi figli\n",
    "\n",
    "Ogni documento XML ha sempre un singolo elemento chiamato \"root\" (radice) principale.\n",
    "\n",
    "Questo elemento può contenere altri elementi, chiamati \"elementi figli\" (*child elements*), che a loro volta possono avere dei figli.\n",
    "\n",
    "Il seguente documento XML rappresenta i libri contenuti in una biblioteca:\n",
    "\n",
    "```xml\n",
    "<biblioteca>\n",
    "    <libro>\n",
    "        <titolo>Il Principe</titolo>\n",
    "        <autore>Macchivelli, Niccolò</autore>\n",
    "    </libro>\n",
    "    <libro>\n",
    "        <titolo>Liber abbaci</titolo>\n",
    "        <autore>Fibonacci, Leonardo</autore>\n",
    "    </libro>\n",
    "</biblioteca>\n",
    "```"
   ]
  },
  {
   "attachments": {},
   "cell_type": "markdown",
   "metadata": {},
   "source": [
    "In questo esempio, l'elemento radice <biblioteca> ha due elementi figli taggati <libro> e l'elemento <libro> ha a sua volta due elementi figli: <titolo> e <autore>. "
   ]
  },
  {
   "attachments": {},
   "cell_type": "markdown",
   "metadata": {},
   "source": [
    "### Prolog\n",
    "\n",
    "Lo standard XML prevede la presenza del cosiddetto _**prolog**_ (prologo) nella prima riga di un file XML:\n",
    "\n",
    "```xml\n",
    "<?xml version=\"1.0\" encoding=\"UTF-8\"?>\n",
    "```\n",
    "Specifica la versione dello standard XML (di solito 1.0) e definisce la codifica (qui è UTF-8).\n",
    "\n",
    "Il prologo è facoltativo, ma se c'è, deve essere il elemento del documento.\n",
    "\n",
    "> NOTE: Un prologo non ha un tag di chiusura e ha una notazione speciale `<? ?>`."
   ]
  },
  {
   "attachments": {},
   "cell_type": "markdown",
   "metadata": {},
   "source": [
    "### Attributi\n",
    "\n",
    "Gli elementi XML possono possedere _**attributi**_ che forniscono dei \"campi\" aggiuntivi per immagazzinare informazioni relative sull'elemento.\n",
    "\n",
    "Il valore dell'attributo è sempre inserito tra virgolette doppie o singole:\n",
    "\n",
    "```xml\n",
    "<libro titolo=\"Il quadrato rosso\"/>\n",
    "<libro titolo='Il quadrato rosso'/>\n",
    "```\n",
    "\n",
    "Un elemento può contenere più di un attributo:\n",
    "\n",
    "```xml\n",
    "<libro titolo=\"Il Principe\" autore=\"Macchivelli, Niccolò\" pagine=\"256\">\n",
    "```\n",
    "\n",
    "La nostra libreria, avremmo potuto scriverla anche così:\n",
    "\n",
    "```xml\n",
    "<biblioteca>\n",
    "    <libro titolo=\"Il Principe\" autore=\"Macchivelli, Niccolò\">\n",
    "    <libro titolo=\"Liber abbaci\" autore=\"Fibonacci, Leonardo\">\n",
    "    <libro titolo=\"Il deserto dei Tartari\" autore=\"Buzzati, Dino\">\n",
    "</biblioteca>\n",
    "```"
   ]
  },
  {
   "attachments": {},
   "cell_type": "markdown",
   "metadata": {},
   "source": [
    "### Attributi e/o elementi figli?\n",
    "\n",
    "Come si può vedere, in alcuni casi gli attributi potrebbero sostituire gli elementi figli.\n",
    "\n",
    "Non esiste un consenso su cosa sia meglio usare e in quale circosatanza. Di solito dipende dai dati che si sta cercando di serializzare, dagli strumenti per l'elaborazione di XML e, naturalmente, dalle persone con cui si lavora.\n",
    "\n",
    "Come abbiamo visto, sono un ottimo posto dove mettere dei _**metadati**_, ovvero informazioni aggiuntive sul nostro \"dato reale\" (chi l'ha creato o modificato, come decofificarlo correttamente ecc.).\n",
    "\n",
    "Si noti che un elemento può avere sia attributi che elementi figli insieme.\n",
    "\n",
    "```xml\n",
    "<libro data-inserimento=\"2023-03-14\" utente=\"Pippo Disney\">\n",
    "    <titolo>Il Principe</titolo>\n",
    "    <autore>Macchivelli, Niccolò</autore>\n",
    "</libro>\n",
    "```"
   ]
  },
  {
   "attachments": {},
   "cell_type": "markdown",
   "metadata": {},
   "source": [
    "### Inserimento di caratteri \"speciali\" nel testo dei dati\n",
    "\n",
    "Come in Python, se il valore dell'attributo contiene virgolette doppie, è possibile utilizzare virgolette singole e viceversa. Ad esempio:\n",
    "\n",
    "```xml\n",
    "<libro titolo=\"Let's python!\"/>\n",
    "<libro titolo='Il \"Tramonto in mare\" di Ivan Aivazovsky'/>\n",
    "```\n",
    "\n",
    "Nel testo di un elemento e nel valore di un attributo non possiamo usare questi caratteri: `<`, `>` e `&`. \n",
    "Inoltre, nel valore di un attributo potremmo volere usasre direttamente `'` o `\"` indipendentemente dalle virgolette esterne.\n",
    "\n",
    "In XML non esistono caratteri di escape veri e prorpri, ma possiamo esprimere qualsiasi carattere tramite i cosiddetti [*special entity symbols*](https://en.wikipedia.org/wiki/List_of_XML_and_HTML_character_entity_references), che seguono una sintassi simile a questa: `&codice;`.\n",
    "\n",
    "| Simbolo | Entity name | Decimal form |\n",
    "|:-------:|:------------|--------------|\n",
    "| `&`     | `&amp;`     | `&#38;`      |\n",
    "| `<`     | `&lt;`      | `&#60;`      |\n",
    "| `>`     | `&gt;`      | `&#62;`      |\n",
    "| `\"`     | `&quot;`    | `&#34;`      |\n",
    "| `'`     | `&apos;`    | `&#39;`      |\n",
    "\n",
    "Ecco degli esempi di applicazione:\n",
    "\n",
    "```xml\n",
    "<libro titolo=\"Il &quot;De sterrennacht&quot; di Vincent van Gogh\"/>\n",
    "\n",
    "<film titolo=\"Batman &amp; Robin\" regista=\"Joel Schumacher\"/>\n",
    "\n",
    "<quiz>\n",
    "    <domanda>A cosa serve il tag &lt;style&gt; in HTML?</domanda>\n",
    "    <risposta>Serve per inserire delle regole di stile CSS.</risposta>\n",
    "</quiz>\n",
    "```\n",
    "\n",
    "> SUGGERIMENTO: Il sito [amp-what.com](https://www.amp-what.com/) ti consente di trovare facilmente il codice di qualunque simbolo!\n"
   ]
  },
  {
   "attachments": {},
   "cell_type": "markdown",
   "metadata": {},
   "source": [
    "### Commenti\n",
    "\n",
    "È possibile inserire commenti in file XML attraverso la l'uso di tag speciali `<!--` e `-->` che racchiudono il testo del commento.\n",
    "\n",
    "```xml\n",
    "<!-- Questo è un commento e non sarà considerato parte dei dati -->\n",
    "<libro>\n",
    "    <titolo>Il Principe</titolo>\n",
    "    <autore>Macchivelli, Niccolò</autore>\n",
    "    <!-- QUESTO E' UN ALTRO COMMENTO! -->\n",
    "</libro>\n",
    "```"
   ]
  },
  {
   "attachments": {},
   "cell_type": "markdown",
   "metadata": {},
   "source": [
    "### Pro e contro dell'XML\n",
    "\n",
    "Pro:\n",
    "\n",
    "- Il formato è basato su standard internazionali.\n",
    "- Ha una struttura ben definita che facilita la ricerca e l'estrazione di informazioni.\n",
    "- I moderni linguaggi di programmazione dispongono di librerie per l'elaborazione automatica dei documenti XML.\n",
    "- Consente di scrivere commenti.\n",
    "\n",
    "Contro:\n",
    "\n",
    "- L'uso dei tag e degli attributi non rende facile una sua lettura/scrittura \"a mano\".\n",
    "- La sua sintassi ridondante richiede una maggiore quantità di memoria per immagazzinare i dati rispetto a CSV e JSON. Questo causa un aumento dei costi di archiviazione e di trasferimento dei dati. Questo aspetto è particolarmente importante quando è necessario memorizzare o trasferire una grande quantità di dati."
   ]
  },
  {
   "attachments": {},
   "cell_type": "markdown",
   "metadata": {},
   "source": [
    "# Apertura di file CSV\n",
    "\n",
    "In Python possiamo leggere un file CSV come qualsiasi altro file di testo.\n",
    "\n",
    "Stiamo per aprire il file [`./files_esercizi/botteghe-storiche.csv`](./files_esercizi/botteghe-storiche.csv)."
   ]
  },
  {
   "attachments": {},
   "cell_type": "markdown",
   "metadata": {},
   "source": [
    "Dato che è un file con oltre 700 righe, potremmo voler prima lavorare per esempio sulle prime 10, per poi applicare l'algorirmo all'intero file."
   ]
  },
  {
   "cell_type": "code",
   "execution_count": 1,
   "metadata": {},
   "outputs": [
    {
     "name": "stdout",
     "output_type": "stream",
     "text": [
      "ID,Ragione sociale,Indirizzo,Civico,Comune,Cap,Frazione/Località,Note\n",
      "1,BAZZANELLA RENATA,Via del Lagorai,30,Sover,38068,Piscine di Sover,\"generi misti, bar - ristorante\"\n",
      "2,CONFEZIONI MONTIBELLER S.R.L.,Corso Ausugum,48,Borgo Valsugana,38051,,esercizio commerciale\n",
      "3,FOTOGRAFICA TRINTINAGLIA UMBERTO S.N.C.,Largo Dordi,8,Borgo Valsugana,38051,,\"esercizio commerciale, attività artigianale\"\n",
      "4,BAR SERAFINI DI MINATI RENZO,Frazione Serafini,24,Grigno,38055,,esercizio commerciale\n",
      "5,COLTELLERIA S. CROCE,Via S. Croce,61,Trento,38122,,\n",
      "6,SEMBENINI GINO & FIGLI S.R.L.,Via S. Francesco,35,Riva del Garda,38066,,\n",
      "7,HOTEL RISTORANTE PIZZERIA “ALLA NAVE”,Via Nazionale,29,Lavis,38015,Nave San Felice,\n",
      "8,OBRELLI GIOIELLERIA DAL 1929 S.R.L.,Via Roma,33,Lavis,38015,,\n",
      "9,MACELLERIE TROIER S.A.S. DI TROIER DARIO E C.,Via Roma,13,Lavis,38015,,\n"
     ]
    }
   ],
   "source": [
    "with open('./files_esercizi/botteghe-storiche.csv', 'r') as file_in:\n",
    "    for _ in range(10):  # solo le pime 10 righe\n",
    "        linea = next(file_in)\n",
    "        print(linea, end='')"
   ]
  },
  {
   "attachments": {},
   "cell_type": "markdown",
   "metadata": {},
   "source": [
    "Come abbiamo visto, un CSV deve essere interpretato come una tabella. Dunque possiamo immaginare questo:"
   ]
  },
  {
   "attachments": {},
   "cell_type": "markdown",
   "metadata": {},
   "source": [
    "| ID     | Ragione sociale                               | Indirizzo         | Civico | Comune          | Cap   | Frazione/Località | Note                                        |\n",
    "|--------|-----------------------------------------------|-------------------|--------|-----------------|-------|-------------------|---------------------------------------------|\n",
    "| 1      | BAZZANELLA RENATA                             | Via del Lagorai   | 30     | Sover           | 38068 | Piscine di Sover  | generi misti, bar - ristorante              |\n",
    "| 2      | CONFEZIONI MONTIBELLER S.R.L.                 | Corso Ausugum     | 48     | Borgo Valsugana | 38051 |                   | esercizio commerciale                       |\n",
    "| 3      | FOTOGRAFICA TRINTINAGLIA UMBERTO S.N.C.       | Largo Dordi       | 8      | Borgo Valsugana | 38051 |                   | esercizio commerciale, attività artigianale |\n",
    "| 4      | BAR SERAFINI DI MINATI RENZO                  | Frazione Serafini | 24     | Grigno          | 38055 |                   | esercizio commerciale                       |\n",
    "| 5      | COLTELLERIA S. CROCE                          | Via S. Croce      | 61     | Trento          | 38122 |                   |                                             |\n",
    "| 6      | SEMBENINI GINO & FIGLI S.R.L.                 | Via S. Francesco  | 35     | Riva del Garda  | 38066 |                   |                                             |\n",
    "| 7      | HOTEL RISTORANTE PIZZERIA “ALLA NAVE”         | Via Nazionale     | 29     | Lavis           | 38015 | Nave San Felice   |                                             |\n",
    "| 8      | OBRELLI GIOIELLERIA DAL 1929 S.R.L.           | Via Roma          | 33     | Lavis           | 38015 |                   |                                             |\n",
    "| 9      | MACELLERIE TROIER S.A.S. DI TROIER DARIO E C. | Via Roma          | 13     | Lavis           | 38015 |                   |                                             |\n"
   ]
  },
  {
   "attachments": {},
   "cell_type": "markdown",
   "metadata": {},
   "source": [
    "## Leggere \"manualmente\" da CSV\n",
    "\n",
    "Non c'è nulla di particolare nella lettura delle righe di un file CSV, ma potrebbe non essere così semplice ottenere informazioni particolari dalle righe scritte in quel modo. Se noti, nella colonna \"Note\" abbiamo dei valori a loro volta separati da virgola, e dunque l'intero valore deve essere delimitato con i caratteri `\"`."
   ]
  },
  {
   "attachments": {},
   "cell_type": "markdown",
   "metadata": {},
   "source": [
    "Potremmo provare ad usare `linea.split()` e passare una virgola come separatore."
   ]
  },
  {
   "cell_type": "code",
   "execution_count": 2,
   "metadata": {},
   "outputs": [
    {
     "name": "stdout",
     "output_type": "stream",
     "text": [
      "['ID', 'Ragione sociale', 'Indirizzo', 'Civico', 'Comune', 'Cap', 'Frazione/Località', 'Note\\n']\n",
      "['1', 'BAZZANELLA RENATA', 'Via del Lagorai', '30', 'Sover', '38068', 'Piscine di Sover', '\"generi misti', ' bar - ristorante\"\\n']\n",
      "['2', 'CONFEZIONI MONTIBELLER S.R.L.', 'Corso Ausugum', '48', 'Borgo Valsugana', '38051', '', 'esercizio commerciale\\n']\n",
      "['3', 'FOTOGRAFICA TRINTINAGLIA UMBERTO S.N.C.', 'Largo Dordi', '8', 'Borgo Valsugana', '38051', '', '\"esercizio commerciale', ' attività artigianale\"\\n']\n",
      "['4', 'BAR SERAFINI DI MINATI RENZO', 'Frazione Serafini', '24', 'Grigno', '38055', '', 'esercizio commerciale\\n']\n",
      "['5', 'COLTELLERIA S. CROCE', 'Via S. Croce', '61', 'Trento', '38122', '', '\\n']\n",
      "['6', 'SEMBENINI GINO & FIGLI S.R.L.', 'Via S. Francesco', '35', 'Riva del Garda', '38066', '', '\\n']\n",
      "['7', 'HOTEL RISTORANTE PIZZERIA “ALLA NAVE”', 'Via Nazionale', '29', 'Lavis', '38015', 'Nave San Felice', '\\n']\n",
      "['8', 'OBRELLI GIOIELLERIA DAL 1929 S.R.L.', 'Via Roma', '33', 'Lavis', '38015', '', '\\n']\n",
      "['9', 'MACELLERIE TROIER S.A.S. DI TROIER DARIO E C.', 'Via Roma', '13', 'Lavis', '38015', '', '\\n']\n"
     ]
    }
   ],
   "source": [
    "with open('./files_esercizi/botteghe-storiche.csv', 'r') as file_in:\n",
    "    for _ in range(10):  # solo le pime 10 righe\n",
    "        linea = next(file_in)\n",
    "        linea_list = linea.split(',')\n",
    "        print(linea_list)"
   ]
  },
  {
   "attachments": {},
   "cell_type": "markdown",
   "metadata": {},
   "source": [
    "Abbiamo così ottenuto una lista per ciascuna riga. Ogni lista contiene gli elementi della riga, divisi utilizzando il carattere \"virgola\".\n",
    "\n",
    "Anche se a prima vista potrebbe sembrare tutto ok, guardando meglio ci dovremmo accorgere che ci sono un po' di problemi."
   ]
  },
  {
   "cell_type": "code",
   "execution_count": 3,
   "metadata": {},
   "outputs": [
    {
     "name": "stdout",
     "output_type": "stream",
     "text": [
      "'\"generi misti'\n",
      "' bar - ristorante\"\\n'\n"
     ]
    }
   ],
   "source": [
    "row = ['1', 'BAZZANELLA RENATA', 'Via del Lagorai', '30', 'Sover', '38068', 'Piscine di Sover', '\"generi misti', ' bar - ristorante\"\\n']\n",
    "print(repr(row[7]))\n",
    "print(repr(row[8]))"
   ]
  },
  {
   "attachments": {},
   "cell_type": "markdown",
   "metadata": {},
   "source": [
    "Potremmo anche decidere di \"pulire\" manualmente i dati, ma il problema più grande è che in realtà stringhe come `\"generi misti, bar - ristorante\"` non dovevano essere divise perché dovrebbero essere considerate come un unico valore appartenenete alla colonna \"Note\".\n",
    "\n",
    "Prima di passare a vedere come risolvere questi problemi, ragioniamo anche sulla scrittura."
   ]
  },
  {
   "attachments": {},
   "cell_type": "markdown",
   "metadata": {},
   "source": [
    "## Scrivere \"manualmente\" in CSV\n",
    "\n",
    "Come per la lettura, l'idea di scrivere su un file CSV non è diversa da quella di scrivere qualcosa su un qualsiasi file di testo.\n",
    "\n",
    "Immaginate che un vostro collega vi porti un nuovo rapporto in cui è presente una \"bottega storica\" che non è presente nel tuo file CSV. Decidi quindi di aggiungerla alla fine del file.\n",
    "\n",
    "Che cosa fate? Si potrebbe creare una lista con tutti i dati delle varie colonne del nuovo record e poi unirli con `str.join(list)` usando una virgola e infine scrivere i dati nel file.\n",
    "\n",
    "```python\n",
    "with open('./files_esercizi/botteghe-storiche.csv', 'a') as file_in:\n",
    "    nuovo_record = ['737', 'MARCHETTI', 'Piazza Catena', '21', 'Riva del Garda', '38066', '', 'esercizio commerciale']\n",
    "    file_in.write(','.join(nuovo_record) + '\\n')\n",
    "```"
   ]
  },
  {
   "attachments": {},
   "cell_type": "markdown",
   "metadata": {},
   "source": [
    "> ATTENZIONE: Se notate il file `botteghe-storiche.csv` termina con una riga vuota. Se provate a rimuovere l'ultima riga vuota, la nuova riga scritta apparirà sulla stessa riga dell'ultima. Quindi i file CSV gestiti in questo modo \"manuale\" devono tenere conto anche di questo fatto. In realtà, secondo lo standard, un file CSV non deve necessariamente contenere una riga vuota al fondo!"
   ]
  },
  {
   "attachments": {},
   "cell_type": "markdown",
   "metadata": {},
   "source": [
    "> NOTA: In teoria, dato che abbiamo una colonna `ID`, possiamo intuire che il numero dell'`ID` del record deve essere univoco. In altre parole non dovrebbero esserci due \"botteghe storiche\" con il medesimo `ID`. Un programma reale dovrebbe per esempio tenere conto anche di aspetti di questo tipo e quindi potremmo leggere prima gli ID di tutte le righe e poi decidere se dobbiamo aggiornare un record già esistente oppure crearne uno nuovo su una riga al fondo."
   ]
  },
  {
   "attachments": {},
   "cell_type": "markdown",
   "metadata": {},
   "source": [
    "Tutti i modi di lavorare con un file CSV descritti sopra vi dovrebbero a questo punto essere familiari. Abbiamo effettuato le operazioni e usato strutture di dati built-in e algoritmi che abbiamo visto nella prima parte del corso.\n",
    "\n",
    "In pratica per lavorare con un file CSV ci bastano: `str`, `list` e i relativi metodi, cicli `for` e `while` e la funzione `open()` e i metodi degli oggetti *file_like*.\n",
    "\n",
    "Tuttavia il modulo `csv` della Libreria Standard ci può facilitare parecchio il lavoro."
   ]
  },
  {
   "attachments": {},
   "cell_type": "markdown",
   "metadata": {},
   "source": [
    "# Modulo CSV\n",
    "\n",
    "La libreria `csv` è lo strumento principale per lavorare con i file CSV. È built-in, quindi è sufficiente importarla.\n",
    "\n",
    "\n",
    "```python\n",
    "import csv\n",
    "```"
   ]
  },
  {
   "attachments": {},
   "cell_type": "markdown",
   "metadata": {},
   "source": [
    "## Lettura con `csv`"
   ]
  },
  {
   "attachments": {},
   "cell_type": "markdown",
   "metadata": {},
   "source": [
    "Per leggere i dati da un file, occorre creare un oggetto `reader`.\n",
    "\n",
    "Nell'esempio seguente, la funzione `csv.reader()` restituisce un oggetto `reader` che itera sulle righe del file CSV dato."
   ]
  },
  {
   "cell_type": "code",
   "execution_count": 4,
   "metadata": {},
   "outputs": [
    {
     "name": "stdout",
     "output_type": "stream",
     "text": [
      "['ID', 'Ragione sociale', 'Indirizzo', 'Civico', 'Comune', 'Cap', 'Frazione/Località', 'Note']\n",
      "['1', 'BAZZANELLA RENATA', 'Via del Lagorai', '30', 'Sover', '38068', 'Piscine di Sover', 'generi misti, bar - ristorante']\n",
      "['2', 'CONFEZIONI MONTIBELLER S.R.L.', 'Corso Ausugum', '48', 'Borgo Valsugana', '38051', '', 'esercizio commerciale']\n",
      "['3', 'FOTOGRAFICA TRINTINAGLIA UMBERTO S.N.C.', 'Largo Dordi', '8', 'Borgo Valsugana', '38051', '', 'esercizio commerciale, attività artigianale']\n",
      "['4', 'BAR SERAFINI DI MINATI RENZO', 'Frazione Serafini', '24', 'Grigno', '38055', '', 'esercizio commerciale']\n",
      "['5', 'COLTELLERIA S. CROCE', 'Via S. Croce', '61', 'Trento', '38122', '', '']\n",
      "['6', 'SEMBENINI GINO & FIGLI S.R.L.', 'Via S. Francesco', '35', 'Riva del Garda', '38066', '', '']\n",
      "['7', 'HOTEL RISTORANTE PIZZERIA “ALLA NAVE”', 'Via Nazionale', '29', 'Lavis', '38015', 'Nave San Felice', '']\n",
      "['8', 'OBRELLI GIOIELLERIA DAL 1929 S.R.L.', 'Via Roma', '33', 'Lavis', '38015', '', '']\n",
      "['9', 'MACELLERIE TROIER S.A.S. DI TROIER DARIO E C.', 'Via Roma', '13', 'Lavis', '38015', '', '']\n"
     ]
    }
   ],
   "source": [
    "import csv\n",
    "\n",
    "with open('./files_esercizi/botteghe-storiche.csv', 'r', newline='') as file_in:\n",
    "    file_reader = csv.reader(file_in, delimiter=\",\")  # crea un reader object\n",
    "\n",
    "    for _ in range(10):  # solo le pime 10 righe\n",
    "        print(next(file_reader))"
   ]
  },
  {
   "attachments": {},
   "cell_type": "markdown",
   "metadata": {},
   "source": [
    "Come si può vedere, il risultato è molto simile a quello di prima. Ogni riga restituita dal lettore è un elenco di elementi stringa con i dati.\n",
    "\n",
    "> NOTA: Dato che non siamo sempre sicuri che il nostro codice sarà eseguito su una versione recente di Python, quando apriamo un file CSV, è considerata una buona prativa specificare l'argomento `newline=''` quando apriamo i file con il modulo `csv`; questo perché se il newline non viene menzionato, le vecchie versioni di Python aggiungono l'interruzione di riga dopo l'ultimo elemento. Il modulo `csv` gestisce comunque questo aspetto automaticamente.\n",
    "\n",
    "Proseguendo con il nostro esempio, supponiamo che ci venga chiesto di stampare alcuni risultati e di renderli più leggibili per altre persone. In particolare:\n",
    "\n",
    "- i record con `'ID'` `45`, `64`, `176` e `204`;\n",
    "- di questi record, stampare `'ID'`, `'Ragione sociale'` e `'Cap'`.\n"
   ]
  },
  {
   "attachments": {},
   "cell_type": "markdown",
   "metadata": {},
   "source": [
    "In questo caso dobbiamo leggere l'intero file e non solo più le prime 10 righe!"
   ]
  },
  {
   "cell_type": "code",
   "execution_count": 5,
   "metadata": {},
   "outputs": [
    {
     "name": "stdout",
     "output_type": "stream",
     "text": [
      "31\n",
      "46837\n"
     ]
    }
   ],
   "source": [
    "import csv\n",
    "\n",
    "tot_comuni = 0\n",
    "tot_abitanti = 0\n",
    "\n",
    "with open('./files_esercizi/Sardegna_centri_urbani_per_abitante_e_altitudine_2014-01-13.csv', 'r', encoding='latin-1') as file_in:\n",
    "    file_reader = csv.DictReader (file_in, delimiter= \";\")\n",
    "    #reader_obj = csv.reader(file_in, delimiter=\",\")\n",
    "    #count = 0\n",
    "    for linea in file_reader:\n",
    "        if int(linea [\"QUOTA LOCALITA'\"]) >= 600: #filtro\n",
    "            if linea ['PROVINCIA'] in ['NUORO', 'SASSARI']:\n",
    "                tot_comuni +=1\n",
    "                tot_abitanti += int(linea['ABITANTI LOCALITA\\''])\n",
    "\n",
    "print(tot_comuni)\n",
    "print(tot_abitanti)\n",
    "\n",
    "           #print(linea)[\"QUOTA LOCALITA'\"])\n",
    "       "
   ]
  },
  {
   "attachments": {},
   "cell_type": "markdown",
   "metadata": {},
   "source": [
    "E se domani vi chiedessero di estrarre altre informazioni?\n",
    "\n",
    "Meglio preparare subito il codice in modo da renderlo più \"universale\"!"
   ]
  },
  {
   "cell_type": "code",
   "execution_count": 6,
   "metadata": {},
   "outputs": [
    {
     "name": "stdout",
     "output_type": "stream",
     "text": [
      "ID: 45\n",
      "Ragione sociale: FARMACIA S. MARCO\n",
      "Comune: Rovereto\n",
      "Cap: 38068\n",
      "----------------------------\n",
      "ID: 64\n",
      "Ragione sociale: OTTICI DEFLORIAN MARANGONI DI MARANGONI DONATELLA\n",
      "Comune: Baselga di Piné\n",
      "Cap: 38042\n",
      "----------------------------\n",
      "ID: 176\n",
      "Ragione sociale: LA BOTTEGA DELL’ARTIGIANO\n",
      "Comune: Ledro\n",
      "Cap: 38067\n",
      "----------------------------\n",
      "ID: 204\n",
      "Ragione sociale: FABBRO GENTILINI MAURIZIO\n",
      "Comune: Revò\n",
      "Cap: 38028\n",
      "----------------------------\n"
     ]
    }
   ],
   "source": [
    "import csv\n",
    "\n",
    "identifier = 0                            # identificatore dei record\n",
    "col_numbers = [0, 1, 4, 5]                # colonne da estrarre\n",
    "record_ids = [45, 64, 176, 204]           # record da estrarre\n",
    "sep_rec = '----------------------------'  # separatore visivo da usare\n",
    "\n",
    "with open('./files_esercizi/botteghe-storiche.csv', 'r', encoding='utf-8') as file_in:\n",
    "    reader_obj = csv.reader(file_in, delimiter=',')\n",
    "    linea_num = 0\n",
    "    for linea in reader_obj:\n",
    "        if linea_num == 0:          # se è la prima riga (che contiene i nomi delle colonne)\n",
    "            colonne_labels = linea  # leggo i nomi delle intestazioni di colonna\n",
    "        if linea[0] in [str(idn) for idn in record_ids]:  # filtro\n",
    "            for col_num in col_numbers:\n",
    "                print(colonne_labels[col_num]+':', linea[col_num])\n",
    "            print(sep_rec)\n",
    "        else:\n",
    "            pass\n",
    "        linea_num += 1"
   ]
  },
  {
   "attachments": {},
   "cell_type": "markdown",
   "metadata": {},
   "source": [
    "## Scrittura con `csv`\n",
    "\n",
    "Un altro oggetto molto utilizzato nella libreria CSV è l'oggetto `csv.writer` che, come suggerisce il nome, aiuta a scrivere informazioni su un file.\n",
    "\n",
    "Supponiamo che in ufficio vogliate fare uno studio di Business Intelligence sulle \"botteghe storiche\" e i loro \"titolari\" per trovare delle possibili correlazioni. Vi vengono forniti quindi alcuni dati utili sui titolari delle botteghe.\n",
    "\n",
    "Se dovessimo costruire la il file CSV a mano, inserendo i dati uno a uno, potremmo farlo direttamente con un editor di testo, ma potremmo compiere degli errori, e in quel caso potrebbero essere difficili da individuare. Se invece li scriviamo in una struttura dati come una lista di liste, possiamo facilmente processarli riducendo la possibilità di compiere errori dato che il modulo `csv` sovente ci avvisa se c'è qualcosa di anomalo nei dati."
   ]
  },
  {
   "cell_type": "code",
   "execution_count": 7,
   "metadata": {},
   "outputs": [],
   "source": [
    "import csv\n",
    "\n",
    "intestazione = ['ID', 'Nome', 'Età', 'Altezza', 'Bottega ID']\n",
    "nuovi_dati = [\n",
    "    ['1', 'Alessio', '23', '184', '23'],\n",
    "    ['2', 'Carla', '35', '170', '46'],\n",
    "    ['3', 'Marco', '21', '178', '103'],\n",
    "    ['4', 'Paola', '55', '164', '254'],\n",
    "]\n",
    "\n",
    "with open('./files_esercizi/botteghe-storiche-titolari.csv', 'w', encoding='utf-8') as file_out:\n",
    "    writer_obj = csv.writer(file_out, delimiter=',', lineterminator='\\n')\n",
    "    writer_obj.writerow(intestazione)\n",
    "    for riga in nuovi_dati:\n",
    "        writer_obj.writerow(riga)"
   ]
  },
  {
   "attachments": {},
   "cell_type": "markdown",
   "metadata": {},
   "source": [
    "In questo esempio, abbiamo creato un nuovo file e poi abbiamo usato il metodo `writer_obj.writerow()` per scrivere nuove informazioni. Il parametro `lineterminator` è il separatore tra le voci di dati.\n",
    "\n",
    "Il primo dato contiene i nomi delle colonne, tutti gli altri contengono gli autori. \n",
    "\n",
    "Come sempre, per essere sicuri che tutto è andato a buon fine, controlliamo l'output: [`botteghe-storiche-titolari.csv`](./files_esercizi/botteghe-storiche-titolari.csv)"
   ]
  },
  {
   "attachments": {},
   "cell_type": "markdown",
   "metadata": {},
   "source": [
    "## `DictReader` e `DictWriter`\n",
    "\n",
    "Il modulo `csv` ha anche due classi magiche: `csv.DictReader()` e `csv.DictWriter()`. Esse rappresentano ogni voce di dati come un dizionario. Le chiavi del dizionario sono le intestazioni di colonna e i valori sono i dati corrispondenti.\n",
    "\n",
    "Trattandosi di un dizionario, è possibile accededre ai dati utilizzando la notazione a subscription utilizzando i nomi delle colonne come chiavi. "
   ]
  },
  {
   "cell_type": "code",
   "execution_count": 2,
   "metadata": {},
   "outputs": [
    {
     "name": "stdout",
     "output_type": "stream",
     "text": [
      "[{'ID': '1', 'Ragione sociale': 'BAZZANELLA RENATA', 'Indirizzo': 'Via del Lagorai', 'Civico': '30', 'Comune': 'Sover', 'Cap': '38068', 'Frazione/Località': 'Piscine di Sover', 'Note': 'generi misti, bar - ristorante'}, {'ID': '2', 'Ragione sociale': 'CONFEZIONI MONTIBELLER S.R.L.', 'Indirizzo': 'Corso Ausugum', 'Civico': '48', 'Comune': 'Borgo Valsugana', 'Cap': '38051', 'Frazione/Località': '', 'Note': 'esercizio commerciale'}, {'ID': '3', 'Ragione sociale': 'FOTOGRAFICA TRINTINAGLIA UMBERTO S.N.C.', 'Indirizzo': 'Largo Dordi', 'Civico': '8', 'Comune': 'Borgo Valsugana', 'Cap': '38051', 'Frazione/Località': '', 'Note': 'esercizio commerciale, attività artigianale'}, {'ID': '4', 'Ragione sociale': 'BAR SERAFINI DI MINATI RENZO', 'Indirizzo': 'Frazione Serafini', 'Civico': '24', 'Comune': 'Grigno', 'Cap': '38055', 'Frazione/Località': '', 'Note': 'esercizio commerciale'}, {'ID': '5', 'Ragione sociale': 'COLTELLERIA S. CROCE', 'Indirizzo': 'Via S. Croce', 'Civico': '61', 'Comune': 'Trento', 'Cap': '38122', 'Frazione/Località': '', 'Note': ''}, {'ID': '6', 'Ragione sociale': 'SEMBENINI GINO & FIGLI S.R.L.', 'Indirizzo': 'Via S. Francesco', 'Civico': '35', 'Comune': 'Riva del Garda', 'Cap': '38066', 'Frazione/Località': '', 'Note': ''}, {'ID': '7', 'Ragione sociale': 'HOTEL RISTORANTE PIZZERIA “ALLA NAVE”', 'Indirizzo': 'Via Nazionale', 'Civico': '29', 'Comune': 'Lavis', 'Cap': '38015', 'Frazione/Località': 'Nave San Felice', 'Note': ''}, {'ID': '8', 'Ragione sociale': 'OBRELLI GIOIELLERIA DAL 1929 S.R.L.', 'Indirizzo': 'Via Roma', 'Civico': '33', 'Comune': 'Lavis', 'Cap': '38015', 'Frazione/Località': '', 'Note': ''}, {'ID': '9', 'Ragione sociale': 'MACELLERIE TROIER S.A.S. DI TROIER DARIO E C.', 'Indirizzo': 'Via Roma', 'Civico': '13', 'Comune': 'Lavis', 'Cap': '38015', 'Frazione/Località': '', 'Note': ''}, {'ID': '10', 'Ragione sociale': 'NARDELLI TIZIANO', 'Indirizzo': 'Piazza Manci', 'Civico': '5', 'Comune': 'Lavis', 'Cap': '38015', 'Frazione/Località': '', 'Note': 'esercizio commerciale'}, {'ID': '11', 'Ragione sociale': 'PASTICCERIA SILVANO DI ANDREOLLI SILVANO& C.', 'Indirizzo': 'Via Matteotti', 'Civico': '37', 'Comune': 'Lavis', 'Cap': '38015', 'Frazione/Località': '', 'Note': ''}, {'ID': '12', 'Ragione sociale': 'CARPI GIOIELLI DI CARPI MAURIZIO', 'Indirizzo': 'Via Matteotti', 'Civico': '42', 'Comune': 'Lavis', 'Cap': '38015', 'Frazione/Località': '', 'Note': ''}, {'ID': '13', 'Ragione sociale': 'LONA S.N.C. DI LONA ROBERTO & C.', 'Indirizzo': 'Piazza Manci', 'Civico': '1', 'Comune': 'Lavis', 'Cap': '38015', 'Frazione/Località': '', 'Note': 'esercizio commerciale'}, {'ID': '14', 'Ragione sociale': 'GADOTTI CALZATURE DI GADOTTI MARCO', 'Indirizzo': 'Via Matteotti', 'Civico': '59', 'Comune': 'Lavis', 'Cap': '38015', 'Frazione/Località': '', 'Note': ''}, {'ID': '15', 'Ragione sociale': 'BAR LEON D’ORO DI DELLAI LORENA', 'Indirizzo': 'Piazza Cesare Battisti', 'Civico': '4', 'Comune': 'Lavis', 'Cap': '38015', 'Frazione/Località': '', 'Note': ''}, {'ID': '16', 'Ragione sociale': 'TURCO CALZATURE DI TURCO CORRADO', 'Indirizzo': 'Via Filzi', 'Civico': '1', 'Comune': 'Lavis', 'Cap': '38015', 'Frazione/Località': '', 'Note': ''}, {'ID': '17', 'Ragione sociale': 'FARMACIA ROMANI DOTT. ALBERTO ERRIGO & C. S.N.C.', 'Indirizzo': 'Via Filzi', 'Civico': '1', 'Comune': 'Lavis', 'Cap': '38015', 'Frazione/Località': '', 'Note': ''}, {'ID': '18', 'Ragione sociale': 'FAMIGLIA COOPERATIVA MEZZOLOMBARDO E PRESSANO SOC. COOP.', 'Indirizzo': 'Piazza Giovanni della Croce', 'Civico': '', 'Comune': 'Lavis', 'Cap': '38015', 'Frazione/Località': 'Pressano', 'Note': ''}, {'ID': '19', 'Ragione sociale': 'CONFEZIONI DANTI DI PELKAN WILMA & C. S.A.S.', 'Indirizzo': 'Viale San Francesco', 'Civico': '22', 'Comune': 'Riva del Garda', 'Cap': '38066', 'Frazione/Località': '', 'Note': ''}, {'ID': '20', 'Ragione sociale': 'DELUGAN GUIDO E GINO S.N.C.', 'Indirizzo': 'Via Pennella', 'Civico': '32', 'Comune': 'Pergine Valsugana', 'Cap': '38057', 'Frazione/Località': '', 'Note': 'attività artigianale'}, {'ID': '21', 'Ragione sociale': 'FRUTTA E VERDURA SPRINGHETTI GILBERTO', 'Indirizzo': 'Piazza Prati', 'Civico': '27', 'Comune': 'Cavareno', 'Cap': '38011', 'Frazione/Località': '', 'Note': ''}, {'ID': '22', 'Ragione sociale': 'LARCHER SPORT', 'Indirizzo': 'Via Moscabio', 'Civico': '2', 'Comune': 'Cavareno', 'Cap': '38011', 'Frazione/Località': '', 'Note': ''}, {'ID': '23', 'Ragione sociale': 'BAR GELATERIA EREDI CAVALLAR DOMENICO', 'Indirizzo': 'Piazza Prati', 'Civico': '21', 'Comune': 'Cavareno', 'Cap': '38011', 'Frazione/Località': '', 'Note': ''}, {'ID': '24', 'Ragione sociale': 'EDICOLA TABACCHI GENETTI ANNAMARIA', 'Indirizzo': 'Via Roma', 'Civico': '43', 'Comune': 'Cavareno', 'Cap': '38011', 'Frazione/Località': '', 'Note': ''}, {'ID': '25', 'Ragione sociale': 'MERCERIE CATTARINI TIZIANA', 'Indirizzo': 'Piazza Prati', 'Civico': '12', 'Comune': 'Cavareno', 'Cap': '38011', 'Frazione/Località': '', 'Note': ''}, {'ID': '26', 'Ragione sociale': 'ZANI FABIO S.A.S. FERRAMENTA', 'Indirizzo': 'Via Roma', 'Civico': '49', 'Comune': 'Cavareno', 'Cap': '38011', 'Frazione/Località': '', 'Note': ''}, {'ID': '27', 'Ragione sociale': 'LATTERIA SOCIALE CAVARENO', 'Indirizzo': 'Via Moscabio', 'Civico': '19', 'Comune': 'Cavareno', 'Cap': '38011', 'Frazione/Località': '', 'Note': ''}, {'ID': '28', 'Ragione sociale': 'RISTORANTE AL VOLT DI LABRIOLA MICHELANGELO', 'Indirizzo': 'Piazza Municipio', 'Civico': '10', 'Comune': 'Pergine Valsugana', 'Cap': '38057', 'Frazione/Località': '', 'Note': ''}, {'ID': '29', 'Ragione sociale': 'RISTORANTE PIZZERIA NUOVO CORONA DI PALMIERI TOMMASO', 'Indirizzo': 'Piazza Manci', 'Civico': '2', 'Comune': 'Lavis', 'Cap': '38015', 'Frazione/Località': '', 'Note': ''}, {'ID': '30', 'Ragione sociale': 'BAR ALBERGO CORONA S.N.C. DI PRONER RICCARDA & C.', 'Indirizzo': 'Piazza Manci', 'Civico': '6', 'Comune': 'Lavis', 'Cap': '38015', 'Frazione/Località': '', 'Note': ''}, {'ID': '31', 'Ragione sociale': 'SARTORI GIUSEPPE & C. S.N.C. ', 'Indirizzo': 'Via Clementi', 'Civico': '47', 'Comune': 'Lavis', 'Cap': '38015', 'Frazione/Località': '', 'Note': 'esercizio commerciale'}, {'ID': '32', 'Ragione sociale': 'FOTO FONTANA DI MOSER MARIA NIVES', 'Indirizzo': 'Via IV Novembre', 'Civico': '65', 'Comune': 'Lavis', 'Cap': '38015', 'Frazione/Località': '', 'Note': 'attività artigianale, esercizio commerciale'}, {'ID': '33', 'Ragione sociale': 'TORREFAZIONE CAFFE’ BONTADI', 'Indirizzo': 'Vicolo del Messaggero', 'Civico': '10', 'Comune': 'Rovereto', 'Cap': '38068', 'Frazione/Località': '', 'Note': ''}, {'ID': '34', 'Ragione sociale': 'COLORIFICIO LUCIANO CARESIA DI DANIELA CARESIA', 'Indirizzo': 'Via Tartarotti', 'Civico': ' 50/A', 'Comune': 'Rovereto', 'Cap': '38068', 'Frazione/Località': '', 'Note': ''}, {'ID': '35', 'Ragione sociale': 'FARMACIA COBELLI', 'Indirizzo': 'Via Mazzini', 'Civico': '10', 'Comune': 'Rovereto', 'Cap': '38068', 'Frazione/Località': '', 'Note': ''}, {'ID': '36', 'Ragione sociale': 'BAR MANIFATTURA', 'Indirizzo': 'Piazza Manifattura', 'Civico': ' 5/6', 'Comune': 'Rovereto', 'Cap': '38068', 'Frazione/Località': '', 'Note': ''}, {'ID': '37', 'Ragione sociale': 'BAR DUE COLONNE', 'Indirizzo': 'Piazza del Podestà', 'Civico': '9', 'Comune': 'Rovereto', 'Cap': '38068', 'Frazione/Località': '', 'Note': ''}, {'ID': '39', 'Ragione sociale': 'PANIFICIO COLLER S.N.C. DI COLLER CLAUDIO, ANDREA & C.', 'Indirizzo': 'Largo S. Floriano', 'Civico': '5', 'Comune': 'Rovereto', 'Cap': '38068', 'Frazione/Località': '', 'Note': ''}, {'ID': '40', 'Ragione sociale': 'CAPPELLERIA BACCA', 'Indirizzo': 'Via Rialto', 'Civico': '39', 'Comune': 'Rovereto', 'Cap': '38068', 'Frazione/Località': '', 'Note': ''}, {'ID': '41', 'Ragione sociale': 'BAR-TRATTORIA BELLAVISTA', 'Indirizzo': 'Via Paganini', 'Civico': '17', 'Comune': 'Rovereto', 'Cap': '38068', 'Frazione/Località': '', 'Note': ''}, {'ID': '42', 'Ragione sociale': 'DROGHERIA MICHELI', 'Indirizzo': 'Via Mercerie', 'Civico': ' 16/18', 'Comune': 'Rovereto', 'Cap': '38068', 'Frazione/Località': '', 'Note': ''}, {'ID': '43', 'Ragione sociale': 'LAZZERI', 'Indirizzo': 'Via Rialto', 'Civico': '32', 'Comune': 'Rovereto', 'Cap': '38068', 'Frazione/Località': '', 'Note': 'esercizio commerciale'}, {'ID': '44', 'Ragione sociale': 'LOCOS BAR', 'Indirizzo': 'Via Valbusa Grande', 'Civico': '7', 'Comune': 'Rovereto', 'Cap': '38068', 'Frazione/Località': '', 'Note': ''}, {'ID': '45', 'Ragione sociale': 'FARMACIA S. MARCO', 'Indirizzo': 'Piazza Erbe', 'Civico': '17', 'Comune': 'Rovereto', 'Cap': '38068', 'Frazione/Località': '', 'Note': ''}, {'ID': '46', 'Ragione sociale': 'B. SALVETTI FABBRICA OMBRELLI MERCERIE E MANIFATTURE', 'Indirizzo': 'Piazza C. Battisti', 'Civico': '32', 'Comune': 'Rovereto', 'Cap': '38068', 'Frazione/Località': '', 'Note': ''}, {'ID': '47', 'Ragione sociale': 'MANIFATTURE ZOCCHE LUIGI', 'Indirizzo': 'Via Roma', 'Civico': '47', 'Comune': 'Rovereto', 'Cap': '38068', 'Frazione/Località': '', 'Note': ''}, {'ID': '48', 'Ragione sociale': 'RISTORANTE BAR ALBERGO SERRAIA', 'Indirizzo': 'Viale della Serraia', 'Civico': '3', 'Comune': 'Baselga di Piné', 'Cap': '38042', 'Frazione/Località': '', 'Note': 'ristorante bar'}, {'ID': '49', 'Ragione sociale': 'BAR TAVOLA CALDA PIZZERIA ALPINO', 'Indirizzo': 'Corso Roma', 'Civico': '3', 'Comune': 'Baselga di Piné', 'Cap': '38042', 'Frazione/Località': '', 'Note': ''}, {'ID': '50', 'Ragione sociale': 'RISTORANTE BAR ALBERGO VILLA ANITA', 'Indirizzo': 'Via del Fosch', 'Civico': '21', 'Comune': 'Baselga di Piné', 'Cap': '38042', 'Frazione/Località': '', 'Note': 'ristorante bar'}, {'ID': '51', 'Ragione sociale': 'RISTORANTE BAR CA’ DEI BOCI', 'Indirizzo': 'Via Domenica Targa', 'Civico': '1', 'Comune': 'Baselga di Piné', 'Cap': '38042', 'Frazione/Località': 'Montagnaga', 'Note': 'ristorante bar'}, {'ID': '52', 'Ragione sociale': 'HOTEL BELVEDERE WELLNESS & FAMILY', 'Indirizzo': 'Via Domenica Targa', 'Civico': '1', 'Comune': 'Baselga di Piné', 'Cap': '38042', 'Frazione/Località': 'Montagnaga', 'Note': 'ristorante bar'}, {'ID': '53', 'Ragione sociale': 'BAR PASTI VELOCI GELATERIA PASTICCERIA PINETANA', 'Indirizzo': 'Corso Roma', 'Civico': '61', 'Comune': 'Baselga di Piné', 'Cap': '38042', 'Frazione/Località': '', 'Note': ''}, {'ID': '54', 'Ragione sociale': 'SEGHERIA E LEGNAMI DI SIGHEL RENZO', 'Indirizzo': 'Via Marconi', 'Civico': '11', 'Comune': 'Baselga di Piné', 'Cap': '38042', 'Frazione/Località': '', 'Note': ''}, {'ID': '55', 'Ragione sociale': 'MACELLERIA SIGHEL SRL', 'Indirizzo': 'Via Cesare Battisti', 'Civico': '49', 'Comune': 'Baselga di Piné', 'Cap': '38042', 'Frazione/Località': '', 'Note': ''}, {'ID': '56', 'Ragione sociale': 'FAMIGLIA COOPERATIVA ALTOPIANO DI PINE’ SCARL, PUNTO VENDITA', 'Indirizzo': 'Via 4 Novembre', 'Civico': '24', 'Comune': 'Baselga di Piné', 'Cap': '38042', 'Frazione/Località': 'Montagnaga', 'Note': ''}, {'ID': '57', 'Ragione sociale': 'FAMIGLIA COOPERATIVA ALTOPIANO DI PINE’ SCARL, PUNTO VENDITA', 'Indirizzo': 'Via Roma', 'Civico': '9', 'Comune': 'Baselga di Piné', 'Cap': '38042', 'Frazione/Località': '', 'Note': ''}, {'ID': '58', 'Ragione sociale': 'FAMIGLIA COOPERATIVA ALTOPIANO DI PINE’ SCARL, PUNTO VENDITA', 'Indirizzo': 'Via della Chiesa', 'Civico': ' 6/3', 'Comune': 'Baselga di Piné', 'Cap': '38042', 'Frazione/Località': 'Miola', 'Note': ''}, {'ID': '59', 'Ragione sociale': 'FAMIGLIA COOPERATIVA ALTOPIANO DI PINE’ SCARL, PUNTO VENDITA', 'Indirizzo': 'Via dei Piani', 'Civico': '54', 'Comune': 'Baselga di Piné', 'Cap': '38042', 'Frazione/Località': 'Faida', 'Note': ''}, {'ID': '60', 'Ragione sociale': 'FARMACIA MORELLI S.N.C. DI MORELLI DOTT. GIUSEPPE & C.', 'Indirizzo': 'Via Cesare Battisti', 'Civico': '93', 'Comune': 'Baselga di Piné', 'Cap': '38042', 'Frazione/Località': '', 'Note': ''}, {'ID': '61', 'Ragione sociale': 'ORTOFRUTTA - GRAPPOTECA DI ZANEI GIUSEPPE & C. S.N.C.', 'Indirizzo': 'Via Cesare Battisti', 'Civico': '86', 'Comune': 'Baselga di Piné', 'Cap': '38042', 'Frazione/Località': '', 'Note': ''}, {'ID': '62', 'Ragione sociale': 'CALZATURE CARLIN', 'Indirizzo': 'Via Pergine', 'Civico': '14', 'Comune': 'Baselga di Piné', 'Cap': '38042', 'Frazione/Località': 'Montagnaga', 'Note': ''}, {'ID': '63', 'Ragione sociale': 'RIVENDITA TABACCHI N. 5 DI BROSEGHINI CATERINA', 'Indirizzo': 'Via Cesare Battisti', 'Civico': '121', 'Comune': 'Baselga di Piné', 'Cap': '38042', 'Frazione/Località': '', 'Note': ''}, {'ID': '64', 'Ragione sociale': 'OTTICI DEFLORIAN MARANGONI DI MARANGONI DONATELLA', 'Indirizzo': 'Corso Roma', 'Civico': '84', 'Comune': 'Baselga di Piné', 'Cap': '38042', 'Frazione/Località': '', 'Note': ''}, {'ID': '65', 'Ragione sociale': 'BAZAR IORIATTI LINO & C. S.N.C.', 'Indirizzo': 'Corso Roma', 'Civico': '2', 'Comune': 'Baselga di Piné', 'Cap': '38042', 'Frazione/Località': '', 'Note': ''}, {'ID': '66', 'Ragione sociale': 'MINIMERCATO DALSANT GIUSEPPINA & C. SAS', 'Indirizzo': 'Località Campologo', 'Civico': '96', 'Comune': 'Baselga di Piné', 'Cap': '38042', 'Frazione/Località': 'Rizzolaga', 'Note': ''}, {'ID': '67', 'Ragione sociale': 'PANIFICIO ANESI DI ANESI ALESSANDRO', 'Indirizzo': 'Corso Roma', 'Civico': '77', 'Comune': 'Baselga di Piné', 'Cap': '38042', 'Frazione/Località': '', 'Note': ''}, {'ID': '68', 'Ragione sociale': 'MACELLERIA FRANCESCHI ANDREA E C. SNC', 'Indirizzo': 'Corso Roma', 'Civico': '34', 'Comune': 'Baselga di Piné', 'Cap': '38042', 'Frazione/Località': '', 'Note': ''}, {'ID': '69', 'Ragione sociale': 'ORTOFRUTTA ALIMENTARI RAVANELLI RENZO', 'Indirizzo': 'Corso Roma', 'Civico': '47', 'Comune': 'Baselga di Piné', 'Cap': '38042', 'Frazione/Località': '', 'Note': ''}, {'ID': '70', 'Ragione sociale': 'COLTELLERIA S. MARCO F.LLI VALENTINI SNC', 'Indirizzo': 'Piazzetta Agostiniani', 'Civico': '1', 'Comune': 'Trento', 'Cap': '38122', 'Frazione/Località': '', 'Note': ''}, {'ID': '71', 'Ragione sociale': 'ANTICA TRATTORIA AL VOLT DI DANIELA CARESIA', 'Indirizzo': 'Via Santa Croce', 'Civico': '16', 'Comune': 'Trento', 'Cap': '38122', 'Frazione/Località': '', 'Note': ''}, {'ID': '72', 'Ragione sociale': 'NATURERBE S.N.C.', 'Indirizzo': 'Piazza Fiera', 'Civico': '7', 'Comune': 'Trento', 'Cap': '38122', 'Frazione/Località': '', 'Note': 'esercizio commerciale'}, {'ID': '73', 'Ragione sociale': 'LA CANTINOTA RISTORANTE', 'Indirizzo': 'Via San Marco', 'Civico': '22', 'Comune': 'Trento', 'Cap': '38122', 'Frazione/Località': '', 'Note': ''}, {'ID': '74', 'Ragione sociale': 'OSTERIA COE DI PLOTEGHER CHRITIAN', 'Indirizzo': 'Via Caduti Malga Zonta', 'Civico': ' 7 Loc. Passo Coe di Folgaria', 'Comune': 'Folgaria', 'Cap': '38064', 'Frazione/Località': '', 'Note': ''}, {'ID': '75', 'Ragione sociale': 'JOHN CLUB SAS DI SCHÖNSBERG GIOVANNI & C.', 'Indirizzo': 'Via E. Colpi', 'Civico': '52', 'Comune': 'Folgaria', 'Cap': '38064', 'Frazione/Località': '', 'Note': 'bar'}, {'ID': '76', 'Ragione sociale': 'RISTORANTE BAR HOTEL MARTINELLA DI PLOTEGHER STEFANO', 'Indirizzo': 'Via Martinella', 'Civico': ' 53 Serrada di Folgaria', 'Comune': 'Folgaria', 'Cap': '38064', 'Frazione/Località': '', 'Note': ''}, {'ID': '77', 'Ragione sociale': 'RISTORANTE BAR ALBERGO TOMASI DI TOMASI MASSIMILIANO', 'Indirizzo': 'Via E. Colpi', 'Civico': '108', 'Comune': 'Folgaria', 'Cap': '38064', 'Frazione/Località': '', 'Note': ''}, {'ID': '78', 'Ragione sociale': 'CASALINGHI MARTINO S.A.S. DI PERGHER GELMI BRUNA E FIGLI', 'Indirizzo': 'Via E. Colpi', 'Civico': '131', 'Comune': 'Folgaria', 'Cap': '38064', 'Frazione/Località': '', 'Note': ''}, {'ID': '79', 'Ragione sociale': 'RISTORANTE ALBERGO MILANO DI CAPPELLETTI PAOLA', 'Indirizzo': 'Via L. Cadorna', 'Civico': '27', 'Comune': 'Folgaria', 'Cap': '38064', 'Frazione/Località': '', 'Note': ''}, {'ID': '80', 'Ragione sociale': 'BAR PASTICCERIA DALSASS DI CUEL SILVANA & C. SNC', 'Indirizzo': 'Via E. Colpi', 'Civico': '61', 'Comune': 'Folgaria', 'Cap': '38064', 'Frazione/Località': '', 'Note': ''}, {'ID': '81', 'Ragione sociale': 'BAR CENTRALE DI CANALIA LUISA', 'Indirizzo': 'Via Pasubio', 'Civico': ' 26 Serrada di Folgaria', 'Comune': 'Folgaria', 'Cap': '38064', 'Frazione/Località': '', 'Note': ''}, {'ID': '82', 'Ragione sociale': 'PIZZERIA SCOIATTOLO CENTER SERVICE DI COROTTI GIANDARLO & C. SAS', 'Indirizzo': 'Via E. Colpi', 'Civico': '233', 'Comune': 'Folgaria', 'Cap': '38064', 'Frazione/Località': '', 'Note': ''}, {'ID': '83', 'Ragione sociale': 'ORTOFRUTTA GASPEROTTI FULVIO', 'Indirizzo': 'Via E. Colpi', 'Civico': '127', 'Comune': 'Folgaria', 'Cap': '38064', 'Frazione/Località': '', 'Note': ''}, {'ID': '84', 'Ragione sociale': 'ORTOFRUTTA VENERI PAOLO', 'Indirizzo': 'Via Roma', 'Civico': '85', 'Comune': 'Folgaria', 'Cap': '38064', 'Frazione/Località': '', 'Note': ''}, {'ID': '85', 'Ragione sociale': 'MINIMARKET TARGHER S.A.S. DI TARGHER MAURO & C.', 'Indirizzo': 'Via E. Colpi', 'Civico': '9', 'Comune': 'Folgaria', 'Cap': '38064', 'Frazione/Località': '', 'Note': ''}, {'ID': '86', 'Ragione sociale': 'PANIFICIO BARBETTI GUIDO DI BARBETTI BRUNO & C. S.N.C.', 'Indirizzo': 'Via Nazioni Unite', 'Civico': ' 40 Costa di Folgaria', 'Comune': 'Folgaria', 'Cap': '38064', 'Frazione/Località': '', 'Note': ''}, {'ID': '87', 'Ragione sociale': 'RISTORANTE HOTEL ALPINO S.R.L.', 'Indirizzo': 'Via E. Colpi', 'Civico': '170', 'Comune': 'Folgaria', 'Cap': '38064', 'Frazione/Località': '', 'Note': ''}, {'ID': '88', 'Ragione sociale': 'RISTORANTE LOCANDA DA UGO DI LEITEMPERGHER ETTORE', 'Indirizzo': 'Via E. Colpi', 'Civico': '343', 'Comune': 'Folgaria', 'Cap': '38064', 'Frazione/Località': '', 'Note': ''}, {'ID': '89', 'Ragione sociale': 'BAZAR TABACCHI PEROTTO LUCIA ASSUNTA', 'Indirizzo': 'Via G. Carducci', 'Civico': ' 45 Carbonare di Folgaria', 'Comune': 'Folgaria', 'Cap': '38064', 'Frazione/Località': '', 'Note': ''}, {'ID': '90', 'Ragione sociale': 'FOTO OTTICA PLOTEGHER ALCIDE', 'Indirizzo': 'Via E. Colpi', 'Civico': '143', 'Comune': 'Folgaria', 'Cap': '38064', 'Frazione/Località': '', 'Note': ''}, {'ID': '91', 'Ragione sociale': 'MINIMARKET SCALZERI GIANNA', 'Indirizzo': 'Via A. Manzoni', 'Civico': ' 14 Carbonare di Folgaria', 'Comune': 'Folgaria', 'Cap': '38064', 'Frazione/Località': '', 'Note': ''}, {'ID': '92', 'Ragione sociale': 'ANTICA MACELLERIA E SALUMERIA CAPPELLETTI DI CAPPELLETTI ANDREA', 'Indirizzo': 'Via E. Colpi', 'Civico': '1', 'Comune': 'Folgaria', 'Cap': '38064', 'Frazione/Località': '', 'Note': ''}, {'ID': '93', 'Ragione sociale': 'NEGOZIO MARIAROSA DI FESTI GIUSTINO', 'Indirizzo': 'Via E. Colpi', 'Civico': '21', 'Comune': 'Folgaria', 'Cap': '38064', 'Frazione/Località': '', 'Note': ''}, {'ID': '94', 'Ragione sociale': 'MACELLERIA CANALIA MAURO', 'Indirizzo': 'Via E. Colpi', 'Civico': '171', 'Comune': 'Folgaria', 'Cap': '38064', 'Frazione/Località': '', 'Note': ''}, {'ID': '95', 'Ragione sociale': 'BAR RISTORANTE CONCA D’ORO DI GEROLA FIORENZO', 'Indirizzo': 'Loc. Fondo Grande di Folgaria', 'Civico': '160', 'Comune': 'Folgaria', 'Cap': '38064', 'Frazione/Località': '', 'Note': ''}, {'ID': '96', 'Ragione sociale': 'RISTORANTE BAR ALBERGO AL SOLE DI ALICE E MARIANNA DALPRA’ SNC', 'Indirizzo': 'Via L. Nazionale', 'Civico': ' 49 San Sebastiano di Folgaria', 'Comune': 'Folgaria', 'Cap': '38064', 'Frazione/Località': '', 'Note': ''}, {'ID': '97', 'Ragione sociale': 'EDICOLA RIVENDITA TABACCHI N° 3 DI WEGHER PAOLO', 'Indirizzo': 'Via Roma', 'Civico': ' 71/73', 'Comune': 'Folgaria', 'Cap': '38064', 'Frazione/Località': '', 'Note': ''}, {'ID': '98', 'Ragione sociale': 'MILLE COSE SNC DI PLOTEGHER MAURO E MICHELA & C.', 'Indirizzo': 'Via E. Colpi', 'Civico': '135', 'Comune': 'Folgaria', 'Cap': '38064', 'Frazione/Località': '', 'Note': ''}, {'ID': '99', 'Ragione sociale': 'SPECIALITA’ ALIMENTARI DI PAOLO E GIANNI ALIMENTARI FINAROLLI DI GILBERTI PAOLO & C. S.N.C.', 'Indirizzo': 'Via Mercerie', 'Civico': ' 7-9', 'Comune': 'Rovereto', 'Cap': '38068', 'Frazione/Località': '', 'Note': ''}, {'ID': '100', 'Ragione sociale': 'LUIGI ALDRIGHETTONI DI ALDRIGHETTONI GIOVANNI BATTISTA', 'Indirizzo': 'Via Paoli', 'Civico': ' 18/B', 'Comune': 'Rovereto', 'Cap': '38048', 'Frazione/Località': '', 'Note': 'esercizio commerciale'}, {'ID': '101', 'Ragione sociale': 'RISTORANTE  BAR BENACO di NODARI GIOVANNI & C. S.A.S.', 'Indirizzo': 'Via Benaco', 'Civico': '35', 'Comune': 'Torbole sul Garda', 'Cap': '38033', 'Frazione/Località': '', 'Note': ''}, {'ID': '102', 'Ragione sociale': 'CAFFE’ ALEXANDER BERNARDI GIORGIO & C. SNC', 'Indirizzo': 'Piazza Municipio', 'Civico': '4', 'Comune': 'Pergine Valsugana', 'Cap': '38057', 'Frazione/Località': '', 'Note': ''}, {'ID': '103', 'Ragione sociale': 'OCHNER LUIGI', 'Indirizzo': 'Piazza Municipio', 'Civico': '20', 'Comune': 'Pergine Valsugana', 'Cap': '38057', 'Frazione/Località': '', 'Note': 'esercizio commerciale'}, {'ID': '104', 'Ragione sociale': 'BAR AL PONTE di TARGA MATTEO', 'Indirizzo': 'Via Al Ponte', 'Civico': '4', 'Comune': 'Pergine Valsugana', 'Cap': '38057', 'Frazione/Località': '', 'Note': ''}, {'ID': '106', 'Ragione sociale': 'PANIFICIO BERTOLDI S.N.C. DI BERTOLDI FABIO & C.', 'Indirizzo': 'Frazione Gionghi', 'Civico': '105', 'Comune': 'Lavarone', 'Cap': '38046', 'Frazione/Località': '', 'Note': ''}, {'ID': '107', 'Ragione sociale': 'CERVO S.N.C. DI MARCHESI CARLO & F.LLI', 'Indirizzo': 'Piazza Milano', 'Civico': '2', 'Comune': 'Lavarone', 'Cap': '38046', 'Frazione/Località': '', 'Note': 'ristorante bar'}, {'ID': '108', 'Ragione sociale': 'PICCOLO BAZAR DI GIONGO MARIO', 'Indirizzo': 'Frazione Gionghi', 'Civico': '96', 'Comune': 'Lavarone', 'Cap': '38046', 'Frazione/Località': '', 'Note': ''}, {'ID': '109', 'Ragione sociale': 'STENGHELE FRATELLI S.N.C. DI STENGHELE FRANCESCO GINO & C.', 'Indirizzo': 'Via Trieste', 'Civico': '18', 'Comune': 'Lavarone', 'Cap': '38046', 'Frazione/Località': '', 'Note': 'esercizio commerciale'}, {'ID': '110', 'Ragione sociale': 'RISTORANTE BAR HOTEL DU LAC DI GABRIELLI ANDREA & C. S.A.S.', 'Indirizzo': 'Via Trieste', 'Civico': '32', 'Comune': 'Lavarone', 'Cap': '38046', 'Frazione/Località': '', 'Note': ''}, {'ID': '111', 'Ragione sociale': 'FAMIGLIA COOPERATIVA LAVARONE S.C.A.R.L.', 'Indirizzo': 'Frazione Bertoldi', 'Civico': '5', 'Comune': 'Lavarone', 'Cap': '38046', 'Frazione/Località': '', 'Note': ''}, {'ID': '113', 'Ragione sociale': 'DALSASSO EUGENIO', 'Indirizzo': 'Via Piave', 'Civico': '6', 'Comune': 'Pergine Valsugana', 'Cap': '38057', 'Frazione/Località': '', 'Note': 'esercizio commerciale'}, {'ID': '114', 'Ragione sociale': 'A.B. INTIMO DI BRUNELLI SILVANA E EVANGELISTI LUIGINO S.N.C.', 'Indirizzo': 'Via Chimelli', 'Civico': '18', 'Comune': 'Pergine Valsugana', 'Cap': '38057', 'Frazione/Località': '', 'Note': ''}, {'ID': '115', 'Ragione sociale': 'LA ROTONDA DI BETTI MARCO & C. S.N.C.', 'Indirizzo': 'Viale Venezia', 'Civico': '37', 'Comune': 'Pergine Valsugana', 'Cap': '38057', 'Frazione/Località': '', 'Note': 'ristorante'}, {'ID': '116', 'Ragione sociale': 'GIOIELLERIA ANDREATTA SAS DI ANDREATTA ALESSANDRO & C.', 'Indirizzo': 'Corso Roma', 'Civico': '72', 'Comune': 'Baselga di Piné', 'Cap': '38042', 'Frazione/Località': '', 'Note': ''}, {'ID': '117', 'Ragione sociale': 'FARMACIA DE BATTAGLIA', 'Indirizzo': 'Piazza Pasi', 'Civico': '20', 'Comune': 'Trento', 'Cap': '38122', 'Frazione/Località': '', 'Note': ''}, {'ID': '119', 'Ragione sociale': 'MOSER CICLI', 'Indirizzo': 'Via Calepina', 'Civico': '63', 'Comune': 'Trento', 'Cap': '38122', 'Frazione/Località': '', 'Note': ''}, {'ID': '120', 'Ragione sociale': 'FOTO CINE LA ROTONDA', 'Indirizzo': 'Via San Vigilio', 'Civico': '7', 'Comune': 'Trento', 'Cap': '38122', 'Frazione/Località': '', 'Note': ''}, {'ID': '121', 'Ragione sociale': 'FARMACIA DOTT. SANTONI', 'Indirizzo': 'Piazza Filzi', 'Civico': '21', 'Comune': 'Rovereto', 'Cap': '38068', 'Frazione/Località': '', 'Note': ''}, {'ID': '122', 'Ragione sociale': 'OREFICERIA FRANCO GOTTARDI', 'Indirizzo': 'Viale Dante', 'Civico': '50', 'Comune': 'Tione di Trento', 'Cap': '38079', 'Frazione/Località': '', 'Note': ''}, {'ID': '123', 'Ragione sociale': 'BAR BELEM DI BERTOLDI FRANCA', 'Indirizzo': 'Frazione Bertoldi', 'Civico': '57', 'Comune': 'Lavarone', 'Cap': '38046', 'Frazione/Località': '', 'Note': ''}, {'ID': '124', 'Ragione sociale': 'BAR ALBERGO NAZIONALE DI PACE ENLI & C. SNC', 'Indirizzo': 'Piazza Milano', 'Civico': '6', 'Comune': 'Lavarone', 'Cap': '38046', 'Frazione/Località': ' Cappella', 'Note': 'bar'}, {'ID': '125', 'Ragione sociale': 'TABACCHI PACE ENLI', 'Indirizzo': 'Piazza Milano', 'Civico': '6', 'Comune': 'Lavarone', 'Cap': '38046', 'Frazione/Località': ' Cappella', 'Note': ''}, {'ID': '126', 'Ragione sociale': 'CASEIFICIO DEGLI ALTIPIANI E DEL VEZZENA S.C.A.', 'Indirizzo': 'Via Marconi', 'Civico': '5', 'Comune': 'Lavarone', 'Cap': '38046', 'Frazione/Località': ' Cappella', 'Note': ''}, {'ID': '127', 'Ragione sociale': 'FOTO EMANUELLI', 'Indirizzo': 'Via S. Bernardino', 'Civico': '2', 'Comune': 'Arco', 'Cap': '38062', 'Frazione/Località': '', 'Note': ''}, {'ID': '128', 'Ragione sociale': 'BAZAR DEL POPOLO', 'Indirizzo': 'Via Vergolano', 'Civico': '16', 'Comune': 'Arco', 'Cap': '38062', 'Frazione/Località': '', 'Note': ''}, {'ID': '130', 'Ragione sociale': 'MANIFATTURE LOMBARDE', 'Indirizzo': 'Via Segantini', 'Civico': '78', 'Comune': 'Arco', 'Cap': '38062', 'Frazione/Località': '', 'Note': ''}, {'ID': '131', 'Ragione sociale': 'CALZATURE GIULIANI', 'Indirizzo': 'Via Segantini', 'Civico': '105', 'Comune': 'Arco', 'Cap': '38062', 'Frazione/Località': '', 'Note': ''}, {'ID': '132', 'Ragione sociale': 'ALIMENTARI TRENTI', 'Indirizzo': 'Via S. Bernardino', 'Civico': '9', 'Comune': 'Arco', 'Cap': '38062', 'Frazione/Località': '', 'Note': ''}, {'ID': '133', 'Ragione sociale': 'ZAMBONI TESSUTI', 'Indirizzo': 'Piazza 3 Novembre', 'Civico': '6', 'Comune': 'Arco', 'Cap': '38062', 'Frazione/Località': '', 'Note': ''}, {'ID': '134', 'Ragione sociale': 'RISTORANTE HOTEL MARCHI', 'Indirizzo': 'Via Ferrera', 'Civico': '22', 'Comune': 'Arco', 'Cap': '38062', 'Frazione/Località': '', 'Note': ''}, {'ID': '135', 'Ragione sociale': 'RISTORANTE ALLA LEGA', 'Indirizzo': 'Via Vergolano', 'Civico': '8', 'Comune': 'Arco', 'Cap': '38062', 'Frazione/Località': '', 'Note': ''}, {'ID': '136', 'Ragione sociale': 'RISTORANTE BELVEDERE', 'Indirizzo': 'Via Serafini', 'Civico': '2', 'Comune': 'Arco', 'Cap': '38062', 'Frazione/Località': '', 'Note': ''}, {'ID': '137', 'Ragione sociale': 'PANIFICIO PULIN SAS', 'Indirizzo': 'Via Cavour', 'Civico': '23', 'Comune': 'Trento', 'Cap': '38122', 'Frazione/Località': '', 'Note': ''}, {'ID': '138', 'Ragione sociale': 'ANTICA MACELLERIA BALLARDINI', 'Indirizzo': 'Via del Foro', 'Civico': '14', 'Comune': 'Tione di Trento', 'Cap': '38079', 'Frazione/Località': '', 'Note': ''}, {'ID': '139', 'Ragione sociale': 'CARTOLIBRERIA B. ANTOLINI', 'Indirizzo': 'Viale Dante', 'Civico': '5', 'Comune': 'Tione di Trento', 'Cap': '38079', 'Frazione/Località': '', 'Note': ''}, {'ID': '140', 'Ragione sociale': 'DI FLORIO MARIA TERESA', 'Indirizzo': 'Via del Moleta', 'Civico': '8', 'Comune': 'Cinte Tesino', 'Cap': '38050', 'Frazione/Località': '', 'Note': 'esercizio commerciale'}, {'ID': '141', 'Ragione sociale': 'FAMIGLIA COOEPRATIVA VALLE SAN FELICE', 'Indirizzo': 'Piazza San Felice', 'Civico': '12', 'Comune': 'Mori', 'Cap': '38065', 'Frazione/Località': ' Valle San Felice', 'Note': ''}, {'ID': '142', 'Ragione sociale': 'ABBIGLIAMENTO MAGANOTTI MARIA GRAZIA', 'Indirizzo': 'Piazza Cal Di Ponte', 'Civico': '15', 'Comune': 'Mori', 'Cap': '38065', 'Frazione/Località': '', 'Note': ''}, {'ID': '143', 'Ragione sociale': 'TRATTORIA - BAR AL LAGO', 'Indirizzo': 'Via del Garda', 'Civico': '1', 'Comune': 'Mori', 'Cap': '38065', 'Frazione/Località': ' Loppio', 'Note': ''}, {'ID': '144', 'Ragione sociale': 'FABBRICA RETI E MATERIASSI MENEGHELLI', 'Indirizzo': 'Largo Villanuova', 'Civico': '32', 'Comune': 'Mori', 'Cap': '38065', 'Frazione/Località': '', 'Note': ''}, {'ID': '145', 'Ragione sociale': 'LA BOTTEGA DI GARUFFO LIA', 'Indirizzo': 'Via Modena', 'Civico': '51', 'Comune': 'Mori', 'Cap': '38065', 'Frazione/Località': '', 'Note': ''}, {'ID': '146', 'Ragione sociale': 'VINERIA – BAR BAROLDI', 'Indirizzo': 'Via Modena', 'Civico': '35', 'Comune': 'Mori', 'Cap': '38065', 'Frazione/Località': '', 'Note': ''}, {'ID': '147', 'Ragione sociale': 'BAR SANI', 'Indirizzo': 'Piazza Cal Di Ponte', 'Civico': '16', 'Comune': 'Mori', 'Cap': '38065', 'Frazione/Località': '', 'Note': ''}, {'ID': '148', 'Ragione sociale': 'FORGIATURA MARCHIORI', 'Indirizzo': 'Via Monte Baldo', 'Civico': ' 6/A', 'Comune': 'Mori', 'Cap': '38065', 'Frazione/Località': '', 'Note': ''}, {'ID': '149', 'Ragione sociale': 'FERRAMENTA MALFATTI', 'Indirizzo': 'Piazza Cal Di Ponte', 'Civico': '4', 'Comune': 'Mori', 'Cap': '38065', 'Frazione/Località': '', 'Note': ''}, {'ID': '150', 'Ragione sociale': 'OFFICINA BOMBARDELLI', 'Indirizzo': 'Via Matteotti', 'Civico': '96', 'Comune': 'Mori', 'Cap': '38065', 'Frazione/Località': '', 'Note': ''}, {'ID': '151', 'Ragione sociale': 'EDICOLA CARTOLERIA PERINI', 'Indirizzo': 'Piazza Cal Di Ponte', 'Civico': '28', 'Comune': 'Mori', 'Cap': '38065', 'Frazione/Località': '', 'Note': ''}, {'ID': '152', 'Ragione sociale': 'ALIMENTARI MIORELLI', 'Indirizzo': 'Via Modena', 'Civico': '2', 'Comune': 'Mori', 'Cap': '38065', 'Frazione/Località': '', 'Note': ''}, {'ID': '153', 'Ragione sociale': 'CAFFE’ DEL GELSO', 'Indirizzo': 'Via Garibaldi', 'Civico': '3', 'Comune': 'Mori', 'Cap': '38065', 'Frazione/Località': '', 'Note': ''}, {'ID': '154', 'Ragione sociale': 'MACELLERIA TRANQUILLINI', 'Indirizzo': 'Via Modena', 'Civico': '1', 'Comune': 'Mori', 'Cap': '38065', 'Frazione/Località': '', 'Note': ''}, {'ID': '155', 'Ragione sociale': 'FARMACIA S. STEFANO', 'Indirizzo': 'Via Malfatti', 'Civico': '6', 'Comune': 'Mori', 'Cap': '38065', 'Frazione/Località': '', 'Note': ''}, {'ID': '156', 'Ragione sociale': 'SUPERMARKET ZENI', 'Indirizzo': 'Via Don  Sturzo', 'Civico': '6', 'Comune': 'Mori', 'Cap': '38065', 'Frazione/Località': '', 'Note': ''}, {'ID': '157', 'Ragione sociale': 'LAVANDERIA LA RINNOVA', 'Indirizzo': 'Via Modena', 'Civico': '65', 'Comune': 'Mori', 'Cap': '38065', 'Frazione/Località': '', 'Note': ''}, {'ID': '158', 'Ragione sociale': 'PANIFICIO SARTORI', 'Indirizzo': 'Piazza Cal Di Ponte', 'Civico': '32', 'Comune': 'Mori', 'Cap': '38065', 'Frazione/Località': '', 'Note': ''}, {'ID': '159', 'Ragione sociale': 'BAR RISTORANTE ALBERGO ALLA COSTA', 'Indirizzo': 'Piazza Concei', 'Civico': '3', 'Comune': 'Ledro', 'Cap': '38067', 'Frazione/Località': ' Bezzecca', 'Note': ''}, {'ID': '160', 'Ragione sociale': 'BAR RISTORANTE ALBERGO ALLA PERLA', 'Indirizzo': 'Via Garibaldi', 'Civico': '63', 'Comune': 'Ledro', 'Cap': '38067', 'Frazione/Località': ' Tiarno di Sotto', 'Note': ''}, {'ID': '161', 'Ragione sociale': 'BAR RISTORANTE ALBERGO ALPINO', 'Indirizzo': 'Via Cassoni', 'Civico': '16', 'Comune': 'Ledro', 'Cap': '38067', 'Frazione/Località': ' Pieve di Ledro', 'Note': ''}, {'ID': '162', 'Ragione sociale': 'BAR RISTORANTE ALBERGO CASAVECCHIA', 'Indirizzo': 'Via G. Marconi', 'Civico': ' 11/A', 'Comune': 'Ledro', 'Cap': '38067', 'Frazione/Località': ' Tiarno di Sopra', 'Note': ''}, {'ID': '163', 'Ragione sociale': 'BAR RISTORANTE ALBERGO MAGGIORINA', 'Indirizzo': 'Via XXIV Ottobre', 'Civico': '9', 'Comune': 'Ledro', 'Cap': '38067', 'Frazione/Località': ' Bezzecca', 'Note': ''}, {'ID': '164', 'Ragione sociale': 'BAR RISTORANTE ALBERGO VITTORIA', 'Indirizzo': 'Piazza Milin', 'Civico': '1', 'Comune': 'Ledro', 'Cap': '38067', 'Frazione/Località': ' Tiarno di Sopra', 'Note': ''}, {'ID': '165', 'Ragione sociale': 'BAR POSTA', 'Indirizzo': 'Via G. Marconi', 'Civico': '93', 'Comune': 'Ledro', 'Cap': '38067', 'Frazione/Località': ' Tiarno di Sopra', 'Note': ''}, {'ID': '166', 'Ragione sociale': 'CAFFÈ BAR CENTRALE', 'Indirizzo': 'Piazza Garibaldi', 'Civico': '7', 'Comune': 'Ledro', 'Cap': '38067', 'Frazione/Località': 'Bezzecca', 'Note': ''}, {'ID': '167', 'Ragione sociale': 'BAR RISTORANTE PIZZERIA CAMPEGGIO AL LAGO', 'Indirizzo': 'Via Alzer', 'Civico': '7', 'Comune': 'Ledro', 'Cap': '38067', 'Frazione/Località': ' Pieve di Ledro', 'Note': ''}, {'ID': '168', 'Ragione sociale': 'CASARI FERRAMENTA', 'Indirizzo': 'Via Maffei', 'Civico': '3', 'Comune': 'Ledro', 'Cap': '38067', 'Frazione/Località': 'Molina di Ledro', 'Note': ''}, {'ID': '169', 'Ragione sociale': 'OFFICINA MECCANICA DISTRIBUTORE MAZZOLA', 'Indirizzo': 'Via Maffei', 'Civico': '77', 'Comune': 'Ledro', 'Cap': '38067', 'Frazione/Località': 'Molina di Ledro', 'Note': ''}, {'ID': '170', 'Ragione sociale': 'OFFICINA MECCANICA DISTRIBUTORE PELLEGRINI', 'Indirizzo': 'Via Nuova', 'Civico': '8', 'Comune': 'Ledro', 'Cap': '38067', 'Frazione/Località': ' Pieve di Ledro', 'Note': ''}, {'ID': '171', 'Ragione sociale': 'BAR RISTORANTE ECO AMBIENTI HOTEL ELDA', 'Indirizzo': 'Via III Giugno', 'Civico': '3', 'Comune': 'Ledro', 'Cap': '38067', 'Frazione/Località': ' Lenzumo', 'Note': ''}, {'ID': '172', 'Ragione sociale': 'FARMACIA FOLETTO', 'Indirizzo': 'Via Vittoria', 'Civico': '11', 'Comune': 'Ledro', 'Cap': '38067', 'Frazione/Località': ' Pieve di Ledro', 'Note': ''}, {'ID': '173', 'Ragione sociale': 'BAR RISTORANTE HOTEL CADRIA', 'Indirizzo': 'Via Unità d’Italia', 'Civico': '25', 'Comune': 'Ledro', 'Cap': '38067', 'Frazione/Località': ' Lenzumo', 'Note': ''}, {'ID': '174', 'Ragione sociale': 'BAR RISTORANTE HOTEL LIDO', 'Indirizzo': 'Via Pribram', 'Civico': '1', 'Comune': 'Ledro', 'Cap': '38067', 'Frazione/Località': ' Pieve di Ledro', 'Note': ''}, {'ID': '175', 'Ragione sociale': 'BAR RISTORANTE HOTEL MEZZOLAGO', 'Indirizzo': 'Via Lungolago', 'Civico': ' 4/6', 'Comune': 'Ledro', 'Cap': '38067', 'Frazione/Località': ' Mezzolago', 'Note': ''}, {'ID': '176', 'Ragione sociale': 'LA BOTTEGA DELL’ARTIGIANO', 'Indirizzo': 'Via Vittoria', 'Civico': '22', 'Comune': 'Ledro', 'Cap': '38067', 'Frazione/Località': ' Pieve di Ledro', 'Note': ''}, {'ID': '177', 'Ragione sociale': 'MACELLERIA CIS MASSIMO', 'Indirizzo': 'Via XXI Luglio', 'Civico': '8', 'Comune': 'Ledro', 'Cap': '38067', 'Frazione/Località': 'Bezzecca', 'Note': ''}, {'ID': '178', 'Ragione sociale': 'MACELLERIA ZECCHINI', 'Indirizzo': 'Piazza Obbedisco', 'Civico': '13', 'Comune': 'Ledro', 'Cap': '38067', 'Frazione/Località': 'Bezzecca', 'Note': ''}, {'ID': '179', 'Ragione sociale': 'OSTERIA LA TORRE', 'Indirizzo': 'Via Vittoria', 'Civico': '28', 'Comune': 'Ledro', 'Cap': '38067', 'Frazione/Località': ' Pieve di Ledro', 'Note': ''}, {'ID': '180', 'Ragione sociale': 'PANIFICIO F.LLI TOMASONI S.A.S.', 'Indirizzo': 'Via C. Battisti', 'Civico': '5', 'Comune': 'Ledro', 'Cap': '38067', 'Frazione/Località': 'Bezzecca', 'Note': ''}, {'ID': '181', 'Ragione sociale': 'RIFUGIO AL FAGGIO', 'Indirizzo': 'Località al Faggio', 'Civico': '', 'Comune': 'Ledro', 'Cap': '38067', 'Frazione/Località': ' Concei', 'Note': 'rifugio escursionistico'}, {'ID': '182', 'Ragione sociale': 'RIBAGA SELF SERVICE', 'Indirizzo': 'Via Vittorio Emanuele', 'Civico': '65', 'Comune': 'Ledro', 'Cap': '38067', 'Frazione/Località': ' Tiarno di Sopra', 'Note': ''}, {'ID': '183', 'Ragione sociale': 'BAR RISTORANTE FALORIA', 'Indirizzo': 'Piaz De Sotegrava', 'Civico': '17', 'Comune': 'Moena', 'Cap': '38035', 'Frazione/Località': '', 'Note': ''}, {'ID': '184', 'Ragione sociale': 'CASABELLA IDEE REGALO', 'Indirizzo': 'Cort Del Batesta', 'Civico': '10', 'Comune': 'Moena', 'Cap': '38035', 'Frazione/Località': '', 'Note': ''}, {'ID': '185', 'Ragione sociale': 'ARTICOLI DA REGALO LIBRERIA CROCE MARIA CRISTINA', 'Indirizzo': 'Piaz De Ramon', 'Civico': '1', 'Comune': 'Moena', 'Cap': '38035', 'Frazione/Località': '', 'Note': ''}, {'ID': '186', 'Ragione sociale': 'EN SLUCK', 'Indirizzo': 'Strada Cerilo Dellantonio Bora', 'Civico': '4', 'Comune': 'Moena', 'Cap': '38035', 'Frazione/Località': '', 'Note': 'esercizio commerciale'}, {'ID': '187', 'Ragione sociale': 'FARMACIA DOTT. RIGONI', 'Indirizzo': 'Strada Cerilo Dellantonio Bora', 'Civico': '2', 'Comune': 'Moena', 'Cap': '38035', 'Frazione/Località': '', 'Note': ''}, {'ID': '188', 'Ragione sociale': 'BAR HOTEL CAVALLETTO', 'Indirizzo': 'Strada De Fachin', 'Civico': '1', 'Comune': 'Moena', 'Cap': '38035', 'Frazione/Località': '', 'Note': ''}, {'ID': '189', 'Ragione sociale': 'BAR HOTEL MARIA', 'Indirizzo': 'Strada De Sen Pelegrin', 'Civico': '1', 'Comune': 'Moena', 'Cap': '38035', 'Frazione/Località': '', 'Note': ''}, {'ID': '190', 'Ragione sociale': 'IELLICI SPORT CALZATURE', 'Indirizzo': 'Piaz De Ramon', 'Civico': '62', 'Comune': 'Moena', 'Cap': '38035', 'Frazione/Località': '', 'Note': ''}, {'ID': '191', 'Ragione sociale': 'MODE SPORT', 'Indirizzo': 'Piaz De Ramon', 'Civico': '48', 'Comune': 'Moena', 'Cap': '38035', 'Frazione/Località': '', 'Note': ''}, {'ID': '192', 'Ragione sociale': 'BAR HOTEL MANZONI', 'Indirizzo': 'Sen Pelegrin', 'Civico': '14', 'Comune': 'Moena', 'Cap': '38035', 'Frazione/Località': '', 'Note': ''}, {'ID': '193', 'Ragione sociale': 'BAR RISTORANTE LO SFIZIO', 'Indirizzo': 'Piaz De Ramon', 'Civico': '32', 'Comune': 'Moena', 'Cap': '38035', 'Frazione/Località': '', 'Note': ''}, {'ID': '194', 'Ragione sociale': 'BAR SPORTHOTEL SAN VIGILIO', 'Indirizzo': 'L Vial', 'Civico': '23', 'Comune': 'Moena', 'Cap': '38035', 'Frazione/Località': '', 'Note': ''}, {'ID': '195', 'Ragione sociale': 'CALZATURE ZANONER', 'Indirizzo': 'Strada Ermanno Zanoner – Canori', 'Civico': '8', 'Comune': 'Moena', 'Cap': '38035', 'Frazione/Località': '', 'Note': ''}, {'ID': '196', 'Ragione sociale': 'ALIMENTARI MANINFIOR ANITA', 'Indirizzo': 'Via C. A. Martini', 'Civico': '51', 'Comune': 'Revò', 'Cap': '38028', 'Frazione/Località': '', 'Note': ''}, {'ID': '197', 'Ragione sociale': 'ALIMENTARI SANDRI', 'Indirizzo': 'Via C. A. Martini', 'Civico': '2', 'Comune': 'Revò', 'Cap': '38028', 'Frazione/Località': '', 'Note': ''}, {'ID': '198', 'Ragione sociale': 'ALIMENTARI WEGHER GIOVANNA', 'Indirizzo': 'Piazza S. Maurizio', 'Civico': '', 'Comune': 'Revò', 'Cap': '38028', 'Frazione/Località': ' Tregiovo', 'Note': ''}, {'ID': '199', 'Ragione sociale': 'BAR ZILLER', 'Indirizzo': 'Via C. A. Martini', 'Civico': '19', 'Comune': 'Revò', 'Cap': '38028', 'Frazione/Località': '', 'Note': ''}, {'ID': '200', 'Ragione sociale': 'CALZATURIFICIO ROSSI LUIGI DI ROSSI DIEGO', 'Indirizzo': 'Via C. A. Martini', 'Civico': '53', 'Comune': 'Revò', 'Cap': '38028', 'Frazione/Località': '', 'Note': ''}, {'ID': '201', 'Ragione sociale': 'CASEIFICIO SOCIALE MONTE OZOLO', 'Indirizzo': 'Via Dei Maurini Bassi', 'Civico': '2', 'Comune': 'Revò', 'Cap': '38028', 'Frazione/Località': '', 'Note': ''}, {'ID': '202', 'Ragione sociale': 'CONFEZIONI ZILLER', 'Indirizzo': 'Via C. A. Martini', 'Civico': '7', 'Comune': 'Revò', 'Cap': '38028', 'Frazione/Località': '', 'Note': ''}, {'ID': '203', 'Ragione sociale': 'ELETTROMARTINI', 'Indirizzo': 'Piazza della Madonna Pellegrina', 'Civico': '8', 'Comune': 'Revò', 'Cap': '38028', 'Frazione/Località': '', 'Note': ''}, {'ID': '204', 'Ragione sociale': 'FABBRO GENTILINI MAURIZIO', 'Indirizzo': 'Via C. A. Martini', 'Civico': '45', 'Comune': 'Revò', 'Cap': '38028', 'Frazione/Località': '', 'Note': ''}, {'ID': '205', 'Ragione sociale': 'FARMACIA SILVESTRI LUCIANA', 'Indirizzo': 'Via J. A. Maffei', 'Civico': '4', 'Comune': 'Revò', 'Cap': '38028', 'Frazione/Località': '', 'Note': ''}, {'ID': '206', 'Ragione sociale': 'FERRAMENTA FERRARI GIULIANO', 'Indirizzo': 'Via C. A. Martini', 'Civico': '13', 'Comune': 'Revò', 'Cap': '38028', 'Frazione/Località': '', 'Note': ''}, {'ID': '207', 'Ragione sociale': 'SALUMIFICIO ARTIGIANALE FLAIM', 'Indirizzo': 'Via C. A. Martini', 'Civico': '9', 'Comune': 'Revò', 'Cap': '38028', 'Frazione/Località': '', 'Note': ''}, {'ID': '208', 'Ragione sociale': 'BAR RISTORANTE HOTEL REVÒ', 'Indirizzo': 'Via G. Verdi', 'Civico': '13', 'Comune': 'Revò', 'Cap': '38028', 'Frazione/Località': '', 'Note': ''}, {'ID': '209', 'Ragione sociale': 'ARTICOLI SPORTIVI DI VARESCO MARIO & C. SNC', 'Indirizzo': 'Via Prai de Mont', 'Civico': '10', 'Comune': 'Predazzo', 'Cap': '38037', 'Frazione/Località': ' Bellamonte', 'Note': ''}, {'ID': '210', 'Ragione sociale': 'FOTO BONINSEGNA', 'Indirizzo': 'Via Trento', 'Civico': '27', 'Comune': 'Predazzo', 'Cap': '38037', 'Frazione/Località': '', 'Note': ''}, {'ID': '211', 'Ragione sociale': 'CASALINGHI MORANDINI', 'Indirizzo': 'Via Trento', 'Civico': '32', 'Comune': 'Predazzo', 'Cap': '38037', 'Frazione/Località': '', 'Note': ''}, {'ID': '212', 'Ragione sociale': 'CEMIN SPORT', 'Indirizzo': 'Piazza SS. Filippo e Giacomo', 'Civico': '9', 'Comune': 'Predazzo', 'Cap': '38037', 'Frazione/Località': '', 'Note': ''}, {'ID': '213', 'Ragione sociale': 'EL MAMA FERRAMENTA', 'Indirizzo': 'Via Garibaldi', 'Civico': '1', 'Comune': 'Predazzo', 'Cap': '38037', 'Frazione/Località': '', 'Note': ''}, {'ID': '214', 'Ragione sociale': 'SUPERMERCATO FAMIGLIA COOPERATIVA', 'Indirizzo': 'Via C. Battisti', 'Civico': '21', 'Comune': 'Predazzo', 'Cap': '38037', 'Frazione/Località': '', 'Note': ''}, {'ID': '215', 'Ragione sociale': 'CALZATURE GARDENER', 'Indirizzo': 'Via Roma', 'Civico': '26', 'Comune': 'Predazzo', 'Cap': '38037', 'Frazione/Località': '', 'Note': ''}, {'ID': '217', 'Ragione sociale': 'MACELLERIA DELLANTONIO', 'Indirizzo': 'Via C. Battisti', 'Civico': '2', 'Comune': 'Predazzo', 'Cap': '38037', 'Frazione/Località': '', 'Note': ''}, {'ID': '218', 'Ragione sociale': 'OREFICERIA TONINI', 'Indirizzo': 'Via C. Battisti', 'Civico': '15', 'Comune': 'Predazzo', 'Cap': '38037', 'Frazione/Località': '', 'Note': ''}, {'ID': '219', 'Ragione sociale': 'CALZATURE SEBER SANDRA', 'Indirizzo': 'Piazza SS. Filippo e Giacomo', 'Civico': '5', 'Comune': 'Predazzo', 'Cap': '38037', 'Frazione/Località': '', 'Note': ''}, {'ID': '220', 'Ragione sociale': 'BAR RISTORANTE ALBERGO ANTICO', 'Indirizzo': 'Via Prai de Mont', 'Civico': '19', 'Comune': 'Predazzo', 'Cap': '38037', 'Frazione/Località': ' Bellamonte', 'Note': ''}, {'ID': '221', 'Ragione sociale': 'BAR RISTORANTE ALBERGO MONTANARA', 'Indirizzo': 'Via Indipendenza', 'Civico': '110', 'Comune': 'Predazzo', 'Cap': '38037', 'Frazione/Località': '', 'Note': ''}, {'ID': '222', 'Ragione sociale': 'BAR RISTORANTE ALBERGO ROSA', 'Indirizzo': 'Via Garibaldi', 'Civico': '30', 'Comune': 'Predazzo', 'Cap': '38037', 'Frazione/Località': '', 'Note': ''}, {'ID': '223', 'Ragione sociale': 'BAR RISTORANTE ALBERGO STELLA ALPINA', 'Indirizzo': 'Via Prai de Mont', 'Civico': '9', 'Comune': 'Predazzo', 'Cap': '38037', 'Frazione/Località': ' Bellamonte', 'Note': ''}, {'ID': '224', 'Ragione sociale': 'BAR RISTORANTE ALBERGO VINELLA', 'Indirizzo': 'Via Mazzini', 'Civico': '76', 'Comune': 'Predazzo', 'Cap': '38037', 'Frazione/Località': '', 'Note': ''}, {'ID': '225', 'Ragione sociale': 'BAR RISTORANTE ALBERGO ANCORA', 'Indirizzo': 'Via IX Novembre', 'Civico': '1', 'Comune': 'Predazzo', 'Cap': '38037', 'Frazione/Località': '', 'Note': ''}, {'ID': '226', 'Ragione sociale': 'BAR RISTORANTE ALBERGO BELLARIA', 'Indirizzo': 'Corso Degasperi', 'Civico': '20', 'Comune': 'Predazzo', 'Cap': '38037', 'Frazione/Località': '', 'Note': ''}, {'ID': '227', 'Ragione sociale': 'BAR RISTORANTE ALBERGO TOURING', 'Indirizzo': 'Via Trento', 'Civico': '5', 'Comune': 'Predazzo', 'Cap': '38037', 'Frazione/Località': '', 'Note': ''}, {'ID': '228', 'Ragione sociale': 'BAR CAORER', 'Indirizzo': 'Vicolo del Caorer', 'Civico': '11', 'Comune': 'Predazzo', 'Cap': '38037', 'Frazione/Località': '', 'Note': ''}, {'ID': '229', 'Ragione sociale': 'BAR EL PIRLE', 'Indirizzo': 'Via Dante', 'Civico': '32', 'Comune': 'Predazzo', 'Cap': '38037', 'Frazione/Località': '', 'Note': ''}, {'ID': '230', 'Ragione sociale': 'CAFFÈ CROCE', 'Indirizzo': 'Via Dellagiacoma', 'Civico': '5', 'Comune': 'Predazzo', 'Cap': '38037', 'Frazione/Località': '', 'Note': ''}, {'ID': '231', 'Ragione sociale': 'BAR RISTORANTE MIOLA', 'Indirizzo': 'Loc. Miola', 'Civico': '1', 'Comune': 'Predazzo', 'Cap': '38037', 'Frazione/Località': '', 'Note': ''}, {'ID': '233', 'Ragione sociale': 'RISTORANTE BAR ALBERGO VILLA ROSA', 'Indirizzo': 'Via San Giuseppe', 'Civico': '19', 'Comune': 'Roncegno Terme', 'Cap': '38050', 'Frazione/Località': '', 'Note': ''}, {'ID': '234', 'Ragione sociale': 'RISTORANTE PALACE HOTEL', 'Indirizzo': 'Palace Hotel', 'Civico': '1', 'Comune': 'Roncegno Terme', 'Cap': '38050', 'Frazione/Località': '', 'Note': ''}, {'ID': '235', 'Ragione sociale': 'BAR RISTORANTE ALBERGO ALLA STAZIONE', 'Indirizzo': 'Via Nazionale', 'Civico': '20', 'Comune': 'Roncegno Terme', 'Cap': '38050', 'Frazione/Località': ' Marter', 'Note': ''}, {'ID': '236', 'Ragione sociale': 'MACELLERIA HOFFER ELISA', 'Indirizzo': 'Via San Giuseppe', 'Civico': '2', 'Comune': 'Roncegno Terme', 'Cap': '38050', 'Frazione/Località': '', 'Note': ''}, {'ID': '237', 'Ragione sociale': 'FAMIGLIA COOPERATIVA LAGORAI', 'Indirizzo': 'Piazza Montebello', 'Civico': '9', 'Comune': 'Roncegno Terme', 'Cap': '38050', 'Frazione/Località': '', 'Note': ''}, {'ID': '238', 'Ragione sociale': 'MACELLERIA HOFFER FABRIZIO', 'Indirizzo': 'Via Battaglione Basseggio', 'Civico': '2', 'Comune': 'Roncegno Terme', 'Cap': '38050', 'Frazione/Località': '', 'Note': ''}, {'ID': '239', 'Ragione sociale': 'ALIMENTARI HOFFER NICOLETTA', 'Indirizzo': 'Piazza Achille De Giovanni', 'Civico': '', 'Comune': 'Roncegno Terme', 'Cap': '38050', 'Frazione/Località': '', 'Note': ''}, {'ID': '240', 'Ragione sociale': 'RISTORANTE ALBERGO GARNÌ VITTORIA', 'Indirizzo': 'Via San Giuseppe', 'Civico': '1', 'Comune': 'Roncegno Terme', 'Cap': '38050', 'Frazione/Località': '', 'Note': ''}, {'ID': '241', 'Ragione sociale': 'CASALINGHI BERTAGNOLLI FERRAMENTA', 'Indirizzo': 'Piazza Dante', 'Civico': ' 8/9', 'Comune': 'Cavalese', 'Cap': '38033', 'Frazione/Località': '', 'Note': ''}, {'ID': '242', 'Ragione sociale': 'PASTICCERIA COSE BUONE DA PAOLO', 'Indirizzo': 'Piazza Scopoli', 'Civico': '12', 'Comune': 'Cavalese', 'Cap': '38033', 'Frazione/Località': '', 'Note': ''}, {'ID': '243', 'Ragione sociale': 'TABARELLI GIORNALI TABACCHI SOUVENIR', 'Indirizzo': 'Piazza Verdi', 'Civico': '11', 'Comune': 'Cavalese', 'Cap': '38033', 'Frazione/Località': '', 'Note': ''}, {'ID': '244', 'Ragione sociale': 'VIDEO UNO', 'Indirizzo': 'Piazza Scopoli', 'Civico': '7', 'Comune': 'Cavalese', 'Cap': '38033', 'Frazione/Località': '', 'Note': 'esercizio commerciale'}, {'ID': '245', 'Ragione sociale': 'CORNICI PLASTICOLOR SELLE', 'Indirizzo': 'Via IX Novembre', 'Civico': '10', 'Comune': 'Cavalese', 'Cap': '38033', 'Frazione/Località': '', 'Note': ''}, {'ID': '246', 'Ragione sociale': 'CARTOLIBRERIA SPAZZALI', 'Indirizzo': 'Piazza Scopoli', 'Civico': '13', 'Comune': 'Cavalese', 'Cap': '38033', 'Frazione/Località': '', 'Note': ''}, {'ID': '247', 'Ragione sociale': 'RISTORANTE HOTEL LA STUA', 'Indirizzo': 'Via Baldieroni', 'Civico': '2', 'Comune': 'Cavalese', 'Cap': '38033', 'Frazione/Località': '', 'Note': ''}, {'ID': '248', 'Ragione sociale': 'RISTORANTE VECCHIA FONTANA', 'Indirizzo': 'Piazza Venezia', 'Civico': '38', 'Comune': 'Levico Terme', 'Cap': '38056', 'Frazione/Località': '', 'Note': ''}, {'ID': '249', 'Ragione sociale': 'BAR MASO AL VETRIOLO VECCHIO', 'Indirizzo': 'Località Vetriolo', 'Civico': '49', 'Comune': 'Levico Terme', 'Cap': '38056', 'Frazione/Località': '', 'Note': ''}, {'ID': '250', 'Ragione sociale': 'MACELLERIA DEL CENTRO', 'Indirizzo': 'Via Garibaldi', 'Civico': '3', 'Comune': 'Levico Terme', 'Cap': '38056', 'Frazione/Località': '', 'Note': ''}, {'ID': '251', 'Ragione sociale': 'FARMACIA DE PREZ', 'Indirizzo': 'Via Dante', 'Civico': '29', 'Comune': 'Levico Terme', 'Cap': '38056', 'Frazione/Località': '', 'Note': ''}, {'ID': '252', 'Ragione sociale': 'BAR-ALBERGO NAZIONALE', 'Indirizzo': 'Via Della Chiesa di Santa Giuliana', 'Civico': '', 'Comune': 'Levico Terme', 'Cap': '38056', 'Frazione/Località': '', 'Note': ''}, {'ID': '253', 'Ragione sociale': 'RISTORANTE-BAR-ALBERGO GARDEN', 'Indirizzo': 'Viale Vittorio Emanuele', 'Civico': '22', 'Comune': 'Levico Terme', 'Cap': '38056', 'Frazione/Località': '', 'Note': ''}, {'ID': '254', 'Ragione sociale': 'FRIGO PRODOTTI TIPICI', 'Indirizzo': 'Via Regia', 'Civico': '4', 'Comune': 'Levico Terme', 'Cap': '38056', 'Frazione/Località': '', 'Note': ''}, {'ID': '255', 'Ragione sociale': 'ALIMENTARI CONCI SAMUELA', 'Indirizzo': 'Piazza Venezia', 'Civico': '13', 'Comune': 'Levico Terme', 'Cap': '38056', 'Frazione/Località': '', 'Note': ''}, {'ID': '256', 'Ragione sociale': 'RISTORANTE-BAR-ALBERGO G.H. BELLAVISTA', 'Indirizzo': 'Viale Vittorio Emanuele', 'Civico': '', 'Comune': 'Levico Terme', 'Cap': '38056', 'Frazione/Località': '', 'Note': ''}, {'ID': '257', 'Ragione sociale': 'MOBILI ARESE', 'Indirizzo': 'Viale Stazione', 'Civico': '', 'Comune': 'Levico Terme', 'Cap': '38056', 'Frazione/Località': '', 'Note': ''}, {'ID': '258', 'Ragione sociale': 'FIORERIA OGNIBENI IVANA', 'Indirizzo': 'Via Garibaldi', 'Civico': '69', 'Comune': 'Levico Terme', 'Cap': '38056', 'Frazione/Località': '', 'Note': ''}, {'ID': '259', 'Ragione sociale': 'ANTICA FARMACIA ROMANESE', 'Indirizzo': 'Via Regia', 'Civico': '12', 'Comune': 'Levico Terme', 'Cap': '38056', 'Frazione/Località': '', 'Note': ''}, {'ID': '260', 'Ragione sociale': 'MERCERIE VERGOT', 'Indirizzo': 'Via Regia', 'Civico': '1', 'Comune': 'Levico Terme', 'Cap': '38056', 'Frazione/Località': '', 'Note': ''}, {'ID': '261', 'Ragione sociale': 'CASALINGHI-ELETTRODOMESTICI TADDEI GIULIANO', 'Indirizzo': 'Via Garibaldi', 'Civico': '66', 'Comune': 'Levico Terme', 'Cap': '38056', 'Frazione/Località': '', 'Note': ''}, {'ID': '262', 'Ragione sociale': 'ORTOFRUTTA SCAPIN GIANNI', 'Indirizzo': 'Via Cavour', 'Civico': '49', 'Comune': 'Levico Terme', 'Cap': '38056', 'Frazione/Località': '', 'Note': ''}, {'ID': '263', 'Ragione sociale': 'LANA MODA', 'Indirizzo': 'Via Regia', 'Civico': '19', 'Comune': 'Levico Terme', 'Cap': '38056', 'Frazione/Località': '', 'Note': ''}, {'ID': '264', 'Ragione sociale': 'VIVISPORT S.N.C.', 'Indirizzo': 'Via Regia', 'Civico': '11', 'Comune': 'Levico Terme', 'Cap': '38056', 'Frazione/Località': '', 'Note': ''}, {'ID': '265', 'Ragione sociale': 'CONCESSIONARIA BASSETTI', 'Indirizzo': 'C.so Centrale', 'Civico': '22', 'Comune': 'Levico Terme', 'Cap': '38056', 'Frazione/Località': '', 'Note': ''}, {'ID': '266', 'Ragione sociale': 'BAR AL CONTE', 'Indirizzo': 'Via Regia', 'Civico': '8', 'Comune': 'Levico Terme', 'Cap': '38056', 'Frazione/Località': '', 'Note': ''}, {'ID': '267', 'Ragione sociale': 'BAR CAMINETTO', 'Indirizzo': 'Via Dante', 'Civico': '22', 'Comune': 'Levico Terme', 'Cap': '38056', 'Frazione/Località': '', 'Note': ''}, {'ID': '268', 'Ragione sociale': 'RISTORANTE-BAR ANTICA ROSA', 'Indirizzo': 'Via Garibaldi', 'Civico': '', 'Comune': 'Levico Terme', 'Cap': '38056', 'Frazione/Località': '', 'Note': ''}, {'ID': '269', 'Ragione sociale': 'EDICOLA PASSERINI ALBERTO', 'Indirizzo': 'Via Guglielmo Marconi', 'Civico': '', 'Comune': 'Levico Terme', 'Cap': '38056', 'Frazione/Località': '', 'Note': ''}, {'ID': '270', 'Ragione sociale': 'BAR LINO', 'Indirizzo': 'Via Dante', 'Civico': '8', 'Comune': 'Levico Terme', 'Cap': '38056', 'Frazione/Località': '', 'Note': ''}, {'ID': '271', 'Ragione sociale': 'BAR SERENA', 'Indirizzo': 'Via Regia', 'Civico': '21', 'Comune': 'Levico Terme', 'Cap': '38056', 'Frazione/Località': '', 'Note': ''}, {'ID': '272', 'Ragione sociale': 'RISTORANTE-BAR SANDRO', 'Indirizzo': 'Via Domenico Mons. Caproni', 'Civico': '', 'Comune': 'Levico Terme', 'Cap': '38056', 'Frazione/Località': '', 'Note': ''}, {'ID': '273', 'Ragione sociale': 'DALSASSO ABBIGLIAMENTO', 'Indirizzo': 'Via Dante', 'Civico': '34', 'Comune': 'Levico Terme', 'Cap': '38056', 'Frazione/Località': '', 'Note': ''}, {'ID': '274', 'Ragione sociale': 'GIOVANNINI LUISA', 'Indirizzo': 'Via C. Battisti n. 19', 'Civico': '', 'Comune': 'Pergine Valsugana', 'Cap': '38057', 'Frazione/Località': '', 'Note': 'esercizio commerciale'}, {'ID': '275', 'Ragione sociale': 'BAR - RISTORANTE ALBERGO AL BIVIO', 'Indirizzo': 'Via Nazionale', 'Civico': '169', 'Comune': 'Imer', 'Cap': '38050', 'Frazione/Località': '', 'Note': ''}, {'ID': '276', 'Ragione sociale': 'RISTORANTE ALBERGO AL LAGO', 'Indirizzo': 'Località Pontet', 'Civico': '9', 'Comune': 'Imer', 'Cap': '38050', 'Frazione/Località': '', 'Note': ''}, {'ID': '277', 'Ragione sociale': 'B. & B. LEGNO DI BETTEGA GRAZIANO & C. S.N.C.', 'Indirizzo': 'Via Casabianca', 'Civico': '1', 'Comune': 'Imer', 'Cap': '38050', 'Frazione/Località': '', 'Note': ''}, {'ID': '278', 'Ragione sociale': 'BAR OBBER', 'Indirizzo': 'Via Nazionale', 'Civico': '62', 'Comune': 'Imer', 'Cap': '38050', 'Frazione/Località': '', 'Note': ''}, {'ID': '279', 'Ragione sociale': 'DARIO SPORT DI BETTEGA ROBERTO & C. S.A.S.', 'Indirizzo': 'Via Nazionale', 'Civico': '76', 'Comune': 'Imer', 'Cap': '38050', 'Frazione/Località': '', 'Note': ''}, {'ID': '280', 'Ragione sociale': 'FALEGNAMERIA FRATELLI BONINSEGNA SNC', 'Indirizzo': 'Località Giare', 'Civico': '11', 'Comune': 'Imer', 'Cap': '38050', 'Frazione/Località': '', 'Note': ''}, {'ID': '281', 'Ragione sociale': 'FAMIGLIA COOPERATIVA IMER', 'Indirizzo': 'Via Nazionale', 'Civico': '101', 'Comune': 'Imer', 'Cap': '38050', 'Frazione/Località': '', 'Note': ''}, {'ID': '282', 'Ragione sociale': 'CANTINOTA', 'Indirizzo': 'Via Nazionale n. 15', 'Civico': '', 'Comune': 'Vallelaghi', 'Cap': '38070', 'Frazione/Località': 'Padergnone', 'Note': 'bar - esercizio commerciale'}, {'ID': '284', 'Ragione sociale': 'FERRAGLIA VITTORIO', 'Indirizzo': 'Piazza G. Garibaldi', 'Civico': '8', 'Comune': 'Riva del Garda', 'Cap': '38066', 'Frazione/Località': '', 'Note': 'esercizio commerciale'}, {'ID': '285', 'Ragione sociale': 'OTTICA ARMANI', 'Indirizzo': 'Via Gazzoletti', 'Civico': '23', 'Comune': 'Riva del Garda', 'Cap': '38066', 'Frazione/Località': '', 'Note': ''}, {'ID': '286', 'Ragione sociale': 'FARMACIA S. CHIARA', 'Indirizzo': 'Via S. Croce ', 'Civico': '57', 'Comune': 'Trento', 'Cap': '38122', 'Frazione/Località': '', 'Note': ''}, {'ID': '287', 'Ragione sociale': 'BIRRERIA PEDAVENA', 'Indirizzo': 'Piazza Fiera', 'Civico': '13', 'Comune': 'Trento', 'Cap': '38122', 'Frazione/Località': '', 'Note': ''}, {'ID': '288', 'Ragione sociale': 'VIGILIO FRANZINELLI', 'Indirizzo': 'Vicolo del Liceo', 'Civico': '13', 'Comune': 'Trento', 'Cap': '38122', 'Frazione/Località': '', 'Note': 'esercizio commerciale'}, {'ID': '289', 'Ragione sociale': 'EL MERICAN', 'Indirizzo': 'Via Torre Verde', 'Civico': '50', 'Comune': 'Trento', 'Cap': '38122', 'Frazione/Località': '', 'Note': 'ristorante'}, {'ID': '290', 'Ragione sociale': 'FOTO RENSI', 'Indirizzo': 'Via Marchetti', 'Civico': '28', 'Comune': 'Trento', 'Cap': '38122', 'Frazione/Località': '', 'Note': ''}, {'ID': '291', 'Ragione sociale': 'OROLOGERIA M. GROPPA', 'Indirizzo': 'Via degli Orbi', 'Civico': '21', 'Comune': 'Trento', 'Cap': '38122', 'Frazione/Località': '', 'Note': ''}, {'ID': '292', 'Ragione sociale': 'FAMIGLIA COOPERATIVA DI POVO', 'Indirizzo': 'Piazza Manci', 'Civico': '8', 'Comune': 'Trento', 'Cap': '38122', 'Frazione/Località': '', 'Note': ''}, {'ID': '293', 'Ragione sociale': 'CALZATURE E PELLETTERIE CAPPELLO', 'Indirizzo': 'Scala al Convento', 'Civico': '5', 'Comune': 'Borgo Valsugana', 'Cap': '38051', 'Frazione/Località': '', 'Note': ''}, {'ID': '294', 'Ragione sociale': 'BOTTEGA DEL COLORE', 'Indirizzo': 'Corso Ausugum', 'Civico': '43', 'Comune': 'Borgo Valsugana', 'Cap': '38051', 'Frazione/Località': '', 'Note': ''}, {'ID': '295', 'Ragione sociale': 'VULCANO STORE', 'Indirizzo': 'Via Spagolla', 'Civico': '5', 'Comune': 'Borgo Valsugana', 'Cap': '38051', 'Frazione/Località': '', 'Note': 'esercizio commerciale'}, {'ID': '296', 'Ragione sociale': 'ARCOBALENO', 'Indirizzo': 'Corso Ausugum', 'Civico': '12', 'Comune': 'Borgo Valsugana', 'Cap': '38051', 'Frazione/Località': '', 'Note': 'esercizio commerciale'}, {'ID': '297', 'Ragione sociale': 'SEGNANA', 'Indirizzo': 'Via Temanza', 'Civico': '15', 'Comune': 'Borgo Valsugana', 'Cap': '38051', 'Frazione/Località': '', 'Note': 'esercizio commerciale'}, {'ID': '298', 'Ragione sociale': 'CAMBO', 'Indirizzo': 'Piazza Martiri Resistenza', 'Civico': '1', 'Comune': 'Borgo Valsugana', 'Cap': '38051', 'Frazione/Località': '', 'Note': 'esercizio commerciale'}, {'ID': '299', 'Ragione sociale': 'GANARIN', 'Indirizzo': 'Via B. Venezia', 'Civico': '15', 'Comune': 'Borgo Valsugana', 'Cap': '38051', 'Frazione/Località': '', 'Note': 'esercizio commerciale'}, {'ID': '300', 'Ragione sociale': 'BELLUCCO', 'Indirizzo': 'Corso Ausugum', 'Civico': ' 60 - 66', 'Comune': 'Borgo Valsugana', 'Cap': '38051', 'Frazione/Località': '', 'Note': 'esercizio commerciale'}, {'ID': '301', 'Ragione sociale': 'AGOSTINI', 'Indirizzo': 'Corso Ausugum', 'Civico': '32', 'Comune': 'Borgo Valsugana', 'Cap': '38051', 'Frazione/Località': '', 'Note': 'esercizio commerciale'}, {'ID': '302', 'Ragione sociale': 'PAGNUSAT', 'Indirizzo': 'Corso Ausugum', 'Civico': '26', 'Comune': 'Borgo Valsugana', 'Cap': '38051', 'Frazione/Località': '', 'Note': 'esercizio commerciale'}, {'ID': '303', 'Ragione sociale': 'BAR CUSSO', 'Indirizzo': 'Piazza Dante', 'Civico': '17', 'Comune': 'Borgo Valsugana', 'Cap': '38051', 'Frazione/Località': '', 'Note': ''}, {'ID': '304', 'Ragione sociale': 'CAFFÈ PASTICCERIA ZITA', 'Indirizzo': 'Piazza De Gasperi', 'Civico': '15', 'Comune': 'Borgo Valsugana', 'Cap': '38051', 'Frazione/Località': '', 'Note': ''}, {'ID': '305', 'Ragione sociale': 'BAR MILANO', 'Indirizzo': 'Piazza Romani', 'Civico': '7', 'Comune': 'Borgo Valsugana', 'Cap': '38051', 'Frazione/Località': '', 'Note': ''}, {'ID': '306', 'Ragione sociale': 'DALSASSO', 'Indirizzo': 'Piazza Dante', 'Civico': '15', 'Comune': 'Borgo Valsugana', 'Cap': '38051', 'Frazione/Località': '', 'Note': 'esercizio commerciale'}, {'ID': '307', 'Ragione sociale': 'COMUNELLO', 'Indirizzo': 'Corso Ausugum', 'Civico': '19', 'Comune': 'Borgo Valsugana', 'Cap': '38051', 'Frazione/Località': '', 'Note': 'esercizio commerciale'}, {'ID': '308', 'Ragione sociale': 'MACELLERIA BAGGETTO', 'Indirizzo': 'Via Giuseppe Terrabugio', 'Civico': '4', 'Comune': 'Primiero San Martino di Castrozza', 'Cap': '38054', 'Frazione/Località': 'Fiera di Primiero', 'Note': ''}, {'ID': '309', 'Ragione sociale': 'CALZATURE TAMANINI', 'Indirizzo': 'Via Giuseppe Terrabugio', 'Civico': '5', 'Comune': 'Primiero San Martino di Castrozza', 'Cap': '38054', 'Frazione/Località': 'Fiera di Primiero', 'Note': ''}, {'ID': '310', 'Ragione sociale': 'FARMACIA ALLA MADONNA', 'Indirizzo': 'Via Guadagnini', 'Civico': '28', 'Comune': 'Primiero San Martino di Castrozza', 'Cap': '38054', 'Frazione/Località': 'Fiera di Primiero', 'Note': ''}, {'ID': '311', 'Ragione sociale': 'BELLOTTO GIOIELLI', 'Indirizzo': 'Salita Luigi Negrelli', 'Civico': '', 'Comune': 'Primiero San Martino di Castrozza', 'Cap': '38054', 'Frazione/Località': 'Fiera di Primiero', 'Note': ''}, {'ID': '312', 'Ragione sociale': 'CANTINA CESARI', 'Indirizzo': 'Via San Francesco', 'Civico': '', 'Comune': 'Primiero San Martino di Castrozza', 'Cap': '38054', 'Frazione/Località': 'Fiera di Primiero', 'Note': ''}, {'ID': '313', 'Ragione sociale': 'ARREDAMENTI GUBERT FRANCO', 'Indirizzo': 'Via San Francesco', 'Civico': '4', 'Comune': 'Primiero San Martino di Castrozza', 'Cap': '38054', 'Frazione/Località': 'Fiera di Primiero', 'Note': ''}, {'ID': '314', 'Ragione sociale': 'PASTICCERIA GIOVANNA SIMION', 'Indirizzo': 'Piazzetta del Dazio', 'Civico': '5', 'Comune': 'Primiero San Martino di Castrozza', 'Cap': '38054', 'Frazione/Località': 'Fiera di Primiero', 'Note': ''}, {'ID': '315', 'Ragione sociale': 'SPORTING GAIO', 'Indirizzo': 'Via Giuseppe Terrabugio', 'Civico': '40', 'Comune': 'Primiero San Martino di Castrozza', 'Cap': '38054', 'Frazione/Località': 'Fiera di Primiero', 'Note': ''}, {'ID': '316', 'Ragione sociale': 'FOTO OTTICA GILLI', 'Indirizzo': 'Via Giuseppe Garibaldi', 'Civico': '33', 'Comune': 'Primiero San Martino di Castrozza', 'Cap': '38054', 'Frazione/Località': 'Fiera di Primiero', 'Note': ''}, {'ID': '317', 'Ragione sociale': 'CREPAZ FLORIO', 'Indirizzo': 'Via San Francesco', 'Civico': '14', 'Comune': 'Primiero San Martino di Castrozza', 'Cap': '38054', 'Frazione/Località': 'Fiera di Primiero', 'Note': 'esercizio commerciale'}, {'ID': '318', 'Ragione sociale': 'RISTORANTE BAR ALBERGO DOLOMITI', 'Indirizzo': 'Viale Piave', 'Civico': '9', 'Comune': 'Primiero San Martino di Castrozza', 'Cap': '38054', 'Frazione/Località': 'Fiera di Primiero', 'Note': ''}, {'ID': '319', 'Ragione sociale': 'ORTOFRUTTA MELCHIORI', 'Indirizzo': 'Via San Francesco', 'Civico': '16', 'Comune': 'Primiero San Martino di Castrozza', 'Cap': '38054', 'Frazione/Località': 'Fiera di Primiero', 'Note': ''}, {'ID': '320', 'Ragione sociale': 'BAR AQUILA NERA', 'Indirizzo': 'Piazza Cesare Battisti', 'Civico': '9', 'Comune': 'Primiero San Martino di Castrozza', 'Cap': '38054', 'Frazione/Località': 'Fiera di Primiero', 'Note': ''}, {'ID': '321', 'Ragione sociale': 'LAVASECCO LA RAPIDA', 'Indirizzo': 'Piazza Cesare Battisti', 'Civico': '1', 'Comune': 'Primiero San Martino di Castrozza', 'Cap': '38054', 'Frazione/Località': 'Fiera di Primiero', 'Note': ''}, {'ID': '322', 'Ragione sociale': 'GAUDENZI FRANCESCO', 'Indirizzo': 'Via Terrabugio', 'Civico': '14', 'Comune': 'Primiero San Martino di Castrozza', 'Cap': '38054', 'Frazione/Località': 'Fiera di Primiero', 'Note': 'esercizio commerciale'}, {'ID': '323', 'Ragione sociale': 'TROTTER CALZATURE', 'Indirizzo': 'Via Giuseppe Garibaldi', 'Civico': '6', 'Comune': 'Primiero San Martino di Castrozza', 'Cap': '38054', 'Frazione/Località': 'Fiera di Primiero', 'Note': ''}, {'ID': '324', 'Ragione sociale': 'MACELLERIA GADENZ', 'Indirizzo': 'Via Fiume', 'Civico': '18', 'Comune': 'Primiero San Martino di Castrozza', 'Cap': '38054', 'Frazione/Località': 'Fiera di Primiero', 'Note': ''}, {'ID': '325', 'Ragione sociale': 'GADENZ SEBASTIANO', 'Indirizzo': 'Via Fiume', 'Civico': '3', 'Comune': 'Primiero San Martino di Castrozza', 'Cap': '38054', 'Frazione/Località': 'Fiera di Primiero', 'Note': 'esercizio commerciale'}, {'ID': '326', 'Ragione sociale': 'BAR TABACCHI WEISS', 'Indirizzo': 'Piazza Luigi Negrelli', 'Civico': '3', 'Comune': 'Primiero San Martino di Castrozza', 'Cap': '38054', 'Frazione/Località': 'Fiera di Primiero', 'Note': ''}, {'ID': '327', 'Ragione sociale': 'BETTY BAR', 'Indirizzo': 'Via alla Malga', 'Civico': '11', 'Comune': 'Pergine Valsugana', 'Cap': '38057', 'Frazione/Località': 'Susà', 'Note': ''}, {'ID': '328', 'Ragione sociale': 'ARREDI MORELLI', 'Indirizzo': 'Via Marconi', 'Civico': '11', 'Comune': 'Comano Terme', 'Cap': '38077', 'Frazione/Località': 'Ponte Arche', 'Note': ''}, {'ID': '329', 'Ragione sociale': 'PANIFICIO ZANONI', 'Indirizzo': 'Piazza Mercato', 'Civico': '26', 'Comune': 'Comano Terme', 'Cap': '38077', 'Frazione/Località': 'Ponte Arche', 'Note': ''}, {'ID': '330', 'Ragione sociale': 'LEONARDI ANTONIO', 'Indirizzo': 'Via S. Pietro', 'Civico': '68', 'Comune': 'Trento', 'Cap': '38122', 'Frazione/Località': '', 'Note': 'esercizio commerciale'}, {'ID': '331', 'Ragione sociale': 'RISTORANTE PIZZERIA VESUVIO', 'Indirizzo': 'Via Malvasia', 'Civico': '103', 'Comune': 'Trento', 'Cap': '38122', 'Frazione/Località': '', 'Note': ''}, {'ID': '332', 'Ragione sociale': 'BERLANDA LA NASCENTE', 'Indirizzo': 'Via Segantini', 'Civico': '67', 'Comune': 'Arco', 'Cap': '38062', 'Frazione/Località': '', 'Note': 'esercizio commerciale'}, {'ID': '333', 'Ragione sociale': 'NEGRI FIORI', 'Indirizzo': 'Via Vergolano', 'Civico': '28', 'Comune': 'Arco', 'Cap': '38062', 'Frazione/Località': '', 'Note': ''}, {'ID': '334', 'Ragione sociale': 'TORBOLI MARCO', 'Indirizzo': 'Via Segantini', 'Civico': '24', 'Comune': 'Arco', 'Cap': '38062', 'Frazione/Località': '', 'Note': 'esercizio commerciale'}, {'ID': '335', 'Ragione sociale': 'ALPINA', 'Indirizzo': 'Via della Predolcia', 'Civico': '21', 'Comune': 'Pergine Valsugana', 'Cap': '38057', 'Frazione/Località': 'Viarago', 'Note': 'pubblico esercizio esercizio commerciale'}, {'ID': '336', 'Ragione sociale': 'RISTORANTE BAR HOTEL STELLA DELLE ALPI', 'Indirizzo': 'Via Mendola', 'Civico': '41', 'Comune': 'Ronzone', 'Cap': '38010', 'Frazione/Località': '', 'Note': ''}, {'ID': '337', 'Ragione sociale': 'RISTORANTE BAR HOTEL REGINA DEL BOSCO', 'Indirizzo': 'Via Mendola', 'Civico': '48', 'Comune': 'Ronzone', 'Cap': '38010', 'Frazione/Località': '', 'Note': ''}, {'ID': '338', 'Ragione sociale': 'LA BOTTEGA', 'Indirizzo': 'Via Mendola', 'Civico': '27', 'Comune': 'Ronzone', 'Cap': '38010', 'Frazione/Località': '', 'Note': 'esercizio commerciale'}, {'ID': '339', 'Ragione sociale': 'SEGHERIA IMBALLAGGI ABRAM SILVIO & C. SNC', 'Indirizzo': 'Via Cesare Battisti', 'Civico': '2', 'Comune': 'Sarnonico', 'Cap': '38011', 'Frazione/Località': '', 'Note': ''}, {'ID': '340', 'Ragione sociale': 'RISTORANTE HOTEL IL FALCHETTO', 'Indirizzo': 'Località Regole', 'Civico': '', 'Comune': 'Sarnonico', 'Cap': '38011', 'Frazione/Località': '', 'Note': ''}, {'ID': '341', 'Ragione sociale': 'BAR RISTORANTE REGOLE', 'Indirizzo': 'Località Regole', 'Civico': '', 'Comune': 'Sarnonico', 'Cap': '38011', 'Frazione/Località': '', 'Note': ''}, {'ID': '342', 'Ragione sociale': 'DE LUCA FABIO FABBRO', 'Indirizzo': 'Via Cesare Battisti', 'Civico': '8', 'Comune': 'Sarnonico', 'Cap': '38011', 'Frazione/Località': '', 'Note': ''}, {'ID': '343', 'Ragione sociale': 'BAR CENTRALE', 'Indirizzo': 'Via Cesare Battisti', 'Civico': '30', 'Comune': 'Sarnonico', 'Cap': '38011', 'Frazione/Località': '', 'Note': ''}, {'ID': '344', 'Ragione sociale': 'BAR RISTORANTE PIZZERIA LA RUSTICA', 'Indirizzo': 'Via Cesare Battisti', 'Civico': '31', 'Comune': 'Sarnonico', 'Cap': '38011', 'Frazione/Località': '', 'Note': ''}, {'ID': '345', 'Ragione sociale': 'FAMIGLIA COOPERATIVA MARTER', 'Indirizzo': 'Via Nazionale', 'Civico': '11', 'Comune': 'Roncegno', 'Cap': '38050', 'Frazione/Località': 'Marter', 'Note': ''}, {'ID': '346', 'Ragione sociale': 'CARTOLERIA DI HOFFER LEOPOLDA', 'Indirizzo': 'Via A. Pola', 'Civico': '1', 'Comune': 'Roncegno', 'Cap': '38050', 'Frazione/Località': '', 'Note': ''}, {'ID': '347', 'Ragione sociale': 'PANE LATTE DOLCIUMI DI PAROLARI LUCIANA', 'Indirizzo': 'Via 3 Novembre', 'Civico': '19', 'Comune': 'Tione di Trento', 'Cap': '38079', 'Frazione/Località': '', 'Note': ''}, {'ID': '348', 'Ragione sociale': 'FAMIGLIA COOPERATIVA CONAD', 'Indirizzo': 'Piazza Cooperazione', 'Civico': '6', 'Comune': 'Romeno', 'Cap': '38010', 'Frazione/Località': '', 'Note': ''}, {'ID': '349', 'Ragione sociale': 'MACELLERIA ENDRIZZI SERGIO', 'Indirizzo': 'Piazza Romana', 'Civico': '7', 'Comune': 'Romeno', 'Cap': '38010', 'Frazione/Località': '', 'Note': ''}, {'ID': '350', 'Ragione sociale': 'IL FORNO DE BIASI', 'Indirizzo': 'Piazza Graiff', 'Civico': '9', 'Comune': 'Romeno', 'Cap': '38010', 'Frazione/Località': '', 'Note': ''}, {'ID': '351', 'Ragione sociale': 'FALEGNAMERIA ROSATI ELIO', 'Indirizzo': 'Via San Bartolomeo', 'Civico': '59', 'Comune': 'Romeno', 'Cap': '38010', 'Frazione/Località': '', 'Note': ''}, {'ID': '352', 'Ragione sociale': 'BAZAR DI FRANCISCI MARIANGELA', 'Indirizzo': 'Piazza Lampi', 'Civico': '24', 'Comune': 'Romeno', 'Cap': '38010', 'Frazione/Località': '', 'Note': ''}, {'ID': '353', 'Ragione sociale': 'PIZZERIA ANAUNIA', 'Indirizzo': 'Via 4 Novembre', 'Civico': '80', 'Comune': 'Romeno', 'Cap': '38010', 'Frazione/Località': '', 'Note': ''}, {'ID': '354', 'Ragione sociale': 'BAR CENTRALE DI CAIO E LORENZA', 'Indirizzo': 'Piazza Romana', 'Civico': '5', 'Comune': 'Romeno', 'Cap': '38010', 'Frazione/Località': '', 'Note': ''}, {'ID': '355', 'Ragione sociale': 'CASEIFICIO SOCIALE', 'Indirizzo': 'Via Alla Piena', 'Civico': '62', 'Comune': 'Romeno', 'Cap': '38010', 'Frazione/Località': '', 'Note': ''}, {'ID': '356', 'Ragione sociale': 'ARTICOLI REGALO SARCLETTI', 'Indirizzo': 'Via Al Castello', 'Civico': '14', 'Comune': 'Romeno', 'Cap': '38010', 'Frazione/Località': ' Malgolo', 'Note': ''}, {'ID': '357', 'Ragione sociale': 'LATTONIERE PLAGA MATTEO', 'Indirizzo': 'Via SS. Martiri d’Anaunia', 'Civico': '2', 'Comune': 'Romeno', 'Cap': '38010', 'Frazione/Località': ' Salter', 'Note': ''}, {'ID': '358', 'Ragione sociale': 'MOBILIFICIO FRANCISCI', 'Indirizzo': 'Via 4 Novembre', 'Civico': '53', 'Comune': 'Romeno', 'Cap': '38010', 'Frazione/Località': '', 'Note': ''}, {'ID': '359', 'Ragione sociale': 'ROEN MODE DI COGOI LUCA', 'Indirizzo': 'Via 4 Novembre', 'Civico': '17', 'Comune': 'Romeno', 'Cap': '38010', 'Frazione/Località': '', 'Note': ''}, {'ID': '360', 'Ragione sociale': 'OSTARIA DELE STRIE', 'Indirizzo': 'Piazza Centrale', 'Civico': '10', 'Comune': 'Nogaredo', 'Cap': '38060', 'Frazione/Località': '', 'Note': ''}, {'ID': '361', 'Ragione sociale': 'FAMIGLIA COOPERATIVA NOGAREDO', 'Indirizzo': 'Via Verdi', 'Civico': '15', 'Comune': 'Nogaredo', 'Cap': '38060', 'Frazione/Località': '', 'Note': ''}, {'ID': '362', 'Ragione sociale': 'PARISI BRUNA ALIMENTARI', 'Indirizzo': 'Frazione Brancolino Via Del Ponte', 'Civico': '1', 'Comune': 'Nogaredo', 'Cap': '38060', 'Frazione/Località': '', 'Note': ''}, {'ID': '363', 'Ragione sociale': 'MOBILI BETTINI', 'Indirizzo': 'Via San Biagio', 'Civico': '12', 'Comune': 'Nogaredo', 'Cap': '38060', 'Frazione/Località': '', 'Note': ''}, {'ID': '364', 'Ragione sociale': 'BAR TRATTORIA AI MOLINI', 'Indirizzo': 'Località Molini Via Molini', 'Civico': '7', 'Comune': 'Nogaredo', 'Cap': '38060', 'Frazione/Località': '', 'Note': ''}, {'ID': '365', 'Ragione sociale': 'BAR PIZZERIA AI TRE FAGGI', 'Indirizzo': 'Strada Laghi di Lamar', 'Civico': '31', 'Comune': 'Vallelaghi', 'Cap': '38070', 'Frazione/Località': 'Terlago', 'Note': ''}, {'ID': '366', 'Ragione sociale': 'RISTORANTE ALBERGO AL BORGHETTO', 'Indirizzo': 'Via E. de Varda', 'Civico': '10', 'Comune': 'Mezzolombardo', 'Cap': '38017', 'Frazione/Località': '', 'Note': ''}, {'ID': '367', 'Ragione sociale': 'BOTTAMEDI CALZATURE', 'Indirizzo': 'Corso Mazzini', 'Civico': '49', 'Comune': 'Mezzolombardo', 'Cap': '38017', 'Frazione/Località': '', 'Note': ''}, {'ID': '368', 'Ragione sociale': 'FERRAMENTA TOMASI', 'Indirizzo': 'Corso Mazzini', 'Civico': '53', 'Comune': 'Mezzolombardo', 'Cap': '38017', 'Frazione/Località': '', 'Note': ''}, {'ID': '369', 'Ragione sociale': 'ZENI', 'Indirizzo': 'Corso Mazzini', 'Civico': '11', 'Comune': 'Mezzolombardo', 'Cap': '38017', 'Frazione/Località': '', 'Note': 'esercizio commerciale'}, {'ID': '370', 'Ragione sociale': 'TAIT', 'Indirizzo': 'Corso Mazzini', 'Civico': '21', 'Comune': 'Mezzolombardo', 'Cap': '38017', 'Frazione/Località': '', 'Note': 'esercizio commerciale'}, {'ID': '371', 'Ragione sociale': 'BAZAR TAIT MERCERIE', 'Indirizzo': 'Via Roma', 'Civico': '30', 'Comune': 'Mezzolombardo', 'Cap': '38017', 'Frazione/Località': '', 'Note': ''}, {'ID': '372', 'Ragione sociale': 'ABBIGLIAMENTO MAURINA', 'Indirizzo': 'Via De Gasperi', 'Civico': '2', 'Comune': 'Mezzolombardo', 'Cap': '38017', 'Frazione/Località': '', 'Note': ''}, {'ID': '373', 'Ragione sociale': 'OREFICERIA G. CASNA', 'Indirizzo': 'Corso Mazzini', 'Civico': '8', 'Comune': 'Mezzolombardo', 'Cap': '38017', 'Frazione/Località': '', 'Note': ''}, {'ID': '374', 'Ragione sociale': 'TESSUTI MANZATTI', 'Indirizzo': 'Piazza Cassa di Risparmio', 'Civico': '6', 'Comune': 'Mezzolombardo', 'Cap': '38017', 'Frazione/Località': '', 'Note': ''}, {'ID': '375', 'Ragione sociale': 'PESCHERIA ROAT ROMANO', 'Indirizzo': 'Via 4 Novembre', 'Civico': '12', 'Comune': 'Mezzolombardo', 'Cap': '38017', 'Frazione/Località': '', 'Note': ''}, {'ID': '376', 'Ragione sociale': 'OTTICA PIZZI', 'Indirizzo': 'Via A. de Varda', 'Civico': '20', 'Comune': 'Mezzolombardo', 'Cap': '38017', 'Frazione/Località': '', 'Note': ''}, {'ID': '377', 'Ragione sociale': 'WEBER LILIANA', 'Indirizzo': 'Corso Libertà', 'Civico': '15', 'Comune': 'Mezzolombardo', 'Cap': '38017', 'Frazione/Località': '', 'Note': ' generi di monopolio'}, {'ID': '378', 'Ragione sociale': 'TAIT GIUDITTA', 'Indirizzo': 'Via De Gasperi', 'Civico': '40', 'Comune': 'Mezzolombardo', 'Cap': '38017', 'Frazione/Località': '', 'Note': 'esercizio commerciale'}, {'ID': '379', 'Ragione sociale': 'BOZ GIUSEPPE', 'Indirizzo': 'Corso Mazzini', 'Civico': '12', 'Comune': 'Mezzolombardo', 'Cap': '38017', 'Frazione/Località': '', 'Note': 'esercizio commerciale'}, {'ID': '380', 'Ragione sociale': 'LA CASA DELLA RADIO', 'Indirizzo': 'Via A. de Varda', 'Civico': '9/A', 'Comune': 'Mezzolombardo', 'Cap': '38017', 'Frazione/Località': '', 'Note': ''}, {'ID': '381', 'Ragione sociale': 'FEDRIZZI VIGILIO & C. S.N.C.', 'Indirizzo': 'Corso del Popolo', 'Civico': '5', 'Comune': 'Mezzolombardo', 'Cap': '38017', 'Frazione/Località': '', 'Note': 'esercizio commerciale'}, {'ID': '382', 'Ragione sociale': 'FEDRIZZI ROSANNA E C. S.N.C.', 'Indirizzo': 'Corso del Popolo', 'Civico': '5', 'Comune': 'Mezzolombardo', 'Cap': '38017', 'Frazione/Località': '', 'Note': 'esercizio commerciale'}, {'ID': '383', 'Ragione sociale': 'PUNTO CASA', 'Indirizzo': 'Via Roma', 'Civico': '21', 'Comune': 'Molveno', 'Cap': '38018', 'Frazione/Località': '', 'Note': ''}, {'ID': '384', 'Ragione sociale': 'RISTORANTE ALPOTEL VENEZIA', 'Indirizzo': 'Via Nazionale', 'Civico': '10', 'Comune': 'Molveno', 'Cap': '38018', 'Frazione/Località': '', 'Note': ''}, {'ID': '385', 'Ragione sociale': 'FRUTTA VERDURA DI GIORDANI ADELIO', 'Indirizzo': 'P. Marconi', 'Civico': ' 5/a', 'Comune': 'Molveno', 'Cap': '38018', 'Frazione/Località': '', 'Note': ''}, {'ID': '386', 'Ragione sociale': 'CENTRAL MARKET', 'Indirizzo': 'Via Paganella', 'Civico': '1', 'Comune': 'Molveno', 'Cap': '38018', 'Frazione/Località': '', 'Note': ''}, {'ID': '387', 'Ragione sociale': 'BAR ALBERGO ITALIA', 'Indirizzo': 'Via Lungolago', 'Civico': '9', 'Comune': 'Molveno', 'Cap': '38018', 'Frazione/Località': '', 'Note': ''}, {'ID': '388', 'Ragione sociale': 'RISTORANTE HOTEL MIRALAGO', 'Indirizzo': 'Piazza Scuole', 'Civico': '3', 'Comune': 'Molveno', 'Cap': '38018', 'Frazione/Località': '', 'Note': ''}, {'ID': '389', 'Ragione sociale': 'RISTORANTE HOTEL EXCELSIOR', 'Indirizzo': 'Via Nazionale', 'Civico': '41', 'Comune': 'Molveno', 'Cap': '38018', 'Frazione/Località': '', 'Note': ''}, {'ID': '390', 'Ragione sociale': 'BAR CRISTALLO', 'Indirizzo': 'Piazza Scuole', 'Civico': '2', 'Comune': 'Molveno', 'Cap': '38018', 'Frazione/Località': '', 'Note': ''}, {'ID': '391', 'Ragione sociale': 'ZENI CALZATURE', 'Indirizzo': 'Via Roma', 'Civico': '6', 'Comune': 'Molveno', 'Cap': '38018', 'Frazione/Località': '', 'Note': ''}, {'ID': '392', 'Ragione sociale': 'MACELLERIA SPRINGHETTI', 'Indirizzo': 'Via Roma', 'Civico': '14', 'Comune': 'Molveno', 'Cap': '38018', 'Frazione/Località': '', 'Note': ''}, {'ID': '393', 'Ragione sociale': 'RISTORANTE HOTEL LONDRA', 'Indirizzo': 'Via Nazionale', 'Civico': '34', 'Comune': 'Molveno', 'Cap': '38018', 'Frazione/Località': '', 'Note': ''}, {'ID': '394', 'Ragione sociale': 'RISTORANTE ALEXANDER HOTEL', 'Indirizzo': 'Piazza Scuole', 'Civico': '7', 'Comune': 'Molveno', 'Cap': '38018', 'Frazione/Località': '', 'Note': ''}, {'ID': '395', 'Ragione sociale': 'RISTORANTE HOTEL BELVEDERE', 'Indirizzo': 'Via Nazionale', 'Civico': '9', 'Comune': 'Molveno', 'Cap': '38018', 'Frazione/Località': '', 'Note': ''}, {'ID': '396', 'Ragione sociale': 'BAR RISTORANTE HOTEL EUROPA', 'Indirizzo': 'Via Nazionale', 'Civico': '13', 'Comune': 'Molveno', 'Cap': '38018', 'Frazione/Località': '', 'Note': ''}, {'ID': '397', 'Ragione sociale': 'RISTORANTE HOTEL AURORA', 'Indirizzo': 'Via Belvedere', 'Civico': '8', 'Comune': 'Molveno', 'Cap': '38018', 'Frazione/Località': '', 'Note': ''}, {'ID': '398', 'Ragione sociale': 'RISTORANTE HOTEL PANORAMA', 'Indirizzo': 'Via Nazionale', 'Civico': '45', 'Comune': 'Molveno', 'Cap': '38018', 'Frazione/Località': '', 'Note': ''}, {'ID': '399', 'Ragione sociale': 'RISTORANTE HOTEL MOLVENO', 'Indirizzo': 'Via Bettega', 'Civico': '18', 'Comune': 'Molveno', 'Cap': '38018', 'Frazione/Località': '', 'Note': ''}, {'ID': '400', 'Ragione sociale': 'RISTORANTE PIZZERIA AL CAMINETTO', 'Indirizzo': 'Via Lungolago', 'Civico': '4', 'Comune': 'Molveno', 'Cap': '38018', 'Frazione/Località': '', 'Note': ''}, {'ID': '401', 'Ragione sociale': 'RISTORANTE HOTEL GLORIA', 'Indirizzo': 'Via Lungolago', 'Civico': '15', 'Comune': 'Molveno', 'Cap': '38018', 'Frazione/Località': '', 'Note': ''}, {'ID': '402', 'Ragione sociale': 'RISTORANTE ALBERGO STELLA ALPINA', 'Indirizzo': 'Via Cesare Battisti', 'Civico': '6', 'Comune': 'Molveno', 'Cap': '38018', 'Frazione/Località': '', 'Note': ''}, {'ID': '403', 'Ragione sociale': 'CENTRO FOTO OTTICA', 'Indirizzo': 'Piazza S. Carlo', 'Civico': '3', 'Comune': 'Molveno', 'Cap': '38018', 'Frazione/Località': '', 'Note': ''}, {'ID': '404', 'Ragione sociale': 'RISTORANTE ALBERGO DEL BRENTA', 'Indirizzo': 'Loc. Pradel', 'Civico': '', 'Comune': 'Molveno', 'Cap': '38018', 'Frazione/Località': '', 'Note': ''}, {'ID': '405', 'Ragione sociale': 'RISTORANTE ALBERGO PRADEL', 'Indirizzo': 'Loc. Pradel', 'Civico': '', 'Comune': 'Molveno', 'Cap': '38018', 'Frazione/Località': '', 'Note': ''}, {'ID': '406', 'Ragione sociale': 'ANGOLO MODA', 'Indirizzo': 'Piazza San Carlo', 'Civico': ' 11/A', 'Comune': 'Molveno', 'Cap': '38018', 'Frazione/Località': '', 'Note': ''}, {'ID': '407', 'Ragione sociale': 'CRONST', 'Indirizzo': 'Via Galilei', 'Civico': '25', 'Comune': 'Trento', 'Cap': '38122', 'Frazione/Località': '', 'Note': 'esercizio commerciale'}, {'ID': '408', 'Ragione sociale': 'PONTRELLI DI CARLA ZANCANELLA', 'Indirizzo': 'Piazza C. Battisti', 'Civico': '15', 'Comune': 'Cavalese', 'Cap': '38033', 'Frazione/Località': '', 'Note': 'esercizio commerciale'}, {'ID': '409', 'Ragione sociale': 'RAFFAELLA', 'Indirizzo': 'Via IX Novembre', 'Civico': '6', 'Comune': 'Cavalese', 'Cap': '38033', 'Frazione/Località': '', 'Note': 'esercizio commerciale'}, {'ID': '410', 'Ragione sociale': 'CAPPELLERIA BETTA', 'Indirizzo': 'Piazza Dante', 'Civico': '6', 'Comune': 'Cavalese', 'Cap': '38033', 'Frazione/Località': '', 'Note': ''}, {'ID': '411', 'Ragione sociale': 'BAZAR MOSER', 'Indirizzo': 'Piazza Libertà', 'Civico': '14', 'Comune': 'Trento', 'Cap': '38121', 'Frazione/Località': ' Gardolo', 'Note': ''}, {'ID': '412', 'Ragione sociale': 'MACELLERIA MINIMARKET HIGHLANDER', 'Indirizzo': 'Loc. Ghiaie', 'Civico': '7', 'Comune': 'Canal San Bovo', 'Cap': '38050', 'Frazione/Località': '', 'Note': ''}, {'ID': '413', 'Ragione sociale': 'BAR RISTORANTE ALBERGO AL PIN', 'Indirizzo': 'Loc. Sperandii', 'Civico': '111', 'Comune': 'Canal San Bovo', 'Cap': '38050', 'Frazione/Località': '', 'Note': ''}, {'ID': '414', 'Ragione sociale': 'OSTERIA ALLE FOSSE', 'Indirizzo': 'Via Fosse', 'Civico': '148', 'Comune': 'Canal San Bovo', 'Cap': '38050', 'Frazione/Località': '', 'Note': ''}, {'ID': '415', 'Ragione sociale': 'RISTORANTE ALBERGO LAGORAI', 'Indirizzo': 'Loc. Lausen', 'Civico': '12', 'Comune': 'Canal San Bovo', 'Cap': '38050', 'Frazione/Località': '', 'Note': ''}, {'ID': '416', 'Ragione sociale': 'RISTORANTE ALBERGO SERENELLA', 'Indirizzo': 'Loc. Zortea', 'Civico': '56', 'Comune': 'Canal San Bovo', 'Cap': '38050', 'Frazione/Località': '', 'Note': ''}, {'ID': '417', 'Ragione sociale': 'CENTRO SPESA CORONA', 'Indirizzo': 'Loc. Fosse', 'Civico': '141', 'Comune': 'Canal San Bovo', 'Cap': '38050', 'Frazione/Località': '', 'Note': ''}, {'ID': '418', 'Ragione sociale': 'FAMIGLIA COOPERATIVA ZORTEA', 'Indirizzo': 'Via Zortea', 'Civico': ' 57/B', 'Comune': 'Canal San Bovo', 'Cap': '38050', 'Frazione/Località': '', 'Note': ''}, {'ID': '419', 'Ragione sociale': 'FAMIGLIA COOPERATIVA CANAL SAN BOVO', 'Indirizzo': 'Via Roma', 'Civico': '17', 'Comune': 'Canal San Bovo', 'Cap': '38050', 'Frazione/Località': '', 'Note': ''}, {'ID': '420', 'Ragione sociale': 'FAMIGLIA COOPERATIVA CAORIA', 'Indirizzo': 'Loc. Caseri', 'Civico': '8', 'Comune': 'Canal San Bovo', 'Cap': '38050', 'Frazione/Località': '', 'Note': ''}, {'ID': '421', 'Ragione sociale': 'FAMIGLIA COOPERATIVA PRADE', 'Indirizzo': 'Piazza G. Marconi Loc. Prade', 'Civico': '', 'Comune': 'Canal San Bovo', 'Cap': '38050', 'Frazione/Località': '', 'Note': ''}, {'ID': '422', 'Ragione sociale': 'FERRAMENTA FEDRIZZI', 'Indirizzo': 'Via Marconi', 'Civico': '28', 'Comune': 'Comano Terme', 'Cap': '38077', 'Frazione/Località': 'Ponte Arche', 'Note': ''}, {'ID': '423', 'Ragione sociale': 'CAFFE’ ROMA', 'Indirizzo': 'Largo Dordi', 'Civico': '3', 'Comune': 'Borgo Valsugana', 'Cap': '38051', 'Frazione/Località': '', 'Note': ''}, {'ID': '424', 'Ragione sociale': 'BAR RISTORANTE ALBERGO AL CERVO', 'Indirizzo': 'Via IV Novembre', 'Civico': '18', 'Comune': 'Tesero', 'Cap': '38038', 'Frazione/Località': '', 'Note': ''}, {'ID': '425', 'Ragione sociale': 'BAR ANCORA', 'Indirizzo': 'Via IV Novembre', 'Civico': '32', 'Comune': 'Tesero', 'Cap': '38038', 'Frazione/Località': '', 'Note': ''}, {'ID': '426', 'Ragione sociale': 'CARTOLIBRERIA DEFLORIAN', 'Indirizzo': 'Via Roma', 'Civico': '78', 'Comune': 'Tesero', 'Cap': '38038', 'Frazione/Località': '', 'Note': ''}, {'ID': '427', 'Ragione sociale': 'RISTORANTE HOTEL ERICA', 'Indirizzo': 'Località Stava', 'Civico': '1', 'Comune': 'Tesero', 'Cap': '38038', 'Frazione/Località': '', 'Note': ''}, {'ID': '428', 'Ragione sociale': 'CALZATURE ZENI SPORT', 'Indirizzo': 'Via IV Novembre', 'Civico': ' 21/B', 'Comune': 'Tesero', 'Cap': '38038', 'Frazione/Località': '', 'Note': ''}, {'ID': '429', 'Ragione sociale': 'VALENTINO SCARPE', 'Indirizzo': 'Via Roma', 'Civico': '88', 'Comune': 'Tesero', 'Cap': '38038', 'Frazione/Località': '', 'Note': ''}, {'ID': '430', 'Ragione sociale': 'EUFORIA INTIMO', 'Indirizzo': 'Piazza Nuova', 'Civico': ' 5/B', 'Comune': 'Tesero', 'Cap': '38038', 'Frazione/Località': '', 'Note': ''}, {'ID': '431', 'Ragione sociale': 'BAR STELLA', 'Indirizzo': 'Via Roma', 'Civico': '29', 'Comune': 'Tesero', 'Cap': '38038', 'Frazione/Località': '', 'Note': ''}, {'ID': '432', 'Ragione sociale': 'CANAL KATIA TABACCHERIA', 'Indirizzo': 'Via Roma', 'Civico': '29', 'Comune': 'Tesero', 'Cap': '38038', 'Frazione/Località': '', 'Note': ''}, {'ID': '433', 'Ragione sociale': 'ELETTROSOC DI GILMOZZI ERNESTO', 'Indirizzo': 'Via Socce', 'Civico': '2', 'Comune': 'Tesero', 'Cap': '38038', 'Frazione/Località': '', 'Note': ''}, {'ID': '434', 'Ragione sociale': 'MOBILIFICIO SILVIO DELLADIO', 'Indirizzo': 'Via Roma', 'Civico': '24', 'Comune': 'Tesero', 'Cap': '38038', 'Frazione/Località': '', 'Note': ''}, {'ID': '435', 'Ragione sociale': 'FAMIGLIA COOPERATIVA', 'Indirizzo': 'Via Cavada', 'Civico': '6', 'Comune': 'Tesero', 'Cap': '38038', 'Frazione/Località': '', 'Note': ''}, {'ID': '436', 'Ragione sociale': 'BAR PASTICCERIA MAZZOLENI', 'Indirizzo': 'Piazza General Cantore', 'Civico': '28', 'Comune': 'Trento', 'Cap': '38121', 'Frazione/Località': '', 'Note': ''}, {'ID': '437', 'Ragione sociale': 'PROFUMERIA BOSCHETTO', 'Indirizzo': 'Via F.lli Bronzetti', 'Civico': '5', 'Comune': 'Cavalese', 'Cap': '38069', 'Frazione/Località': '', 'Note': ''}, {'ID': '438', 'Ragione sociale': 'L. MALGHER', 'Indirizzo': 'Piaza del Malgher', 'Civico': '1', 'Comune': 'Pozza di Fassa', 'Cap': '38036', 'Frazione/Località': '', 'Note': ''}, {'ID': '439', 'Ragione sociale': 'LINO SPORT', 'Indirizzo': 'Strada de Meida', 'Civico': '78', 'Comune': 'Pozza di Fassa', 'Cap': '38036', 'Frazione/Località': '', 'Note': ''}, {'ID': '440', 'Ragione sociale': 'RISTORANTE ALBERGO RIZZI', 'Indirizzo': 'Piaza de Salin', 'Civico': '6', 'Comune': 'Pozza di Fassa', 'Cap': '38036', 'Frazione/Località': '', 'Note': ''}, {'ID': '441', 'Ragione sociale': 'ELETTROGAS PEDERIVA', 'Indirizzo': 'Strada Dolomites', 'Civico': '121', 'Comune': 'Pozza di Fassa', 'Cap': '38036', 'Frazione/Località': '', 'Note': ''}, {'ID': '442', 'Ragione sociale': 'PANIFICIO EL PEK', 'Indirizzo': 'Piaza Deodat de Dolomieu', 'Civico': '4', 'Comune': 'Pozza di Fassa', 'Cap': '38036', 'Frazione/Località': '', 'Note': ''}, {'ID': '443', 'Ragione sociale': 'FAMIGLIA COOPERATIVA POZZA DI FASSA', 'Indirizzo': 'Piaza de Comun', 'Civico': '11', 'Comune': 'Pozza di Fassa', 'Cap': '38036', 'Frazione/Località': '', 'Note': ''}, {'ID': '444', 'Ragione sociale': 'BAR AL PONTE', 'Indirizzo': 'Strada de Meida', 'Civico': '1', 'Comune': 'Pozza di Fassa', 'Cap': '38036', 'Frazione/Località': '', 'Note': ''}, {'ID': '445', 'Ragione sociale': 'PANIFICIO BERNARD', 'Indirizzo': 'Troi Giovanni Francesco Bernard', 'Civico': '5', 'Comune': 'Pozza di Fassa', 'Cap': '38036', 'Frazione/Località': '', 'Note': ''}, {'ID': '446', 'Ragione sociale': 'PANIFICIO BONINSEGNA', 'Indirizzo': 'Piazza Cioc', 'Civico': '20', 'Comune': 'Soraga', 'Cap': '38030', 'Frazione/Località': '', 'Note': ''}, {'ID': '447', 'Ragione sociale': 'BAR RISTORANTE HOTEL DE FRONZ', 'Indirizzo': 'Strada de Pont', 'Civico': '35', 'Comune': 'Soraga', 'Cap': '38030', 'Frazione/Località': '', 'Note': ''}, {'ID': '448', 'Ragione sociale': 'BAR RISTORANTE HOTEL AVISIO', 'Indirizzo': 'Stradone de Fascia', 'Civico': '6', 'Comune': 'Soraga', 'Cap': '38030', 'Frazione/Località': '', 'Note': ''}, {'ID': '449', 'Ragione sociale': 'FAMIGLIA COOPERATIVA SORAGA', 'Indirizzo': 'Stradone de Fascia', 'Civico': '16', 'Comune': 'Soraga', 'Cap': '38030', 'Frazione/Località': '', 'Note': ''}, {'ID': '450', 'Ragione sociale': 'SPORT BRUNEL', 'Indirizzo': 'Piazza Cioc', 'Civico': '20', 'Comune': 'Soraga', 'Cap': '38030', 'Frazione/Località': '', 'Note': ''}, {'ID': '451', 'Ragione sociale': 'TABACCHERIA GIULIANI', 'Indirizzo': 'Stradone de Fascia', 'Civico': '3', 'Comune': 'Soraga', 'Cap': '38030', 'Frazione/Località': '', 'Note': ''}, {'ID': '452', 'Ragione sociale': 'BAR RISTORANTE HOTEL ROSALPINA', 'Indirizzo': 'Strada de Palua', 'Civico': '2', 'Comune': 'Soraga', 'Cap': '38030', 'Frazione/Località': '', 'Note': ''}, {'ID': '453', 'Ragione sociale': 'BAR RISTORANTE HOTEL ROSA', 'Indirizzo': 'Strada Rezia', 'Civico': '5', 'Comune': 'Vigo di Fassa', 'Cap': '38039', 'Frazione/Località': '', 'Note': ''}, {'ID': '454', 'Ragione sociale': 'TABACCHI E SOUVENIRS GHETTA FABRIZIO', 'Indirizzo': 'Strada de la Piazedela', 'Civico': '3', 'Comune': 'Vigo di Fassa', 'Cap': '38039', 'Frazione/Località': '', 'Note': ''}, {'ID': '455', 'Ragione sociale': 'FOTO SPORT LADIN', 'Indirizzo': 'Strada Roma', 'Civico': '26', 'Comune': 'Vigo di Fassa', 'Cap': '38039', 'Frazione/Località': '', 'Note': ''}, {'ID': '456', 'Ragione sociale': 'OREFICERIA OROLOGERIA POLLAM', 'Indirizzo': 'Strada Roma', 'Civico': '17', 'Comune': 'Vigo di Fassa', 'Cap': '38039', 'Frazione/Località': '', 'Note': ''}, {'ID': '457', 'Ragione sociale': 'BAR BIANCO', 'Indirizzo': 'Strada Rezia', 'Civico': '28', 'Comune': 'Vigo di Fassa', 'Cap': '38039', 'Frazione/Località': '', 'Note': ''}, {'ID': '458', 'Ragione sociale': 'MACELLERIA F.LLI PELLEGRIN', 'Indirizzo': 'Strada Daniel Zen', 'Civico': '9', 'Comune': 'Vigo di Fassa', 'Cap': '38039', 'Frazione/Località': '', 'Note': ''}, {'ID': '459', 'Ragione sociale': 'BAR HOTEL MIRAMONTI', 'Indirizzo': 'Strada di Molins', 'Civico': '10', 'Comune': 'Vigo di Fassa', 'Cap': '38039', 'Frazione/Località': '', 'Note': ''}, {'ID': '460', 'Ragione sociale': 'BAR RISTORANTE ACTIVE HOTEL OLYMPIC', 'Indirizzo': 'Strada Dolomites', 'Civico': '4', 'Comune': 'Vigo di Fassa', 'Cap': '38039', 'Frazione/Località': '', 'Note': ''}, {'ID': '461', 'Ragione sociale': 'BAR RISTORANTE HOTEL DOLOMITI', 'Indirizzo': 'Strada Dolomites', 'Civico': '9', 'Comune': 'Vigo di Fassa', 'Cap': '38039', 'Frazione/Località': '', 'Note': ''}, {'ID': '462', 'Ragione sociale': 'TONY SPORT', 'Indirizzo': 'Strada Rezia', 'Civico': '11', 'Comune': 'Vigo di Fassa', 'Cap': '38039', 'Frazione/Località': '', 'Note': ''}, {'ID': '463', 'Ragione sociale': 'BAR LADIN', 'Indirizzo': 'Strada de la Piazedela', 'Civico': '9', 'Comune': 'Vigo di Fassa', 'Cap': '38039', 'Frazione/Località': '', 'Note': ''}, {'ID': '464', 'Ragione sociale': 'BAR RISTORANTE HOTEL FONTANA', 'Indirizzo': 'Strada de Valongia', 'Civico': '36', 'Comune': 'Vigo di Fassa', 'Cap': '38039', 'Frazione/Località': '', 'Note': ''}, {'ID': '465', 'Ragione sociale': 'DA FLORA', 'Indirizzo': 'Strada Rezia', 'Civico': '22', 'Comune': 'Vigo di Fassa', 'Cap': '38039', 'Frazione/Località': '', 'Note': ''}, {'ID': '466', 'Ragione sociale': 'LA BOTEIGA', 'Indirizzo': 'Via Roma', 'Civico': '48', 'Comune': 'Vigo di Fassa', 'Cap': '38039', 'Frazione/Località': '', 'Note': ''}, {'ID': '467', 'Ragione sociale': 'BAR ALBERGO BELVEDERE', 'Indirizzo': 'Strada Murada', 'Civico': '3', 'Comune': 'Vigo di Fassa', 'Cap': '38039', 'Frazione/Località': '', 'Note': ''}, {'ID': '468', 'Ragione sociale': 'BAR RISTORANTE HOTEL RENATO', 'Indirizzo': 'Strada de Solar', 'Civico': '27', 'Comune': 'Vigo di Fassa', 'Cap': '38039', 'Frazione/Località': '', 'Note': ''}, {'ID': '469', 'Ragione sociale': 'PANIFICIO EL PECH', 'Indirizzo': 'Strada Rezia', 'Civico': '26', 'Comune': 'Vigo di Fassa', 'Cap': '38039', 'Frazione/Località': '', 'Note': ''}, {'ID': '470', 'Ragione sociale': 'FAMIGLIA COOPERATIVA VIGO DI FASSA', 'Indirizzo': 'Strada Rezia', 'Civico': '30', 'Comune': 'Vigo di Fassa', 'Cap': '38039', 'Frazione/Località': '', 'Note': ''}, {'ID': '471', 'Ragione sociale': 'ELECTRO POLLAM', 'Indirizzo': 'Strada Roma', 'Civico': '25', 'Comune': 'Vigo di Fassa', 'Cap': '38039', 'Frazione/Località': '', 'Note': ''}, {'ID': '472', 'Ragione sociale': 'BAR RISTORANTE HOTEL VAEL', 'Indirizzo': 'Strada Rezia', 'Civico': '29', 'Comune': 'Vigo di Fassa', 'Cap': '38039', 'Frazione/Località': '', 'Note': ''}, {'ID': '473', 'Ragione sociale': 'RISTORANTE HOTEL SAVOY', 'Indirizzo': 'Jouf de Ciareja', 'Civico': '2', 'Comune': 'Vigo di Fassa', 'Cap': '38039', 'Frazione/Località': '', 'Note': ''}, {'ID': '474', 'Ragione sociale': 'SPORT LUCY', 'Indirizzo': 'Loc. Passo Costalunga', 'Civico': '3', 'Comune': 'Vigo di Fassa', 'Cap': '38039', 'Frazione/Località': '', 'Note': ''}, {'ID': '475', 'Ragione sociale': 'LORENZ EMILIO BIBITE', 'Indirizzo': 'Strada de Pilat', 'Civico': '9', 'Comune': 'Vigo di Fassa', 'Cap': '38039', 'Frazione/Località': '', 'Note': ''}, {'ID': '476', 'Ragione sociale': 'RISTORANTE BAR ALPEN HOTEL CORONA', 'Indirizzo': 'Strada Murada', 'Civico': '3', 'Comune': 'Vigo di Fassa', 'Cap': '38039', 'Frazione/Località': '', 'Note': ''}, {'ID': '477', 'Ragione sociale': 'BAR RISTORANTE ALBERGO ALPINO AL CAVALLETTO', 'Indirizzo': 'Via Costa', 'Civico': '103', 'Comune': 'Canazei', 'Cap': '38032', 'Frazione/Località': '', 'Note': ''}, {'ID': '478', 'Ragione sociale': 'RISTORANTE HOTEL ALBA', 'Indirizzo': 'Via Costa', 'Civico': '99', 'Comune': 'Canazei', 'Cap': '38032', 'Frazione/Località': 'Alba di Canazei', 'Note': ''}, {'ID': '479', 'Ragione sociale': 'BAR RISTORANTE HOTEL BERNARD', 'Indirizzo': 'Via Roma', 'Civico': '25', 'Comune': 'Canazei', 'Cap': '38032', 'Frazione/Località': '', 'Note': ''}, {'ID': '480', 'Ragione sociale': 'BAR RISTORANTE HOTEL ALLA ROSA', 'Indirizzo': 'Strada del Faure', 'Civico': '18', 'Comune': 'Canazei', 'Cap': '38032', 'Frazione/Località': '', 'Note': ''}, {'ID': '481', 'Ragione sociale': 'PANIFICIO BONINSEGNA', 'Indirizzo': 'Via Costa', 'Civico': '25', 'Comune': 'Canazei', 'Cap': '38032', 'Frazione/Località': '', 'Note': ''}, {'ID': '482', 'Ragione sociale': 'RIFUGIO ESCURSIONISTICO VALENTINI', 'Indirizzo': 'Streda de Sella', 'Civico': '23', 'Comune': 'Canazei', 'Cap': '38032', 'Frazione/Località': '', 'Note': ''}, {'ID': '483', 'Ragione sociale': 'BAR RISTORANTE RIFUGIO VILLETTA MARIA', 'Indirizzo': 'Strada Pian Trevisan', 'Civico': '44', 'Comune': 'Canazei', 'Cap': '38032', 'Frazione/Località': '', 'Note': ''}, {'ID': '484', 'Ragione sociale': 'VALERUZ SPORT', 'Indirizzo': 'Via Roma', 'Civico': '18', 'Comune': 'Canazei', 'Cap': '38032', 'Frazione/Località': '', 'Note': ''}, {'ID': '485', 'Ragione sociale': 'CALZATURE ROSSI', 'Indirizzo': 'Via Dolomiti', 'Civico': '81', 'Comune': 'Canazei', 'Cap': '38032', 'Frazione/Località': '', 'Note': ''}, {'ID': '486', 'Ragione sociale': 'BAR RISTORANTE HOTEL COL DI LANA', 'Indirizzo': 'Strada del Pordoi', 'Civico': '132', 'Comune': 'Canazei', 'Cap': '38032', 'Frazione/Località': '', 'Note': ''}, {'ID': '487', 'Ragione sociale': 'BAR RISTORANTE ALBERGO MIRAMONTI', 'Indirizzo': 'Streda de Costa', 'Civico': '213', 'Comune': 'Canazei', 'Cap': '38032', 'Frazione/Località': '', 'Note': ''}, {'ID': '488', 'Ragione sociale': 'RISTORANTE HOTEL PORDOI', 'Indirizzo': 'Strada del Pordoi', 'Civico': '76', 'Comune': 'Canazei', 'Cap': '38032', 'Frazione/Località': '', 'Note': ''}, {'ID': '489', 'Ragione sociale': 'RISTORANTE HOTEL DOLOMITI', 'Indirizzo': 'Via Dolomites', 'Civico': '80', 'Comune': 'Canazei', 'Cap': '38032', 'Frazione/Località': '', 'Note': ''}, {'ID': '490', 'Ragione sociale': 'BAR GARNÌ INTERNATIONAL', 'Indirizzo': 'Streda Dolomites', 'Civico': '193', 'Comune': 'Canazei', 'Cap': '38032', 'Frazione/Località': '', 'Note': ''}, {'ID': '491', 'Ragione sociale': 'PROFUMERIA COSTA', 'Indirizzo': 'Piazza G. Marconi', 'Civico': '21', 'Comune': 'Canazei', 'Cap': '38032', 'Frazione/Località': '', 'Note': ''}, {'ID': '492', 'Ragione sociale': 'BAR GARNÌ STELLA ALPINA', 'Indirizzo': 'Streda do Ruf de Antermont', 'Civico': '6', 'Comune': 'Canazei', 'Cap': '38032', 'Frazione/Località': '', 'Note': ''}, {'ID': '493', 'Ragione sociale': 'BAR RISTORANTE HOTEL CROCE BIANCA', 'Indirizzo': 'Via Streda Roma', 'Civico': '3', 'Comune': 'Canazei', 'Cap': '38032', 'Frazione/Località': '', 'Note': ''}, {'ID': '494', 'Ragione sociale': 'BAR RISTORANTE HOTEL VILLA ROSA', 'Indirizzo': 'Streda Dolomites', 'Civico': '87', 'Comune': 'Campitello di Fassa', 'Cap': '38032', 'Frazione/Località': '', 'Note': ''}, {'ID': '495', 'Ragione sociale': 'RISTORANTE SPORT HOTEL ENROSADIRA', 'Indirizzo': 'Streda de Morandin', 'Civico': '43', 'Comune': 'Campitello di Fassa', 'Cap': '38032', 'Frazione/Località': '', 'Note': ''}, {'ID': '496', 'Ragione sociale': 'BAR RISTORANTE HOTEL RODODENDRO', 'Indirizzo': 'Streda Dolomites', 'Civico': '45', 'Comune': 'Campitello di Fassa', 'Cap': '38032', 'Frazione/Località': '', 'Note': ''}, {'ID': '497', 'Ragione sociale': 'BAR AGNELLO', 'Indirizzo': 'Piazza Centrale', 'Civico': '', 'Comune': 'Campitello di Fassa', 'Cap': '38032', 'Frazione/Località': '', 'Note': ''}, {'ID': '498', 'Ragione sociale': 'FAMIGLIA COOPERATIVA CAMPITELLO DI FASSA', 'Indirizzo': 'Streda Dolomites', 'Civico': '87', 'Comune': 'Campitello di Fassa', 'Cap': '38032', 'Frazione/Località': '', 'Note': ''}, {'ID': '499', 'Ragione sociale': 'BAR RISTORANTE HOTEL MIRAMONTI', 'Indirizzo': 'Via Mazzini Loc. Crosano', 'Civico': '97', 'Comune': 'Brentonico', 'Cap': '38060', 'Frazione/Località': '', 'Note': ''}, {'ID': '500', 'Ragione sociale': 'BAR RISTORANTE ALBERGO NENI', 'Indirizzo': 'Via Garibaldi', 'Civico': '2', 'Comune': 'Brentonico', 'Cap': '38060', 'Frazione/Località': '', 'Note': ''}, {'ID': '501', 'Ragione sociale': 'BAR RISTORANTE ALBERGO ZENI', 'Indirizzo': 'Via Roma', 'Civico': '16', 'Comune': 'Brentonico', 'Cap': '38060', 'Frazione/Località': '', 'Note': ''}, {'ID': '502', 'Ragione sociale': 'RISTORANTE HOTEL S. GIACOMO', 'Indirizzo': 'Loc. S. Giacomo Via Borani Salvotti', 'Civico': '2', 'Comune': 'Brentonico', 'Cap': '38060', 'Frazione/Località': '', 'Note': ''}, {'ID': '503', 'Ragione sociale': 'PANIFICIO TOGNI', 'Indirizzo': 'Via Roma', 'Civico': '14', 'Comune': 'Brentonico', 'Cap': '38060', 'Frazione/Località': '', 'Note': ''}, {'ID': '504', 'Ragione sociale': 'PIZZERIA LA PINETA', 'Indirizzo': 'Loc. S. Caterina', 'Civico': '1', 'Comune': 'Brentonico', 'Cap': '38060', 'Frazione/Località': '', 'Note': ''}, {'ID': '505', 'Ragione sociale': 'SAV FORMAGGI', 'Indirizzo': 'Piazza Generale Dalla Chiesa', 'Civico': '25', 'Comune': 'Brentonico', 'Cap': '38060', 'Frazione/Località': '', 'Note': ''}, {'ID': '506', 'Ragione sociale': 'TABACCHERIA RIGO', 'Indirizzo': 'Via Roma', 'Civico': '22', 'Comune': 'Brentonico', 'Cap': '38060', 'Frazione/Località': '', 'Note': ''}, {'ID': '507', 'Ragione sociale': 'PASSERINI CALZATURE', 'Indirizzo': 'Via Fabio Filzi', 'Civico': '19/a', 'Comune': 'Brentonico', 'Cap': '38060', 'Frazione/Località': '', 'Note': ''}, {'ID': '508', 'Ragione sociale': 'ALIMENTARI ANDREOLLI', 'Indirizzo': 'Via Roma', 'Civico': '5', 'Comune': 'Brentonico', 'Cap': '38060', 'Frazione/Località': '', 'Note': ''}, {'ID': '509', 'Ragione sociale': 'ALIMENTARI CANALI', 'Indirizzo': 'Loc. Castione Via Clemente', 'Civico': '1', 'Comune': 'Brentonico', 'Cap': '38060', 'Frazione/Località': '', 'Note': ''}, {'ID': '510', 'Ragione sociale': 'BAR COMMERCIO', 'Indirizzo': 'Via Roma', 'Civico': '49', 'Comune': 'Brentonico', 'Cap': '38060', 'Frazione/Località': '', 'Note': ''}, {'ID': '511', 'Ragione sociale': 'FAMIGLIA COOPERATIVA BRENTONICO', 'Indirizzo': 'Via Roberti', 'Civico': '3', 'Comune': 'Brentonico', 'Cap': '38060', 'Frazione/Località': '', 'Note': ''}, {'ID': '512', 'Ragione sociale': 'FAMIGLIA COOPERATIVA CROSANO', 'Indirizzo': 'Loc. Crosano Via Mazzini', 'Civico': '1', 'Comune': 'Brentonico', 'Cap': '38060', 'Frazione/Località': '', 'Note': ''}, {'ID': '513', 'Ragione sociale': 'FAMIGLIA COOPERATIVA CORNÈ', 'Indirizzo': 'Loc. Cornè Via 3 Novembre', 'Civico': '47', 'Comune': 'Brentonico', 'Cap': '38060', 'Frazione/Località': '', 'Note': ''}, {'ID': '514', 'Ragione sociale': 'BAR IL BUNKER', 'Indirizzo': 'Via Prof. Vanzetta', 'Civico': '', 'Comune': 'Ziano di Fiemme', 'Cap': '38030', 'Frazione/Località': '', 'Note': ''}, {'ID': '515', 'Ragione sociale': 'RISTORANTE HOTEL AL PONTE', 'Indirizzo': 'Via Alpini', 'Civico': '28', 'Comune': 'Villa Lagarina', 'Cap': '38060', 'Frazione/Località': '', 'Note': ''}, {'ID': '516', 'Ragione sociale': 'BAR RISTORANTE', 'Indirizzo': 'ALBERGO LAGO DI CEI', 'Civico': '1', 'Comune': 'Villa Lagarina', 'Cap': '38060', 'Frazione/Località': '', 'Note': ''}, {'ID': '517', 'Ragione sociale': 'BAR ROMA', 'Indirizzo': 'Loc. Lago di Cei Via XXV Aprile', 'Civico': '10', 'Comune': 'Villa Lagarina', 'Cap': '38060', 'Frazione/Località': '', 'Note': ''}, {'ID': '518', 'Ragione sociale': 'FARMACIA DE PROBIZER', 'Indirizzo': 'Via XXV Aprile', 'Civico': '28', 'Comune': 'Villa Lagarina', 'Cap': '38060', 'Frazione/Località': '', 'Note': ''}, {'ID': '519', 'Ragione sociale': 'FAMIGLIA COOPERATIVA DI CASTELLANO', 'Indirizzo': 'Via del Torchio', 'Civico': '64', 'Comune': 'Villa Lagarina', 'Cap': '38060', 'Frazione/Località': '', 'Note': ''}, {'ID': '520', 'Ragione sociale': 'FAMIGLIA COOPERATIVA DI PEDERSANO', 'Indirizzo': 'Via Sant’Antonio', 'Civico': '', 'Comune': 'Villa Lagarina', 'Cap': '38060', 'Frazione/Località': '', 'Note': ''}, {'ID': '521', 'Ragione sociale': 'FAMIGLIA COOPERATIVA VILLA LAGARINA', 'Indirizzo': 'Via XXV Aprile', 'Civico': '50', 'Comune': 'Villa Lagarina', 'Cap': '38060', 'Frazione/Località': '', 'Note': ''}, {'ID': '522', 'Ragione sociale': 'TESINO MARKET', 'Indirizzo': 'Via Brigata Abruzzi', 'Civico': '4', 'Comune': 'Pieve Tesino', 'Cap': '38050', 'Frazione/Località': '', 'Note': ''}, {'ID': '523', 'Ragione sociale': 'BAR CENTRALE', 'Indirizzo': 'Piazza Garibaldi', 'Civico': '4', 'Comune': 'Pieve Tesino', 'Cap': '38050', 'Frazione/Località': '', 'Note': ''}, {'ID': '524', 'Ragione sociale': 'PUNTO ROSSO ALIMENTARI', 'Indirizzo': 'Piazza Garibaldi', 'Civico': '2', 'Comune': 'Pieve Tesino', 'Cap': '38050', 'Frazione/Località': '', 'Note': ''}, {'ID': '525', 'Ragione sociale': 'BAR RISTORANTE ALBERGO ALPINO', 'Indirizzo': 'Madonna della Neve', 'Civico': '', 'Comune': 'Avio', 'Cap': '38063', 'Frazione/Località': '', 'Note': ''}, {'ID': '526', 'Ragione sociale': 'BAR NUOVO', 'Indirizzo': 'Loc. Valdomenegal Viale Alcide De Gasperi', 'Civico': '13', 'Comune': 'Avio', 'Cap': '38063', 'Frazione/Località': '', 'Note': ''}, {'ID': '527', 'Ragione sociale': 'CASEIFICIO SOCIALE SABBIONARA', 'Indirizzo': 'Via Vignola', 'Civico': '25', 'Comune': 'Avio', 'Cap': '38063', 'Frazione/Località': '', 'Note': ''}, {'ID': '528', 'Ragione sociale': 'RIVENDITA FUMANELLI GEDEONE', 'Indirizzo': 'Piazza Conciliazione', 'Civico': '17', 'Comune': 'Avio', 'Cap': '38063', 'Frazione/Località': '', 'Note': ''}, {'ID': '529', 'Ragione sociale': 'PANIFICIO SEGA DIEGO', 'Indirizzo': 'Via Regina Elena', 'Civico': '18', 'Comune': 'Avio', 'Cap': '38063', 'Frazione/Località': '', 'Note': ''}, {'ID': '530', 'Ragione sociale': 'FAMIGLIA COOPERATIVA AVIO', 'Indirizzo': 'Piazza Roma', 'Civico': '5', 'Comune': 'Avio', 'Cap': '38063', 'Frazione/Località': '', 'Note': ''}, {'ID': '531', 'Ragione sociale': 'BAR SPORT', 'Indirizzo': 'Via Venezia', 'Civico': '75', 'Comune': 'Avio', 'Cap': '38063', 'Frazione/Località': '', 'Note': ''}, {'ID': '532', 'Ragione sociale': 'BAR TRATTORIA ALLA STAZIONE', 'Indirizzo': 'Via General Cantore', 'Civico': '41', 'Comune': 'Avio', 'Cap': '38063', 'Frazione/Località': '', 'Note': ''}, {'ID': '533', 'Ragione sociale': 'CADEN CARLO ABBIGLIAMENTO', 'Indirizzo': 'Via Regina Elena', 'Civico': '12', 'Comune': 'Avio', 'Cap': '38063', 'Frazione/Località': '', 'Note': ''}, {'ID': '534', 'Ragione sociale': 'CADEN TENDAGGI', 'Indirizzo': 'Via Teatro', 'Civico': '5', 'Comune': 'Avio', 'Cap': '38063', 'Frazione/Località': '', 'Note': ''}, {'ID': '535', 'Ragione sociale': 'CONFEZIONI DA IDA', 'Indirizzo': 'Via S. Antonio', 'Civico': '28', 'Comune': 'Avio', 'Cap': '38063', 'Frazione/Località': '', 'Note': ''}, {'ID': '536', 'Ragione sociale': 'BAR RISTORANTE ALBERGO MONTE BALDO', 'Indirizzo': 'Loc. Borghetto', 'Civico': '', 'Comune': 'Avio', 'Cap': '38063', 'Frazione/Località': '', 'Note': ''}, {'ID': '537', 'Ragione sociale': 'RIFUGIO ESCURSIONISTICO MONTE BALDO', 'Indirizzo': 'Loc. Valdomenegal II Madonna della Neve', 'Civico': '', 'Comune': 'Avio', 'Cap': '38063', 'Frazione/Località': '', 'Note': ''}, {'ID': '538', 'Ragione sociale': 'FARMACIA COOPERATIVA', 'Indirizzo': 'Piazza Roma', 'Civico': '4', 'Comune': 'Avio', 'Cap': '38063', 'Frazione/Località': '', 'Note': ''}, {'ID': '539', 'Ragione sociale': 'FALEGNAMERIA MABBONI', 'Indirizzo': 'Viale Alcide De Gasperi', 'Civico': '82', 'Comune': 'Avio', 'Cap': '38063', 'Frazione/Località': '', 'Note': ''}, {'ID': '540', 'Ragione sociale': 'DELIZIE WELPONER', 'Indirizzo': 'Via F.lli Bronzetti', 'Civico': '27', 'Comune': 'Cavalese', 'Cap': '38033', 'Frazione/Località': '', 'Note': ''}, {'ID': '541', 'Ragione sociale': 'FARMACIA BONI', 'Indirizzo': 'Viale Dante', 'Civico': '42', 'Comune': 'Tione di Trento', 'Cap': '38079', 'Frazione/Località': '', 'Note': ''}, {'ID': '542', 'Ragione sociale': 'PANIFICIO MODERNO', 'Indirizzo': 'Via Al Ponte', 'Civico': '10', 'Comune': 'Isera', 'Cap': '38060', 'Frazione/Località': '', 'Note': ''}, {'ID': '543', 'Ragione sociale': 'FAMIGLIA COOPERATIVA DI ISERA', 'Indirizzo': 'Piazza San Vincenzo', 'Civico': '10', 'Comune': 'Isera', 'Cap': '38060', 'Frazione/Località': '', 'Note': ''}, {'ID': '544', 'Ragione sociale': 'RISTORANTE BAR HOTEL TRESSANE', 'Indirizzo': 'Via Roma', 'Civico': '30', 'Comune': 'Primiero San Martino di Castrozza', 'Cap': '38054', 'Frazione/Località': 'Tonadico', 'Note': ''}, {'ID': '545', 'Ragione sociale': 'RISTORANTE PARK HOTEL IRIS', 'Indirizzo': 'Via Roma', 'Civico': '26', 'Comune': 'Primiero San Martino di Castrozza', 'Cap': '38054', 'Frazione/Località': 'Tonadico', 'Note': ''}, {'ID': '546', 'Ragione sociale': 'RISTORANTE HOTEL PRIMIERO', 'Indirizzo': 'Via Roma', 'Civico': '8', 'Comune': 'Primiero San Martino di Castrozza', 'Cap': '38054', 'Frazione/Località': 'Tonadico', 'Note': ''}, {'ID': '547', 'Ragione sociale': 'IL NEGOZIO DEL PANE', 'Indirizzo': 'Via Roma', 'Civico': '2', 'Comune': 'Primiero San Martino di Castrozza', 'Cap': '38054', 'Frazione/Località': 'Tonadico', 'Note': ''}, {'ID': '548', 'Ragione sociale': 'PANIFICIO CENTRALE DI PRIMIERO', 'Indirizzo': 'Via Roma', 'Civico': '2', 'Comune': 'Primiero San Martino di Castrozza', 'Cap': '38054', 'Frazione/Località': 'Tonadico', 'Note': ''}, {'ID': '549', 'Ragione sociale': 'BAR ALBERGO TRE PONTI', 'Indirizzo': 'Via Sorelle Lucian', 'Civico': '5', 'Comune': 'Primiero San Martino di Castrozza', 'Cap': '38054', 'Frazione/Località': 'Tonadico', 'Note': ''}, {'ID': '550', 'Ragione sociale': 'RISTORANTE BAR LANTERNA VERDE', 'Indirizzo': 'Via Roma', 'Civico': '8', 'Comune': 'Primiero San Martino di Castrozza', 'Cap': '38054', 'Frazione/Località': 'Tonadico', 'Note': ''}, {'ID': '551', 'Ragione sociale': 'EDICOLA BAZAR TABACCHI', 'Indirizzo': 'Via Scopoli', 'Civico': '43', 'Comune': 'Primiero San Martino di Castrozza', 'Cap': '38054', 'Frazione/Località': 'Tonadico', 'Note': ''}, {'ID': '552', 'Ragione sociale': 'BAR CENTRALE', 'Indirizzo': 'Via Scopoli', 'Civico': '37', 'Comune': 'Primiero San Martino di Castrozza', 'Cap': '38054', 'Frazione/Località': 'Tonadico', 'Note': ''}, {'ID': '553', 'Ragione sociale': 'NON SOLO PANE', 'Indirizzo': 'Via Card. Bernardin', 'Civico': '2', 'Comune': 'Primiero San Martino di Castrozza', 'Cap': '38054', 'Frazione/Località': 'Tonadico', 'Note': ''}, {'ID': '554', 'Ragione sociale': 'FAMIGLIA COOPERATIVA DI TONADICO', 'Indirizzo': 'Via Scopoli', 'Civico': '40', 'Comune': 'Primiero San Martino di Castrozza', 'Cap': '38054', 'Frazione/Località': 'Tonadico', 'Note': ''}, {'ID': '555', 'Ragione sociale': 'OREFICERIA OROLOGERIA MULLER', 'Indirizzo': 'Piazza San Giorgio', 'Civico': '3', 'Comune': 'Castello Tesino', 'Cap': '38053', 'Frazione/Località': '', 'Note': ''}, {'ID': '556', 'Ragione sociale': 'FARMACIA RIGONI', 'Indirizzo': 'Via Dante', 'Civico': '12/A', 'Comune': 'Castello Tesino', 'Cap': '38053', 'Frazione/Località': '', 'Note': ''}, {'ID': '557', 'Ragione sociale': 'BAR PIZZERIA CROSARA', 'Indirizzo': 'Piazza San Giorgio', 'Civico': '8', 'Comune': 'Castello Tesino', 'Cap': '38053', 'Frazione/Località': '', 'Note': ''}, {'ID': '558', 'Ragione sociale': 'BAR ROMA', 'Indirizzo': 'Piazza San Giorgio', 'Civico': '5', 'Comune': 'Castello Tesino', 'Cap': '38053', 'Frazione/Località': '', 'Note': ''}, {'ID': '559', 'Ragione sociale': 'FAMIGLIA COOPERATIVA DI CASTELLO TESINO', 'Indirizzo': 'Via Donato Pelloso', 'Civico': '13/A', 'Comune': 'Castello Tesino', 'Cap': '38053', 'Frazione/Località': '', 'Note': ''}, {'ID': '560', 'Ragione sociale': 'BAR ORATORIO', 'Indirizzo': 'Via Venezia', 'Civico': '18', 'Comune': 'Castello Tesino', 'Cap': '38053', 'Frazione/Località': '', 'Note': ''}, {'ID': '561', 'Ragione sociale': 'RISTORANTE BAR ALBERGO PASSO BROCON “DA S’CIOPO”', 'Indirizzo': 'Loc. Passo Brocon', 'Civico': '2', 'Comune': 'Castello Tesino', 'Cap': '38053', 'Frazione/Località': '', 'Note': ''}, {'ID': '562', 'Ragione sociale': 'FIORI E VERDURA', 'Indirizzo': 'Piazza Trento', 'Civico': '1', 'Comune': 'Castello Tesino', 'Cap': '38053', 'Frazione/Località': '', 'Note': ''}, {'ID': '563', 'Ragione sociale': 'EMPORIO DIEGO ZOTTA', 'Indirizzo': 'Piazza Trento', 'Civico': '3', 'Comune': 'Castello Tesino', 'Cap': '38053', 'Frazione/Località': '', 'Note': ''}, {'ID': '564', 'Ragione sociale': 'BAR AL PONTE', 'Indirizzo': 'Località Molini', 'Civico': '2', 'Comune': 'Castello Tesino', 'Cap': '38053', 'Frazione/Località': '', 'Note': ''}, {'ID': '565', 'Ragione sociale': 'MACELLERIA BOSO', 'Indirizzo': 'Via Baili', 'Civico': '4', 'Comune': 'Castello Tesino', 'Cap': '38053', 'Frazione/Località': '', 'Note': ''}, {'ID': '566', 'Ragione sociale': 'BAR RISTORANTE ALBERGO BELLAVISTA', 'Indirizzo': 'Via Roma', 'Civico': '17', 'Comune': 'Castello Tesino', 'Cap': '38053', 'Frazione/Località': '', 'Note': ''}, {'ID': '567', 'Ragione sociale': 'ABBIGLIAMENTO BAILO', 'Indirizzo': 'Piazza Marconi', 'Civico': '1', 'Comune': 'Castello Tesino', 'Cap': '38053', 'Frazione/Località': '', 'Note': ''}, {'ID': '568', 'Ragione sociale': 'ALIMENTARI DA CELESTINO', 'Indirizzo': 'Piazza Marconi', 'Civico': '5', 'Comune': 'Castello Tesino', 'Cap': '38053', 'Frazione/Località': '', 'Note': ''}, {'ID': '569', 'Ragione sociale': 'ALIMENTARI MORANDUZZO', 'Indirizzo': 'Via Terrasanta', 'Civico': '7', 'Comune': 'Castello Tesino', 'Cap': '38053', 'Frazione/Località': '', 'Note': ''}, {'ID': '570', 'Ragione sociale': 'CAFFÈ MARCONI', 'Indirizzo': 'Piazza Marconi', 'Civico': '4', 'Comune': 'Castello Tesino', 'Cap': '38053', 'Frazione/Località': '', 'Note': ''}, {'ID': '571', 'Ragione sociale': 'TABACCHI ZAMPIERO', 'Indirizzo': 'Piazza Marconi', 'Civico': '3', 'Comune': 'Castello Tesino', 'Cap': '38053', 'Frazione/Località': '', 'Note': ''}, {'ID': '572', 'Ragione sociale': 'CHALET FERRARI', 'Indirizzo': 'Piazza Righi', 'Civico': '28', 'Comune': 'Pinzolo', 'Cap': '38086', 'Frazione/Località': 'Madonna di Campiglio', 'Note': ''}, {'ID': '573', 'Ragione sociale': 'CHALET FERRARI REGALO', 'Indirizzo': 'Piazza Righi', 'Civico': '30', 'Comune': 'Pinzolo', 'Cap': '38086', 'Frazione/Località': 'Madonna di Campiglio', 'Note': ''}, {'ID': '574', 'Ragione sociale': 'ZANELLA ARREDAMENTI', 'Indirizzo': 'Via Rosmini', 'Civico': '78', 'Comune': 'Trento', 'Cap': '38122', 'Frazione/Località': '', 'Note': ''}, {'ID': '575', 'Ragione sociale': 'ALIMENTARI RICCIO STEFANIA', 'Indirizzo': 'Via Dante', 'Civico': '7/B', 'Comune': 'Levico Terme', 'Cap': '38065', 'Frazione/Località': '', 'Note': ''}, {'ID': '576', 'Ragione sociale': 'ETA BETA DI GRISENTI GIORGIA', 'Indirizzo': 'Corso Centrale', 'Civico': '38', 'Comune': 'Levico Terme', 'Cap': '38065', 'Frazione/Località': '', 'Note': ''}, {'ID': '577', 'Ragione sociale': 'FERRAMENTA CASALINGHI ROSA', 'Indirizzo': 'Via Dante', 'Civico': '16', 'Comune': 'Levico Terme', 'Cap': '38065', 'Frazione/Località': '', 'Note': ''}, {'ID': '578', 'Ragione sociale': 'FAMIGLIA COOPERATIVA LAGORAI', 'Indirizzo': 'Via Marchi', 'Civico': '2', 'Comune': 'Ronchi Valsugana', 'Cap': '38050', 'Frazione/Località': '', 'Note': ''}, {'ID': '579', 'Ragione sociale': 'SIMONETTO CARNI', 'Indirizzo': 'Viale Venezia', 'Civico': '20', 'Comune': 'Castelnuovo', 'Cap': '38050', 'Frazione/Località': '', 'Note': ''}, {'ID': '580', 'Ragione sociale': 'BAR RISTORANTE HOTEL COSTABELLA', 'Indirizzo': 'Sén Pelegrin', 'Civico': '37', 'Comune': 'Moena', 'Cap': '38035', 'Frazione/Località': '', 'Note': ''}, {'ID': '581', 'Ragione sociale': 'MACELLERIA FELICETTI', 'Indirizzo': 'Strada E. Zanoner Canori', 'Civico': '', 'Comune': 'Moena', 'Cap': '38035', 'Frazione/Località': '', 'Note': ''}, {'ID': '582', 'Ragione sociale': 'ELETTRODOMESTICI DE PELLEGRINI', 'Indirizzo': 'Strenta de Ischiacia', 'Civico': '14', 'Comune': 'Moena', 'Cap': '38035', 'Frazione/Località': '', 'Note': ''}, {'ID': '583', 'Ragione sociale': 'SEGHERIA ZANONER', 'Indirizzo': 'Strada de la Comunità de Fiem', 'Civico': '11', 'Comune': 'Moena', 'Cap': '38035', 'Frazione/Località': '', 'Note': ''}, {'ID': '584', 'Ragione sociale': 'MACELLERIA FASANELLI', 'Indirizzo': 'Via 3 Novembre', 'Civico': '3', 'Comune': 'Pomarolo', 'Cap': '38060', 'Frazione/Località': '', 'Note': ''}, {'ID': '585', 'Ragione sociale': 'MINATI ROBERTA', 'Indirizzo': 'Via Vittorio Emanuele', 'Civico': '27', 'Comune': 'Grigno', 'Cap': '38055', 'Frazione/Località': '', 'Note': 'esercizio commerciale'}, {'ID': '586', 'Ragione sociale': 'BAR RISTORANTE ALBERGO SILVANA', 'Indirizzo': 'Via Nuova', 'Civico': '6', 'Comune': 'Ledro', 'Cap': '38067', 'Frazione/Località': '', 'Note': ''}, {'ID': '587', 'Ragione sociale': 'EDICOLA TABACCHI SANNICOLÒ GABRIELE', 'Indirizzo': 'Piazza Sanzio', 'Civico': '9', 'Comune': 'Trento', 'Cap': '38122', 'Frazione/Località': '', 'Note': ''}, {'ID': '588', 'Ragione sociale': 'FARMACIA CENTRALE', 'Indirizzo': 'Corso Ausugum', 'Civico': '40', 'Comune': 'Borgo Valsugana', 'Cap': '38051', 'Frazione/Località': '', 'Note': ''}, {'ID': '589', 'Ragione sociale': 'SIMONETTO CARNI', 'Indirizzo': 'Via Padri Morizzo', 'Civico': '20', 'Comune': 'Borgo Valsugana', 'Cap': '38051', 'Frazione/Località': '', 'Note': ''}, {'ID': '590', 'Ragione sociale': 'FAMIGLIA COOPERATIVA DI CAVALESE', 'Indirizzo': 'Piazza Battisti', 'Civico': '12', 'Comune': 'Cavalese', 'Cap': '38033', 'Frazione/Località': '', 'Note': ''}, {'ID': '591', 'Ragione sociale': 'DAMIATA MOTO', 'Indirizzo': 'Corso Bettini', 'Civico': '54', 'Comune': 'Rovereto', 'Cap': '38068', 'Frazione/Località': '', 'Note': ''}, {'ID': '592', 'Ragione sociale': 'NEON TRENTO SCOTUZZI', 'Indirizzo': \"Via Ragazzi del '99\", 'Civico': '39', 'Comune': 'Trento', 'Cap': '38123', 'Frazione/Località': '', 'Note': 'attività artigianale'}, {'ID': '593', 'Ragione sociale': 'CASA DEL CAFFÈ', 'Indirizzo': 'Via Maffei', 'Civico': '13', 'Comune': 'Riva del Garda', 'Cap': '38066', 'Frazione/Località': '', 'Note': ''}, {'ID': '594', 'Ragione sociale': 'RISTORANTE PIZZERIA LILLÀ', 'Indirizzo': \"Piazza di Sant'A. Abate\", 'Civico': '5', 'Comune': 'Vallelaghi', 'Cap': '38070', 'Frazione/Località': 'Vezzano', 'Note': ''}, {'ID': '595', 'Ragione sociale': 'BAR HOTEL SEGGIOVIA', 'Indirizzo': 'Loc. Francolini', 'Civico': '32', 'Comune': 'Folgaria', 'Cap': '38064', 'Frazione/Località': '', 'Note': ''}, {'ID': '596', 'Ragione sociale': 'PANIFICIO CANALIA', 'Indirizzo': 'Via Schirni', 'Civico': '13', 'Comune': 'Folgaria', 'Cap': '38064', 'Frazione/Località': '', 'Note': ''}, {'ID': '597', 'Ragione sociale': 'FOLGARIA FASHION SPORT', 'Indirizzo': 'Ciao E. Colpi', 'Civico': '191', 'Comune': 'Folgaria', 'Cap': '38064', 'Frazione/Località': '', 'Note': ''}, {'ID': '598', 'Ragione sociale': 'BAR RISTORANTE HOTEL BIANCANEVE', 'Indirizzo': 'Via A. Maffei', 'Civico': '134', 'Comune': 'Folgaria', 'Cap': '38064', 'Frazione/Località': '', 'Note': ''}, {'ID': '600', 'Ragione sociale': 'BAR RISTORANTE HOTEL ERICA', 'Indirizzo': 'Via Nazionale', 'Civico': '69', 'Comune': 'Folgaria', 'Cap': '38064', 'Frazione/Località': '', 'Note': ''}, {'ID': '601', 'Ragione sociale': \"BAR RISTORANTE ANTICO ALBERGO STELLA D'ITALIA\", 'Indirizzo': 'Via E. Colpi', 'Civico': '48', 'Comune': 'Folgaria', 'Cap': '38064', 'Frazione/Località': '', 'Note': ''}, {'ID': '602', 'Ragione sociale': 'BAR RISTORANTE ALBERGO TRENTINO', 'Indirizzo': 'Via Manzoni', 'Civico': '63', 'Comune': 'Folgaria', 'Cap': '38064', 'Frazione/Località': '', 'Note': ''}, {'ID': '603', 'Ragione sociale': 'CALZATURE FAIT', 'Indirizzo': 'Via E. Colpi', 'Civico': '10', 'Comune': 'Folgaria', 'Cap': '38064', 'Frazione/Località': '', 'Note': ''}, {'ID': '604', 'Ragione sociale': 'FARMACIA GIRARDI', 'Indirizzo': 'Via E. Colpi', 'Civico': '179', 'Comune': 'Folgaria', 'Cap': '38064', 'Frazione/Località': '', 'Note': ''}, {'ID': '605', 'Ragione sociale': 'BAR RISTORANTE PARK HOTEL MIRAMONTI', 'Indirizzo': 'Via Dante Alighieri', 'Civico': '12', 'Comune': 'Folgaria', 'Cap': '38064', 'Frazione/Località': '', 'Note': ''}, {'ID': '606', 'Ragione sociale': 'BAR RISTORANTE ALBERGO DUE SPADE', 'Indirizzo': 'Via Lega Nazionale', 'Civico': '41', 'Comune': 'Folgaria', 'Cap': '38064', 'Frazione/Località': '', 'Note': ''}, {'ID': '607', 'Ragione sociale': 'MERCERIA RELLA', 'Indirizzo': 'Piazza S. Lorenzo', 'Civico': '11', 'Comune': 'Folgaria', 'Cap': '38064', 'Frazione/Località': '', 'Note': ''}, {'ID': '609', 'Ragione sociale': 'SALUMERIA BELLI', 'Indirizzo': 'Piazza Oveno', 'Civico': '1', 'Comune': 'Trento', 'Cap': '38123', 'Frazione/Località': 'Sopramonte', 'Note': ''}, {'ID': '610', 'Ragione sociale': 'BONANI GIULIANA', 'Indirizzo': 'Frazione Ponte Arche', 'Civico': '58', 'Comune': 'Comano Terme', 'Cap': '38077', 'Frazione/Località': '', 'Note': 'esercizio commerciale'}, {'ID': '611', 'Ragione sociale': 'BAR FIORENTINA', 'Indirizzo': 'Via Calepina', 'Civico': '4', 'Comune': 'Trento', 'Cap': '38122', 'Frazione/Località': '', 'Note': ''}, {'ID': '612', 'Ragione sociale': 'AMBROSI SILVIO LUIGI', 'Indirizzo': 'Via Nazionale', 'Civico': '35', 'Comune': 'Pellizzano', 'Cap': '38020', 'Frazione/Località': '', 'Note': 'esercizio commerciale'}, {'ID': '613', 'Ragione sociale': 'MACELLERIA MALENCH', 'Indirizzo': 'Piazza San Vittore', 'Civico': '19', 'Comune': 'Predaia', 'Cap': '38012', 'Frazione/Località': 'Taio', 'Note': ''}, {'ID': '614', 'Ragione sociale': 'BAR DEI CAVAI', 'Indirizzo': 'Via S. Martino', 'Civico': '90', 'Comune': 'Trento', 'Cap': '38122', 'Frazione/Località': '', 'Note': ''}, {'ID': '615', 'Ragione sociale': 'BRESCIANI SOUVENIR', 'Indirizzo': 'Piazza C. Battisti', 'Civico': '14', 'Comune': 'Riva del Garda', 'Cap': '38066', 'Frazione/Località': '', 'Note': ''}, {'ID': '616', 'Ragione sociale': 'PROFUMERIE BRESCIANI', 'Indirizzo': 'Via Mazzini', 'Civico': '13', 'Comune': 'Riva del Garda', 'Cap': '38066', 'Frazione/Località': '', 'Note': ''}, {'ID': '617', 'Ragione sociale': \"BAR DELL'HOTEL RANCOLIN\", 'Indirizzo': 'Strada de Moene', 'Civico': '31', 'Comune': 'Moena', 'Cap': '38035', 'Frazione/Località': '', 'Note': ''}, {'ID': '618', 'Ragione sociale': 'MOBILIFICIO ARTIGIANI ASSOCIATI', 'Indirizzo': 'Strada de la Comunità de Fiem', 'Civico': '34', 'Comune': 'Moena', 'Cap': '38035', 'Frazione/Località': '', 'Note': ''}, {'ID': '619', 'Ragione sociale': 'BAR GABRY', 'Indirizzo': 'Piaz de Ramon', 'Civico': '27', 'Comune': 'Moena', 'Cap': '38035', 'Frazione/Località': '', 'Note': ''}, {'ID': '620', 'Ragione sociale': 'BAR RAMON', 'Indirizzo': 'Piaz de Ramon ', 'Civico': '41', 'Comune': 'Moena', 'Cap': '38035', 'Frazione/Località': '', 'Note': ''}, {'ID': '621', 'Ragione sociale': 'ENOTECA DEL PINTER', 'Indirizzo': 'Strenta de Ischiacia', 'Civico': '1', 'Comune': 'Moena', 'Cap': '38035', 'Frazione/Località': '', 'Note': ''}, {'ID': '622', 'Ragione sociale': 'GIOIELLERIA CROCE', 'Indirizzo': 'Piaz de Ramon', 'Civico': '41', 'Comune': 'Moena', 'Cap': '38035', 'Frazione/Località': '', 'Note': ''}, {'ID': '623', 'Ragione sociale': \"BAR DELL'HOTEL ALLE ALPI\", 'Indirizzo': 'Steda de Moene ', 'Civico': '67', 'Comune': 'Moena', 'Cap': '38035', 'Frazione/Località': '', 'Note': ''}, {'ID': '624', 'Ragione sociale': 'LA BORA', 'Indirizzo': 'Piaz de Ramon', 'Civico': '45', 'Comune': 'Moena', 'Cap': '38035', 'Frazione/Località': '', 'Note': ''}, {'ID': '625', 'Ragione sociale': 'NONSOLOMODA', 'Indirizzo': 'Strada de Fachin', 'Civico': '3', 'Comune': 'Moena', 'Cap': '38035', 'Frazione/Località': '', 'Note': ''}, {'ID': '626', 'Ragione sociale': 'PELLETTERIA GRAZIA S.A.S.', 'Indirizzo': 'Via Fiume', 'Civico': '29', 'Comune': 'Riva del Garda', 'Cap': '38066', 'Frazione/Località': '', 'Note': ''}, {'ID': '627', 'Ragione sociale': 'MACELLERIA ZANOTELLI', 'Indirizzo': 'Viale IV Novembre 35', 'Civico': '', 'Comune': 'Cembra Lisignago', 'Cap': '38034', 'Frazione/Località': 'Cembra', 'Note': ''}, {'ID': '628', 'Ragione sociale': 'PANIFICIO GAIGHER', 'Indirizzo': 'Via Damiano Chiesa  6', 'Civico': '', 'Comune': 'Cembra Lisignago', 'Cap': '38034', 'Frazione/Località': 'Cembra', 'Note': ''}, {'ID': '629', 'Ragione sociale': \"FERRAMENTA PIU'\", 'Indirizzo': 'Viale IV Novembre 35', 'Civico': '82', 'Comune': 'Cembra Lisignago', 'Cap': '38034', 'Frazione/Località': 'Cembra', 'Note': ''}, {'ID': '630', 'Ragione sociale': 'IDEA CASA', 'Indirizzo': 'Viale IV Novembre 35', 'Civico': '78', 'Comune': 'Cembra Lisignago', 'Cap': '38034', 'Frazione/Località': 'Cembra', 'Note': ''}, {'ID': '631', 'Ragione sociale': 'MACELLERIA PAOLAZZI', 'Indirizzo': 'Piazza San Rocco', 'Civico': '2', 'Comune': 'Cembra Lisignago', 'Cap': '38034', 'Frazione/Località': 'Cembra', 'Note': ''}, {'ID': '632', 'Ragione sociale': 'BAR VICO', 'Indirizzo': 'Piazza Marconi', 'Civico': '6', 'Comune': 'Cembra Lisignago', 'Cap': '38034', 'Frazione/Località': 'Cembra', 'Note': ''}, {'ID': '633', 'Ragione sociale': 'BAR ROSALPINA', 'Indirizzo': 'Viale IV Novembre 17', 'Civico': '', 'Comune': 'Cembra Lisignago', 'Cap': '38034', 'Frazione/Località': 'Cembra', 'Note': ''}, {'ID': '634', 'Ragione sociale': 'ALBERGO RISTORANTE BAR DUE SPADE', 'Indirizzo': 'Piazza Municipio ', 'Civico': '2', 'Comune': 'Caldonazzo', 'Cap': '38052', 'Frazione/Località': '', 'Note': ''}, {'ID': '635', 'Ragione sociale': 'ALBERGO RISTORANTE BAR ALLA TORRE', 'Indirizzo': 'Via delle Villa', 'Civico': '37', 'Comune': 'Caldonazzo', 'Cap': '38052', 'Frazione/Località': '', 'Note': ''}, {'ID': '636', 'Ragione sociale': 'CASALINGHI FERRAMENTA MURARA', 'Indirizzo': 'Piazza Municipio', 'Civico': '14', 'Comune': 'Caldonazzo', 'Cap': '38052', 'Frazione/Località': '', 'Note': ''}, {'ID': '637', 'Ragione sociale': 'MOBILI CIOLA', 'Indirizzo': 'Via Brenta', 'Civico': '9', 'Comune': 'Caldonazzo', 'Cap': '38052', 'Frazione/Località': '', 'Note': ''}, {'ID': '638', 'Ragione sociale': 'BAR RISTORNATE ROSSI', 'Indirizzo': 'Via G. Marconi', 'Civico': '1', 'Comune': 'Luserna', 'Cap': '38040', 'Frazione/Località': '', 'Note': ''}, {'ID': '639', 'Ragione sociale': 'MACELLERIA BONELLI', 'Indirizzo': 'Via Asilo', 'Civico': '26', 'Comune': 'Primiero San Martino di Castrozza', 'Cap': '38054', 'Frazione/Località': 'Siror', 'Note': ''}, {'ID': '640', 'Ragione sociale': 'PANIFICIO PASTICCERIA ZANETEL ARRIGO', 'Indirizzo': 'Via Larga', 'Civico': '11', 'Comune': 'Primiero San Martino di Castrozza', 'Cap': '38054', 'Frazione/Località': 'Siror', 'Note': ''}, {'ID': '641', 'Ragione sociale': 'BAR HOTEL SIROR', 'Indirizzo': 'Via Larga ', 'Civico': '13', 'Comune': 'Primiero San Martino di Castrozza', 'Cap': '38054', 'Frazione/Località': 'Siror', 'Note': ''}, {'ID': '642', 'Ragione sociale': \"CAFFE' CENTRALE DI GIAN LUIGI SECCO E C.\", 'Indirizzo': 'Via Passo Rolle', 'Civico': '76', 'Comune': 'Primiero San Martino di Castrozza', 'Cap': '38054', 'Frazione/Località': 'San Martino di Castrozza', 'Note': ''}, {'ID': '643', 'Ragione sociale': 'RISTORANTE ALBERGO CENTRALE', 'Indirizzo': 'Via Passo Rolle', 'Civico': '74', 'Comune': 'Primiero San Martino di Castrozza', 'Cap': '38054', 'Frazione/Località': 'San Martino di Castrozza', 'Note': ''}, {'ID': '644', 'Ragione sociale': \"BAZAR DELL'ALPE\", 'Indirizzo': 'Via Passo Rolle', 'Civico': '185', 'Comune': 'Primiero San Martino di Castrozza', 'Cap': '38054', 'Frazione/Località': 'San Martino di Castrozza', 'Note': ''}, {'ID': '645', 'Ragione sociale': 'BANCHER S.A.S. DI TISOT ADELIA E C.', 'Indirizzo': 'Via Laghetto', 'Civico': '4', 'Comune': 'Primiero San Martino di Castrozza', 'Cap': '38054', 'Frazione/Località': 'San Martino di Castrozza', 'Note': ''}, {'ID': '646', 'Ragione sociale': 'ALBERGO BAR RISTORANTE ROSALPINA DI CANALIA GABRIELE', 'Indirizzo': 'Via Strada Nuova ', 'Civico': '8', 'Comune': 'Folgaria', 'Cap': '38064', 'Frazione/Località': '', 'Note': ''}, {'ID': '647', 'Ragione sociale': 'ALBERGO BAR RISTORANTE SAYONARA DI RECH WILLIAM', 'Indirizzo': 'Via A. Maffei', 'Civico': '52', 'Comune': 'Folgaria', 'Cap': '38064', 'Frazione/Località': 'Costa', 'Note': ''}, {'ID': '648', 'Ragione sociale': 'NIC S.A.S. DI NICOLODI MARTINO', 'Indirizzo': 'Via Cesare Battisti', 'Civico': '33/1', 'Comune': 'Cembra Lisignago', 'Cap': '38034', 'Frazione/Località': 'Cembra', 'Note': ''}, {'ID': '649', 'Ragione sociale': 'FAMIGLIA COOPERATIVA DI CEMBRA', 'Indirizzo': 'Piazza Marconi', 'Civico': '3', 'Comune': 'Cembra Lisignago', 'Cap': '38034', 'Frazione/Località': 'Cembra', 'Note': ''}, {'ID': '650', 'Ragione sociale': 'TABACCHINO DI FADANELLI MAURA', 'Indirizzo': 'Piazza Marconi', 'Civico': '8', 'Comune': 'Cembra Lisignago', 'Cap': '38034', 'Frazione/Località': 'Cembra', 'Note': ''}, {'ID': '651', 'Ragione sociale': 'BAR PIZZERIA SAINT ROCK', 'Indirizzo': 'Viale IV Novembre', 'Civico': '51', 'Comune': 'Cembra Lisignago', 'Cap': '38034', 'Frazione/Località': 'Cembra', 'Note': ''}, {'ID': '652', 'Ragione sociale': 'BAZAR COVI', 'Indirizzo': 'Piazza San Giovanni', 'Civico': '16', 'Comune': 'Fondo', 'Cap': '38013', 'Frazione/Località': '', 'Note': ''}, {'ID': '653', 'Ragione sociale': 'CALZATURE SCHNEIDER', 'Indirizzo': 'Via IV Novembre', 'Civico': '1', 'Comune': 'Fondo', 'Cap': '38013', 'Frazione/Località': '', 'Note': ''}, {'ID': '654', 'Ragione sociale': 'EUROPAFERR FERRAMENTA DI ZINI MAURO GIOVANNI', 'Indirizzo': 'Via Battisti', 'Civico': '25', 'Comune': 'Fondo', 'Cap': '38013', 'Frazione/Località': '', 'Note': ''}, {'ID': '655', 'Ragione sociale': 'BATTISTI CALZATURE DI BATTISTI ALBERTO', 'Indirizzo': 'Via Battisti', 'Civico': '10', 'Comune': 'Fondo', 'Cap': '38013', 'Frazione/Località': '', 'Note': ''}, {'ID': '656', 'Ragione sociale': 'ZANONI PREZIOSI ', 'Indirizzo': 'Via Inama', 'Civico': '2', 'Comune': 'Fondo', 'Cap': '38013', 'Frazione/Località': '', 'Note': ''}, {'ID': '657', 'Ragione sociale': 'PIZZERIA-RISTORANTE AL FOLON', 'Indirizzo': 'Via Lago Smeraldo', 'Civico': '18', 'Comune': 'Fondo', 'Cap': '38013', 'Frazione/Località': '', 'Note': ''}, {'ID': '658', 'Ragione sociale': 'BAR RISTORANTE TRENTO', 'Indirizzo': 'Via Milano ', 'Civico': '10', 'Comune': 'Bieno', 'Cap': '38050', 'Frazione/Località': '', 'Note': ''}, {'ID': '659', 'Ragione sociale': 'BIRRERIA VALSERENA', 'Indirizzo': 'Via Valserena ', 'Civico': '36', 'Comune': 'Primiero San Martino di Castrozza', 'Cap': '38054', 'Frazione/Località': 'Siror', 'Note': ''}, {'ID': '660', 'Ragione sociale': \"BAR CAFFE' ERO\", 'Indirizzo': 'Via S. Andrea', 'Civico': '5', 'Comune': 'Primiero San Martino di Castrozza', 'Cap': '38054', 'Frazione/Località': 'Siror', 'Note': ''}, {'ID': '661', 'Ragione sociale': 'BAR MARGHERITA', 'Indirizzo': 'Via Passo Rolle', 'Civico': '183', 'Comune': 'Primiero San Martino di Castrozza', 'Cap': '38054', 'Frazione/Località': 'San Martino di Castrozza', 'Note': ''}, {'ID': '662', 'Ragione sociale': 'ESTETICA PROFUMERIA TISOT', 'Indirizzo': 'Via Passo Rolle', 'Civico': '133', 'Comune': 'Primiero San Martino di Castrozza', 'Cap': '38054', 'Frazione/Località': 'San Martino di Castrozza', 'Note': ''}, {'ID': '663', 'Ragione sociale': 'CALZATURE BANCHER SEVERINO', 'Indirizzo': 'Via Rivetta', 'Civico': '23', 'Comune': 'Primiero San Martino di Castrozza', 'Cap': '38054', 'Frazione/Località': 'Siror', 'Note': ''}, {'ID': '664', 'Ragione sociale': 'RISTORANTE ALBERGO FRATAZZA', 'Indirizzo': 'Via Passo Rolle', 'Civico': '2', 'Comune': 'Primiero San Martino di Castrozza', 'Cap': '38054', 'Frazione/Località': 'San Martino di Castrozza', 'Note': ''}, {'ID': '665', 'Ragione sociale': 'FAMIGLIA COOPERATIVA DI SIROR', 'Indirizzo': 'Via S. Andrea', 'Civico': '4', 'Comune': 'Primiero San Martino di Castrozza', 'Cap': '38054', 'Frazione/Località': 'San Martino di Castrozza', 'Note': ''}, {'ID': '666', 'Ragione sociale': 'BAR ALLA TORRE', 'Indirizzo': 'Via Avisio', 'Civico': '6', 'Comune': 'Castello-Molina di Fiemme', 'Cap': '38030', 'Frazione/Località': '', 'Note': ''}, {'ID': '667', 'Ragione sociale': 'RISTORANTE ALBERGO LATEMAR S.N.C. DI BETTA MARISA E &.', 'Indirizzo': 'Via Latemar', 'Civico': '16', 'Comune': 'Castello-Molina di Fiemme', 'Cap': '38030', 'Frazione/Località': '', 'Note': ''}, {'ID': '668', 'Ragione sociale': 'CAVADA DOLORES DI CAVADA UGO & C. S.N.C.', 'Indirizzo': 'Via Bolzano', 'Civico': '22', 'Comune': 'Castello-Molina di Fiemme', 'Cap': '38030', 'Frazione/Località': 'Molina di Fiemme', 'Note': ''}, {'ID': '669', 'Ragione sociale': 'BAR RISTORANTE PIZZERIA AL LAGO', 'Indirizzo': 'Frazione Stramentizzo Nuovo', 'Civico': '19', 'Comune': 'Castello-Molina di Fiemme', 'Cap': '38030', 'Frazione/Località': '', 'Note': ''}, {'ID': '670', 'Ragione sociale': 'BAR RISTORANTE ALBERGO PINETA', 'Indirizzo': 'Via Cadino', 'Civico': '2', 'Comune': 'Castello-Molina di Fiemme', 'Cap': '38030', 'Frazione/Località': 'Molina di Fiemme', 'Note': ''}, {'ID': '671', 'Ragione sociale': 'RISTORANTE ALBERGO ANCORA DI ZANCANELLA PAOLO E LUCIA S.N.C.', 'Indirizzo': 'Via Marconi', 'Civico': '4', 'Comune': 'Castello-Molina di Fiemme', 'Cap': '38030', 'Frazione/Località': 'Molina di Fiemme', 'Note': ''}, {'ID': '672', 'Ragione sociale': 'PANIFICIO TARTER DI MARCO TARTER & C. S.N.C.', 'Indirizzo': 'Via Marconi', 'Civico': '17', 'Comune': 'Castello-Molina di Fiemme', 'Cap': '38030', 'Frazione/Località': 'Molina di Fiemme', 'Note': ''}, {'ID': '673', 'Ragione sociale': 'FAMIGLIA COOPERATIVA DI CAVALESE - MOLINA DI FIEMME - PREDAIA', 'Indirizzo': 'Via Marconi', 'Civico': '23', 'Comune': 'Castello-Molina di Fiemme', 'Cap': '38030', 'Frazione/Località': 'Molina di Fiemme', 'Note': ''}, {'ID': '674', 'Ragione sociale': 'FAMIGLIA COOPERATIVA DI CAVALESE - CASTELLO DI FIEMME', 'Indirizzo': 'Via Roma', 'Civico': '11', 'Comune': 'Castello-Molina di Fiemme', 'Cap': '38030', 'Frazione/Località': '', 'Note': ''}, {'ID': '675', 'Ragione sociale': 'CARTOLERIA GIOCATTOLI BERTOLDI', 'Indirizzo': 'Piazza San Giovanni', 'Civico': '37', 'Comune': 'Fondo', 'Cap': '38013', 'Frazione/Località': '', 'Note': ''}, {'ID': '676', 'Ragione sociale': 'LA BOTTEGA DI ZAMBIASI', 'Indirizzo': 'Piazza San giovanni', 'Civico': '15', 'Comune': 'Fondo', 'Cap': '38013', 'Frazione/Località': '', 'Note': ''}, {'ID': '677', 'Ragione sociale': 'LATTERIA SOCIALE DI FONDO', 'Indirizzo': 'Via IV Novembre', 'Civico': '70', 'Comune': 'Fondo', 'Cap': '38013', 'Frazione/Località': '', 'Note': ''}, {'ID': '678', 'Ragione sociale': 'FAMIGLIA COOPERATIVA VAL DI NON', 'Indirizzo': 'Via Battisti', 'Civico': '20', 'Comune': 'Fondo', 'Cap': '38013', 'Frazione/Località': '', 'Note': ''}, {'ID': '679', 'Ragione sociale': \"CAFFE' VECCHIA TIONE\", 'Indirizzo': 'Via del Foro', 'Civico': '16', 'Comune': 'Tione di Trento', 'Cap': '38079', 'Frazione/Località': '', 'Note': ''}, {'ID': '680', 'Ragione sociale': 'FAMIGLIA COOPERATIVA VAL DI NON S.C.A.R.L. - CASEZ', 'Indirizzo': 'Via Roma', 'Civico': '9', 'Comune': 'Sanzeno', 'Cap': '38010', 'Frazione/Località': 'Casez', 'Note': ''}, {'ID': '681', 'Ragione sociale': 'FAMIGLIA COOPERATIVA VAL DI NON S.C.A.R.L. - SANZENO', 'Indirizzo': 'Via Nazionale', 'Civico': '28', 'Comune': 'Sanzeno', 'Cap': '38010', 'Frazione/Località': '', 'Note': ''}, {'ID': '682', 'Ragione sociale': 'FAMIGLIA COOPERATIVA VAL DI NON S.C.A.R.L. - BANCO', 'Indirizzo': 'Via Mazzini', 'Civico': '2', 'Comune': 'Sanzeno', 'Cap': '38010', 'Frazione/Località': 'Banco', 'Note': ''}, {'ID': '683', 'Ragione sociale': 'BAR ALLA FONTANA DI BALDO ONESTINGHEL OLGA & C.', 'Indirizzo': 'Piazza Centrale', 'Civico': '38/A', 'Comune': 'Sanzeno', 'Cap': '38010', 'Frazione/Località': '', 'Note': ''}, {'ID': '684', 'Ragione sociale': 'BAR MARINELLI', 'Indirizzo': 'Via Mazzini', 'Civico': '3', 'Comune': 'Sanzeno', 'Cap': '38010', 'Frazione/Località': 'Banco', 'Note': ''}, {'ID': '685', 'Ragione sociale': 'BAR DALPIAZ', 'Indirizzo': 'Frazione Banco', 'Civico': '48', 'Comune': 'Sanzeno', 'Cap': '38010', 'Frazione/Località': '', 'Note': ''}, {'ID': '686', 'Ragione sociale': 'HOTEL CASEZ', 'Indirizzo': 'Via Roma', 'Civico': '48', 'Comune': 'Sanzeno', 'Cap': '38010', 'Frazione/Località': 'Casez', 'Note': ''}, {'ID': '687', 'Ragione sociale': 'RISTORANTE AL MULINO', 'Indirizzo': 'Via S. Romedio ', 'Civico': '18', 'Comune': 'Sanzeno', 'Cap': '38010', 'Frazione/Località': '', 'Note': ''}, {'ID': '688', 'Ragione sociale': 'PANIFICIO ZORZI DI ZORZI EZIO & C. S.N.C.', 'Indirizzo': 'Via Roma', 'Civico': '34', 'Comune': 'Castello-Molina di Fiemme', 'Cap': '38030', 'Frazione/Località': '', 'Note': ''}, {'ID': '689', 'Ragione sociale': 'BAR SPORT', 'Indirizzo': 'Via Italia', 'Civico': '10', 'Comune': 'Castello-Molina di Fiemme', 'Cap': '38030', 'Frazione/Località': 'Molina di Fiemme', 'Note': ''}, {'ID': '690', 'Ragione sociale': 'QUEN CONFEZIONI', 'Indirizzo': 'Piazza Dante', 'Civico': '5', 'Comune': 'Fondo', 'Cap': '38013', 'Frazione/Località': '', 'Note': ''}, {'ID': '691', 'Ragione sociale': 'RESTEL DE FER', 'Indirizzo': 'Via Restel de Fer', 'Civico': '10', 'Comune': 'Riva del Garda', 'Cap': '38066', 'Frazione/Località': '', 'Note': ''}, {'ID': '692', 'Ragione sociale': 'DELVAI MARKET S.N.C. DI DELVAI NICOLETTA E CARESIA DIEGO', 'Indirizzo': 'Via Giovanelli A.', 'Civico': '43', 'Comune': 'Carano', 'Cap': '38033', 'Frazione/Località': '', 'Note': ''}, {'ID': '693', 'Ragione sociale': 'TUTTO LUCE SAS', 'Indirizzo': 'Via Calepina', 'Civico': '40', 'Comune': 'Trento', 'Cap': '38122', 'Frazione/Località': '', 'Note': ''}, {'ID': '694', 'Ragione sociale': 'BAR TRE PORTONI', 'Indirizzo': 'Via S. Croce', 'Civico': '48', 'Comune': 'Trento', 'Cap': '38122', 'Frazione/Località': '', 'Note': ''}, {'ID': '695', 'Ragione sociale': 'BAR ROMA', 'Indirizzo': 'Via Roma', 'Civico': '22', 'Comune': 'Ospedaletto', 'Cap': '38050', 'Frazione/Località': '', 'Note': ''}, {'ID': '696', 'Ragione sociale': 'FIORERIA STELLA', 'Indirizzo': 'Corso Tre Novembre', 'Civico': '44', 'Comune': 'Trento', 'Cap': '38122', 'Frazione/Località': '', 'Note': ''}, {'ID': '697', 'Ragione sociale': 'CONTINI', 'Indirizzo': 'Via Fiume', 'Civico': '55', 'Comune': 'Riva del Garda', 'Cap': '38066', 'Frazione/Località': '', 'Note': 'esercizio commerciale'}, {'ID': '698', 'Ragione sociale': 'A. CRIVELLARI – COSE DI CASA', 'Indirizzo': 'Via Battisti', 'Civico': '8', 'Comune': 'Pergine Valsugana', 'Cap': '38057', 'Frazione/Località': '', 'Note': ''}, {'ID': '699', 'Ragione sociale': 'FRISANCO', 'Indirizzo': 'Piazza Spiaz de le Oche', 'Civico': '33', 'Comune': 'Pergine Valsugana', 'Cap': '38057', 'Frazione/Località': '', 'Note': 'esercizio commerciale'}, {'ID': '700', 'Ragione sociale': 'ALIMENTARI CAOLA', 'Indirizzo': 'Via Maturi', 'Civico': '1', 'Comune': 'Pinzolo', 'Cap': '38086', 'Frazione/Località': '', 'Note': ''}, {'ID': '701', 'Ragione sociale': 'LA BOTTEGA DEL MOLETA', 'Indirizzo': 'Via Lampi ', 'Civico': '9', 'Comune': 'Cles', 'Cap': '38023', 'Frazione/Località': '', 'Note': 'esercizio commerciale/attività artigianale'}, {'ID': '702', 'Ragione sociale': 'ALBERGO RISTORANTE CLES – OSTERIA PALAZAN', 'Indirizzo': 'Piazza Navarrino', 'Civico': '7', 'Comune': 'Cles', 'Cap': '38023', 'Frazione/Località': '', 'Note': ' '}, {'ID': '703', 'Ragione sociale': \"CAFF'E EUROPA\", 'Indirizzo': 'Piazza Granda', 'Civico': '5', 'Comune': 'Cles', 'Cap': '38023', 'Frazione/Località': '', 'Note': ''}, {'ID': '704', 'Ragione sociale': 'FARMACIA DE MAFFEI ', 'Indirizzo': 'Via Pilati', 'Civico': '13', 'Comune': 'Cles', 'Cap': '38023', 'Frazione/Località': '', 'Note': ''}, {'ID': '705', 'Ragione sociale': 'CAFFÈ BERTOLASI', 'Indirizzo': 'Piazza Granda', 'Civico': '43', 'Comune': 'Cles', 'Cap': '38023', 'Frazione/Località': '', 'Note': ''}, {'ID': '706', 'Ragione sociale': 'VISINTAINER CARTOLIBRERIA', 'Indirizzo': 'Piazza Granda', 'Civico': '3', 'Comune': 'Cles', 'Cap': '38023', 'Frazione/Località': '', 'Note': ''}, {'ID': '707', 'Ragione sociale': 'ROSANI ALIMENTARI', 'Indirizzo': 'Piazza Pez', 'Civico': '1', 'Comune': 'Cles', 'Cap': '38023', 'Frazione/Località': '', 'Note': ''}, {'ID': '708', 'Ragione sociale': 'SEGHERIA LONGO', 'Indirizzo': 'Via Marconi', 'Civico': '38-44', 'Comune': 'Cles', 'Cap': '38023', 'Frazione/Località': '', 'Note': ''}, {'ID': '709', 'Ragione sociale': 'ALIMENTARI PAOLI S.N.C.', 'Indirizzo': 'Via Diaz', 'Civico': '6/A', 'Comune': 'Cles', 'Cap': '38023', 'Frazione/Località': '', 'Note': ''}, {'ID': '710', 'Ragione sociale': 'MACELLERIA AGOSTINI LUIGI', 'Indirizzo': 'Via Lampi ', 'Civico': '26', 'Comune': 'Cles', 'Cap': '38023', 'Frazione/Località': '', 'Note': ''}, {'ID': '711', 'Ragione sociale': 'MENAPACE IVO', 'Indirizzo': 'Via Pilati', 'Civico': '9', 'Comune': 'Cles', 'Cap': '38023', 'Frazione/Località': '', 'Note': 'esercizio commerciale'}, {'ID': '712', 'Ragione sociale': 'VALENTINOTTI FRANCESCO', 'Indirizzo': 'Piazza Granda', 'Civico': '40', 'Comune': 'Cles', 'Cap': '38023', 'Frazione/Località': '', 'Note': 'esercizio commerciale'}, {'ID': '713', 'Ragione sociale': 'ANGELI FLAVIO', 'Indirizzo': 'Piazza Municipio ', 'Civico': '6', 'Comune': 'Cles', 'Cap': '38023', 'Frazione/Località': '', 'Note': 'esercizio commerciale'}, {'ID': '714', 'Ragione sociale': 'OREFICERIA A. CORRADINI', 'Indirizzo': 'Piazza Granda', 'Civico': '23', 'Comune': 'Cles', 'Cap': '38023', 'Frazione/Località': '', 'Note': ''}, {'ID': '715', 'Ragione sociale': 'ANGELI NICOLA', 'Indirizzo': 'Piazza Municipio', 'Civico': '4', 'Comune': 'Cles', 'Cap': '38023', 'Frazione/Località': '', 'Note': 'esercizio commerciale'}, {'ID': '716', 'Ragione sociale': 'PREZIOSI STELLA', 'Indirizzo': 'Piazza Municipio ', 'Civico': '7', 'Comune': 'Cles', 'Cap': '38023', 'Frazione/Località': '', 'Note': ''}, {'ID': '717', 'Ragione sociale': 'PESCHERIA GOIO', 'Indirizzo': 'Via Lampi ', 'Civico': '2', 'Comune': 'Cles', 'Cap': '38023', 'Frazione/Località': '', 'Note': ''}, {'ID': '718', 'Ragione sociale': 'COLORIFICIO PIZ', 'Indirizzo': 'Piazza Granda', 'Civico': '30', 'Comune': 'Cles', 'Cap': '38023', 'Frazione/Località': '', 'Note': ''}, {'ID': '719', 'Ragione sociale': 'ABRAM VITTORIO E C. SNC', 'Indirizzo': 'Via Battisti', 'Civico': '51', 'Comune': 'Sarnonico', 'Cap': '38011', 'Frazione/Località': '', 'Note': 'esercizio commerciale'}, {'ID': '720', 'Ragione sociale': 'BAZAR GIORNALI DI CATTARINI VINCENZO', 'Indirizzo': 'Via IV Novembre', 'Civico': '2', 'Comune': 'Sarnonico', 'Cap': '38011', 'Frazione/Località': '', 'Note': ''}, {'ID': '721', 'Ragione sociale': 'CALZATURE DALLAPÈ', 'Indirizzo': 'Via Trento', 'Civico': '14', 'Comune': 'Cavedine', 'Cap': '38073', 'Frazione/Località': 'Stravino', 'Note': ''}, {'ID': '722', 'Ragione sociale': 'BAITA SANTA LUCIA', 'Indirizzo': 'Via Santa Lucia', 'Civico': '36', 'Comune': 'Ledro', 'Cap': '38067', 'Frazione/Località': 'Bezzecca', 'Note': 'esercizio di somministrazione di alimenti e bevande'}, {'ID': '723', 'Ragione sociale': 'ANTICA CROCE', 'Indirizzo': 'Via dei Laghi', 'Civico': '1', 'Comune': 'Tenno', 'Cap': '38060', 'Frazione/Località': '', 'Note': 'esercizio di somministrazione di alimenti e bevande'}, {'ID': '724', 'Ragione sociale': 'MOBILI ZENI LINO S.R.L.', 'Indirizzo': 'Via Postal', 'Civico': '29', 'Comune': 'S. Michele all’Adige', 'Cap': '38010', 'Frazione/Località': 'Grumo', 'Note': 'esercizio commerciale'}, {'ID': '725', 'Ragione sociale': 'HOTEL CANTALEONE', 'Indirizzo': 'Via Tonale', 'Civico': '23', 'Comune': 'S. Michele all’Adige', 'Cap': '38010', 'Frazione/Località': 'Grumo', 'Note': ''}, {'ID': '726', 'Ragione sociale': 'BAR AL TURISTA', 'Indirizzo': 'Via Brennero', 'Civico': '32', 'Comune': 'S. Michele all’Adige', 'Cap': '38010', 'Frazione/Località': '', 'Note': ''}, {'ID': '727', 'Ragione sociale': 'BAR DIGA', 'Indirizzo': 'Località Fedaa', 'Civico': '17', 'Comune': 'Canazei', 'Cap': '38032', 'Frazione/Località': 'Penia', 'Note': ''}, {'ID': '728', 'Ragione sociale': 'ALBERGO MONTILESSINI', 'Indirizzo': 'Località Sega di Ala', 'Civico': '', 'Comune': 'Ala', 'Cap': '38061', 'Frazione/Località': '', 'Note': 'pubblico esercizio – somministrazione di alimenti e bevande – pizzeria'}, {'ID': '729', 'Ragione sociale': 'BAR EUGENIA', 'Indirizzo': 'Piazza G. Cantore', 'Civico': '1', 'Comune': 'Ala', 'Cap': '38061', 'Frazione/Località': '', 'Note': ''}, {'ID': '730', 'Ragione sociale': 'BAR TABACCHI DI BONGIOVANNI MAURO', 'Indirizzo': 'Piazzetta Cantore', 'Civico': '5', 'Comune': 'Ala', 'Cap': '38061', 'Frazione/Località': '', 'Note': ''}, {'ID': '731', 'Ragione sociale': 'MACELLERIA DEBIASI SERGIO', 'Indirizzo': 'Via 27 Maggio', 'Civico': '', 'Comune': 'Ala', 'Cap': '38061', 'Frazione/Località': '', 'Note': ''}, {'ID': '732', 'Ragione sociale': 'VECCHIO CARNERA', 'Indirizzo': 'Piazza Buonacquisto', 'Civico': '4', 'Comune': 'Ala', 'Cap': '38061', 'Frazione/Località': '', 'Note': 'pubblico esercizio – somministrazione di alimenti e bevande – bar/trattoria'}, {'ID': '733', 'Ragione sociale': 'OREFICERIA CATTONI DI CATTONI CLAUDIO', 'Indirizzo': 'Via Ceasare Battisti', 'Civico': '19', 'Comune': 'Comano Terme', 'Cap': '38077', 'Frazione/Località': '', 'Note': ''}, {'ID': '734', 'Ragione sociale': 'CATTONI ELETTRONICA DI CATTONO ROBERTO', 'Indirizzo': 'Via Ceasare Battisti', 'Civico': '17', 'Comune': 'Comano Terme', 'Cap': '38077', 'Frazione/Località': '', 'Note': ''}, {'ID': '735', 'Ragione sociale': 'HOTEL MIRAMONTI', 'Indirizzo': 'Frazione San Bernardo', 'Civico': '55', 'Comune': 'Rabbi', 'Cap': '38020', 'Frazione/Località': '', 'Note': 'ristorante – bar'}, {'ID': '736', 'Ragione sociale': 'LE LUZIE', 'Indirizzo': 'Piazza SS. Filippo e Giacomo', 'Civico': '4', 'Comune': 'Predazzo', 'Cap': '38037', 'Frazione/Località': '', 'Note': 'esercizio commerciale'}, {'ID': '737', 'Ragione sociale': 'MARCHETTI', 'Indirizzo': 'Piazza Catena', 'Civico': '21', 'Comune': 'Riva del Garda', 'Cap': '38066', 'Frazione/Località': '', 'Note': 'esercizio commerciale'}]\n"
     ]
    }
   ],
   "source": [
    "import csv\n",
    "from pprint import pprint\n",
    "\n",
    "with open('./files_esercizi/botteghe-storiche.csv', 'r', encoding='utf-8') as file_in:\n",
    "    file_reader = csv.DictReader(file_in, delimiter=\",\")\n",
    "    print(list(file_reader))\n",
    "    for linea in file_reader:\n",
    "        if linea['ID'] in ['45', '64', '176', '204']:  # filtro\n",
    "            print('ID:', linea['ID'])\n",
    "            print('Ragione sociale:', linea['Ragione sociale'])\n",
    "            print('Cap:', linea['Cap'])\n",
    "            print('----------------------------')"
   ]
  },
  {
   "attachments": {},
   "cell_type": "markdown",
   "metadata": {},
   "source": [
    "Come fatto precedentemente, cerchiamo di rendere più \"universale\" il codice:"
   ]
  },
  {
   "cell_type": "code",
   "execution_count": 9,
   "metadata": {},
   "outputs": [
    {
     "name": "stdout",
     "output_type": "stream",
     "text": [
      "ID: 45\n",
      "Ragione sociale: FARMACIA S. MARCO\n",
      "Comune: Rovereto\n",
      "Cap: 38068\n",
      "----------------------------\n",
      "ID: 64\n",
      "Ragione sociale: OTTICI DEFLORIAN MARANGONI DI MARANGONI DONATELLA\n",
      "Comune: Baselga di Piné\n",
      "Cap: 38042\n",
      "----------------------------\n",
      "ID: 176\n",
      "Ragione sociale: LA BOTTEGA DELL’ARTIGIANO\n",
      "Comune: Ledro\n",
      "Cap: 38067\n",
      "----------------------------\n",
      "ID: 204\n",
      "Ragione sociale: FABBRO GENTILINI MAURIZIO\n",
      "Comune: Revò\n",
      "Cap: 38028\n",
      "----------------------------\n"
     ]
    }
   ],
   "source": [
    "import csv\n",
    "\n",
    "identifier = 'ID'                                       # identificatore dei record\n",
    "col_names = ['ID', 'Ragione sociale', 'Comune', 'Cap']  # colonne da estrarre\n",
    "record_ids = [45, 64, 176, 204]                         # record da estrarre\n",
    "sep_rec = '----------------------------'                # separatore visivo da usare\n",
    "\n",
    "with open('./files_esercizi/botteghe-storiche.csv', 'r', encoding='utf-8') as file_in:\n",
    "    file_reader = csv.DictReader(file_in, delimiter=\",\")\n",
    "    for linea in file_reader:\n",
    "        if linea[identifier] in [str(idn) for idn in record_ids]:  # filtro\n",
    "            for col_name in col_names:\n",
    "                print(col_name+':', linea[col_name])\n",
    "            print(sep_rec)\n",
    "        else:\n",
    "            pass"
   ]
  },
  {
   "attachments": {},
   "cell_type": "markdown",
   "metadata": {},
   "source": [
    "L'analogo strumento per scrivere è invece `csv.DictWriter()`. Utilizziamo il nostro file `botteghe-storiche-titolari.csv` e proviamo ad aggiungere nuovi record in quel file."
   ]
  },
  {
   "cell_type": "code",
   "execution_count": 10,
   "metadata": {},
   "outputs": [],
   "source": [
    "import csv\n",
    "\n",
    "intestazioni = ['ID', 'Nome', 'Età', 'Altezza', 'Bottega ID']\n",
    "nuovi_dati = [\n",
    "    {'ID': '5', 'Nome': 'Tito', 'Età': '47', 'Altezza': '175', 'Bottega ID': '45'},\n",
    "    {'ID': '6', 'Nome': 'Giorgia', 'Età': '38', 'Altezza': '169', 'Bottega ID': '73'},\n",
    "    {'ID': '7', 'Nome': 'Eva', 'Età': '69', 'Altezza': '185', 'Bottega ID': '146'},\n",
    "    {'ID': '8', 'Nome': 'Mimmo', 'Età': '20', 'Altezza': '178', 'Bottega ID': '195'},\n",
    "]\n",
    "\n",
    "with open('./files_esercizi/botteghe-storiche-titolari.csv', 'a', encoding='utf-8') as file_out:\n",
    "    file_writer = csv.DictWriter(file_out, delimiter=',', lineterminator='\\n', fieldnames=intestazioni)\n",
    "    if file_out.tell() == 0:       # se il file è vuoto\n",
    "        file_writer.writeheader()  # scrive la riga di intestazione\n",
    "    file_writer.writerows(nuovi_dati)"
   ]
  },
  {
   "attachments": {},
   "cell_type": "markdown",
   "metadata": {},
   "source": [
    "Per prima cosa, creiamo un elenco di titoli di colonne che passeremo come argomento al parametro `fieldnames`. Questa lista è una sequenza di chiavi di dizionario che identifica l'ordine in cui i valori saranno scritti nel file `botteghe-storiche-titolari.csv`.\n",
    "\n",
    "Quindi, se il file è vuoto aggiungiamo subito le intestazioni di colonna usando la funzione `writeheader()` e infine i dati usando la funzione `writerows()`.\n",
    "\n",
    "Ora controlliamo l'output: [`botteghe-storiche-titolari.csv`](./files_esercizi/botteghe-storiche-titolari.csv)"
   ]
  },
  {
   "attachments": {},
   "cell_type": "markdown",
   "metadata": {},
   "source": [
    "## Riassumendo\n",
    "\n",
    "In questa sezione abbiamo imparato:\n",
    "\n",
    "- CSV è l'acronimo di *comma-separated value* (valore separato da virgole); questo formato di file viene utilizzato per memorizzare dati tabellari;\n",
    "- come leggere manualmente i dati dal file e scrivere informazioni su di esso;\n",
    "- Python dispone di una libreria CSV built-in con gli utili metodi `csv.reader()` e `csv.writer()`;\n",
    "- `csv.DictReader()` e `csv.DictWriter()` aiutano a rappresentare i dati come dizionari.\n",
    "\n",
    "Naturalmente, non possiamo trattare tutti gli aspetti. Se volete saperne di più, leggete [la documentazione ufficiale](https://docs.python.org/3/library/csv.html) e il [PEP 305](https://peps.python.org/pep-0305/)\n",
    "\n",
    "Se avete particolari necessità o problemi con il modo in cui vengono gestiti i separarori e i delimitatori, dovreste approfondire i cosiddetti \"[dialetti](https://docs.python.org/3/library/csv.html#dialects-and-formatting-parameters)\"."
   ]
  },
  {
   "attachments": {},
   "cell_type": "markdown",
   "metadata": {},
   "source": [
    "# Modulo JSON\n",
    "\n",
    "La libreria `json` è lo strumento principale per lavorare con i file JSON. È built-in, quindi è sufficiente importarla.\n",
    "\n",
    "Come abbiamo visto all'inizio di questo notebook, JSON è un formato molto comune per la memorizzazione e la trasmissione dei dati. Anche se originariamente deriva da JavaScript, oggi questo formato è indipendente dal linguaggio e viene utilizzato in ogni tipo di situazione. \n",
    "\n",
    "Le due procedure principali sono la conversione dei dati Python in JSON e viceversa. Per capire meglio la logica che sta dietro alla conversione, diamo un'occhiata a un _**oggetto**_ JSON:"
   ]
  },
  {
   "attachments": {},
   "cell_type": "markdown",
   "metadata": {},
   "source": [
    "```json\n",
    "{\n",
    "  \"movies\": [\n",
    "    {\n",
    "      \"title\": \"Inception\",\n",
    "      \"director\": \"Christopher Nolan\",\n",
    "      \"year\": 2010\n",
    "    },\n",
    "    {\n",
    "      \"title\": \"The Lord of the Rings: The Fellowship of the Ring\",\n",
    "      \"director\": \"Peter Jackson\",\n",
    "      \"year\": 2001\n",
    "    },\n",
    "    {\n",
    "      \"title\": \"Parasite\",\n",
    "      \"director\": \"Bong Joon Ho\",\n",
    "      \"year\": 2019\n",
    "    }\n",
    "  ]\n",
    "}\n",
    "```"
   ]
  },
  {
   "attachments": {},
   "cell_type": "markdown",
   "metadata": {},
   "source": [
    "Si può notare che ci sono molte somiglianze tra la notazione JSON e i tipi di dati Python: abbiamo stringhe e numeri, un _**oggetto**_ JSON è simile a un dizionario Python, un _**array**_ a una lista. Questo rende le conversioni tra JSON e Python abbastanza facili e intuitive.\n",
    "\n",
    "Ecco una tabella di conversione completa per la codifica dei dati tra Python in JSON:\n",
    "\n",
    "| Python          | JSON                |\n",
    "|-----------------|---------------------|\n",
    "| `dict`          | `object` &rarr; `{}`|\n",
    "| `list`, `tuple` | `array`  &rarr; `[]`|\n",
    "| `str`           | `string` &rarr; `\"\"`|\n",
    "| `int`, `float`  | `number`            |\n",
    "| `True`          | `true`              |\n",
    "| `False`         | `false`             |\n",
    "| `None`          | `null`              |"
   ]
  },
  {
   "attachments": {},
   "cell_type": "markdown",
   "metadata": {},
   "source": [
    "> ATTENZIONE: I tipi di dati non elencati nella tabella, come le classi personalizzate o, ad esempio, gli oggetti datetime, non possono essere convertiti in JSON così facilmente.\n",
    "Diamo ora un'occhiata ai metodi specifici disponibili nel modulo json e vediamo come avviene la conversione."
   ]
  },
  {
   "attachments": {},
   "cell_type": "markdown",
   "metadata": {},
   "source": [
    "## Codifica in JSON\n",
    "\n",
    "In generale, la codifica in formato JSON è chiamata serializzazione. Il modulo `json` ha due metodi per la serializzazione: `json.dump()` e `json.dumps()`. La differenza fondamentale tra questi due metodi è il tipo di serializzazione: `json.dump()` scrive su un oggetto simile a un file, mentre `json.dumps()` crea una stringa.\n",
    "\n",
    "### `json.dump()` &rarr; file\n",
    "\n",
    "Supponiamo di avere un dizionario equivalente al JSON che abbiamo visto prima. Ecco come salvarlo nel file JSON `movies.json` nella nostra cartella `files_esercizi`:"
   ]
  },
  {
   "cell_type": "code",
   "execution_count": 10,
   "metadata": {},
   "outputs": [],
   "source": [
    "import json\n",
    "\n",
    "movie_dict = {\n",
    "  'movies': [\n",
    "    {\n",
    "      'title': 'Inception',\n",
    "      'director': 'Christopher Nolan',\n",
    "      'year': 2010\n",
    "    },\n",
    "    {\n",
    "      'title': 'The Lord of the Rings: The Fellowship of the Ring',\n",
    "      'director': 'Peter Jackson',\n",
    "      'year': 2001\n",
    "    },\n",
    "    {\n",
    "      'title': 'Parasite',\n",
    "      'director': 'Bong Joon Ho',\n",
    "      'year': 2019\n",
    "    }\n",
    "  ]\n",
    "}\n",
    "\n",
    "with open('./files_esercizi/outputs/movies.json', 'w') as json_file:\n",
    "    json.dump(movie_dict, json_file)"
   ]
  },
  {
   "attachments": {},
   "cell_type": "markdown",
   "metadata": {},
   "source": [
    "Come si può vedere, questo metodo ha due argomenti necessari: i dati e l'oggetto di tipo file su cui scrivere. Se si esegue questo codice, si creerà un file JSON con i dati sui film.\n",
    "\n",
    "### `json.dumps()` &rarr; stringa\n",
    "\n",
    "Un'altra opzione è la serializzazione dei dati in una stringa, utilizzando `json.dumps()`. In questo caso, l'unico argomento richiesto è il dato che si vuole serializzare:"
   ]
  },
  {
   "cell_type": "code",
   "execution_count": 13,
   "metadata": {},
   "outputs": [
    {
     "name": "stdout",
     "output_type": "stream",
     "text": [
      "{\"movies\": [{\"title\": \"Inception\", \"director\": \"Christopher Nolan\", \"year\": 2010}, {\"title\": \"The Lord of the Rings: The Fellowship of the Ring\", \"director\": \"Peter Jackson\", \"year\": 2001}, {\"title\": \"Parasite\", \"director\": \"Bong Joon Ho\", \"year\": 2019}]}\n"
     ]
    }
   ],
   "source": [
    "json_str = json.dumps(movie_dict)\n",
    "\n",
    "print(json_str)"
   ]
  },
  {
   "attachments": {},
   "cell_type": "markdown",
   "metadata": {},
   "source": [
    "Attenzione ai tipi di dati! JSON supporta solo le stringhe come chiavi. I tipi Python di base, come gli interi, vengono convertiti automaticamente in stringhe, ma per altri tipi di chiavi, come le tuple, si otterrà un `TypeError` perché le funzioni `.dump()` e `.dumps()` non possono convertirle in stringhe."
   ]
  },
  {
   "attachments": {},
   "cell_type": "markdown",
   "metadata": {},
   "source": [
    "### Pretty dump\n",
    "\n",
    "Oltre ai parametri obbligatori, entrambi i metodi hanno diversi parametri opzionali. È possibile controllarli tutti nella documentazione ufficiale, qui ci occuperemo solo del parametro `indent`. Si può notare che la stringa ottenuta nell'esempio precedente è piuttosto difficile da leggere, rispetto al dizionario originale. Se specifichiamo l'indentazione (un intero o una stringa), possiamo stampare il JSON risultante:"
   ]
  },
  {
   "cell_type": "code",
   "execution_count": 12,
   "metadata": {},
   "outputs": [
    {
     "name": "stdout",
     "output_type": "stream",
     "text": [
      "{\n",
      "    \"movies\": [\n",
      "        {\n",
      "            \"title\": \"Inception\",\n",
      "            \"director\": \"Christopher Nolan\",\n",
      "            \"year\": 2010\n",
      "        },\n",
      "        {\n",
      "            \"title\": \"The Lord of the Rings: The Fellowship of the Ring\",\n",
      "            \"director\": \"Peter Jackson\",\n",
      "            \"year\": 2001\n",
      "        },\n",
      "        {\n",
      "            \"title\": \"Parasite\",\n",
      "            \"director\": \"Bong Joon Ho\",\n",
      "            \"year\": 2019\n",
      "        }\n",
      "    ]\n",
      "}\n"
     ]
    }
   ],
   "source": [
    "json_str = json.dumps(movie_dict, indent=4)\n",
    "print(json_str)"
   ]
  },
  {
   "attachments": {},
   "cell_type": "markdown",
   "metadata": {},
   "source": [
    "## Decodifica da JSON\n",
    "\n",
    "La procedura opposta è la deserializzazione. Analogamente alla serializzazione, il modulo json ha due metodi: `json.load()` e `json.loads()`. Qui la differenza sta nei JSON in ingresso: oggetti *file-like* oppure stringhe.\n",
    "\n",
    "### file &rarr; `json.load()`\n",
    "\n",
    "Convertiamo di nuovo in un dizionario Python il file creato precedentemente (che contiene un oggetto JSON). Controlliamo anche se il dizionario di origine e quello ricreato ora sono uguali."
   ]
  },
  {
   "cell_type": "code",
   "execution_count": 18,
   "metadata": {},
   "outputs": [
    {
     "name": "stdout",
     "output_type": "stream",
     "text": [
      "{'movies': [{'title': 'Inception', 'director': 'Christopher Nolan', 'year': 2010}, {'title': 'The Lord of the Rings: The Fellowship of the Ring', 'director': 'Peter Jackson', 'year': 2001}, {'title': 'Parasite', 'director': 'Bong Joon Ho', 'year': 2019}]}\n",
      "\n",
      "L'oggetto Python originale è uguale al nuovo oggetto creato?\n",
      "True\n"
     ]
    }
   ],
   "source": [
    "# da file\n",
    "with open('./files_esercizi/outputs/movies.json', 'r') as json_file:\n",
    "    \n",
    "    movie_dict_from_json = json.load(json_file)\n",
    "\n",
    "print(movie_dict_from_json)\n",
    "\n",
    "print(\"\\nL'oggetto Python originale è uguale al nuovo oggetto creato?\")\n",
    "print(movie_dict_from_json == movie_dict)"
   ]
  },
  {
   "attachments": {},
   "cell_type": "markdown",
   "metadata": {},
   "source": [
    "\n",
    "### string &rarr; `json.loads()`"
   ]
  },
  {
   "cell_type": "code",
   "execution_count": 21,
   "metadata": {},
   "outputs": [
    {
     "name": "stdout",
     "output_type": "stream",
     "text": [
      "{'title': 'Inception', 'director': 'Christopher Nolan', 'year': 2010}\n"
     ]
    }
   ],
   "source": [
    "movie_json_str = '{\"title\": \"Inception\", \"director\": \"Christopher Nolan\", \"year\": 2010}'\n",
    "\n",
    "movie_dict_from_json = json.loads(movie_json_str)\n",
    "\n",
    "print(movie_dict_from_json)"
   ]
  },
  {
   "attachments": {},
   "cell_type": "markdown",
   "metadata": {},
   "source": [
    "### Attenzione: dump delle chiavi"
   ]
  },
  {
   "attachments": {},
   "cell_type": "markdown",
   "metadata": {},
   "source": [
    "Ricordate il problema delle chiavi non di tipo stringa? Ebbene, se convertiamo un dizionario Python con chiavi non stringa in JSON e poi di nuovo in un oggetto Python, non otterremo lo stesso dizionario."
   ]
  },
  {
   "cell_type": "code",
   "execution_count": 26,
   "metadata": {},
   "outputs": [
    {
     "name": "stdout",
     "output_type": "stream",
     "text": [
      "Dizionario originale: {123: 'pippo', True: 1, False: 0, None: 'foo bar'}\n",
      "Stringa JSON: {\"123\": \"pippo\", \"true\": 1, \"false\": 0, \"null\": \"foo bar\"}\n",
      "Dizionario ripristinato: {'123': 'pippo', 'true': 1, 'false': 0, 'null': 'foo bar'}\n",
      "\n",
      "L'oggetto Python originale è uguale al nuovo oggetto creato?\n",
      "False\n"
     ]
    }
   ],
   "source": [
    "orig_dict = {\n",
    "    123: 'pippo',\n",
    "    True: 1,\n",
    "    False: 0,\n",
    "    None: 'foo bar',\n",
    "}\n",
    "\n",
    "print('Dizionario originale:', orig_dict)\n",
    "\n",
    "json_str = json.dumps(orig_dict)\n",
    "\n",
    "print('Stringa JSON:', json_str)\n",
    "\n",
    "reloaded_dict = json.loads(json_str)\n",
    "\n",
    "print('Dizionario ripristinato:', reloaded_dict)\n",
    "\n",
    "print(\"\\nL'oggetto Python originale è uguale al nuovo oggetto creato?\")\n",
    "print(orig_dict == reloaded_dict)\n"
   ]
  },
  {
   "attachments": {},
   "cell_type": "markdown",
   "metadata": {},
   "source": [
    "## Decodifica di streaming JSON\n",
    "\n",
    "Per leggere uno stream JSON formattato secondo uno degli standard citati [all'inizio del notebook](#streaming-json), puoi usare:\n",
    "\n",
    "- Con i *Newline-Delimited JSON*, è sufficiente un ciclo `for` o il metodo `.newline()` sull'oggetto file-like che contiene gli oggetti JSON concatenati e poi processare la stringa ottenuta con il modulo built-in `json` come abbiamo visto in questa sezione.\n"
   ]
  },
  {
   "cell_type": "code",
   "execution_count": 20,
   "metadata": {},
   "outputs": [
    {
     "name": "stdout",
     "output_type": "stream",
     "text": [
      "Oggetto 1 Indice 0\n",
      "\t{'title': 'Inception', 'director': 'Christopher Nolan', 'year': 2010}\n",
      "Oggetto 2 Indice 1\n",
      "\t{'title': 'The Lord of the Rings: The Fellowship of the Ring', 'director': 'Peter Jackson', 'year': 2001}\n",
      "Oggetto 3 Indice 2\n",
      "\t{'title': 'Parasite', 'director': 'Bong Joon Ho', 'year': 2019}\n"
     ]
    }
   ],
   "source": [
    "import json\n",
    "\n",
    "with open('./files_esercizi/movies.jsonl', encoding='utf-8',) as file_in:\n",
    "    for idx, testo_json in enumerate(file_in):\n",
    "        \n",
    "        python_object = json.loads(testo_json)  # converte la stringa mono-linea json in oggetto python\n",
    "        \n",
    "        print('Oggetto', idx+1, 'Indice', idx, end='\\n\\t')\n",
    "        print(python_object)"
   ]
  },
  {
   "attachments": {},
   "cell_type": "markdown",
   "metadata": {},
   "source": [
    "\n",
    "In tutti gli altri casi, consiglio di studiarsi la libreria `ijson` (Iterable-JSON), sviluppata da un ente di ricerca nel settore della radio-astronomia con sede in Australia (International Centre for Radio Astronomy Research):\n",
    "\n",
    "- [`ijson`](https://pypi.org/project/ijson/) è un parser JSON *iterativo* molto potente che riesce a iterare un file di grandi dimensioni in qualsiasi formato, anche non newline-delimited. In pratica capisce da solo quando si chiude un oggetto e se ne riapre un altro. È molto versatile, ma di sicuro, è più oneroso in termini di carico computazionale.\n",
    "\n",
    "> ATTENZIONE: \n",
    "> - Sia la codifica che la decodifica dovrebbero avvenire utilizzando l'encoding \"UTF-8\" (se non diversamente esplicitato dal software o dal service provider con cui si sta comunicando).\n",
    "> - Se devi processare il file mentre lo stai ricevendo, ci sono molte tecniche, ma richiedono altre conoscenze un po' più avanzate. Sappi però che ormai molte applicazioni e service provider hanno tra le proprie API la possibilità di  inviare una linea alla volta di un file con un'unica connessione (*socket*).\n",
    "\n",
    "## Codifica di streaming JSON\n",
    "\n",
    "- Con i *Newline-Delimited JSON*, è sufficiente il metodo `json.dumps()` e poi scrivere ciascuna stringa JSON in una riga separata con il medodo preferito."
   ]
  },
  {
   "attachments": {},
   "cell_type": "markdown",
   "metadata": {},
   "source": [
    "## Riassumendo\n",
    "\n",
    "In questa sezione abbiamo visto come lavorare con JSON utilizzando il modulo `json` di Python. Possiamo:\n",
    "\n",
    "- convertire oggetti Python in JSON usando `json.dump()` o `json.dumps()`;\n",
    "- convertire JSON in oggetti Python usando `json.load()` o `json.loads()`.\n",
    "\n",
    "Le conversioni vengono effettuate in base alla tabella di conversione e non tutti gli oggetti Python possono essere convertiti in JSON.\n",
    "\n",
    "Considerando che JSON è un formato di dati molto utilizzato, è importante essere in grado di lavorare con esso!"
   ]
  },
  {
   "attachments": {},
   "cell_type": "markdown",
   "metadata": {},
   "source": [
    "# XML e libreria `lxml`"
   ]
  },
  {
   "attachments": {},
   "cell_type": "markdown",
   "metadata": {},
   "source": [
    "Come abbiamo visto all'inizio di questo notebook, XML è un formato che memorizza i dati in una struttura gerarchica.\n",
    "\n",
    "Un _**elemento**_ è un \"mattone\" di base di XML e (solitamente) consiste in:\n",
    "\n",
    "- un _**tag di apertura**_;\n",
    "- un _**tag di chiusura**_ corrispondente;\n",
    "- un _**contenuto**_;\n",
    "- uno o più _**attributi**_ facoltativi contenuti nel tag di apertura.\n",
    "\n",
    "Esiste un sottomodulo integrato in Python chiamato `xml.etree` che può analizzare gli XML.\n",
    "\n",
    "Tuttavia, useremo una libreria di terze parti, `lxml`, e il suo sottomodulo omonimo `etree`. Il motivo è che quest'ultimo elabora i documenti XML in modo più veloce e il core di questa libreria è scritto in linguaggio C.\n",
    "\n",
    "- [Sito ufficiale](https://lxml.de/) e documentazione.\n",
    "- [Pagina su PyPi](https://pypi.org/project/lxml/) (Python Package Index).\n",
    "- [Repo su GitHub](https://github.com/lxml/lxml)."
   ]
  },
  {
   "attachments": {},
   "cell_type": "markdown",
   "metadata": {},
   "source": [
    "## Installazione di `lxml`\n",
    "\n",
    "Poiché si tratta di una libreria esterna, bisogna per prima cosa installarla (meglio in un virtual enviroment):"
   ]
  },
  {
   "attachments": {},
   "cell_type": "markdown",
   "metadata": {},
   "source": [
    "```bash\n",
    "# MAC/LINUX:\n",
    "(my_venv) $ pip install lxml\n",
    "\n",
    "# WINDOWS:\n",
    "(my_venv) C:\\my_proj> pip install lxml\n",
    "```"
   ]
  },
  {
   "attachments": {},
   "cell_type": "markdown",
   "metadata": {},
   "source": [
    "Se siete su Windows, non avete creato un virtual environment e dovete usare il `py` launcher:\n",
    "\n",
    "```powershell\n",
    "C:\\my_proj> py -m pip install lxml\n",
    "```"
   ]
  },
  {
   "attachments": {},
   "cell_type": "markdown",
   "metadata": {},
   "source": [
    "Quindi, importate il modulo `etree` nel vostro codice. \n",
    "\n",
    "```python\n",
    "from lxml import etree\n",
    "```\n",
    "\n",
    "Lavoreremo con due classi di questo modulo: `Element` ed `ElementTree`.\n",
    "\n",
    "Un'istanza della classe `Element` può rappresentare un qualunque elemento del documento XML. Memorizza informazioni sul nome del tag, sugli attributi del tag e sui riferimenti agli elementi figli. È noto anche come *node*.\n",
    "\n",
    "`ElementTree` rappresenta l'intero documento XML. Contiene alcune informazioni generali sul documento XML, come la sua codifica e la versione di XML, oltre a un riferimento all'`Element` _**root**_ principale del documento.\n",
    "\n",
    "> NOTA: \n",
    "> - chiamiamo *tree* l'`ElementTree` perché la struttura di un intero file XML è effettivamente una \"struttura ad albero\" organizzata in modo gerarchico.\n",
    "> - chiamiamo *root* (in gergo HTML *node*) un qualunque `Element` perché è effettivamente la root per tutti i suoi elementi figli. Anche esso ha \"struttura ad albero\" organizzata in modo gerarchico."
   ]
  },
  {
   "attachments": {},
   "cell_type": "markdown",
   "metadata": {},
   "source": [
    "## Da testo a oggetto XML\n",
    "\n",
    "L'azione di leggere, processare e analizzare uno stream di dati (un file) viene detta [*parsing*](https://it.wikipedia.org/wiki/Parsing).\n",
    "\n",
    "Possiamo eseguire parsing di documenti XML a partire da una stringa o da un file.\n",
    "\n",
    "- Per fare il parsing di stringa, basta richiamare la funzione `etree.fromstring()` che restituisce l'`Element`, ovvero la root (radice) del documento.\n",
    "- Per fare il parsing di un file, si usa la funzione `etree.parse()`. Essa restituisce un'istanza della classe `ElementTree`, quindi si deve usare il metodo `ElementTree.getroot()` per ottenere la root del documento."
   ]
  },
  {
   "attachments": {},
   "cell_type": "markdown",
   "metadata": {},
   "source": [
    "#### Da stringa: `etree.fromstring(text, parser=None, base_url=None)`\n",
    "\n",
    "- [Tutorial](https://lxml.de/tutorial.html#the-fromstring-function)\n",
    "- [Documentazione API](https://lxml.de/apidoc/lxml.etree.html#lxml.etree.fromstring)\n",
    "- [Codice sorgente](https://github.com/lxml/lxml/blob/11b33a83ad689bd16bd0a98c14cda51a90572b73/src/lxml/etree.pyx#L3242)\n",
    "\n",
    "INPUT: Il parametro `text` può essere:\n",
    "\n",
    "- una stringa contenente un documento XML (o un frammento XML).\n",
    "\n",
    "OUTPUT: Un'oggetto di tipo `Element` (*root node*).\n",
    "\n"
   ]
  },
  {
   "cell_type": "code",
   "execution_count": 19,
   "metadata": {},
   "outputs": [
    {
     "name": "stdout",
     "output_type": "stream",
     "text": [
      "<class 'lxml.etree._Element'>\n"
     ]
    }
   ],
   "source": [
    "from lxml import etree\n",
    "\n",
    "xml_string = '<a><b>hello</b></a>'\n",
    "\n",
    "root = etree.fromstring(xml_string)\n",
    "\n",
    "print(type(root))"
   ]
  },
  {
   "attachments": {},
   "cell_type": "markdown",
   "metadata": {},
   "source": [
    "#### Da file: `etree.parse(source, parser=None, base_url=None)`\n",
    "\n",
    "- [Tutorial](https://lxml.de/tutorial.html#the-parse-function)\n",
    "- [Documentazione API](https://lxml.de/apidoc/lxml.etree.html#lxml.etree.parse)\n",
    "- [Codice sorgente](https://github.com/lxml/lxml/blob/11b33a83ad689bd16bd0a98c14cda51a90572b73/src/lxml/etree.pyx#L3515)\n",
    "\n",
    "INPUT: Il parametro `source` può essere:\n",
    "\n",
    "- un oggetto file aperto in modalità binaria con `open()`\n",
    "- un oggetto di tipo file-like (che ha un metodo `.read()`) \n",
    "- una stringa contenente il *pathname* di un file XML\n",
    "- una stringa contenente un URL con protocollo HTTP o FTP\n",
    "\n",
    "OUTPUT: Un'oggetto di tipo `ElementTree` (*xml document-object*)."
   ]
  },
  {
   "cell_type": "code",
   "execution_count": 20,
   "metadata": {},
   "outputs": [
    {
     "name": "stdout",
     "output_type": "stream",
     "text": [
      "<class 'lxml.etree._ElementTree'>\n",
      "<class 'lxml.etree._Element'>\n"
     ]
    }
   ],
   "source": [
    "from lxml import etree\n",
    "\n",
    "xml_file = \"./files_esercizi/country_data.xml\"\n",
    "\n",
    "tree = etree.parse(xml_file)\n",
    "print(type(tree))\n",
    "\n",
    "root = tree.getroot()\n",
    "print(type(root))"
   ]
  },
  {
   "attachments": {},
   "cell_type": "markdown",
   "metadata": {},
   "source": [
    "#### Print: `etree.dump(elem, pretty_print=True, with_tail=True)`\n",
    "\n",
    "Durante la scrittura e il debug dei vostri algoritmi potrebbe essere utile stampare a monitor (`sys.stdout`) i contenuti XML. Per non dover sempre ricorrere a `print()` e preoccuparsi che le strutture XML siano mostrate con la giusta indentazione, esiste la funzione `etree.dump()`. Accetta un `Element` del documento XML e lo stampa (print) a monitor con tutto il suo contenuto in modo \"prettified\"."
   ]
  },
  {
   "cell_type": "code",
   "execution_count": 21,
   "metadata": {},
   "outputs": [
    {
     "name": "stdout",
     "output_type": "stream",
     "text": [
      "<a>\n",
      "  <b>hello</b>\n",
      "</a>\n"
     ]
    }
   ],
   "source": [
    "from lxml import etree\n",
    "\n",
    "xml_string = \"<a><b>hello</b></a>\"\n",
    "root = etree.fromstring(xml_string)\n",
    "\n",
    "etree.dump(root)"
   ]
  },
  {
   "attachments": {},
   "cell_type": "markdown",
   "metadata": {},
   "source": [
    "Vediamo ora come navigare attraverso (*to traverse*) un documento XML e accedere alle informazioni in esso contenute."
   ]
  },
  {
   "attachments": {},
   "cell_type": "markdown",
   "metadata": {},
   "source": [
    "### Spostarsi attraverso l'albero XML\n",
    "\n",
    "Non possiamo navigare direttamente in un `ElementTree`, ma possiamo navigare attraverso uno specifico `Element`, che sarà considerata la nostra _**root**_.\n",
    "\n",
    "Poiché spesso le informazioni importanti non sono memorizzate nell'elemento root, è necessario poter accedere agli elementi figli.\n",
    "\n",
    "Fare questo con la libreria `lxml` è molto comodo, perché la classe `Element` imita le liste di Python. Vediamo un esempio.\n",
    "\n",
    "Per prima cosa, facciao il parsing di un file XML e stampiamolo con `etree.dump()` per comprenderne la struttura."
   ]
  },
  {
   "cell_type": "code",
   "execution_count": 22,
   "metadata": {},
   "outputs": [
    {
     "name": "stdout",
     "output_type": "stream",
     "text": [
      "<country>\n",
      "  <name>United Stated of America</name>\n",
      "  <capital>Washington</capital>\n",
      "  <states>\n",
      "    <state>California</state>\n",
      "    <state>Texas</state>\n",
      "    <state>Florida</state>\n",
      "    <state>Hawaii</state>\n",
      "  </states>\n",
      "</country>\n"
     ]
    }
   ],
   "source": [
    "xml_file = \"./files_esercizi/country_data.xml\"\n",
    "root = etree.parse(xml_file).getroot()\n",
    "etree.dump(root)"
   ]
  },
  {
   "attachments": {},
   "cell_type": "markdown",
   "metadata": {},
   "source": [
    "Si può accedere a un elemento figlio specificando il suo indice con la classica notazione a subscription (parentesi quadre).\n",
    "\n",
    "Il nostro elemento radice, `<country>`, ha tre elementi figli che in ordine sono rispettivamente: `<name>`, `<capital>` e `<states>`. Il tag che `<capital>` ha quindi l'indice `1` (ricordiamo che gli indici partono da `0`), quindi è possibile accedervi in questo modo:"
   ]
  },
  {
   "cell_type": "code",
   "execution_count": 23,
   "metadata": {},
   "outputs": [
    {
     "name": "stdout",
     "output_type": "stream",
     "text": [
      "<capital>Washington</capital>\n",
      "  \n"
     ]
    }
   ],
   "source": [
    "etree.dump(root[1])"
   ]
  },
  {
   "attachments": {},
   "cell_type": "markdown",
   "metadata": {},
   "source": [
    "La struttura dell'intero documento XML si comporta come un insieme di liste in cui ogni lista, tranne quello principale, è annidata in un altra lista. Quindi, per stampare tutti gli stati degli USA menzionati nel nostro documento, dobbiamo prima ottenere l'elemento `<states>` e poi iterare su tutti i suoi sottoelementi. Questo può essere fatto nello stesso modo in cui si lavora con gli elenchi:"
   ]
  },
  {
   "cell_type": "code",
   "execution_count": 24,
   "metadata": {},
   "outputs": [
    {
     "name": "stdout",
     "output_type": "stream",
     "text": [
      "California\n",
      "Texas\n",
      "Florida\n",
      "Hawaii\n"
     ]
    }
   ],
   "source": [
    "states = root[2]\n",
    "for state in states:\n",
    "    print(state.text)"
   ]
  },
  {
   "attachments": {},
   "cell_type": "markdown",
   "metadata": {},
   "source": [
    "> NOTA: Quando un elemento contiene del testo, questo viene memorizzato nel suo attributo `.text`."
   ]
  },
  {
   "attachments": {},
   "cell_type": "markdown",
   "metadata": {},
   "source": [
    "### Accesso agli attributi\n",
    "\n",
    "I dati non sono necessariamente memorizzati come testo grezzo all'interno dei tag; anche gli _**attributi**_ possono memorizzare alcune informazioni all'interno dei tag di apertura.\n",
    "\n",
    "Carichiamo un nuovo documento XML con le informazioni contenute negli attributi. E visualizziamolo a monitor per comodità:"
   ]
  },
  {
   "cell_type": "code",
   "execution_count": 25,
   "metadata": {},
   "outputs": [
    {
     "name": "stdout",
     "output_type": "stream",
     "text": [
      "<country name=\"United Stated of America\" capital=\"Washington\">\n",
      "  <states>\n",
      "    <state name=\"Hawaii\"/>\n",
      "    <state name=\"Florida\"/>\n",
      "    <state name=\"Texas\"/>\n",
      "    <state name=\"California\"/>\n",
      "  </states>\n",
      "</country>\n"
     ]
    }
   ],
   "source": [
    "xml_file = \"./files_esercizi/country_data_attrs.xml\"\n",
    "root = etree.parse(xml_file).getroot()\n",
    "etree.dump(root)"
   ]
  },
  {
   "attachments": {},
   "cell_type": "markdown",
   "metadata": {},
   "source": [
    "NOTA: Le forme *Start-tag/End-tag* (`<tag></tag>`) e *Empty-element-tag* (`<tag/>`) sono semanticamente equivalenti. Il parser XML non li tratterà in modo diverso."
   ]
  },
  {
   "attachments": {},
   "cell_type": "markdown",
   "metadata": {},
   "source": [
    "L'elemento si comporta come una lista quando si cerca di accedere ai suoi sottoelementi. Ma quando vogliamo ottenere gli attributi di un tag, l'elemento funziona come un dizionario. \n",
    "\n",
    "Il metodo `.get()` viene utilizzato per accedere all'attributo specificato. Se non esiste un attributo, restituisce `None`. Si noti che, a differenza di un dizionario, non è possibile specificare l'attributo tra parentesi quadre."
   ]
  },
  {
   "cell_type": "code",
   "execution_count": 26,
   "metadata": {},
   "outputs": [
    {
     "name": "stdout",
     "output_type": "stream",
     "text": [
      "Hawaii\n",
      "Florida\n",
      "Texas\n",
      "California\n"
     ]
    }
   ],
   "source": [
    "states = root[0]\n",
    "for state in states:\n",
    "    print(state.get('name'))"
   ]
  },
  {
   "attachments": {},
   "cell_type": "markdown",
   "metadata": {},
   "source": [
    "I metodi `keys()` e `items()` possono essere usati per ottenere tutti gli attributi di un tag:"
   ]
  },
  {
   "cell_type": "code",
   "execution_count": 27,
   "metadata": {},
   "outputs": [
    {
     "name": "stdout",
     "output_type": "stream",
     "text": [
      "['name', 'capital']\n",
      "[('name', 'United Stated of America'), ('capital', 'Washington')]\n"
     ]
    }
   ],
   "source": [
    "print(root.keys())\n",
    "print(root.items())"
   ]
  },
  {
   "attachments": {},
   "cell_type": "markdown",
   "metadata": {},
   "source": [
    "## Da oggetto XML a testo\n",
    "\n",
    "Infine, dopo aver ottenuto tutte le informazioni necessarie ed eventualmente fatto delle modifiche, possiamo salvare il nostro oggetto Python su un file XML.\n",
    "\n",
    "La funzione `etree.tostring()` prende un elemento e restituisce un oggetto `bytes` che può essere successivamente salvato in un file."
   ]
  },
  {
   "cell_type": "code",
   "execution_count": 28,
   "metadata": {},
   "outputs": [
    {
     "name": "stdout",
     "output_type": "stream",
     "text": [
      "b'<a><b>hello</b></a>'\n"
     ]
    }
   ],
   "source": [
    "# Creiamo un oggetto XML (a partire da una stringa)\n",
    "xml_string = \"<a><b>hello</b></a>\"\n",
    "root = etree.fromstring(xml_string)\n",
    "\n",
    "# E poi lo riconvertiamo in stinga con tostring()\n",
    "print(etree.tostring(root))"
   ]
  },
  {
   "attachments": {},
   "cell_type": "markdown",
   "metadata": {},
   "source": [
    "Il metodo `ElementTree.write()` salva un'istanza di `ElementTree` direttamente su un file.\n",
    "\n",
    "ATTENZIONE: Se abbiamo lavorato con un `Element` XML, dobbiamo prima convertirlo in `ElementTree`."
   ]
  },
  {
   "cell_type": "code",
   "execution_count": 30,
   "metadata": {},
   "outputs": [],
   "source": [
    "# Creiamo un oggetto XML (a partire da una stringa)\n",
    "xml_string = \"<a><b>hello</b></a>\"\n",
    "root = etree.fromstring(xml_string)\n",
    "\n",
    "# Modifichiamo il testo del primo elemento figlio\n",
    "root[0].text += ', Pippo!'\n",
    "# Modifichiamo l'attributo dell'elemento root\n",
    "root.set('href', 'https://pippo.disney')\n",
    "\n",
    "# Convertiamo l'oggetto Element ottenuto in un ElementTree\n",
    "tree = etree.ElementTree(root)\n",
    "\n",
    "# Salviamo l'oggetto ElementTree su file\n",
    "tree.write('./files_esercizi/hello.xml')"
   ]
  },
  {
   "attachments": {},
   "cell_type": "markdown",
   "metadata": {},
   "source": [
    "Naturalmente se non volgiamo usare la funzione `ElementTree.write()` puoi sempre usare la classica funzione `open()`. Ricorda però che il file va aperto in modalità binaria, perché le rappresentazioni in stringa di un XML con `etree` sono sempre di tipo `bytes`."
   ]
  },
  {
   "cell_type": "code",
   "execution_count": 31,
   "metadata": {},
   "outputs": [],
   "source": [
    "import io\n",
    "from lxml import etree\n",
    "\n",
    "# Creiamo un oggetto XML (a partire da una stringa)\n",
    "xml_string_in = \"<a><b>hello</b></a>\"\n",
    "root = etree.fromstring(xml_string_in)\n",
    "\n",
    "# Modifichiamo il testo del primo elemento figlio\n",
    "root[0].text += ', Pluto!'\n",
    "# Modifichiamo l'attributo dell'elemento root\n",
    "root.set('href', 'https://pluto.disney')\n",
    "\n",
    "# Convertiamo l'oggetto Element ottenuto in un ElementTree\n",
    "tree = etree.ElementTree(root)\n",
    "# Riconvertiamo l'ElementTree in stringa\n",
    "xml_string_out = etree.tostring(tree)\n",
    "\n",
    "# Salviamo il file su disco con open() e mode 'wb'\n",
    "with open('./files_esercizi/hello.xml', 'wb') as file_out:\n",
    "    file_out.write(xml_string_out)\n"
   ]
  },
  {
   "attachments": {},
   "cell_type": "markdown",
   "metadata": {},
   "source": [
    "## Riassumendo\n",
    "\n",
    "Un elemento di un documento XML nel modulo `xml.etree` è rappresentato da un'istanza della classe `Element`. Lo chiamiamo \"root\" perché è la root di tutti gli elementi che contiene al suo interno.\n",
    "\n",
    "Si lavora con `Element` come con un elenco se si vuole accedere ai suoi sottoelementi o come con un dizionario (`.get()`) per accedere agli attributi.\n",
    "\n",
    "- I metodi `etree.fromstring()` e `etree.parse()` sono usati per creare oggetti XML Python da una stringa o da un file\n",
    "- I mmetodi `etree.tostring()` e `ElementTree.write()` ci permettono di salvare gli oggetti XML Python su una stringa o su un file.\n",
    "\n",
    "Per riferirci all'intero documento XML, abbiamo la classe `ElementTree`."
   ]
  },
  {
   "attachments": {},
   "cell_type": "markdown",
   "metadata": {},
   "source": [
    "# Manipolazione dati: Altre librerie utili\n",
    "\n",
    "- [`petl`](https://pypi.org/project/petl/) - Extract, Transform and Load\n",
    "- [`pandas`](https://pypi.org/project/pandas/) - A powerful data analysis toolkit"
   ]
  }
 ],
 "metadata": {
  "kernelspec": {
   "display_name": ".venv",
   "language": "python",
   "name": "python3"
  },
  "language_info": {
   "codemirror_mode": {
    "name": "ipython",
    "version": 3
   },
   "file_extension": ".py",
   "mimetype": "text/x-python",
   "name": "python",
   "nbconvert_exporter": "python",
   "pygments_lexer": "ipython3",
   "version": "3.11.3"
  },
  "orig_nbformat": 4
 },
 "nbformat": 4,
 "nbformat_minor": 2
}
