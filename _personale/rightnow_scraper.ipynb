{
 "cells": [
  {
   "cell_type": "code",
   "execution_count": null,
   "metadata": {},
   "outputs": [],
   "source": [
    "from pprint import pprint\n",
    "import requests\n",
    "from bs4 import BeautifulSoup\n",
    "\n",
    "url_list = [\n",
    "    'https://www.subito.it/annunci-italia/vendita/usato/?q=spectrum+sinclair&o=1',\n",
    "    'https://www.subito.it/annunci-italia/vendita/usato/?q=spectrum+sinclair&o=2'\n",
    "]\n",
    "\n",
    "result = requests.get(url_list[0])\n",
    "\n",
    "if result.status_code == 200:\n",
    "    soup = BeautifulSoup(result.content, 'html.parser')\n",
    "\n",
    "    products = soup.select('div.items__item.item-card')\n",
    "    # pprint(products)\n",
    "\n",
    "    for adv in products:\n",
    "        name = adv.select('h2[class*=ItemTitle-module_item-title__]')\n",
    "        price = adv.select('h2[class*=ItemTitle-module_item-title__]')\n",
    "        print(name[0].get_text())\n"
   ]
  }
 ],
 "metadata": {
  "language_info": {
   "name": "python"
  },
  "orig_nbformat": 4
 },
 "nbformat": 4,
 "nbformat_minor": 2
}
