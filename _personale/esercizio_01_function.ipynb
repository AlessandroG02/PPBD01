{
 "cells": [
  {
   "attachments": {},
   "cell_type": "markdown",
   "metadata": {},
   "source": [
    "### Esercizio - Convertitori di grandezze\n",
    "\n",
    "Convertire la temperatura da Fahrenheit a Celsius nella funzione sottostante. È possibile utilizzare questa formula:\n",
    "\n",
    "$$ C° = (F° - 32)  \\times  \\frac{5}{9} $$\n",
    "\n",
    "Arrotondare il risultato restituito a 3 cifre decimali.\n",
    "\n",
    "Non è necessario gestire l'input, basta implementare la funzione sottostante.\n",
    "\n",
    "Inoltre, assicurarsi che la funzione restituisca il valore. NON stampare nulla."
   ]
  },
  {
   "cell_type": "code",
   "execution_count": null,
   "metadata": {},
   "outputs": [],
   "source": []
  },
  {
   "cell_type": "code",
   "execution_count": 1,
   "metadata": {},
   "outputs": [
    {
     "name": "stdout",
     "output_type": "stream",
     "text": [
      "37.7777778\n"
     ]
    }
   ],
   "source": [
    "def fahrenheit_to_celsius(f):\n",
    "    c = (f-32) * (5/9)\n",
    "   \n",
    "    c_rounded3= (round(c,3))\n",
    "\n",
    "    c_rounded7=round(c,7)\n",
    "    \n",
    "    return c_rounded7\n",
    "\n",
    "pippo=fahrenheit_to_celsius(100)  \n",
    "print(pippo) \n",
    "\n",
    "\n",
    "Kim-per-mile=1.609\n",
    "def mi-to-km(mi):\n",
    "    return mi * kim_per_mile\n",
    "\n",
    "user_imput=imput(inserire numero di mig)\n"
   ]
  },
  {
   "attachments": {},
   "cell_type": "markdown",
   "metadata": {},
   "source": [
    "Passiamo al livello successivo della conversione di miglia in chilometri! Definite una funzione che accetti il numero di miglia e restituisca la distanza in chilometri.\n",
    "\n",
    "Supponiamo che un miglio sia approssimativamente uguale a 1,609 chilometri.\n",
    "\n",
    "Non è necessario gestire l'input, basta implementare la funzione."
   ]
  },
  {
   "cell_type": "code",
   "execution_count": null,
   "metadata": {},
   "outputs": [],
   "source": [
    "def mi_to_km():\n",
    "    ..."
   ]
  }
 ],
 "metadata": {
  "kernelspec": {
   "display_name": ".venv",
   "language": "python",
   "name": "python3"
  },
  "language_info": {
   "codemirror_mode": {
    "name": "ipython",
    "version": 3
   },
   "file_extension": ".py",
   "mimetype": "text/x-python",
   "name": "python",
   "nbconvert_exporter": "python",
   "pygments_lexer": "ipython3",
   "version": "3.10.11"
  },
  "orig_nbformat": 4
 },
 "nbformat": 4,
 "nbformat_minor": 2
}
