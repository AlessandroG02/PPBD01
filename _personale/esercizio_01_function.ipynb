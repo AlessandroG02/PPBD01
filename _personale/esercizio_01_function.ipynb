{
 "cells": [
  {
   "attachments": {},
   "cell_type": "markdown",
   "metadata": {},
   "source": [
    "### Esercizio - Convertitori di grandezze\n",
    "\n",
    "Convertire la temperatura da Fahrenheit a Celsius nella funzione sottostante. È possibile utilizzare questa formula:\n",
    "\n",
    "$$ C° = (F° - 32)  \\times  \\frac{5}{9} $$\n",
    "\n",
    "Arrotondare il risultato restituito a 3 cifre decimali.\n",
    "\n",
    "Non è necessario gestire l'input, basta implementare la funzione sottostante.\n",
    "\n",
    "Inoltre, assicurarsi che la funzione restituisca il valore. NON stampare nulla."
   ]
  },
  {
   "cell_type": "code",
   "execution_count": 7,
   "metadata": {},
   "outputs": [
    {
     "name": "stdout",
     "output_type": "stream",
     "text": [
      "37.778\n"
     ]
    }
   ],
   "source": [
    "f = float(input(\"Inserisci la temperatura\"))\n",
    "c = (f - 32) * (5 / 9)\n",
    "print(round(c,3))"
   ]
  },
  {
   "cell_type": "code",
   "execution_count": 14,
   "metadata": {},
   "outputs": [
    {
     "data": {
      "text/plain": [
       "37.78"
      ]
     },
     "execution_count": 14,
     "metadata": {},
     "output_type": "execute_result"
    }
   ],
   "source": [
    "f = float(input(\"Inserisci la temperatura\"))\n",
    "def fahrenheit_to_celsius(f):\n",
    "    return round((f - 32) * (5 / 9) ,2)\n",
    "fahrenheit_to_celsius(f)"
   ]
  },
  {
   "attachments": {},
   "cell_type": "markdown",
   "metadata": {},
   "source": [
    "Passiamo al livello successivo della conversione di miglia in chilometri! Definite una funzione che accetti il numero di miglia e restituisca la distanza in chilometri.\n",
    "\n",
    "Supponiamo che un miglio sia approssimativamente uguale a 1,609 chilometri.\n",
    "\n",
    "Non è necessario gestire l'input, basta implementare la funzione."
   ]
  },
  {
   "cell_type": "code",
   "execution_count": 2,
   "metadata": {},
   "outputs": [
    {
     "name": "stdout",
     "output_type": "stream",
     "text": [
      "160.9\n"
     ]
    }
   ],
   "source": [
    "m = float(input(\"Inserisci il numero di miglia da convertire in km\"))\n",
    "b = 1.609\n",
    "print(m * b)"
   ]
  },
  {
   "cell_type": "code",
   "execution_count": 6,
   "metadata": {},
   "outputs": [
    {
     "data": {
      "text/plain": [
       "160.9"
      ]
     },
     "execution_count": 6,
     "metadata": {},
     "output_type": "execute_result"
    }
   ],
   "source": [
    "m = float(input(\"Inserisci il numero di miglia da convertire in km\"))\n",
    "def mi_to_km(m):\n",
    "    b = 1.609\n",
    "    return m * b\n",
    "mi_to_km(m)"
   ]
  },
  {
   "cell_type": "code",
   "execution_count": 1,
   "metadata": {},
   "outputs": [
    {
     "name": "stderr",
     "output_type": "stream",
     "text": [
      "C:\\Users\\PPBD01-16.CORSIASSOCAM\\AppData\\Roaming\\Python\\Python311\\site-packages\\openpyxl\\worksheet\\_reader.py:329: UserWarning: Unknown extension is not supported and will be removed\n",
      "  warn(msg)\n",
      "C:\\Users\\PPBD01-16.CORSIASSOCAM\\AppData\\Roaming\\Python\\Python311\\site-packages\\openpyxl\\worksheet\\_reader.py:329: UserWarning: Data Validation extension is not supported and will be removed\n",
      "  warn(msg)\n"
     ]
    }
   ],
   "source": [
    "from pprint import pprint\n",
    "import datetime\n",
    "import openpyxl\n",
    "\n",
    "book = openpyxl.load_workbook('../../../../Desktop/ACE10001_C-Lab_HR/DB_C-Lab_(HRR).xlsx', data_only=True)\n",
    "\n",
    "target_sheet = 'Candidati'\n",
    "target_col_label = 'Data invio CV al cliente'\n",
    "target_col_num = None\n",
    "# data_invio = input('Inserire la \"Data invio CV al cliente\" in formato dd/mm/yyyy:')\n",
    "# target_date = datetime.datetime.strptime(data_invio, '%d/%m/%Y')\n",
    "target_date = datetime.date.fromisoformat('2023-05-15')\n",
    "\n",
    "# controllo che il foglio \"Candidati\" esista\n",
    "if target_sheet not in book.sheetnames:\n",
    "    raise ValueError('Il foglio \"{target_sheet}\" non è stato trovato nella '\n",
    "                     f'cartella di lavoro.')\n",
    "\n",
    "foglio_candidati = book[target_sheet]\n",
    "\n",
    "# individuo il numero di colonna della data oggetto del filtro\n",
    "for col_num in range(1, foglio_candidati.max_column):\n",
    "    column_name = foglio_candidati.cell(1, col_num).value\n",
    "    if column_name == target_col_label:\n",
    "        target_col = col_num\n",
    "\n",
    "# controllo che la colonna con la data oggetto del filtro esista\n",
    "if not target_col:\n",
    "    raise ValueError(f'La colonna \"{target_col_label}\" non è stata trovata '\n",
    "                     f'nel foglio \"{target_sheet}\".')\n",
    "\n",
    "# creo un contenitore per i risultati del foglio \"Candidati\"\n",
    "candidati_filtrati = []\n",
    "\n",
    "# per ciascuna riga\n",
    "for row_num in range(1, foglio_candidati.max_row):\n",
    "    # ottiene il valore del campo con la data target\n",
    "    date_cell = foglio_candidati.cell(row_num, target_col).value\n",
    "    # se è la prima riga oppure se il valore ottenuto è di tipo data e se la data corrisponde\n",
    "    if row_num == 1 or (isinstance(date_cell, datetime.datetime) and date_cell.date() == target_date):\n",
    "        # copia l'intera riga\n",
    "        record = []\n",
    "        for col_num in range(1, foglio_candidati.max_column):\n",
    "            record.append(foglio_candidati.cell(row_num, col_num).value)\n",
    "\n",
    "        candidati_filtrati.append(record)\n",
    "\n",
    "# pprint(candidati_filtrati)\n",
    "\n",
    "# creo il file di output\n",
    "book_transfer = openpyxl.Workbook()\n",
    "foglio_transfer = book_transfer.active\n",
    "foglio_transfer.title = 'Candidati'\n",
    "\n",
    "# compilo il foglio di output\n",
    "for row_num, row in enumerate(candidati_filtrati):\n",
    "    for col_num, cell in enumerate(row):\n",
    "        # se il valore che sta per scrivere è una data, la converte in stringa\n",
    "        if isinstance(cell, datetime.datetime):\n",
    "            cell = cell.strftime('%d/%m/%Y')\n",
    "        foglio_transfer.cell(row_num+1, col_num+1).value = cell\n",
    "\n",
    "# salvo il file di output\n",
    "book_transfer.save('../../../../Desktop/ACE10001_C-Lab_HR/DB_C-Lab_(Transfer).xlsx')"
   ]
  }
 ],
 "metadata": {
  "kernelspec": {
   "display_name": ".venv",
   "language": "python",
   "name": "python3"
  },
  "language_info": {
   "codemirror_mode": {
    "name": "ipython",
    "version": 3
   },
   "file_extension": ".py",
   "mimetype": "text/x-python",
   "name": "python",
   "nbconvert_exporter": "python",
   "pygments_lexer": "ipython3",
   "version": "3.11.3"
  },
  "orig_nbformat": 4
 },
 "nbformat": 4,
 "nbformat_minor": 2
}
