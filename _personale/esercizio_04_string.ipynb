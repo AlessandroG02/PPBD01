{
 "cells": [
  {
   "attachments": {},
   "cell_type": "markdown",
   "metadata": {},
   "source": [
    "## Esercizio - Il drago Smaug\n",
    "\n",
    "Trova UNA SOLA stringa che stampata con `print` venga mostrata (all'incirca) come la seguente:\n",
    "\n",
    "```\n",
    "________________~----~______________\n",
    "////            Storia\t\t    \\\\\\\\\n",
    "Il      cavaliere\n",
    "\t    affronta\n",
    "\n",
    "\t    il      drago   'Smaug' davanti\n",
    "\t\t        al       castello\n",
    "\n",
    "```\n",
    "\n",
    "- inizia e concludi la stringa con apice singolo\n",
    "\n",
    "- **USA SOLO** combinazioni di `\\t` e `\\n`\n",
    "- **NON** usare spazi\n",
    "- **NOTA**: usando i tab potresti vedere risultati diversi a seconda dell'editor che stai usando, quindi puoi solo sperare di ottenere un risultato simile a quello proposto."
   ]
  },
  {
   "cell_type": "code",
   "execution_count": null,
   "metadata": {},
   "outputs": [],
   "source": [
    "s = 'bla bla'\n",
    "print(s)"
   ]
  },
  {
   "cell_type": "code",
   "execution_count": 12,
   "metadata": {},
   "outputs": [
    {
     "ename": "SyntaxError",
     "evalue": "invalid syntax. Perhaps you forgot a comma? (2003398518.py, line 1)",
     "output_type": "error",
     "traceback": [
      "\u001b[1;36m  Cell \u001b[1;32mIn[12], line 1\u001b[1;36m\u001b[0m\n\u001b[1;33m    s = 'bla bla'________________~----~______________ /n////\\tStoria/n\\\\\\\\\\nIl\\tcavaliere affronta il      drago   'Smaug' davanti al       castello\u001b[0m\n\u001b[1;37m        ^\u001b[0m\n\u001b[1;31mSyntaxError\u001b[0m\u001b[1;31m:\u001b[0m invalid syntax. Perhaps you forgot a comma?\n"
     ]
    }
   ],
   "source": [
    "\n",
    "s = 'bla bla'________________~----~______________/n////\\tStoria/n\\\\\\\\\\nIl\\tcavaliere affronta il      drago   'Smaug' davanti al       castello\n",
    "\n",
    "\n",
    "\n",
    "print(s)\n"
   ]
  },
  {
   "cell_type": "code",
   "execution_count": 9,
   "metadata": {},
   "outputs": [
    {
     "name": "stdout",
     "output_type": "stream",
     "text": [
      "________________~----~______________\n",
      "////\t\tStoria\t\t\\\\\\\\\n",
      "Il\tcavaliere\n",
      "\taffronta\n",
      "\n",
      "\til\tdrago\t'Smaug'\tdavanti\n",
      "\t\tal\tcastello\n"
     ]
    }
   ],
   "source": [
    "s ='________________~----~______________\\n////\\t\\tStoria\\t\\t\\\\\\\\\\\\\\\\\\nIl\\tcavaliere\\n\\taffronta\\n\\n\\til\\tdrago\\t\\'Smaug\\'\\tdavanti\\n\\t\\tal\\tcastello'\n",
    "\n",
    "print(s)"
   ]
  }
 ],
 "metadata": {
  "kernelspec": {
   "display_name": "Python 3",
   "language": "python",
   "name": "python3"
  },
  "language_info": {
   "codemirror_mode": {
    "name": "ipython",
    "version": 3
   },
   "file_extension": ".py",
   "mimetype": "text/x-python",
   "name": "python",
   "nbconvert_exporter": "python",
   "pygments_lexer": "ipython3",
   "version": "3.10.0"
  },
  "orig_nbformat": 4
 },
 "nbformat": 4,
 "nbformat_minor": 2
}
