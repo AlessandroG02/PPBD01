{
 "cells": [
  {
   "attachments": {},
   "cell_type": "markdown",
   "metadata": {},
   "source": [
    "### Esercizio - Convertitori di grandezze\n",
    "\n",
    "Convertire la temperatura da Fahrenheit a Celsius nella funzione sottostante. È possibile utilizzare questa formula:\n",
    "\n",
    "$$ C° = (F° - 32)  \\times  \\frac{5}{9} $$\n",
    "\n",
    "Arrotondare il risultato restituito a 3 cifre decimali.\n",
    "\n",
    "Non è necessario gestire l'input, basta implementare la funzione sottostante.\n",
    "\n",
    "Inoltre, assicurarsi che la funzione restituisca il valore. NON stampare nulla."
   ]
  },
  {
   "cell_type": "code",
   "execution_count": null,
   "metadata": {},
   "outputs": [],
   "source": [
    "def fahrenheit_to_celsius(f):\n",
    "    return round((f - 32) * (5 / 9), 3)\n",
    "fahrenheit_to_celsius(100)"
   ]
  },
  {
   "attachments": {},
   "cell_type": "markdown",
   "metadata": {},
   "source": [
    "Passiamo al livello successivo della conversione di miglia in chilometri! Definite una funzione che accetti il numero di miglia e restituisca la distanza in chilometri.\n",
    "\n",
    "Supponiamo che un miglio sia approssimativamente uguale a 1,609 chilometri.\n",
    "\n",
    "Non è necessario gestire l'input, basta implementare la funzione."
   ]
  },
  {
   "cell_type": "code",
   "execution_count": 2,
   "metadata": {},
   "outputs": [],
   "source": [
    "KM_for_MILE = 1.609\n",
    "\n",
    "def mi_to_km(mi):\n",
    "    return mi * KM_for_MILE\n",
    "    "
   ]
  }
 ],
 "metadata": {
  "kernelspec": {
   "display_name": ".venv",
   "language": "python",
   "name": "python3"
  },
  "language_info": {
   "codemirror_mode": {
    "name": "ipython",
    "version": 3
   },
   "file_extension": ".py",
   "mimetype": "text/x-python",
   "name": "python",
   "nbconvert_exporter": "python",
   "pygments_lexer": "ipython3",
   "version": "3.11.3"
  },
  "orig_nbformat": 4
 },
 "nbformat": 4,
 "nbformat_minor": 2
}
