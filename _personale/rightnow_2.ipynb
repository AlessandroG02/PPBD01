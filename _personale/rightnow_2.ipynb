{
 "cells": [
  {
   "cell_type": "code",
   "execution_count": 15,
   "metadata": {},
   "outputs": [
    {
     "name": "stdout",
     "output_type": "stream",
     "text": [
      "Computer sinclair zx spectrum 48k - testato 100%\n",
      "Zx spectrum plus Sinclair\n",
      "Zx Spectrum 48 K Sinclair\n",
      "SINCLAIR ZX SPECTRUM 48 K originale con scatola\n",
      "Giochi per Sinclair ZX Spectrum\n",
      "Libri / Manuali Retrocomputer Spectrum Commodore\n",
      "Sinclair ZX Spectrum + 48K\n",
      "Sinclair ZX Spectrum Plus +2 Computer 128K Vintage\n",
      "Sinclair stampante zx printer zx81 e spectrum 48k\n",
      "ZX SPECTRUM Personal Computer\n",
      "Copertina \"Zub\" per Sinclair Zx Spectrum 128k\n",
      "Sinclair zx spectrum 48k +\n",
      "Sinclair zx spectrum 48k\n",
      "Sinclair ZX Interface 1\n",
      "SINCLAIR ZX Spectrum\n",
      "ZX Spectrum + Sinclair 48k\n",
      "Cassetta Sinclair per ZX Spectrum - User Guide\n",
      "Sinclair Spectrum\n",
      "Sinclair ZX Spectrum No Commodore\n",
      "Zx spectrum\n",
      "Spectrum Graphic pen penna grafica pc Sinclair\n",
      "Sinclair ZX Spectrum 48K\n",
      "Cavo scart rgb per zx spectrum 128k +2a +2b +3\n",
      "Zx spectrum 48k\n",
      "Giochi commodore spectrum c16 msx\n",
      "Computer ZX Spectrum+ Sinclair vintage\n",
      "Scart sinclair zx spectrum+ 128k e spectrum +2 gre\n",
      "Sinclair ZX Spectrum Plus\n",
      "Commodore Spectrum\n",
      "ZX Spectrum+ Sinclair\n"
     ]
    }
   ],
   "source": [
    "from pprint import pprint\n",
    "import requests\n",
    "from bs4 import BeautifulSoup\n",
    "\n",
    "url_list = [\n",
    "    'https://www.subito.it/annunci-italia/vendita/usato/?q=spectrum+sinclar&o=1',\n",
    "    'https://www.subito.it/annunci-italia/vendita/usato/?q=spectrum+sinclar&o=2'\n",
    "]\n",
    "\n",
    "result = requests.get(url_list[0])\n",
    "\n",
    "if result.status_code == 200:\n",
    "    soup = BeautifulSoup(result.content,'html.parser')\n",
    "\n",
    "products = soup.select('div.items__item.item-card')\n",
    "#pprint(products)\n",
    "\n",
    "for adv in products:\n",
    "    name = adv.select('h2[class*=ItemTitle-module_item-title__]')\n",
    "    print(name[0].get_text())\n",
    "\n",
    "\n"
   ]
  }
 ],
 "metadata": {
  "kernelspec": {
   "display_name": "Python 3",
   "language": "python",
   "name": "python3"
  },
  "language_info": {
   "codemirror_mode": {
    "name": "ipython",
    "version": 3
   },
   "file_extension": ".py",
   "mimetype": "text/x-python",
   "name": "python",
   "nbconvert_exporter": "python",
   "pygments_lexer": "ipython3",
   "version": "3.11.3"
  },
  "orig_nbformat": 4
 },
 "nbformat": 4,
 "nbformat_minor": 2
}
