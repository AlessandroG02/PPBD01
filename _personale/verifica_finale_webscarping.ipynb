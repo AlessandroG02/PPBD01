{
 "cells": [
  {
   "attachments": {},
   "cell_type": "markdown",
   "metadata": {},
   "source": [
    "# VERIFICA FINALE"
   ]
  },
  {
   "attachments": {},
   "cell_type": "markdown",
   "metadata": {},
   "source": [
    "## Consegna\n",
    "\n",
    "Creazione di uno script in Python che esegua lo scraping dei dati dalla seguente pagina:\n",
    "\n",
    "https://www.scrapethissite.com/pages/simple/\n",
    "\n",
    "Lo script può essere scritto un file nativo di Python (formato `.py`) oppure in una cella di codice all'interno di un file di Jupyter Notebook (formato `.ipynb`)."
   ]
  },
  {
   "attachments": {},
   "cell_type": "markdown",
   "metadata": {},
   "source": [
    "## Requisiti\n",
    "\n",
    "I moduli `requests` e `beautifulsoup4`."
   ]
  },
  {
   "attachments": {},
   "cell_type": "markdown",
   "metadata": {},
   "source": [
    "## Campi\n",
    "\n",
    "Ricapitolando, i dati che ti interessano sono:\n",
    "\n",
    "- Nome della nazione.\n",
    "- Capitale.\n",
    "- Popolazione.\n",
    "- Area."
   ]
  },
  {
   "attachments": {},
   "cell_type": "markdown",
   "metadata": {},
   "source": [
    "## Output atteso (report):\n",
    "\n",
    "Il tuo programma dovrebbe restituire come l'output (stampato a monitor) la struttura dati in cui avete immagazzinato i dati estratti.\n",
    "\n",
    "BONUS: Provare a esportare i dati estratti in CSV separato da punto e virgola."
   ]
  },
  {
   "attachments": {},
   "cell_type": "markdown",
   "metadata": {},
   "source": [
    "## Svolgimento"
   ]
  },
  {
   "attachments": {},
   "cell_type": "markdown",
   "metadata": {},
   "source": [
    "Scrivi lo script qua sotto e consegna questo file, altrimenti crea un nuovo file `.py` e consegna lo script."
   ]
  },
  {
   "cell_type": "code",
   "execution_count": null,
   "metadata": {},
   "outputs": [],
   "source": [
    "# scrivi qui\n"
   ]
  }
 ],
 "metadata": {
  "language_info": {
   "name": "python"
  },
  "orig_nbformat": 4
 },
 "nbformat": 4,
 "nbformat_minor": 2
}
