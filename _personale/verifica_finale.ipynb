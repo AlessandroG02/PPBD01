{
 "cells": [
  {
   "attachments": {},
   "cell_type": "markdown",
   "metadata": {},
   "source": [
    "# VERIFICA FINALE"
   ]
  },
  {
   "attachments": {},
   "cell_type": "markdown",
   "metadata": {},
   "source": [
    "## Obiettivi\n",
    "\n",
    "Creazione di uno script in Python che esegua le seguenti operazioni:\n",
    "\n",
    "- leggere un file contenente dati strutturati in formato CSV, JSON oppure XML e ottenere un oggetto Python manipolabile;\n",
    "- filtrare i record provenienti dal file secondo uno o più criteri;\n",
    "- contare i record trovati applicando i suddetti filtri;\n",
    "- restituire all'utente un report con il conteggio, in un formato prestabilito.\n",
    "\n",
    "Lo script può essere scritto un file nativo di Python (formato `.py`) oppure in una cella di codice all'interno di un file di Jupyter Notebook (formato `.ipynb`)."
   ]
  },
  {
   "attachments": {},
   "cell_type": "markdown",
   "metadata": {},
   "source": [
    "## Dati di input\n",
    "\n",
    "I dati di input (nome file e parametri dei filtri) possono essere:\n",
    "\n",
    "- scritti direttamente all'interno del codice, come variabili;\n",
    "- provenienti dall'utente, utilizzando `input()` e/o `sys.argv`.\n",
    "\n",
    "Scegli solo una una delle due precedenti modalità."
   ]
  },
  {
   "attachments": {},
   "cell_type": "markdown",
   "metadata": {},
   "source": [
    "## Requisiti\n",
    "\n",
    "I moduli built-in `csv` o `json`, i moduli di terze parti `lxml` o `openpyxl`."
   ]
  },
  {
   "attachments": {},
   "cell_type": "markdown",
   "metadata": {},
   "source": [
    "## Consegna\n",
    "\n",
    "Il Comune di Torino ha pubblicato un [*dataset* contenente dati riguardanti le attività commerciali](http://www.datiopen.it/it/opendata/Comune_di_Torino_Attivit_commerciali) sul suo terrirorio. Il dataset contiene un elenco di negozi e attività commerciali con vari dati, tra cui l'anno di inizio attività, la superficie occupata in metri quadrati e il Codice di Avviamento Postale (CAP).\n",
    "\n",
    "> Il tuo obiettivo è quello di contare quante attività commerciali del Comune di Torino sono state avviate dall'anno 2011 in avanti, hanno una superficie maggiore o uguale a 150 metri quadrati e si trovano nelle zone di Millefonti, Lingotto e Filadelfia, che corrispondono grosso modo ai CAP 10126, 10127 e 10134. Guardando sullo stradario, decidi che questi CAP rappresentano in modo accettabile l'area territoriale di tuo interesse.\n",
    "\n",
    "Schematizzando, devi ottenere la seguente informazione:\n",
    "\n",
    "- Numero di attività commerciali che hanno le seguenti caratteristiche:\n",
    "    - L'anno di inizio dell'attività (`Anno inizio attivita`) è uguale o successivo al `2011`.\n",
    "    - La superficie \"`Mq tot locale`\" è maggiore o uguale a `150` mq.\n",
    "    - Il codice di avviamento postale `Cap` è `10126` oppure `10127` oppure `10134`."
   ]
  },
  {
   "attachments": {},
   "cell_type": "markdown",
   "metadata": {},
   "source": [
    "## Dataset\n",
    "\n",
    "I dati sono disponibili in vari formati: CSV, JSON e XML.\n",
    "\n",
    "http://www.datiopen.it/it/opendata/Comune_di_Torino_Attivit_commerciali\n",
    "\n",
    "- [Comune-di-Torino---Attivita-commerciali.csv](http://www.datiopen.it/export/csv/Comune-di-Torino---Attivita-commerciali.csv)\n",
    "- [Comune-di-Torino---Attivita-commerciali.json](http://www.datiopen.it/export/json/Comune-di-Torino---Attivita-commerciali.json)\n",
    "- [Comune-di-Torino---Attivita-commerciali.xml](http://www.datiopen.it/export/xml/Comune-di-Torino---Attivita-commerciali.xml)\n",
    "- [Comune-di-Torino---Attivita-commerciali.xlsx](https://elearning.scuolacamerana.it/moodle/draftfile.php/352/user/draft/505426878/Dataset/Comune-di-Torino---Attivita-commerciali.xlsx)\n",
    "\n",
    "Scaricate il formato a voi più congeniale e su quella base di dati scrivete il vostro programma in Python."
   ]
  },
  {
   "attachments": {},
   "cell_type": "markdown",
   "metadata": {},
   "source": [
    "## Campi\n",
    "\n",
    "Ricapitolando, i dati che ti interessano sono:\n",
    "\n",
    "- anno dell'inizio dell'attività commerciale: campo `Anno inizio attivita`.\n",
    "- superficie totale dei locali dell'attività commerciale: campo `Mq tot locale`.\n",
    "- codice di avviamento postale: campo `Cap`.\n"
   ]
  },
  {
   "attachments": {},
   "cell_type": "markdown",
   "metadata": {},
   "source": [
    "## Output atteso (report):\n",
    "\n",
    "Il tuo programma dovrebbe restituire il seguente output (stampato a monitor):\n",
    "<pre>\n",
    "Numero di attività commerciali trovate: TUO RISULTATO\n",
    "</pre>"
   ]
  },
  {
   "attachments": {},
   "cell_type": "markdown",
   "metadata": {},
   "source": [
    "## Svolgimento"
   ]
  },
  {
   "attachments": {},
   "cell_type": "markdown",
   "metadata": {},
   "source": [
    "Scrivi lo script qua sotto e consegna questo file, altrimenti crea un nuovo file `.py` e consegna lo script."
   ]
  },
  {
   "cell_type": "code",
   "execution_count": null,
   "metadata": {},
   "outputs": [],
   "source": [
    "# scrivi qui\n",
    "import csv \n",
    "\n",
    "tot_abitanti = 0\n",
    "with open('../files_esercizi/Sardegna_centri_urbani_per_abitante_e_altitudine_2014-01-13.csv', encoding='latin-1') as file_in:\n",
    "    file_reader = csv.DictReader(file_in, delimiter=';')\n",
    "    for linea in file_reader:\n",
    "        if int(linea[\"QUOTA LOCALITA'\"]) >= 600: \n",
    "            if linea['PROVINCIA'] == 'NUORO':\n",
    "                tot_comuni += 1      # incrementa il contatore dei comuni di 1\n",
    "                tot_abitanti += int(linea['ABITANTI LOCALITA\\''])\n",
    "\n",
    "print(tot_comuni)\n",
    "print(tot_abitanti)\n"
   ]
  },
  {
   "cell_type": "code",
   "execution_count": 11,
   "metadata": {},
   "outputs": [
    {
     "ename": "SyntaxError",
     "evalue": "unterminated string literal (detected at line 37) (1854342790.py, line 37)",
     "output_type": "error",
     "traceback": [
      "\u001b[1;36m  Cell \u001b[1;32mIn[11], line 37\u001b[1;36m\u001b[0m\n\u001b[1;33m    print (F'Numero di attività comerciali trovate':{attivita_2011}')\u001b[0m\n\u001b[1;37m                                                                   ^\u001b[0m\n\u001b[1;31mSyntaxError\u001b[0m\u001b[1;31m:\u001b[0m unterminated string literal (detected at line 37)\n"
     ]
    }
   ],
   "source": [
    "import csv\n",
    "from pprint import pprint\n",
    "\n",
    "\n",
    "file_path='Comune-di-Torino---Attivita-commerciali.csv'\n",
    "\n",
    "def conta_attivita (pathfile):\n",
    "\n",
    "\n",
    "    attivita_2011 =0\n",
    "    sup =150\n",
    "    anno1 = 2011\n",
    "    cap =[10126, 10127,10134]\n",
    "\n",
    "\n",
    "\n",
    " \n",
    "\n",
    "    with open('pathfile', encoding='latin-1') as dati_in:\n",
    "        \n",
    "        file_reader = csv.DictReader(dati_in, delimiter=';')\n",
    "        #pprint (list(file_reader))\n",
    "        for anno in file_reader:\n",
    "            if anno ['Mq tot locale'].isdigit():\n",
    "                \n",
    "\n",
    "                annoinizio = int (anno ['Anno inizio attivita'])\n",
    "\n",
    "                capCit = int(anno['cap'])\n",
    "                \n",
    "                MqLocale = int(anno['MqLocale'])\n",
    "                \n",
    "                \n",
    "                if annoinizio >= anno1 and MqLocale >= sup and capCit in cap:\n",
    "                    attivita_2011 += 1\n",
    "    \n",
    "    print (F'Numero di attività comerciali trovate':{attivita_2011}')  \n",
    "\n",
    "conta_attivita(file_path)             \n",
    "\n",
    "\n",
    "\n",
    "                #file_path='Comune-di-Torino---Attivita-commerciali.csv',\n",
    "                #if  str.isdigit(anno[\"Anno inizio attivita'\"]) >= 2011:\n",
    "            \n",
    "                #if linea['Mq tot locale'] == float 150:\n",
    "                #Mq tot locale += 1      # incrementa il contatore dei comuni di 1\n",
    "                #Mq tot locale += int(linea['150''])\n",
    "                #Attivita_2011 += 1\n"
   ]
  }
 ],
 "metadata": {
  "kernelspec": {
   "display_name": "Python 3",
   "language": "python",
   "name": "python3"
  },
  "language_info": {
   "codemirror_mode": {
    "name": "ipython",
    "version": 3
   },
   "file_extension": ".py",
   "mimetype": "text/x-python",
   "name": "python",
   "nbconvert_exporter": "python",
   "pygments_lexer": "ipython3",
   "version": "3.11.3"
  },
  "orig_nbformat": 4
 },
 "nbformat": 4,
 "nbformat_minor": 2
}
