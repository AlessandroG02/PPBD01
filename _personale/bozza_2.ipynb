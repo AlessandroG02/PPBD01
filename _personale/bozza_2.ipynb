{
 "cells": [
  {
   "cell_type": "code",
   "execution_count": 1,
   "metadata": {},
   "outputs": [
    {
     "ename": "ModuleNotFoundError",
     "evalue": "No module named 'pandas'",
     "output_type": "error",
     "traceback": [
      "\u001b[1;31m---------------------------------------------------------------------------\u001b[0m",
      "\u001b[1;31mModuleNotFoundError\u001b[0m                       Traceback (most recent call last)",
      "Cell \u001b[1;32mIn[1], line 3\u001b[0m\n\u001b[0;32m      1\u001b[0m \u001b[39mimport\u001b[39;00m \u001b[39mos\u001b[39;00m\n\u001b[0;32m      2\u001b[0m \u001b[39mimport\u001b[39;00m \u001b[39mshutil\u001b[39;00m\n\u001b[1;32m----> 3\u001b[0m \u001b[39mimport\u001b[39;00m \u001b[39mpandas\u001b[39;00m \u001b[39mas\u001b[39;00m \u001b[39mpd\u001b[39;00m\n\u001b[0;32m      4\u001b[0m \u001b[39mimport\u001b[39;00m \u001b[39msmtplib\u001b[39;00m\n\u001b[0;32m      5\u001b[0m \u001b[39mfrom\u001b[39;00m \u001b[39memail\u001b[39;00m\u001b[39m.\u001b[39;00m\u001b[39mmime\u001b[39;00m\u001b[39m.\u001b[39;00m\u001b[39mmultipart\u001b[39;00m \u001b[39mimport\u001b[39;00m MIMEMultipart\n",
      "\u001b[1;31mModuleNotFoundError\u001b[0m: No module named 'pandas'"
     ]
    }
   ],
   "source": [
    "import os\n",
    "import shutil\n",
    "import pandas as pd\n",
    "import smtplib\n",
    "from email.mime.multipart import MIMEMultipart\n",
    "from email.mime.base import MIMEBase\n",
    "from email import encoders\n",
    "\n",
    "# Percorsi dei file e delle cartelle\n",
    "percorso_originale = r'C:\\Users\\PPBD01-19\\Documents\\corso_python\\PPBD01\\_personale\\C_Lab_HR'\n",
    "percorso_excel = os.path.join(percorso_originale, 'CV_compatibili.xlsx')\n",
    "percorso_destinazione = os.path.join(percorso_originale, 'cv_da_spedire.xlsx')\n",
    "percorso_pdf = os.path.join(percorso_originale, 'CV')\n",
    "\n",
    "# Estrazione delle righe dal secondo foglio di lavoro\n",
    "df = pd.read_excel(percorso_excel, sheet_name=1)\n",
    "righe_da_copiare = df.values.tolist()\n",
    "\n",
    "# Creazione di un nuovo file Excel con le righe estratte\n",
    "df_nuovo = pd.DataFrame(righe_da_copiare)\n",
    "df_nuovo.to_excel(percorso_destinazione, index=False)\n",
    "\n",
    "# Copia dei file PDF corrispondenti\n",
    "for riga in righe_da_copiare:\n",
    "    nome_file = riga[1] + '_' + riga[2] + '.pdf'\n",
    "    percorso_file_pdf = os.path.join(percorso_pdf, nome_file)\n",
    "    if os.path.exists(percorso_file_pdf):\n",
    "        shutil.copy2(percorso_file_pdf, percorso_originale)\n",
    "\n",
    "# Preparazione dell'email\n",
    "email_da = 'tuo_indirizzo_email@example.com'\n",
    "email_a = 'silvio.garzia@aceone.it'\n",
    "oggetto = 'Allegato CV e file Excel'\n",
    "corpo = 'Ciao,\\n\\nIn allegato trovi il file Excel e i relativi CV da spedire.\\n\\nCordiali saluti,\\nTuo Nome'\n",
    "percorso_allegato = percorso_destinazione\n",
    "\n",
    "# Creazione dell'oggetto email\n",
    "email = MIMEMultipart()\n",
    "email['From'] = email_da\n",
    "email['To'] = email_a\n",
    "email['Subject'] = oggetto\n",
    "\n",
    "# Aggiunta del corpo del messaggio\n",
    "email.attach(MIMEText(corpo, 'plain'))\n",
    "\n",
    "# Aggiunta dell'allegato\n",
    "with open(percorso_allegato, 'rb') as allegato:\n",
    "    part = MIMEBase('application', 'octet-stream')\n",
    "    part.set_payload(allegato.read())\n",
    "    encoders.encode_base64(part)\n",
    "    part.add_header('Content-Disposition', f'attachment; filename= {os.path.basename(percorso_allegato)}')\n",
    "    email.attach(part)\n",
    "\n",
    "# Invio dell'email\n",
    "with smtplib.SMTP('smtp.example.com', 587) as server_smtp:\n",
    "    server_smtp.ehlo()\n",
    "    server_smtp.starttls()\n",
    "    server_smtp.login('tuo_indirizzo_email@example.com', 'tua_password')\n",
    "    server_smtp.sendmail(email_da, email_a, email.as_string())\n",
    "    server_smtp.quit()\n"
   ]
  },
  {
   "cell_type": "code",
   "execution_count": null,
   "metadata": {},
   "outputs": [],
   "source": [
    "#note:Ricorda di effettuare le seguenti modifiche al codice:\n",
    "\n",
    "Sostituisci C:\\documenti\\C_Lab_HR con il percorso corretto in cui si trovano i file e le cartelle.\n",
    "Modifica tuo_indirizzo_email@example.com con il tuo indirizzo email.\n",
    "Modifica destinatario@example.com con l'indirizzo email del destinatario.\n",
    "Sostituisci smtp.example.com con\n",
    "#il server SMTP corretto per l'invio delle email.\n",
    "5. Inserisci le tue credenziali di accesso SMTP nel metodo login del server SMTP.\n",
    "\n",
    "Assicurati di avere installato le seguenti librerie Python tramite pip prima di eseguire il programma:\n",
    "\n",
    "pandas\n",
    "xlrd\n",
    "openpyxl\n",
    "smtplib\n",
    "email\n",
    "Questo programma apre il file Excel CV_compatibili.xlsx, estrae le righe dal secondo foglio di lavoro e le copia in un nuovo file Excel chiamato cv_da_spedire.xlsx. Successivamente, copia i file PDF corrispondenti dalla cartella C:\\documenti\\C_Lab_HR\\CV nella cartella principale C:\\documenti\\C_Lab_HR. Infine, prepara un'email con l'allegato del file Excel e lo invia al destinatario specificato.\n",
    "\n",
    "Nota che dovrai personalizzare alcune parti del codice per adattarlo alla tua situazione specifica, come i percorsi dei file, gli indirizzi email e le credenziali SMTP."
   ]
  }
 ],
 "metadata": {
  "kernelspec": {
   "display_name": "Python 3",
   "language": "python",
   "name": "python3"
  },
  "language_info": {
   "codemirror_mode": {
    "name": "ipython",
    "version": 3
   },
   "file_extension": ".py",
   "mimetype": "text/x-python",
   "name": "python",
   "nbconvert_exporter": "python",
   "pygments_lexer": "ipython3",
   "version": "3.11.3"
  },
  "orig_nbformat": 4
 },
 "nbformat": 4,
 "nbformat_minor": 2
}
