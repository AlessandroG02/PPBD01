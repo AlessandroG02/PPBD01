{
 "cells": [
  {
   "cell_type": "code",
   "execution_count": 3,
   "metadata": {},
   "outputs": [
    {
     "ename": "ValueError",
     "evalue": "Excel file format cannot be determined, you must specify an engine manually.",
     "output_type": "error",
     "traceback": [
      "\u001b[1;31m---------------------------------------------------------------------------\u001b[0m",
      "\u001b[1;31mValueError\u001b[0m                                Traceback (most recent call last)",
      "Cell \u001b[1;32mIn[3], line 16\u001b[0m\n\u001b[0;32m     13\u001b[0m percorso_pdf \u001b[39m=\u001b[39m os\u001b[39m.\u001b[39mpath\u001b[39m.\u001b[39mjoin(percorso_originale, \u001b[39m'\u001b[39m\u001b[39mCV\u001b[39m\u001b[39m'\u001b[39m)\n\u001b[0;32m     15\u001b[0m \u001b[39m# Estrazione delle righe dal secondo foglio di lavoro\u001b[39;00m\n\u001b[1;32m---> 16\u001b[0m df \u001b[39m=\u001b[39m pd\u001b[39m.\u001b[39;49mread_excel(percorso_excel, sheet_name\u001b[39m=\u001b[39;49m\u001b[39m1\u001b[39;49m)\n\u001b[0;32m     17\u001b[0m righe_da_copiare \u001b[39m=\u001b[39m df\u001b[39m.\u001b[39mvalues\u001b[39m.\u001b[39mtolist()\n\u001b[0;32m     19\u001b[0m \u001b[39m# Creazione di un nuovo file Excel con le righe estratte\u001b[39;00m\n",
      "File \u001b[1;32m~\\AppData\\Roaming\\Python\\Python311\\site-packages\\pandas\\io\\excel\\_base.py:478\u001b[0m, in \u001b[0;36mread_excel\u001b[1;34m(io, sheet_name, header, names, index_col, usecols, dtype, engine, converters, true_values, false_values, skiprows, nrows, na_values, keep_default_na, na_filter, verbose, parse_dates, date_parser, date_format, thousands, decimal, comment, skipfooter, storage_options, dtype_backend)\u001b[0m\n\u001b[0;32m    476\u001b[0m \u001b[39mif\u001b[39;00m \u001b[39mnot\u001b[39;00m \u001b[39misinstance\u001b[39m(io, ExcelFile):\n\u001b[0;32m    477\u001b[0m     should_close \u001b[39m=\u001b[39m \u001b[39mTrue\u001b[39;00m\n\u001b[1;32m--> 478\u001b[0m     io \u001b[39m=\u001b[39m ExcelFile(io, storage_options\u001b[39m=\u001b[39;49mstorage_options, engine\u001b[39m=\u001b[39;49mengine)\n\u001b[0;32m    479\u001b[0m \u001b[39melif\u001b[39;00m engine \u001b[39mand\u001b[39;00m engine \u001b[39m!=\u001b[39m io\u001b[39m.\u001b[39mengine:\n\u001b[0;32m    480\u001b[0m     \u001b[39mraise\u001b[39;00m \u001b[39mValueError\u001b[39;00m(\n\u001b[0;32m    481\u001b[0m         \u001b[39m\"\u001b[39m\u001b[39mEngine should not be specified when passing \u001b[39m\u001b[39m\"\u001b[39m\n\u001b[0;32m    482\u001b[0m         \u001b[39m\"\u001b[39m\u001b[39man ExcelFile - ExcelFile already has the engine set\u001b[39m\u001b[39m\"\u001b[39m\n\u001b[0;32m    483\u001b[0m     )\n",
      "File \u001b[1;32m~\\AppData\\Roaming\\Python\\Python311\\site-packages\\pandas\\io\\excel\\_base.py:1500\u001b[0m, in \u001b[0;36mExcelFile.__init__\u001b[1;34m(self, path_or_buffer, engine, storage_options)\u001b[0m\n\u001b[0;32m   1496\u001b[0m     ext \u001b[39m=\u001b[39m inspect_excel_format(\n\u001b[0;32m   1497\u001b[0m         content_or_path\u001b[39m=\u001b[39mpath_or_buffer, storage_options\u001b[39m=\u001b[39mstorage_options\n\u001b[0;32m   1498\u001b[0m     )\n\u001b[0;32m   1499\u001b[0m     \u001b[39mif\u001b[39;00m ext \u001b[39mis\u001b[39;00m \u001b[39mNone\u001b[39;00m:\n\u001b[1;32m-> 1500\u001b[0m         \u001b[39mraise\u001b[39;00m \u001b[39mValueError\u001b[39;00m(\n\u001b[0;32m   1501\u001b[0m             \u001b[39m\"\u001b[39m\u001b[39mExcel file format cannot be determined, you must specify \u001b[39m\u001b[39m\"\u001b[39m\n\u001b[0;32m   1502\u001b[0m             \u001b[39m\"\u001b[39m\u001b[39man engine manually.\u001b[39m\u001b[39m\"\u001b[39m\n\u001b[0;32m   1503\u001b[0m         )\n\u001b[0;32m   1505\u001b[0m engine \u001b[39m=\u001b[39m config\u001b[39m.\u001b[39mget_option(\u001b[39mf\u001b[39m\u001b[39m\"\u001b[39m\u001b[39mio.excel.\u001b[39m\u001b[39m{\u001b[39;00mext\u001b[39m}\u001b[39;00m\u001b[39m.reader\u001b[39m\u001b[39m\"\u001b[39m, silent\u001b[39m=\u001b[39m\u001b[39mTrue\u001b[39;00m)\n\u001b[0;32m   1506\u001b[0m \u001b[39mif\u001b[39;00m engine \u001b[39m==\u001b[39m \u001b[39m\"\u001b[39m\u001b[39mauto\u001b[39m\u001b[39m\"\u001b[39m:\n",
      "\u001b[1;31mValueError\u001b[0m: Excel file format cannot be determined, you must specify an engine manually."
     ]
    }
   ],
   "source": [
    "import os\n",
    "import shutil\n",
    "import pandas as pd\n",
    "import smtplib\n",
    "from email.mime.multipart import MIMEMultipart\n",
    "from email.mime.base import MIMEBase\n",
    "from email import encoders\n",
    "\n",
    "# Percorsi dei file e delle cartelle\n",
    "percorso_originale = r'C:\\Users\\PPBD01-19\\Documents\\corso_python\\PPBD01\\_personale\\C_Lab_HR'\n",
    "percorso_excel = os.path.join(percorso_originale, 'CV_compatibili.xlsx')\n",
    "percorso_destinazione = os.path.join(percorso_originale, 'cv_da_spedire.xlsx')\n",
    "percorso_pdf = os.path.join(percorso_originale, 'CV')\n",
    "\n",
    "# Estrazione delle righe dal secondo foglio di lavoro\n",
    "df = pd.read_excel(percorso_excel, sheet_name=1)\n",
    "righe_da_copiare = df.values.tolist()\n",
    "\n",
    "# Creazione di un nuovo file Excel con le righe estratte\n",
    "df_nuovo = pd.DataFrame(righe_da_copiare)\n",
    "df_nuovo.to_excel(percorso_destinazione, index=False)\n",
    "\n",
    "# Copia dei file PDF corrispondenti\n",
    "for riga in righe_da_copiare:\n",
    "    nome_file = riga[1] + '_' + riga[2] + '.pdf'\n",
    "    percorso_file_pdf = os.path.join(percorso_pdf, nome_file)\n",
    "    if os.path.exists(percorso_file_pdf):\n",
    "        shutil.copy2(percorso_file_pdf, percorso_originale)\n",
    "\n",
    "# Preparazione dell'email\n",
    "email_da = 'tuo_indirizzo_email@example.com'\n",
    "email_a = 'silvio.garzia@aceone.it'\n",
    "oggetto = 'Allegato CV e file Excel'\n",
    "corpo = 'Ciao,\\n\\nIn allegato trovi il file Excel e i relativi CV da spedire.\\n\\nCordiali saluti,\\nTuo Nome'\n",
    "percorso_allegato = percorso_destinazione\n",
    "\n",
    "# Creazione dell'oggetto email\n",
    "email = MIMEMultipart()\n",
    "email['From'] = email_da\n",
    "email['To'] = email_a\n",
    "email['Subject'] = oggetto\n",
    "\n",
    "# Aggiunta del corpo del messaggio\n",
    "email.attach(MIMEText(corpo, 'plain'))\n",
    "\n",
    "# Aggiunta dell'allegato\n",
    "with open(percorso_allegato, 'rb') as allegato:\n",
    "    part = MIMEBase('application', 'octet-stream')\n",
    "    part.set_payload(allegato.read())\n",
    "    encoders.encode_base64(part)\n",
    "    part.add_header('Content-Disposition', f'attachment; filename= {os.path.basename(percorso_allegato)}')\n",
    "    email.attach(part)\n",
    "\n",
    "# Invio dell'email\n",
    "with smtplib.SMTP('smtp.example.com', 587) as server_smtp:\n",
    "    server_smtp.ehlo()\n",
    "    server_smtp.starttls()\n",
    "    server_smtp.login('tuo_indirizzo_email@example.com', 'tua_password')\n",
    "    server_smtp.sendmail(email_da, email_a, email.as_string())\n",
    "    server_smtp.quit()\n"
   ]
  },
  {
   "cell_type": "code",
   "execution_count": 2,
   "metadata": {},
   "outputs": [
    {
     "ename": "SyntaxError",
     "evalue": "invalid syntax (1522809684.py, line 3)",
     "output_type": "error",
     "traceback": [
      "\u001b[1;36m  Cell \u001b[1;32mIn[2], line 3\u001b[1;36m\u001b[0m\n\u001b[1;33m    Sostituisci C:\\documenti\\C_Lab_HR con il percorso corretto in cui si trovano i file e le cartelle.\u001b[0m\n\u001b[1;37m                ^\u001b[0m\n\u001b[1;31mSyntaxError\u001b[0m\u001b[1;31m:\u001b[0m invalid syntax\n"
     ]
    }
   ],
   "source": [
    "#note:Ricorda di effettuare le seguenti modifiche al codice:\n",
    "\n",
    "Sostituisci C:\\documenti\\C_Lab_HR con il percorso corretto in cui si trovano i file e le cartelle.\n",
    "Modifica tuo_indirizzo_email@example.com con il tuo indirizzo email.\n",
    "Modifica destinatario@example.com con l'indirizzo email del destinatario.\n",
    "Sostituisci smtp.example.com con\n",
    "#il server SMTP corretto per l'invio delle email.\n",
    "5. Inserisci le tue credenziali di accesso SMTP nel metodo login del server SMTP.\n",
    "\n",
    "Assicurati di avere installato le seguenti librerie Python tramite pip prima di eseguire il programma:\n",
    "\n",
    "pandas\n",
    "xlrd\n",
    "openpyxl\n",
    "smtplib\n",
    "email\n",
    "Questo programma apre il file Excel CV_compatibili.xlsx, estrae le righe dal secondo foglio di lavoro e le copia in un nuovo file Excel chiamato cv_da_spedire.xlsx. Successivamente, copia i file PDF corrispondenti dalla cartella C:\\documenti\\C_Lab_HR\\CV nella cartella principale C:\\documenti\\C_Lab_HR. Infine, prepara un'email con l'allegato del file Excel e lo invia al destinatario specificato.\n",
    "\n",
    "Nota che dovrai personalizzare alcune parti del codice per adattarlo alla tua situazione specifica, come i percorsi dei file, gli indirizzi email e le credenziali SMTP."
   ]
  }
 ],
 "metadata": {
  "kernelspec": {
   "display_name": "Python 3",
   "language": "python",
   "name": "python3"
  },
  "language_info": {
   "codemirror_mode": {
    "name": "ipython",
    "version": 3
   },
   "file_extension": ".py",
   "mimetype": "text/x-python",
   "name": "python",
   "nbconvert_exporter": "python",
   "pygments_lexer": "ipython3",
   "version": "3.11.3"
  },
  "orig_nbformat": 4
 },
 "nbformat": 4,
 "nbformat_minor": 2
}
