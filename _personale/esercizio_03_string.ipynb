{
 "cells": [
  {
   "attachments": {},
   "cell_type": "markdown",
   "metadata": {},
   "source": [
    "## Esercizio - censure al tiramisù\n",
    " \n",
    "Ci è stato inviato un testo illegale, immorale e che fa pure ingrassare. \n",
    "Per tutelare la pubblica salute abbiamo l'arduo compito di censurarlo e \n",
    "renderlo consono al buon costume.\n",
    " \n",
    "1) E' necessario sostituire OGNI occorrenza delle due words malefiche con una  più salubre censure, trasformando il testo in modo che la print  di text_censure non contenga nessuna word incriminata.\n",
    "\n",
    "Esempio:\n",
    "\n",
    "```python\n",
    "testo= \"Grazie all'uso di Cera Splendent tutto brilla!\"\n",
    "parola_malefica = \"splendent\"\n",
    "censure = \"******\"\n",
    "text_censure: \"Grazie all'uso di Cera ****** tutto brilla!\"\n",
    "```\n",
    "\n",
    "2) Per scrivere il nostro rapporto di censori dobbiamo rendere conto di quante words abbiamo censurato. Stampare alla fine il numero (ovviamente in maniera automatica ), per esempio:\n",
    "\n",
    "```\n",
    "\"Censurata 1 word\"\n",
    "```"
   ]
  },
  {
   "cell_type": "code",
   "execution_count": 6,
   "metadata": {},
   "outputs": [
    {
     "name": "stdout",
     "output_type": "stream",
     "text": [
      "Testo censurato:\n",
      "Ed è proprio da questa portentosa crema che nasce la crema al mascarpone\n",
      "base del ******, prima classificata al premio Crema dell'Anno insieme\n",
      "alla ******. Il dolce italiano per eccellenza, quello più famoso e amato,\n",
      "ma soprattutto che ha dato vita a tantissime altre versioni, anche ****** senza uova!\n",
      "Poi il ****** alle fragole o quello alla ******, giusto per citarne un paio!\n",
      "Senza contare le rivisitazioni più raffinate come la crostata morbida o la torta al ******.\n",
      "\n",
      "Censurate 6 words.\n"
     ]
    }
   ],
   "source": [
    "testo = \"\"\"Ed è proprio da questa portentosa crema che nasce la crema al mascarpone\n",
    "base del tiramisù, prima classificata al premio Crema dell'Anno insieme\n",
    "alla nutella. Il dolce italiano per eccellenza, quello più famoso e amato,\n",
    "ma soprattutto che ha dato vita a tantissime altre versioni, anche tiramisù senza uova!\n",
    "Poi il Tiramisù alle fragole o quello alla Nutella, giusto per citarne un paio!\n",
    "Senza contare le rivisitazioni più raffinate come la crostata morbida o la torta al tiramisù.\n",
    "\"\"\"\n",
    "\n",
    "word_ban_one = \"Tiramisù\"\n",
    "word_ban_two = \"nutella\"\n",
    "\n",
    "censure = \"******\"\n",
    "\n",
    "text_censure = ''\n",
    "\n",
    "\n",
    "words_ban = ['Tiramisù', 'nutella']  \n",
    "censure = \"******\"                          \n",
    "text_censure = testo                     \n",
    "count_censure = 0                           \n",
    "\n",
    "for word in words_ban:                                         \n",
    "    text_censure = text_censure.replace(word.lower(), censure)  \n",
    "    text_censure = text_censure.replace(word.title(), censure)  \n",
    "\n",
    "count_censure += text_censure.count(censure)               \n",
    "\n",
    "msg_pre = 'Censurata' if count_censure == 1 else 'Censurate'  \n",
    "msg_post = 'word.' if count_censure == 1 else 'words.'     \n",
    "\n",
    "print('Testo censurato:', text_censure, sep='\\n')          \n",
    "print(msg_pre, count_censure, msg_post)"
   ]
  }
 ],
 "metadata": {
  "kernelspec": {
   "display_name": "Python 3",
   "language": "python",
   "name": "python3"
  },
  "language_info": {
   "codemirror_mode": {
    "name": "ipython",
    "version": 3
   },
   "file_extension": ".py",
   "mimetype": "text/x-python",
   "name": "python",
   "nbconvert_exporter": "python",
   "pygments_lexer": "ipython3",
   "version": "3.10.0"
  },
  "orig_nbformat": 4
 },
 "nbformat": 4,
 "nbformat_minor": 2
}
