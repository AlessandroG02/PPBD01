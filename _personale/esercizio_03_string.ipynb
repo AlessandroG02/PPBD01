{
 "cells": [
  {
   "attachments": {},
   "cell_type": "markdown",
   "metadata": {},
   "source": [
    "## Esercizio - Censura al tiramisù\n",
    " \n",
    "Ci è stato inviato un testo illegale, immorale e che fa pure ingrassare. \n",
    "Per tutelare la pubblica salute abbiamo l'arduo compito di censurarlo e \n",
    "renderlo consono al buon costume.\n",
    " \n",
    "1) E' necessario sostituire OGNI occorrenza delle due parole malefiche con una  più salubre censura, trasformando il testo in modo che la print  di testo_censurato non contenga nessuna parola incriminata.\n",
    "\n",
    "Esempio:\n",
    "\n",
    "```python\n",
    "testo= \"Grazie all'uso di Cera Splendent tutto brilla!\"\n",
    "parola_malefica = \"splendent\"\n",
    "censura = \"******\"\n",
    "testo_censurato: \"Grazie all'uso di Cera ****** tutto brilla!\"\n",
    "```\n",
    "\n",
    "2) Per scrivere il nostro rapporto di censori dobbiamo rendere conto di quante parole abbiamo censurato. Stampare alla fine il numero (ovviamente in maniera automatica ), per esempio:\n",
    "\n",
    "```\n",
    "\"Censurata 1 parola\"\n",
    "```"
   ]
  },
  {
   "attachments": {},
   "cell_type": "markdown",
   "metadata": {},
   "source": [
    "- individuare parole da censurare\n",
    "( - mettere le parole da censurare in un \"contenitore\" )\n",
    "- ottenere un Testo Censurato cercando la prima parola nel Testo Pulito e sostituirla con \"******\"\n",
    "- ottenere un Testo Censurato cercando trovare la prima parola nel censurato precedentemente e sostituirla con \"******\"\n",
    "- rifare i due passaggi porecedenti con le versioni \"alternative\" delle parole.\n"
   ]
  },
  {
   "cell_type": "code",
   "execution_count": 2,
   "metadata": {},
   "outputs": [
    {
     "name": "stdout",
     "output_type": "stream",
     "text": [
      "Identificate 6 parole\n",
      "Ed è proprio da questa portentosa crema che nasce la crema al mascarpone\n",
      "base del ********, prima classificata al premio Crema dell'Anno insieme\n",
      "alla *******. Il dolce italiano per eccellenza, quello più famoso e amato,\n",
      "ma soprattutto che ha dato vita a tantissime altre versioni, anche ******** senza uova!\n",
      "Poi il ******** alle fragole o quello alla *******, giusto per citarne un paio!\n",
      "Senza contare le rivisitazioni più raffinate come la crostata morbida o la torta al ********.\n",
      "\n"
     ]
    }
   ],
   "source": [
    "testo = \"\"\"Ed è proprio da questa portentosa crema che nasce la crema al mascarpone\n",
    "base del tiramisù, prima classificata al premio Crema dell'Anno insieme\n",
    "alla nutella. Il dolce italiano per eccellenza, quello più famoso e amato,\n",
    "ma soprattutto che ha dato vita a tantissime altre versioni, anche tiramisù senza uova!\n",
    "Poi il Tiramisù alle fragole o quello alla Nutella, giusto per citarne un paio!\n",
    "Senza contare le rivisitazioni più raffinate come la crostata morbida o la torta al tiramisù.\n",
    "\"\"\"\n",
    "\n",
    "parola_malefica1 = \"Tiramisù\"\n",
    "parola_malefica2 = \"nutella\"\n",
    "# lista_parole_iniz = [parola_malefica1, parola_malefica2]\n",
    "\n",
    "# censura = \"******\"\n",
    "censura_char = '*'\n",
    "\n",
    "#  input_utente = input('Inserisci una parola da censurare!')\n",
    "\n",
    "# if not input_utente:\n",
    "#     raise ValueError('Non puoi inserire una stringa vuota!!')\n",
    "\n",
    "lista_parole_iniz = [\"nutella\", \"Tiramisù\"]\n",
    "# lista_parole_iniz = [parola_malefica1, parola_malefica2,]\n",
    "\n",
    "testo_censurato = testo\n",
    "conta_censure = 0\n",
    "\n",
    "for parola in lista_parole_iniz:\n",
    "    censura = censura_char * len(parola)\n",
    "    testo_censurato = testo_censurato.replace(parola.lower(), censura)\n",
    "    testo_censurato = testo_censurato.replace(parola.title(), censura)\n",
    "    conta_censure += testo_censurato.count(censura)\n",
    "\n",
    "# if conta_censure == 1:\n",
    "#     msg_pre = 'Trovata'\n",
    "#     msg_post = 'parola'\n",
    "# else:\n",
    "#     msg_pre = 'Trovate'\n",
    "#     msg_post = 'parole'\n",
    "# print(msg_pre, conta_censure, msg_post)\n",
    "\n",
    "# if conta_censure == 1:\n",
    "#     suffix = 'a'\n",
    "# else:\n",
    "#     suffix = 'e'\n",
    "\n",
    "# operatore ternario\n",
    "\n",
    "suffix = 'a' if conta_censure == 1 else 'e'\n",
    "\n",
    "\n",
    "print('Identificat'+suffix, conta_censure, 'parol'+suffix)\n",
    "\n",
    "print(testo_censurato)\n",
    "\n"
   ]
  }
 ],
 "metadata": {
  "kernelspec": {
   "display_name": "Python 3",
   "language": "python",
   "name": "python3"
  },
  "language_info": {
   "codemirror_mode": {
    "name": "ipython",
    "version": 3
   },
   "file_extension": ".py",
   "mimetype": "text/x-python",
   "name": "python",
   "nbconvert_exporter": "python",
   "pygments_lexer": "ipython3",
   "version": "3.10.0"
  },
  "orig_nbformat": 4
 },
 "nbformat": 4,
 "nbformat_minor": 2
}
