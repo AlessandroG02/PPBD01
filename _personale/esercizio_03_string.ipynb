{
 "cells": [
  {
   "attachments": {},
   "cell_type": "markdown",
   "metadata": {},
   "source": [
    "## Esercizio - Censura al tiramisù\n",
    " \n",
    "Ci è stato inviato un testo illegale, immorale e che fa pure ingrassare. \n",
    "Per tutelare la pubblica salute abbiamo l'arduo compito di censurarlo e \n",
    "renderlo consono al buon costume.\n",
    " \n",
    "1) E' necessario sostituire OGNI occorrenza delle due parole malefiche con una  più salubre censura, trasformando il testo in modo che la print  di testo_censurato non contenga nessuna parola incriminata.\n",
    "\n",
    "Esempio:\n",
    "\n",
    "```python\n",
    "testo= \"Grazie all'uso di Cera Splendent tutto brilla!\"\n",
    "parola_malefica = \"splendent\"\n",
    "censura = \"******\"\n",
    "testo_censurato: \"Grazie all'uso di Cera ****** tutto brilla!\"\n",
    "```\n",
    "\n",
    "2) Per scrivere il nostro rapporto di censori dobbiamo rendere conto di quante parole abbiamo censurato. Stampare alla fine il numero (ovviamente in maniera automatica ), per esempio:\n",
    "\n",
    "```\n",
    "\"Censurata 1 parola\"\n",
    "```"
   ]
  },
  {
   "cell_type": "code",
   "execution_count": 8,
   "metadata": {},
   "outputs": [
    {
     "ename": "IndentationError",
     "evalue": "expected an indented block after 'for' statement on line 18 (1204809251.py, line 19)",
     "output_type": "error",
     "traceback": [
      "\u001b[1;36m  Cell \u001b[1;32mIn[8], line 19\u001b[1;36m\u001b[0m\n\u001b[1;33m    lista_parole_da_censurare.append(parola.lower())\u001b[0m\n\u001b[1;37m    ^\u001b[0m\n\u001b[1;31mIndentationError\u001b[0m\u001b[1;31m:\u001b[0m expected an indented block after 'for' statement on line 18\n"
     ]
    }
   ],
   "source": [
    "testo = \"\"\"Ed è proprio da questa portentosa crema che nasce la crema al mascarpone\n",
    "base del tiramisù, prima classificata al premio Crema dell'Anno insieme\n",
    "alla nutella. Il dolce italiano per eccellenza, quello più famoso e amato,\n",
    "ma soprattutto che ha dato vita a tantissime altre versioni, anche tiramisù senza uova!\n",
    "Poi il Tiramisù alle fragole o quello alla Nutella, giusto per citarne un paio!\n",
    "Senza contare le rivisitazioni più raffinate come la crostata morbida o la torta al tiramisù.\n",
    "\"\"\"\n",
    "\n",
    "parola_malefica = \"Tiramisù1\"\n",
    "parola_malefica2 = \"nutella\"\n",
    "\n",
    "censura = \"******\"\n",
    "\n",
    "testo_censurato = testo\n",
    "lista_parole_iniz=[\"Tiramisù1\" ,\"nutella\"]\n",
    "lista_parole_da_censurare = []\n",
    "\n",
    "for parola in lista_parole_iniz:\n",
    "lista_parole_da_censurare.append(parola.lower())\n",
    "lista_parole_da_censurare.append(parola.title())\n",
    "conta_censure\n",
    "\n",
    "\n",
    "# scrivi qui\n",
    "testo_censurato = testo.replace(parola_malefica1.lower(), censura)\n",
    "testo_censurato = testo_censurato. replace(parola_malefica1.title(), censura)\n",
    "testo_censurato = testo_censurato. replace(parola_malefica2.lower(), censura)\n",
    "testo_censurato = testo_censurato. replace(parola_malefica2.title(), censura)\n",
    "\n",
    "\n",
    "print(testo_censurato)\n"
   ]
  },
  {
   "cell_type": "code",
   "execution_count": null,
   "metadata": {},
   "outputs": [],
   "source": [
    "-individuare le parole da censurare\n",
    "(-mettere le parole da censurare in un\"contenitore\")\n",
    "-ottenere un testo censurato cercando la prima parola nel testo pulito e sostituirla con \"\"\"\"\"\"\"\n",
    "-ottenere un testo censurato cercando trovare la prima parola nel testo e sostituirla con \"\"\"\"\"\"\"\n",
    "-rifare i due passaggi precedenti con le versioni \"alternative\""
   ]
  }
 ],
 "metadata": {
  "kernelspec": {
   "display_name": "Python 3",
   "language": "python",
   "name": "python3"
  },
  "language_info": {
   "codemirror_mode": {
    "name": "ipython",
    "version": 3
   },
   "file_extension": ".py",
   "mimetype": "text/x-python",
   "name": "python",
   "nbconvert_exporter": "python",
   "pygments_lexer": "ipython3",
   "version": "3.11.3"
  },
  "orig_nbformat": 4
 },
 "nbformat": 4,
 "nbformat_minor": 2
}
