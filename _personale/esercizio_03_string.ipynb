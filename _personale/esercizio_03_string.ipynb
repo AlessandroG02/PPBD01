{
 "cells": [
  {
   "attachments": {},
   "cell_type": "markdown",
   "metadata": {},
   "source": [
    "## Esercizio - Censura al tiramisù\n",
    " \n",
    "Ci è stato inviato un testo illegale, immorale e che fa pure ingrassare. \n",
    "Per tutelare la pubblica salute abbiamo l'arduo compito di censurarlo e \n",
    "renderlo consono al buon costume.\n",
    " \n",
    "1) E' necessario sostituire OGNI occorrenza delle due parole malefiche con una  più salubre censura, trasformando il testo in modo che la print  di testo_censurato non contenga nessuna parola incriminata.\n",
    "\n",
    "Esempio:\n",
    "\n",
    "```python\n",
    "testo= \"Grazie all'uso di Cera Splendent tutto brilla!\"\n",
    "parola_malefica = \"splendent\"\n",
    "censura = \"******\"\n",
    "testo_censurato: \"Grazie all'uso di Cera ****** tutto brilla!\"\n",
    "```\n",
    "\n",
    "2) Per scrivere il nostro rapporto di censori dobbiamo rendere conto di quante parole abbiamo censurato. Stampare alla fine il numero (ovviamente in maniera automatica ), per esempio:\n",
    "\n",
    "```\n",
    "\"Censurata 1 parola\"\n",
    "```"
   ]
  },
  {
   "cell_type": "code",
   "execution_count": 4,
   "metadata": {},
   "outputs": [
    {
     "name": "stdout",
     "output_type": "stream",
     "text": [
      "Testo censurato:\n",
      "Ed è proprio da questa portentosa crema che nasce la crema al mascarpone\n",
      "base del ******, prima classificata al premio Crema dell'Anno insieme\n",
      "alla ******. Il dolce italiano per eccellenza, quello più famoso e amato,\n",
      "ma soprattutto che ha dato vita a tantissime altre versioni, anche ****** senza uova!\n",
      "Poi il ****** alle fragole o quello alla ******, giusto per citarne un paio!\n",
      "Senza contare le rivisitazioni più raffinate come la crostata morbida o la torta al ******.\n",
      "\n",
      "Censuratob 6 paroleb.\n"
     ]
    }
   ],
   "source": [
    "import re\n",
    "\n",
    "testo = \"\"\"Ed è proprio da questa portentosa crema che nasce la crema al mascarpone\n",
    "base del tiramisù, prima classificata al premio Crema dell'Anno insieme\n",
    "alla nutella. Il dolce italiano per eccellenza, quello più famoso e amato,\n",
    "ma soprattutto che ha dato vita a tantissime altre versioni, anche tiramisù senza uova!\n",
    "Poi il Tiramisù alle fragole o quello alla Nutella, giusto per citarne un paio!\n",
    "Senza contare le rivisitazioni più raffinate come la crostata morbida o la torta al tiramisù.\n",
    "\"\"\"\n",
    "\n",
    "parole_malefiche = ['Tiramisù', 'nutella']\n",
    "\n",
    "censura = \"******\"\n",
    "\n",
    "#testo_censurato = ''\n",
    "\n",
    "testo_censurato, conta_censure = re.subn('|'.join(parole_malefiche), censura, testo, flags=re.IGNORECASE)\n",
    "\n",
    "suff = 'a' if conta_censure == 1 else 'b'\n",
    "\n",
    "print('Testo censurato:', testo_censurato, sep='\\n')\n",
    "print(f'Censurato{suff} {conta_censure} parole{suff}.')"
   ]
  },
  {
   "cell_type": "code",
   "execution_count": 1,
   "metadata": {},
   "outputs": [
    {
     "name": "stdout",
     "output_type": "stream",
     "text": [
      "individuare parole da censurare\n",
      "  #mettere le parole da censurare in un contenitore\n",
      "ottenere un testo censurato cercando la prima parola ne testo pulito e sostituirla con \n",
      "\"******\" \n",
      "trovare la prima parola nel testo cercando di trovare la prima parola \n",
      "nel censurato precedentemente e sostituirla con \"*********\" \n",
      "rifare i due passaggi precedenti con le versiomi alternative.\n",
      "individuare parole da censurare\n",
      "  #mettere le parole da censurare in un contenitore\n",
      "ottenere un testo censurato cercando la prima parola ne testo pulito e sostituirla con \n",
      "\"******\" \n",
      "trovare la prima parola nel testo cercando di trovare la prima parola \n",
      "nel censurato precedentemente e sostituirla con \"*********\" \n",
      "rifare i due passaggi precedenti con le versiomi alternative.\n"
     ]
    }
   ],
   "source": [
    "  testo = \"\"\"individuare parole da censurare\n",
    "  #mettere le parole da censurare in un contenitore\n",
    "  ottenere un testo censurato cercando la prima parola ne testo pulito e sostituirla con \n",
    "  \"******\" \n",
    "  trovare la prima parola nel testo cercando di trovare la prima parola \n",
    "  nel censurato precedentemente e sostituirla con \"*********\" \n",
    "  rifare i due passaggi precedenti con le versiomi alternative.\"\"\"\n",
    "\n",
    "\n",
    " #parola_malefica1 = \"Tiramisu\"\n",
    " #parola_malefica2 = \"nutella\"\n",
    "\n",
    " censura = \"******\"\n",
    "\n",
    " lista_parola_iniz = [\"Tiramisu\", \"nutella\"]\n",
    "\n",
    "\n",
    " #lista_parola_da_censurare =[]\n",
    "\n",
    " testo_censurato = testo\n",
    "\n",
    " for parola in lista_parola_iniz:\n",
    "     testo_censurato = testo_censurato.replace(parola.lower(), censura)\n",
    "     testo_censurato = testo_censurato.replace(parola.title(), censura)\n",
    "     \"lista_parola_da_censurare.append(parola.lower())\"\n",
    "     \"lista_parola_da_censurare.append(parola.title())\"\n",
    "    # parola.lower()\n",
    "     #parola.title()\n",
    "\n",
    "\n",
    " print(testo_censurato)\n",
    " #print(lista_parola_da_censurare)\n",
    "    \n",
    "\n",
    " #testo_censurato = testo.replace(parola_malefica1.lower(), censura)\n",
    " #testo_censurato = testo_censurato.replace(parola_malefica1.title(), censura)\n",
    " #testo_censurato = testo_censurato.replace(parola_malefica2.lower(), censura)\n",
    " #testo_censurato = testo_censurato.replace(parola_malefica2.title(), censura)\n"
   ]
  }
 ],
 "metadata": {
  "kernelspec": {
   "display_name": "Python 3",
   "language": "python",
   "name": "python3"
  },
  "language_info": {
   "codemirror_mode": {
    "name": "ipython",
    "version": 3
   },
   "file_extension": ".py",
   "mimetype": "text/x-python",
   "name": "python",
   "nbconvert_exporter": "python",
   "pygments_lexer": "ipython3",
   "version": "3.10.0"
  },
  "orig_nbformat": 4
 },
 "nbformat": 4,
 "nbformat_minor": 2
}
