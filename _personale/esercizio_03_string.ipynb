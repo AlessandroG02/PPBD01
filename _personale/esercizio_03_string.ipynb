{
 "cells": [
  {
   "attachments": {},
   "cell_type": "markdown",
   "metadata": {},
   "source": [
    "## Esercizio - Censura al tiramisù\n",
    "\n",
    "Ci è stato inviato un testo illegale, immorale e che fa pure ingrassare. Per tutelare la pubblica salute abbiamo l'arduo compito di censurarlo e renderlo consono al buon costume.\n",
    "\n",
    "1. E' necessario sostituire OGNI occorrenza delle due parole malefiche con una più salubre censura, trasformando il testo in modo che la print di testo_censurato non contenga nessuna parola incriminata.\n",
    "\n",
    "Esempio:\n",
    "\n",
    "```python\n",
    "testo= \"Grazie all'uso di Cera Splendent tutto brilla!\"\n",
    "parola_malefica = \"splendent\"\n",
    "censura = \"******\"\n",
    "testo_censurato: \"Grazie all'uso di Cera ****** tutto brilla!\"\n",
    "```\n",
    "\n",
    "2. Per scrivere il nostro rapporto di censori dobbiamo rendere conto di quante parole abbiamo censurato. Stampare alla fine il numero (ovviamente in maniera automatica ), per esempio:\n",
    "\n",
    "```\n",
    "\"Censurata 1 parola\"\n",
    "```\n"
   ]
  },
  {
   "cell_type": "code",
   "execution_count": 2,
   "metadata": {},
   "outputs": [
    {
     "name": "stdout",
     "output_type": "stream",
     "text": [
      "Ed è proprio da questa portentosa crema che nasce la crema al mascarpone\n",
      "base del ******, prima classificata al premio Crema dell'Anno insieme\n",
      "alla ******. Il dolce italiano per eccellenza, quello più famoso e amato,\n",
      "ma soprattutto che ha dato vita a tantissime altre versioni, anche ****** senza uova!\n",
      "Poi il ****** alle fragole o quello alla ******, giusto per citarne un paio!\n",
      "Senza contare le rivisitazioni più raffinate come la crostata morbida o la torta al ******.\n",
      "\n"
     ]
    }
   ],
   "source": [
    "import re\n",
    "testo = \"\"\"Ed è proprio da questa portentosa crema che nasce la crema al mascarpone\n",
    "base del tiramisù, prima classificata al premio Crema dell'Anno insieme\n",
    "alla nutella. Il dolce italiano per eccellenza, quello più famoso e amato,\n",
    "ma soprattutto che ha dato vita a tantissime altre versioni, anche tiramisù senza uova!\n",
    "Poi il Tiramisù alle fragole o quello alla Nutella, giusto per citarne un paio!\n",
    "Senza contare le rivisitazioni più raffinate come la crostata morbida o la torta al tiramisù.\n",
    "\"\"\"\n",
    "\n",
    "parole_malef = [\"Tiramisù\", \"nutella\"]\n",
    "\n",
    "censura = \"******\"\n",
    "\n",
    "def censuraTesto(txt, cens, parole):\n",
    "    testo_censurato = txt\n",
    "    for parola in parole:\n",
    "        testo_censurato = re.sub(parola.lower(), cens, testo_censurato)\n",
    "        testo_censurato = re.sub(parola.capitalize(), cens, testo_censurato)\n",
    "    print(testo_censurato)\n",
    "    \n",
    "    \n",
    "censuraTesto(testo, censura, parole_malef)\n",
    "    \n",
    "\n",
    "        \n",
    "        \n",
    "\n",
    "\n",
    "\n",
    "\n"
   ]
  }
 ],
 "metadata": {
  "kernelspec": {
   "display_name": "Python 3",
   "language": "python",
   "name": "python3"
  },
  "language_info": {
   "codemirror_mode": {
    "name": "ipython",
    "version": 3
   },
   "file_extension": ".py",
   "mimetype": "text/x-python",
   "name": "python",
   "nbconvert_exporter": "python",
   "pygments_lexer": "ipython3",
   "version": "3.11.3"
  },
  "orig_nbformat": 4
 },
 "nbformat": 4,
 "nbformat_minor": 2
}
