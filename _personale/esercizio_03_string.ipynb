{
 "cells": [
  {
   "attachments": {},
   "cell_type": "markdown",
   "metadata": {},
   "source": [
    "## Esercizio - Censura al tiramisù\n",
    " \n",
    "Ci è stato inviato un testo illegale, immorale e che fa pure ingrassare. \n",
    "Per tutelare la pubblica salute abbiamo l'arduo compito di censurarlo e \n",
    "renderlo consono al buon costume.\n",
    " \n",
    "1) E' necessario sostituire OGNI occorrenza delle due parole malefiche con una  più salubre censura, trasformando il testo in modo che la print  di testo_censurato non contenga nessuna parola incriminata.\n",
    "\n",
    "Esempio:\n",
    "\n",
    "```python\n",
    "testo= \"Grazie all'uso di Cera Splendent tutto brilla!\"\n",
    "parola_malefica = \"splendent\"\n",
    "censura = \"******\"\n",
    "testo_censurato: \"Grazie all'uso di Cera ****** tutto brilla!\"\n",
    "```\n",
    "\n",
    "2) Per scrivere il nostro rapporto di censori dobbiamo rendere conto di quante parole abbiamo censurato. Stampare alla fine il numero (ovviamente in maniera automatica ), per esempio:\n",
    "\n",
    "```\n",
    "\"Censurata 1 parola\"\n",
    "```"
   ]
  },
  {
   "cell_type": "code",
   "execution_count": 1,
   "metadata": {},
   "outputs": [
    {
     "name": "stdout",
     "output_type": "stream",
     "text": [
      "Grazie all'uso di Cera ****** tutto brilla!\n"
     ]
    }
   ],
   "source": [
    "testo_malefico = \"Grazie all'uso di Cera Splendent tutto brilla!\"\n",
    "testo_censurato = testo_malefico.replace('Splendent','******')\n",
    "print(testo_censurato)"
   ]
  },
  {
   "cell_type": "code",
   "execution_count": 2,
   "metadata": {},
   "outputs": [
    {
     "name": "stdout",
     "output_type": "stream",
     "text": [
      "Censurata 1 parola!\n"
     ]
    }
   ],
   "source": [
    "testo_censurato.count('******')\n",
    "print('Censurata',testo_censurato.count('******'),'parola!')"
   ]
  },
  {
   "cell_type": "code",
   "execution_count": 3,
   "metadata": {},
   "outputs": [
    {
     "name": "stdout",
     "output_type": "stream",
     "text": [
      "Censurate 6 parole!\n"
     ]
    }
   ],
   "source": [
    "testo = \"\"\"Ed è proprio da questa portentosa crema che nasce la crema al mascarpone\n",
    "base del tiramisù, prima classificata al premio Crema dell'Anno insieme\n",
    "alla nutella. Il dolce italiano per eccellenza, quello più famoso e amato,\n",
    "ma soprattutto che ha dato vita a tantissime altre versioni, anche tiramisù senza uova!\n",
    "Poi il Tiramisù alle fragole o quello alla Nutella, giusto per citarne un paio!\n",
    "Senza contare le rivisitazioni più raffinate come la crostata morbida o la torta al tiramisù.\n",
    "\"\"\"\n",
    "\n",
    "parola_malefica1 = \"Tiramisù\"\n",
    "parola_malefica2 = \"nutella\"\n",
    "\n",
    "\n",
    "\n",
    "\n",
    "censura = \"******\"\n",
    "\n",
    "testo_cen = ''\n",
    "\n",
    "\n",
    "# scrivi qui\n",
    "testo_censurato = testo.replace(parola_malefica1.title(),censura)\n",
    "testo_censurato = testo_censurato.replace(parola_malefica1.lower(),censura)\n",
    "testo_censurato = testo_censurato.replace(parola_malefica2.title(),censura)\n",
    "testo_censurato = testo_censurato.replace(parola_malefica2.lower(),censura)\n",
    "\n",
    "testo_censurato.count(censura)\n",
    "print('Censurate',testo_censurato.count(censura),'parole!')\n"
   ]
  },
  {
   "cell_type": "code",
   "execution_count": 81,
   "metadata": {},
   "outputs": [
    {
     "name": "stdout",
     "output_type": "stream",
     "text": [
      "Censurate 6 parole!\n"
     ]
    }
   ],
   "source": [
    "testo_censurato.count('******')\n",
    "print('Censurate',testo_censurato.count('******'),'parole!')"
   ]
  },
  {
   "cell_type": "code",
   "execution_count": 85,
   "metadata": {},
   "outputs": [
    {
     "data": {
      "text/plain": [
       "['tiramisù', 'Tiramisù', 'nutella', 'Nutella']"
      ]
     },
     "execution_count": 85,
     "metadata": {},
     "output_type": "execute_result"
    }
   ],
   "source": [
    "lista_in = [\"Tiramisù\",\"nutella\"]\n",
    "lista_par = []\n",
    "for parola in lista_in:\n",
    "    lista_par.append(parola.lower())\n",
    "    lista_par.append(parola.title())\n",
    "    \n",
    "    \n",
    "lista_par\n"
   ]
  },
  {
   "cell_type": "code",
   "execution_count": null,
   "metadata": {},
   "outputs": [],
   "source": [
    "#aggiungo un input\n",
    "lista_in = [\"Tiramisù\",\"nutella\",input('dammi una parola da censurare')]\n",
    "testo_censurato = testo\n",
    "for parola in lista_in:\n",
    "    testo_censurato = testo_censurato.replace(parola.lower(),censura)\n",
    "    testo_censurato = testo_censurato.replace(parola.title(),censura)\n",
    "\n",
    "print(testo_censurato)\n",
    "testo_censurato.count(censura)\n",
    "print ('censurate',testo_censurato.count(censura),'parole')"
   ]
  },
  {
   "cell_type": "code",
   "execution_count": null,
   "metadata": {},
   "outputs": [],
   "source": [
    "#singolare plurale\n",
    "conta_censure = testo_censurato.count(censura)\n",
    "\n",
    "if conta_censure == 1:\n",
    "    msg_pre = 'Trovata'\n",
    "    msg_post = 'parola'\n",
    "else:\n",
    "    msg_pre = 'Trovate'\n",
    "    msg_post = 'Parole'\n",
    "\n",
    "print(msg_pre,conta_censure,msg_post)\n",
    "print(testo_censurato)"
   ]
  },
  {
   "cell_type": "code",
   "execution_count": 99,
   "metadata": {},
   "outputs": [
    {
     "name": "stdout",
     "output_type": "stream",
     "text": [
      "Trovate 6 parole\n"
     ]
    }
   ],
   "source": [
    "if conta_censure == 1:\n",
    "    suffix = 'a'\n",
    "else:\n",
    "    suffix = 'e'\n",
    "\n",
    "print('Trovat'+suffix,conta_censure,'parol'+suffix)  \n",
    "\n",
    "\n",
    "\n"
   ]
  },
  {
   "cell_type": "code",
   "execution_count": null,
   "metadata": {},
   "outputs": [],
   "source": [
    "#operatore ternario\n",
    "suffix = 'a' if conta_censure == 1 else 'e'\n",
    "print('Trovat'+suffix,conta_censure,'parol'+suffix) "
   ]
  },
  {
   "cell_type": "code",
   "execution_count": 101,
   "metadata": {},
   "outputs": [
    {
     "name": "stdout",
     "output_type": "stream",
     "text": [
      "Trovate 6 parole\n"
     ]
    }
   ],
   "source": [
    "censura_char = '*'\n",
    "for parola in lista_in:\n",
    "   censura = censura_char *len(parola)\n",
    "   testo_censurato = testo_censurato.replace(parola.lower(),censura)\n",
    "   testo_censurato = testo_censurato.replace(parola.title(),censura)"
   ]
  },
  {
   "cell_type": "code",
   "execution_count": null,
   "metadata": {},
   "outputs": [],
   "source": []
  }
 ],
 "metadata": {
  "kernelspec": {
   "display_name": "Python 3",
   "language": "python",
   "name": "python3"
  },
  "language_info": {
   "codemirror_mode": {
    "name": "ipython",
    "version": 3
   },
   "file_extension": ".py",
   "mimetype": "text/x-python",
   "name": "python",
   "nbconvert_exporter": "python",
   "pygments_lexer": "ipython3",
   "version": "3.10.0"
  },
  "orig_nbformat": 4
 },
 "nbformat": 4,
 "nbformat_minor": 2
}
