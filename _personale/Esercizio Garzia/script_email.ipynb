{
 "cells": [
  {
   "cell_type": "code",
   "execution_count": 2,
   "metadata": {},
   "outputs": [
    {
     "ename": "SMTPConnectError",
     "evalue": "(421, b'Cannot connect to SMTP server 64.233.177.108 (64.233.177.108:587), connect error 10060')",
     "output_type": "error",
     "traceback": [
      "\u001b[1;31m---------------------------------------------------------------------------\u001b[0m",
      "\u001b[1;31mSMTPConnectError\u001b[0m                          Traceback (most recent call last)",
      "Cell \u001b[1;32mIn[2], line 6\u001b[0m\n\u001b[0;32m      4\u001b[0m mailto \u001b[39m=\u001b[39m \u001b[39minput\u001b[39m(\u001b[39m\"\u001b[39m\u001b[39mQual\u001b[39m\u001b[39m'\u001b[39m\u001b[39mè l\u001b[39m\u001b[39m'\u001b[39m\u001b[39memail del destinatario? \u001b[39m\u001b[39m\\n\u001b[39;00m\u001b[39m \u001b[39m\u001b[39m\"\u001b[39m)\n\u001b[0;32m      5\u001b[0m msg \u001b[39m=\u001b[39m \u001b[39minput\u001b[39m(\u001b[39m\"\u001b[39m\u001b[39mQual\u001b[39m\u001b[39m'\u001b[39m\u001b[39mè il messaggio che vuoi inviare? \u001b[39m\u001b[39m\\n\u001b[39;00m\u001b[39m \u001b[39m\u001b[39m\"\u001b[39m)\n\u001b[1;32m----> 6\u001b[0m mailServer \u001b[39m=\u001b[39m smtplib\u001b[39m.\u001b[39;49mSMTP(\u001b[39m'\u001b[39;49m\u001b[39msmtp.gmail.com\u001b[39;49m\u001b[39m'\u001b[39;49m , \u001b[39m587\u001b[39;49m)\n\u001b[0;32m      7\u001b[0m mailServer\u001b[39m.\u001b[39mstarttls()\n\u001b[0;32m      8\u001b[0m mailServer\u001b[39m.\u001b[39mlogin(gmailaddress , gmailpassword)\n",
      "File \u001b[1;32mc:\\Program Files\\Python311\\Lib\\smtplib.py:258\u001b[0m, in \u001b[0;36mSMTP.__init__\u001b[1;34m(self, host, port, local_hostname, timeout, source_address)\u001b[0m\n\u001b[0;32m    256\u001b[0m     \u001b[39mif\u001b[39;00m code \u001b[39m!=\u001b[39m \u001b[39m220\u001b[39m:\n\u001b[0;32m    257\u001b[0m         \u001b[39mself\u001b[39m\u001b[39m.\u001b[39mclose()\n\u001b[1;32m--> 258\u001b[0m         \u001b[39mraise\u001b[39;00m SMTPConnectError(code, msg)\n\u001b[0;32m    259\u001b[0m \u001b[39mif\u001b[39;00m local_hostname \u001b[39mis\u001b[39;00m \u001b[39mnot\u001b[39;00m \u001b[39mNone\u001b[39;00m:\n\u001b[0;32m    260\u001b[0m     \u001b[39mself\u001b[39m\u001b[39m.\u001b[39mlocal_hostname \u001b[39m=\u001b[39m local_hostname\n",
      "\u001b[1;31mSMTPConnectError\u001b[0m: (421, b'Cannot connect to SMTP server 64.233.177.108 (64.233.177.108:587), connect error 10060')"
     ]
    }
   ],
   "source": [
    "import smtplib \n",
    "gmailaddress = input(\"Qual'è il tuo indirizzo gmail? \\n \")\n",
    "gmailpassword = input(\"Qual'è la password del tuo account? \\n  \")\n",
    "mailto = input(\"Qual'è l'email del destinatario? \\n \")\n",
    "msg = input(\"Qual'è il messaggio che vuoi inviare? \\n \")\n",
    "mailServer = smtplib.SMTP('smtp.gmail.com' , 587)\n",
    "mailServer.starttls()\n",
    "mailServer.login(gmailaddress , gmailpassword)\n",
    "mailServer.sendmail(gmailaddress, mailto , msg)\n",
    "print(\" \\n Sent!\")\n",
    "mailServer.quit()\n",
    "\n"
   ]
  }
 ],
 "metadata": {
  "kernelspec": {
   "display_name": "Python 3",
   "language": "python",
   "name": "python3"
  },
  "language_info": {
   "codemirror_mode": {
    "name": "ipython",
    "version": 3
   },
   "file_extension": ".py",
   "mimetype": "text/x-python",
   "name": "python",
   "nbconvert_exporter": "python",
   "pygments_lexer": "ipython3",
   "version": "3.11.3"
  },
  "orig_nbformat": 4
 },
 "nbformat": 4,
 "nbformat_minor": 2
}
