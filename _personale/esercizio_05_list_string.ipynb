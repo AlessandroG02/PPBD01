{
 "cells": [
  {
   "attachments": {},
   "cell_type": "markdown",
   "metadata": {},
   "source": [
    "## Esercizio - Psycho Circus\n",
    "\n",
    "Requisiti: slice\n",
    "\n",
    "Nella variabile `kiss_album` è contenuta la lista delle tracce dell'album _Psycho Circus_ pubblicato nel 1998 dai KISS, una band di gentlemen del glam rock. La variabile è una stringa multilinea (aperta come si vede tramite tre `\"\"\"` e chiusa nello stesso modo).\n",
    "\n",
    "In ogni riga della stringa è presente del testo, il titolo della canzone, e una serie di `_` in modo da rendere tutte le righe della stessa lunghezza.\n",
    "\n",
    "```python\n",
    "#La lunghezza di ogni riga\n",
    "lunghezza_etichetta = 48\n",
    "\n",
    "# Il database contenente le canzoni\n",
    "kiss_album = \"\"\"Psycho Circus _________________________________\n",
    "Within ________________________________________\n",
    "I Pledge Allegiance to the State of Rock & Roll\n",
    "Into the Void _________________________________\n",
    "We Are One ____________________________________\n",
    "You Wanted the Best ___________________________\n",
    "Raise Your Glasses ____________________________\n",
    "I Finally Found My Way_________________________\n",
    "Dreamin _______________________________________\n",
    "Journey of 1,000 Years ________________________\"\"\"\n",
    "```\n",
    "\n",
    "Stiamo programmando il controllore di uno stereo e dato il suo numero  `num_canzone` nell'album, vogliamo STAMPARE numero e titolo. \n",
    "\n",
    "Per esempio, se riceviamo `num_canzone = 3` dobbiamo stampare:\n",
    "\n",
    "```\n",
    "numero canzone: 3\n",
    "Into the Void _________________________________\n",
    "```\n",
    "\n",
    "**NOTA**: alla fine di ogni riga di `kiss_album`, c'è un carattere speciale, giusto? :) "
   ]
  },
  {
   "cell_type": "code",
   "execution_count": 1,
   "metadata": {},
   "outputs": [
    {
     "name": "stdout",
     "output_type": "stream",
     "text": [
      "Psycho Circus _________________________________\n",
      "Within ________________________________________\n",
      "I Pledge Allegiance to the State of Rock & Roll\n",
      "Into the Void _________________________________\n",
      "We Are One ____________________________________\n",
      "You Wanted the Best ___________________________\n",
      "Raise Your Glasses ____________________________\n",
      "I Finally Found My Way_________________________\n",
      "Dreamin _______________________________________\n",
      "Journey of 1,000 Years ________________________\n"
     ]
    }
   ],
   "source": [
    "LUNGHEZZA_ETICHETTA = 48\n",
    "\n",
    "# num_canzone = 4    #  Into the Void _________________________________\n",
    "# num_canzone = 10   #  Journey of 1,000 Years ________________________\n",
    "\n",
    "kiss_album = \"\"\"Psycho Circus _________________________________\n",
    "Within ________________________________________\n",
    "I Pledge Allegiance to the State of Rock & Roll\n",
    "Into the Void _________________________________\n",
    "We Are One ____________________________________\n",
    "You Wanted the Best ___________________________\n",
    "Raise Your Glasses ____________________________\n",
    "I Finally Found My Way_________________________\n",
    "Dreamin _______________________________________\n",
    "Journey of 1,000 Years ________________________\"\"\"\n",
    "\n",
    "# scrivi qui\n",
    "print(kiss_album)\n"
   ]
  },
  {
   "attachments": {},
   "cell_type": "markdown",
   "metadata": {},
   "source": [
    "mia soluzione"
   ]
  },
  {
   "cell_type": "code",
   "execution_count": null,
   "metadata": {},
   "outputs": [],
   "source": [
    "clean01 = kiss_album.replace('_', '').replace('\\n', '- ')\n",
    "print(repr(clean01))"
   ]
  },
  {
   "cell_type": "code",
   "execution_count": null,
   "metadata": {},
   "outputs": [],
   "source": [
    "titoli = clean01.split('-')\n",
    "kiss = kiss_album.split('\\n')\n",
    "print(titoli)\n",
    "print(kiss)\n",
    "print('N° tracce: ', len(titoli))"
   ]
  },
  {
   "cell_type": "code",
   "execution_count": null,
   "metadata": {},
   "outputs": [],
   "source": [
    "x = 0\n",
    "num_canzone = 0\n",
    "for i in titoli:\n",
    "  if x in range (0 , 9):\n",
    "    x += 1\n",
    "    num_canzone += 1\n",
    "    print('Traccia n°', num_canzone,':', titoli[x])\n",
    "    \n",
    "   "
   ]
  },
  {
   "cell_type": "code",
   "execution_count": null,
   "metadata": {},
   "outputs": [],
   "source": [
    "x = 0\n",
    "num_canzone = 0\n",
    "for i in kiss:\n",
    "  if x in range (0 , 9):\n",
    "    x += 1\n",
    "    num_canzone += 1\n",
    "    print('Traccia n°', num_canzone,':', kiss[x])"
   ]
  },
  {
   "attachments": {},
   "cell_type": "markdown",
   "metadata": {},
   "source": [
    "suluzione di classe"
   ]
  },
  {
   "cell_type": "code",
   "execution_count": null,
   "metadata": {},
   "outputs": [],
   "source": [
    "track_num = int(input())\n",
    "track_num_py = track_num - 1\n",
    "list_album = kiss_album.split('\\n')\n",
    "print('numero canzone: ', track_num - 1)\n",
    "print(\"nome traccia: \" ,list_album[track_num_py])"
   ]
  },
  {
   "attachments": {},
   "cell_type": "markdown",
   "metadata": {},
   "source": [
    "IMPLEMENTO ERRORI"
   ]
  },
  {
   "cell_type": "code",
   "execution_count": 16,
   "metadata": {},
   "outputs": [
    {
     "ename": "SyntaxError",
     "evalue": "default 'except:' must be last (1959017318.py, line 11)",
     "output_type": "error",
     "traceback": [
      "\u001b[1;36m  Cell \u001b[1;32mIn[16], line 11\u001b[1;36m\u001b[0m\n\u001b[1;33m    except:\u001b[0m\n\u001b[1;37m    ^\u001b[0m\n\u001b[1;31mSyntaxError\u001b[0m\u001b[1;31m:\u001b[0m default 'except:' must be last\n"
     ]
    }
   ],
   "source": [
    "\n",
    "track_num = int(input())\n",
    "\n",
    "try:\n",
    "  track_num_py = track_num - 1\n",
    "  list_album = kiss_album.split('\\n')\n",
    "  print('numero canzone: ', track_num)\n",
    "  print(\"nome traccia: \" ,list_album[track_num_py])\n",
    "\n",
    "  if track_num > 10:\n",
    "    raise ValueError\n",
    "\n",
    "except:\n",
    "  print(\"LA TRACCIA NON ESISTE\")\n",
    "\n",
    "except TypeError:\n",
    "  print(\"INSERIRE UN NUMERO\")\n",
    "\n",
    "\n"
   ]
  }
 ],
 "metadata": {
  "kernelspec": {
   "display_name": ".venv",
   "language": "python",
   "name": "python3"
  },
  "language_info": {
   "codemirror_mode": {
    "name": "ipython",
    "version": 3
   },
   "file_extension": ".py",
   "mimetype": "text/x-python",
   "name": "python",
   "nbconvert_exporter": "python",
   "pygments_lexer": "ipython3",
   "version": "3.11.3"
  },
  "orig_nbformat": 4
 },
 "nbformat": 4,
 "nbformat_minor": 2
}
