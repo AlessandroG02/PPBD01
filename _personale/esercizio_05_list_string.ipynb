{
 "cells": [
  {
   "attachments": {},
   "cell_type": "markdown",
   "metadata": {},
   "source": [
    "## Esercizio - Psycho Circus\n",
    "\n",
    "Requisiti: slice\n",
    "\n",
    "Nella variabile `kiss_album` è contenuta la lista delle tracce dell'album _Psycho Circus_ pubblicato nel 1998 dai KISS, una band di gentlemen del glam rock. La variabile è una stringa multilinea (aperta come si vede tramite tre `\"\"\"` e chiusa nello stesso modo).\n",
    "\n",
    "In ogni riga della stringa è presente del testo, il titolo della canzone, e una serie di `_` in modo da rendere tutte le righe della stessa lunghezza.\n",
    "\n",
    "```python\n",
    "#La lunghezza di ogni riga\n",
    "lunghezza_etichetta = 48\n",
    "\n",
    "# Il database contenente le canzoni\n",
    "kiss_album = \"\"\"Psycho Circus _________________________________\n",
    "Within ________________________________________\n",
    "I Pledge Allegiance to the State of Rock & Roll\n",
    "Into the Void _________________________________\n",
    "We Are One ____________________________________\n",
    "You Wanted the Best ___________________________\n",
    "Raise Your Glasses ____________________________\n",
    "I Finally Found My Way_________________________\n",
    "Dreamin _______________________________________\n",
    "Journey of 1,000 Years ________________________\"\"\"\n",
    "```\n",
    "\n",
    "Stiamo programmando il controllore di uno stereo e dato il suo numero `num_canzone` nell'album, vogliamo STAMPARE numero e titolo.\n",
    "\n",
    "Per esempio, se riceviamo `num_canzone = 3` dobbiamo stampare:\n",
    "\n",
    "```\n",
    "numero canzone: 3\n",
    "Into the Void _________________________________\n",
    "```\n",
    "\n",
    "**NOTA**: alla fine di ogni riga di `kiss_album`, c'è un carattere speciale, giusto? :)\n"
   ]
  },
  {
   "cell_type": "code",
   "execution_count": 1,
   "metadata": {},
   "outputs": [
    {
     "name": "stdout",
     "output_type": "stream",
     "text": [
      "4\n",
      "Into the Void _________________________________\n"
     ]
    }
   ],
   "source": [
    "\n",
    "LUNGHEZZA_ETICHETTA = 48\n",
    "\n",
    "#num_canzone = 4    #  Into the Void _________________________________\n",
    "# num_canzone = 10   #  Journey of 1,000 Years ________________________\n",
    "\n",
    "kiss_album = \"\"\"Psycho Circus _________________________________          \n",
    "Within ________________________________________\n",
    "I Pledge Allegiance to the State of Rock & Roll\n",
    "Into the Void _________________________________\n",
    "We Are One ____________________________________\n",
    "You Wanted the Best ___________________________\n",
    "Raise Your Glasses ____________________________\n",
    "I Finally Found My Way_________________________\n",
    "Dreamin _______________________________________\n",
    "Journey of 1,000 Years ________________________\"\"\"\n",
    "\n",
    "\n",
    "song_list = kiss_album.split('\\n')\n",
    "song_dict = {}\n",
    "\n",
    "\n",
    "\n",
    "def findSong(list_song):\n",
    "    index = 1\n",
    "    dictio = {}\n",
    "    for elem in list_song:\n",
    "        dictio[index] = elem\n",
    "        index += 1\n",
    "    num_canzone = eval(input('Inserici numero canzone:'))\n",
    "    print(num_canzone)\n",
    "    #print(dictio)\n",
    "    #print(song_dict)\n",
    "    song = dictio.get(num_canzone)\n",
    "    return song\n",
    "    \n",
    "thisSong = findSong(song_list)\n",
    "print(thisSong)\n",
    "\n",
    "\n",
    "# scrivi qui"
   ]
  }
 ],
 "metadata": {
  "kernelspec": {
   "display_name": ".venv",
   "language": "python",
   "name": "python3"
  },
  "language_info": {
   "codemirror_mode": {
    "name": "ipython",
    "version": 3
   },
   "file_extension": ".py",
   "mimetype": "text/x-python",
   "name": "python",
   "nbconvert_exporter": "python",
   "pygments_lexer": "ipython3",
   "version": "3.11.3"
  },
  "orig_nbformat": 4
 },
 "nbformat": 4,
 "nbformat_minor": 2
}
