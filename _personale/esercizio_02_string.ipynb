{
 "cells": [
  {
   "attachments": {},
   "cell_type": "markdown",
   "metadata": {},
   "source": [
    "# Esercizio - La ricetta della nonna\n",
    "\n",
    "Requisiti: stringhe, liste, if, for, import, \n",
    "\n",
    "La nonna ci ha dato la sua miracolosa ricetta della pasta olive acciughe \n",
    "e capperi.\n",
    "\n",
    "<u>Variante 1:</u> Dobbiamo andare a comprare tutti gli ingredienti che appaiono nella lista più di una volta.\n",
    "\n",
    "<u>Variante 2:</u> Dobbiamo andare a comprare gli ingredienti e dobbiamo capire quanti \"**cappero**\", \"**oliva**\" e \"**pepe**\" comprare. Di pasta e altri ingredienti ne abbiamo già in quantità, quindi non ci interessano.\n",
    "\n",
    "- **ATTENZIONE:** la nonna ha la sua età ed è sempre stata pasticciona e quindi la ricetta è scritta in modo non consistente, e le parole vanno *normalizzate*    \n",
    "- **SUGGERIMENTO**: c'è un comodo metodo delle stringhe per separare le parole...\n",
    "  \n",
    "Esempio - dati:\n",
    "\n",
    "```python\n",
    "ricetta = \"oliva\\t, pepe,cappero ,\\n detersivo,\\t \\n cappero, peperone, acciuga ,oliva , pepe\\t,\\t cappero , \\noliva,pasta\\n\"\n",
    "```\n",
    "\n",
    "stampa:\n",
    "\n",
    "```\n",
    "  Servono:\n",
    "     3 oliva\n",
    "     2 pepe\n",
    "     3 cappero\n",
    "``` "
   ]
  },
  {
   "cell_type": "code",
   "execution_count": 2,
   "metadata": {},
   "outputs": [],
   "source": [
    "ricetta_orig = \"oliva\\t, pepe,cappero ,\\n detersivo,\\t \\n cappero, peperone, acciuga ,oliva , pepe\\t,\\t cappero , \\noliva,pasta\\n\"\n",
    "# ricetta = \"oliva\\t, pepe,cappero ,\\n dete\\nrsivo,\\t \\n cappero, peperone, acciuga ,oliva , pepe\\t,\\t cappero , \\noliva,pasta\\n\"\n",
    "# ricetta = \"cappone , pepe,\\noliva\\n,\\n\\tpepe, acciuga \"   #  1 oliva 2 pepe 0 cappero\n",
    "\n",
    "# scrivi qui\n"
   ]
  },
  {
   "cell_type": "code",
   "execution_count": 3,
   "metadata": {},
   "outputs": [
    {
     "name": "stdout",
     "output_type": "stream",
     "text": [
      "'oliva\\t, pepe,cappero ,\\n detersivo,\\t \\n cappero, peperone, acciuga ,oliva , pepe\\t,\\t cappero , \\noliva,pasta\\n'\n"
     ]
    }
   ],
   "source": [
    "print(repr(ricetta_orig))"
   ]
  },
  {
   "cell_type": "code",
   "execution_count": 16,
   "metadata": {},
   "outputs": [
    {
     "name": "stdout",
     "output_type": "stream",
     "text": [
      "'oliva,pepe,cappero,detersivo,cappero,peperone,acciuga,oliva,pepe,cappero,oliva,pasta'\n"
     ]
    }
   ],
   "source": [
    "pulizia = ricetta_orig.replace('\\t','').replace('\\n','').replace(' ','')\n",
    "print(repr(pulizia))"
   ]
  },
  {
   "cell_type": "code",
   "execution_count": 17,
   "metadata": {},
   "outputs": [
    {
     "name": "stdout",
     "output_type": "stream",
     "text": [
      "['oliva', 'pepe', 'cappero', 'detersivo', 'cappero', 'peperone', 'acciuga', 'oliva', 'pepe', 'cappero', 'oliva', 'pasta']\n"
     ]
    }
   ],
   "source": [
    "pulizia = pulizia.split(',')\n",
    "print(repr(pulizia))"
   ]
  },
  {
   "cell_type": "code",
   "execution_count": 39,
   "metadata": {},
   "outputs": [
    {
     "name": "stdout",
     "output_type": "stream",
     "text": [
      "['cappero', 'pepe', 'oliva', 'detersivo', 'acciuga', 'peperone', 'pasta']\n",
      "7\n"
     ]
    }
   ],
   "source": [
    "elementi= list(set(pulizia))\n",
    "print(elementi)\n",
    "\n",
    "n_elementi = len(set(pulizia))\n",
    "print(n_elementi)\n",
    "\n"
   ]
  },
  {
   "cell_type": "code",
   "execution_count": 38,
   "metadata": {},
   "outputs": [
    {
     "name": "stdout",
     "output_type": "stream",
     "text": [
      "2 pepe\n",
      "3 cappero\n",
      "3 oliva\n"
     ]
    }
   ],
   "source": [
    "ricetta_pulita = {\n",
    "    'pepe': pulizia.count(\"pepe\"),\n",
    "    'cappero': pulizia.count(\"cappero\"),\n",
    "    'oliva': pulizia.count(\"oliva\"),\n",
    "    'detersivo': pulizia.count(\"detersivo\"),\n",
    "    'acciuga': pulizia.count(\"acciuga\"),\n",
    "    'peperone': pulizia.count(\"peperone\"),\n",
    "    'pasta': pulizia.count(\"pasta\")\n",
    "}\n",
    "\n",
    "for key in ricetta_pulita:\n",
    "    if ricetta_pulita[key]> 1:\n",
    "       print(ricetta_pulita[key], key)"
   ]
  }
 ],
 "metadata": {
  "kernelspec": {
   "display_name": "Python 3",
   "language": "python",
   "name": "python3"
  },
  "language_info": {
   "codemirror_mode": {
    "name": "ipython",
    "version": 3
   },
   "file_extension": ".py",
   "mimetype": "text/x-python",
   "name": "python",
   "nbconvert_exporter": "python",
   "pygments_lexer": "ipython3",
   "version": "3.11.3"
  },
  "orig_nbformat": 4
 },
 "nbformat": 4,
 "nbformat_minor": 2
}
