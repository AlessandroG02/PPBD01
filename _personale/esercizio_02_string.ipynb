{
 "cells": [
  {
   "attachments": {},
   "cell_type": "markdown",
   "metadata": {},
   "source": [
    "# Esercizio - La ricetta della nonna\n",
    "\n",
    "Requisiti: stringhe, liste, if, for, import, \n",
    "\n",
    "La nonna ci ha dato la sua miracolosa ricetta della pasta olive acciughe \n",
    "e capperi.\n",
    "\n",
    "<u>Variante 1:</u> Dobbiamo andare a comprare tutti gli ingredienti che appaiono nella lista più di una volta.\n",
    "\n",
    "<u>Variante 2:</u> Dobbiamo andare a comprare gli ingredienti e dobbiamo capire quanti \"**cappero**\", \"**oliva**\" e \"**pepe**\" comprare. Di pasta e altri ingredienti ne abbiamo già in quantità, quindi non ci interessano.\n",
    "\n",
    "- **ATTENZIONE:** la nonna ha la sua età ed è sempre stata pasticciona e quindi la ricetta è scritta in modo non consistente, e le parole vanno *normalizzate*    \n",
    "- **SUGGERIMENTO**: c'è un comodo metodo delle stringhe per separare le parole...\n",
    "  \n",
    "Esempio - dati:\n",
    "\n",
    "```python\n",
    "ricetta = \"oliva\\t, pepe,cappero ,\\n detersivo,\\t \\n cappero, peperone, acciuga ,oliva , pepe\\t,\\t cappero , \\noliva,pasta\\n\"\n",
    "```\n",
    "\n",
    "stampa:\n",
    "\n",
    "```\n",
    "  Servono:\n",
    "     3 oliva\n",
    "     2 pepe\n",
    "     3 cappero\n",
    "``` "
   ]
  },
  {
   "cell_type": "code",
   "execution_count": 9,
   "metadata": {},
   "outputs": [
    {
     "name": "stdout",
     "output_type": "stream",
     "text": [
      "Servono\n",
      "\t 3 oliva\n",
      "\t 2 pepe\n",
      "\t 3 cappero\n"
     ]
    }
   ],
   "source": [
    "ricetta_orig = \"oliva\\t, pepe,cappero ,\\n detersivo,\\t \\n cappero, peperone, acciuga ,oliva , pepe\\t,\\t cappero , \\noliva,pasta\\n\"\n",
    "# ricetta = \"oliva\\t, pepe,cappero ,\\n dete\\nrsivo,\\t \\n cappero, peperone, acciuga ,oliva , pepe\\t,\\t cappero , \\noliva,pasta\\n\"\n",
    "# ricetta = \"cappone , pepe,\\noliva\\n,\\n\\tpepe, acciuga \"   #  1 oliva 2 pepe 0 cappero\n",
    "\n",
    "# scrivi qui\n",
    "\n",
    "nuova_ricetta = (ricetta_orig.translate(str.maketrans(\"\\n\\t\\r\", \"   \",)))  \n",
    "nuova_ricetta = nuova_ricetta.replace(' ', '')\n",
    "# print(nuova_ricetta.split(',')) per andare a capo dopo ogni singolo ingrediente\n",
    "\n",
    "from collections import Counter\n",
    "import re\n",
    "counts =  Counter(re.findall('\\w+', nuova_ricetta))\n",
    "counts = dict(counts)\n",
    "# print(counts)\n",
    "\n",
    "print('Servono')\n",
    "for key in counts:\n",
    "    if counts[key] > 1:\n",
    "       print('\\t', counts[key],key)    \n",
    "\n",
    "\n",
    "# print(counts.most_common(3))\n",
    "# sorted(counts.items, key = lambda counts: counts[1])\n",
    "\n",
    "# counts = dict(counts)\n",
    "# counts = Counter(nuova_ricetta).most_common()[-1]\n",
    "# print(counts)\n",
    "\n",
    "# ricetta_pulita = ricetta_orig.replace('\\n',' ').replace('\\t',' ').replace('',' ')\n",
    "# ricetta_pulita = ricetta_orig.replace('\\n',' ')\n",
    "# ricetta_pulita = ricetta_pulita.replace('\\t',' ')\n",
    "# ricetta_pulita = ricetta_pulita.replace(' ','')\n",
    "# ricetta_list = ricetta_pulita.split(',')\n",
    "\n",
    "# report_spesa = dict oppure uso le graffe\n",
    "# for ingrediente in ricetta list:\n",
    "# if ingrediente in report_spesa\n",
    "# report_spesa [ingrediente] += 1\n",
    "# else:\n",
    "# eport_spesa [ingrediente] = 1\n",
    "\n",
    "# print('Servono')\n",
    "# for key in counts:\n",
    "#     if counts[key] > 1:\n",
    "#        print('\\t', counts[key],key) "
   ]
  }
 ],
 "metadata": {
  "kernelspec": {
   "display_name": "Python 3",
   "language": "python",
   "name": "python3"
  },
  "language_info": {
   "codemirror_mode": {
    "name": "ipython",
    "version": 3
   },
   "file_extension": ".py",
   "mimetype": "text/x-python",
   "name": "python",
   "nbconvert_exporter": "python",
   "pygments_lexer": "ipython3",
   "version": "3.11.3"
  },
  "orig_nbformat": 4
 },
 "nbformat": 4,
 "nbformat_minor": 2
}
