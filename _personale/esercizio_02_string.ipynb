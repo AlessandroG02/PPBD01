{
 "cells": [
  {
   "attachments": {},
   "cell_type": "markdown",
   "metadata": {},
   "source": [
    "# Esercizio - La ricetta della nonna\n",
    "\n",
    "Requisiti: stringhe, liste, if, for, import,\n",
    "\n",
    "La nonna ci ha dato la sua miracolosa ricetta della pasta olive acciughe e capperi.\n",
    "\n",
    "<u>Variante 1:</u> Dobbiamo andare a comprare tutti gli ingredienti che appaiono nella lista più di una volta.\n",
    "\n",
    "<u>Variante 2:</u> Dobbiamo andare a comprare gli ingredienti e dobbiamo capire quanti \"**cappero**\", \"**oliva**\" e \"**pepe**\" comprare. Di pasta e altri ingredienti ne abbiamo già in quantità, quindi non ci interessano.\n",
    "\n",
    "- **ATTENZIONE:** la nonna ha la sua età ed è sempre stata pasticciona e quindi la ricetta è scritta in modo non consistente, e le parole vanno _normalizzate_\n",
    "- **SUGGERIMENTO**: c'è un comodo metodo delle stringhe per separare le parole...\n",
    "\n",
    "Esempio - dati:\n",
    "\n",
    "```python\n",
    "ricetta = \"oliva\\t, pepe,cappero ,\\n detersivo,\\t \\n cappero, peperone, acciuga ,oliva , pepe\\t,\\t cappero , \\noliva,pasta\\n\"\n",
    "```\n",
    "\n",
    "stampa:\n",
    "\n",
    "```\n",
    "  Servono:\n",
    "     3 oliva\n",
    "     2 pepe\n",
    "     3 cappero\n",
    "```\n"
   ]
  },
  {
   "cell_type": "code",
   "execution_count": 9,
   "metadata": {},
   "outputs": [
    {
     "name": "stdout",
     "output_type": "stream",
     "text": [
      "Servono:\n",
      "3 oliva\n",
      "2 pepe\n",
      "4 cappero\n"
     ]
    }
   ],
   "source": [
    "ricetta_orig = \"oliva\\t, pepe,cappero ,\\n detersivo,\\t \\n cappero, peperone, acciuga ,oliva , pepe\\t,\\t cappero , \\noliva,pasta\\n, cappero\"\n",
    "\n",
    "# ricetta = \"oliva\\t, pepe,cappero ,\\n dete\\nrsivo,\\t \\n cappero, peperone, acciuga ,oliva , pepe\\t,\\t cappero , \\noliva,pasta\\n\"\n",
    "# ricetta = \"cappone , pepe,\\noliva\\n,\\n\\tpepe, acciuga \"   #  1 oliva 2 pepe 0 cappero\n",
    "\n",
    "# def showList(recipe):\n",
    "#     rawList = recipe.split(',')\n",
    "#     ingrList = []\n",
    "#     fullRecipe = {}\n",
    "#     for elem in rawList: \n",
    "#         ingrList.append(elem.strip())    \n",
    "#     for ingr in ingrList:\n",
    "#         if ingr in fullRecipe:\n",
    "#             fullRecipe[ingr] += 1\n",
    "#         else:\n",
    "#             fullRecipe[ingr] = 1\n",
    "#     print('Servono:')\n",
    "#     for key in fullRecipe:\n",
    "#         if fullRecipe[key] > 1:\n",
    "#             print(fullRecipe[key], key) \n",
    "\n",
    "def showList(recipe):\n",
    "    ingrList = [elem.strip() for elem in recipe.split(',')]\n",
    "    fullRecipe = {}  \n",
    "    for ingr in ingrList:\n",
    "        if ingr in fullRecipe:\n",
    "            fullRecipe[ingr] += 1\n",
    "        else:\n",
    "            fullRecipe[ingr] = 1\n",
    "    print('Servono:')\n",
    "    for key in fullRecipe:\n",
    "        if fullRecipe[key] > 1:\n",
    "            print(fullRecipe[key], key)\n",
    "\n",
    "\n",
    "showList(ricetta_orig)\n",
    "        \n",
    "\n",
    "    \n",
    "\n",
    "\n",
    "    \n",
    "    \n",
    "    \n",
    "        \n",
    "        \n",
    "\n",
    "        "
   ]
  }
 ],
 "metadata": {
  "kernelspec": {
   "display_name": "Python 3",
   "language": "python",
   "name": "python3"
  },
  "language_info": {
   "codemirror_mode": {
    "name": "ipython",
    "version": 3
   },
   "file_extension": ".py",
   "mimetype": "text/x-python",
   "name": "python",
   "nbconvert_exporter": "python",
   "pygments_lexer": "ipython3",
   "version": "3.11.3"
  },
  "orig_nbformat": 4
 },
 "nbformat": 4,
 "nbformat_minor": 2
}
