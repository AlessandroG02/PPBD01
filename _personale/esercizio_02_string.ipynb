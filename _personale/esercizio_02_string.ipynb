{
 "cells": [
  {
   "attachments": {},
   "cell_type": "markdown",
   "metadata": {},
   "source": [
    "# Esercizio - La ricetta della nonna\n",
    "\n",
    "Requisiti: stringhe, liste, if, for, import, \n",
    "\n",
    "La nonna ci ha dato la sua miracolosa ricetta della pasta olive acciughe \n",
    "e capperi.\n",
    "\n",
    "<u>Variante 1:</u> Dobbiamo andare a comprare tutti gli ingredienti che appaiono nella lista più di una volta.\n",
    "\n",
    "<u>Variante 2:</u> Dobbiamo andare a comprare gli ingredienti e dobbiamo capire quanti \"**cappero**\", \"**oliva**\" e \"**pepe**\" comprare. Di pasta e altri ingredienti ne abbiamo già in quantità, quindi non ci interessano.\n",
    "\n",
    "- **ATTENZIONE:** la nonna ha la sua età ed è sempre stata pasticciona e quindi la ricetta è scritta in modo non consistente, e le parole vanno *normalizzate*    \n",
    "- **SUGGERIMENTO**: c'è un comodo metodo delle stringhe per separare le parole...\n",
    "  \n",
    "Esempio - dati:\n",
    "\n",
    "```python\n",
    "ricetta = \"oliva\\t, pepe,cappero ,\\n detersivo,\\t \\n cappero, peperone, acciuga ,oliva , pepe\\t,\\t cappero , \\noliva,pasta\\n\"\n",
    "```\n",
    "\n",
    "stampa:\n",
    "\n",
    "```\n",
    "  Servono:\n",
    "     3 oliva\n",
    "     2 pepe\n",
    "     3 cappero\n",
    "``` "
   ]
  },
  {
   "cell_type": "code",
   "execution_count": 1,
   "metadata": {},
   "outputs": [],
   "source": [
    "ricetta_orig = \"oliva\\t, pepe,cappero ,\\n detersivo,\\t \\n cappero, peperone, acciuga ,oliva , pepe\\t,\\t cappero , \\noliva,pasta\\n\"\n",
    "# ricetta = \"oliva\\t, pepe,cappero ,\\n dete\\nrsivo,\\t \\n cappero, peperone, acciuga ,oliva , pepe\\t,\\t cappero , \\noliva,pasta\\n\"\n",
    "# ricetta = \"cappone , pepe,\\noliva\\n,\\n\\tpepe, acciuga \"   #  1 oliva 2 pepe 0 cappero\n",
    "\n",
    "# scrivi qui\n"
   ]
  },
  {
   "cell_type": "code",
   "execution_count": 4,
   "metadata": {},
   "outputs": [
    {
     "name": "stdout",
     "output_type": "stream",
     "text": [
      "oliva\n",
      "pepe\n",
      "cappero\n",
      "detersivo\n",
      "peperone\n",
      "acciuga\n",
      "pasta\n"
     ]
    }
   ],
   "source": [
    "ricetta_orig = \"oliva\\t, pepe,cappero ,\\n detersivo,\\t \\n cappero, peperone, acciuga ,oliva , pepe\\t,\\t cappero , \\noliva,pasta\\n\"\n",
    "# ricetta = \"oliva\\t, pepe,cappero ,\\n dete\\nrsivo,\\t \\n cappero, peperone, acciuga ,oliva , pepe\\t,\\t cappero , \\noliva,pasta\\n\"\n",
    "# ricetta = \"cappone , pepe,\\noliva\\n,\\n\\tpepe, acciuga \"   #  1 oliva 2 pepe 0 cappero\n",
    "\n",
    "# scrivi qui\n",
    "\n",
    "ricetta_pulita=ricetta_orig.replace('\\n','')\n",
    "ricetta_pulita=ricetta_pulita.replace('\\t','')\n",
    "\n",
    "ricetta_pulita=ricetta_pulita.replace(' ','')\n",
    "\n",
    "\n",
    "ricetta_lista=ricetta_pulita.split(',')\n",
    "\n",
    "report_spesa={}\n",
    "\n",
    "for ingredienti in ricetta_lista:\n",
    "    if ingredienti in report_spesa: report_spesa[ingredienti] += 1\n",
    "    else:  report_spesa[ingredienti]= 1\n",
    "#print(report_spesa)\n",
    "for elem in report_spesa:\n",
    "    print(elem)"
   ]
  },
  {
   "cell_type": "code",
   "execution_count": 9,
   "metadata": {},
   "outputs": [
    {
     "data": {
      "text/plain": [
       "{'oliva': 3,\n",
       " 'pepe': 2,\n",
       " 'cappero': 3,\n",
       " 'detersivo': 1,\n",
       " 'peperone': 1,\n",
       " 'acciuga': 1,\n",
       " 'pasta': 1}"
      ]
     },
     "execution_count": 9,
     "metadata": {},
     "output_type": "execute_result"
    }
   ],
   "source": [
    "ricetta_orig = \"oliva\\t, pepe,cappero ,\\n detersivo,\\t \\n cappero, peperone, acciuga ,oliva , pepe\\t,\\t cappero , \\noliva,pasta\\n\"\n",
    "# ricetta = \"oliva\\t, pepe,cappero ,\\n dete\\nrsivo,\\t \\n cappero, peperone, acciuga ,oliva , pepe\\t,\\t cappero , \\noliva,pasta\\n\"\n",
    "# ricetta = \"cappone , pepe,\\noliva\\n,\\n\\tpepe, acciuga \"   #  1 oliva 2 pepe 0 cappero\n",
    "\n",
    "# scrivi qui\n",
    "\n",
    "ricetta_pulita=ricetta_orig.replace('\\n','')\n",
    "ricetta_pulita=ricetta_pulita.replace('\\t','')\n",
    "\n",
    "ricetta_pulita=ricetta_pulita.replace(' ','')\n",
    "\n",
    "\n",
    "ricetta_lista=ricetta_pulita.split(',')\n",
    "\n",
    "report_spesa={}\n",
    "\n",
    "for      ingredienti in ricetta_lista:        #per ogni ingrediente se \n",
    "    if   ingredienti in report_spesa:         # se l'ingrediente in dizionario \n",
    "           report_spesa[ingredienti] += 1     # aumenti il contatore\n",
    "                                              \n",
    "    \n",
    "    else:  report_spesa[ingredienti]  = 1     # se l'ingrediente NON E? in dizionario\n",
    "\n",
    "\n",
    "report_spesa\n"
   ]
  },
  {
   "cell_type": "code",
   "execution_count": 58,
   "metadata": {},
   "outputs": [
    {
     "name": "stdout",
     "output_type": "stream",
     "text": [
      "Servono:\n",
      "\t  3 oliva\n",
      "\t  2 pepe\n",
      "\t  3 cappero\n"
     ]
    }
   ],
   "source": [
    "ricetta_orig = \"oliva\\t, pepe,cappero ,\\n detersivo,\\t \\n cappero, peperone, acciuga ,oliva , pepe\\t,\\t cappero , \\noliva,pasta\\n\"\n",
    "# ricetta = \"oliva\\t, pepe,cappero ,\\n dete\\nrsivo,\\t \\n cappero, peperone, acciuga ,oliva , pepe\\t,\\t cappero , \\noliva,pasta\\n\"\n",
    "# ricetta = \"cappone , pepe,\\noliva\\n,\\n\\tpepe, acciuga \"   #  1 oliva 2 pepe 0 cappero\n",
    "\n",
    "# scrivi qui\n",
    "\n",
    "ricetta_pulita=ricetta_orig.replace('\\n','')\n",
    "ricetta_pulita=ricetta_pulita.replace('\\t','')\n",
    "\n",
    "ricetta_pulita=ricetta_pulita.replace(' ','')\n",
    "\n",
    "\n",
    "ricetta_lista=ricetta_pulita.split(',')\n",
    "\n",
    "report_spesa={}\n",
    "\n",
    "for      ingredienti in ricetta_lista:        #per ogni ingrediente se \n",
    "    if   ingredienti in report_spesa:         # se l'ingrediente in dizionario \n",
    "           report_spesa[ingredienti] += 1     # aumenti il contatore\n",
    "                                              \n",
    "    \n",
    "    else:  report_spesa[ingredienti]  = 1     # se l'ingrediente NON E? in dizionario\n",
    "\n",
    "print ('Servono:')\n",
    "for  key in report_spesa : \n",
    "    if report_spesa [key] >1 : \n",
    "        print('\\t ', report_spesa[key], key)\n"
   ]
  }
 ],
 "metadata": {
  "kernelspec": {
   "display_name": "Python 3",
   "language": "python",
   "name": "python3"
  },
  "language_info": {
   "codemirror_mode": {
    "name": "ipython",
    "version": 3
   },
   "file_extension": ".py",
   "mimetype": "text/x-python",
   "name": "python",
   "nbconvert_exporter": "python",
   "pygments_lexer": "ipython3",
   "version": "3.10.0"
  },
  "orig_nbformat": 4
 },
 "nbformat": 4,
 "nbformat_minor": 2
}
