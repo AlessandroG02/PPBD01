{
 "cells": [
  {
   "cell_type": "code",
   "execution_count": 7,
   "metadata": {},
   "outputs": [
    {
     "name": "stdout",
     "output_type": "stream",
     "text": [
      "Servono\n"
     ]
    }
   ],
   "source": [
    "ricetta_orig = \"oliva\\t, pepe,cappero ,\\n detersivo,\\t \\n cappero, peperone, acciuga ,oliva , pepe\\t,\\t cappero , \\noliva,pasta\\n\"\n",
    "# ricetta = \"oliva\\t, pepe,cappero ,\\n dete\\nrsivo,\\t \\n cappero, peperone, acciuga ,oliva , pepe\\t,\\t cappero , \\noliva,pasta\\n\"\n",
    "# ricetta = \"cappone , pepe,\\noliva\\n,\\n\\tpepe, acciuga \"   #  1 oliva 2 pepe 0 cappero\n",
    "\n",
    "ricetta_pulita = ricetta_orig.replace('\\n', '').replace('\\t', '').replace(' ', '')#Para quitar los imperfectos\n",
    "ricetta_list = ricetta_pulita.split(',') #Para separar los elementos\n",
    "\n",
    "report_spesa = dict()\n",
    "\n",
    "for ingrediente in ricetta_list: # per ogni ingrediente \n",
    "    if ingrediente in report_spesa: # Se l'ingrediente E' in dizionario\n",
    "        report_spesa[ingrediente] += 1 #aumenti contatore \n",
    "    else: # Se l'ingrediente NON E' in dizionario   \n",
    "        report_spesa[ingrediente] = 1 \n",
    "\n",
    "print('Servono')\n",
    "for key in report_spesa:\n",
    "    if report_spesa[key] > 1:\n",
    "        print('\\t', report_spesa[key], key)     "
   ]
  }
 ],
 "metadata": {
  "kernelspec": {
   "display_name": "Python 3",
   "language": "python",
   "name": "python3"
  },
  "language_info": {
   "codemirror_mode": {
    "name": "ipython",
    "version": 3
   },
   "file_extension": ".py",
   "mimetype": "text/x-python",
   "name": "python",
   "nbconvert_exporter": "python",
   "pygments_lexer": "ipython3",
   "version": "3.10.0"
  },
  "orig_nbformat": 4
 },
 "nbformat": 4,
 "nbformat_minor": 2
}
