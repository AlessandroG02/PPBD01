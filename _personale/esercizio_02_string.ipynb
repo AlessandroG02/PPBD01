{
 "cells": [
  {
   "attachments": {},
   "cell_type": "markdown",
   "metadata": {},
   "source": [
    "# Esercizio - La ricetta della nonna\n",
    "\n",
    "Requisiti: stringhe, liste, if, for, import, \n",
    "\n",
    "La nonna ci ha dato la sua miracolosa ricetta della pasta olive acciughe \n",
    "e capperi.\n",
    "\n",
    "<u>Variante 1:</u> Dobbiamo andare a comprare tutti gli ingredienti che appaiono nella lista più di una volta.\n",
    "\n",
    "<u>Variante 2:</u> Dobbiamo andare a comprare gli ingredienti e dobbiamo capire quanti \"**cappero**\", \"**oliva**\" e \"**pepe**\" comprare. Di pasta e altri ingredienti ne abbiamo già in quantità, quindi non ci interessano.\n",
    "\n",
    "- **ATTENZIONE:** la nonna ha la sua età ed è sempre stata pasticciona e quindi la ricetta è scritta in modo non consistente, e le parole vanno *normalizzate*    \n",
    "- **SUGGERIMENTO**: c'è un comodo metodo delle stringhe per separare le parole...\n",
    "  \n",
    "Esempio - dati:\n",
    "\n",
    "```python\n",
    "ricetta = \"oliva\\t, pepe,cappero ,\\n detersivo,\\t \\n cappero, peperone, acciuga ,oliva , pepe\\t,\\t cappero , \\noliva,pasta\\n\"\n",
    "```\n",
    "\n",
    "stampa:\n",
    "\n",
    "```\n",
    "  Servono:\n",
    "     3 oliva\n",
    "     2 pepe\n",
    "     3 cappero\n",
    "``` "
   ]
  },
  {
   "cell_type": "code",
   "execution_count": null,
   "metadata": {},
   "outputs": [],
   "source": [
    "test = ' pepe,cappero ,\\n detersivo,\\t \\n cappero, peperone'\n",
    "# ricetta = \"oliva\\t, pepe,cappero ,\\n dete\\nrsivo,\\t \\n cappero, peperone, acciuga ,oliva , pepe\\t,\\t cappero , \\noliva,pasta\\n\"\n",
    "# ricetta = \"cappone , pepe,\\noliva\\n,\\n\\tpepe, acciuga \"   #  1 oliva 2 pepe 0 cappero\n",
    "\n",
    "# scrivi qui\n",
    "print(test)\n",
    "print(repr(test))"
   ]
  },
  {
   "cell_type": "code",
   "execution_count": 9,
   "metadata": {},
   "outputs": [
    {
     "name": "stdout",
     "output_type": "stream",
     "text": [
      "Servono:\n",
      "\t 2 oliva\n",
      "\t 10 ,\n",
      "\t 2 pepe,cappero\n",
      "\t 2 deersivo,\n",
      "\t 2 cappero,\n",
      "\t 2 peperone,\n",
      "\t 2 acciuga\n",
      "\t 2 ,oliva\n",
      "\t 2 pepe\n",
      "\t 2 cappero\n",
      "\t 2 oliva,pasa\n"
     ]
    }
   ],
   "source": [
    "ricetta_orig = \"oliva\\t, pepe,cappero ,\\n detersivo,\\t \\n cappero, peperone, acciuga ,oliva , pepe\\t,\\t cappero , \\noliva,pasta\\n\"\n",
    "# ricetta_orig = \"oliva\\t, pepe,cappero ,\\n dete\\nrsivo,\\t \\n cappero, peperone, acciuga ,oliva , pepe\\t,\\t cappero , \\noliva,pasta\\n\"\n",
    "# ricetta_orig = \"cappone , pepe,\\noliva\\n,\\n\\tpepe, acciuga \"   #  1 oliva 2 pepe 0 cappero\n",
    "\n",
    "ricetta_pulita = ricetta_orig.replace('\\n', '').replace('t', '').replace('', '')\n",
    "ricetta_list = ricetta_pulita.split()\n",
    "ricetta_pulita.split(',')\n",
    "\n",
    "report_spesa= {}\n",
    "\n",
    "for ingrediente in ricetta_list: # per ogni ingrediente in lista\n",
    "    if ingrediente in report_spesa: # se l'ingrediente e in dizionario\n",
    "        report_spesa[ingrediente] += 1 # aumenti il contatore\n",
    "\n",
    "    else: # se l'ingrediente NON E in dizionario\n",
    "            report_spesa[ingrediente] = 1\n",
    "    if ingrediente in report_spesa:\n",
    "          report_spesa[ingrediente] += 1\n",
    "    else:\n",
    "          report_spesa[ingrediente] = 1\n",
    "print('Servono:' )  \n",
    "\n",
    "for key in report_spesa:\n",
    "     if report_spesa[key] > 1:\n",
    "          print('\\t', report_spesa[key], key)\n",
    "\n",
    "        \n"
   ]
  },
  {
   "cell_type": "code",
   "execution_count": 8,
   "metadata": {},
   "outputs": [
    {
     "name": "stdout",
     "output_type": "stream",
     "text": [
      "{'oliva\\t': 1, ' pepe': 1, 'cappero ': 1, '\\n detersivo': 1, '\\t \\n cappero': 1, ' peperone': 1, ' acciuga ': 1, 'oliva ': 1, ' pepe\\t': 1, '\\t cappero ': 1, ' \\noliva': 1, 'pasta\\n': 1}\n",
      "Servono:\n"
     ]
    }
   ],
   "source": [
    "ricetta_orig = \"oliva\\t, pepe,cappero ,\\n detersivo,\\t \\n cappero, peperone, acciuga ,oliva , pepe\\t,\\t cappero , \\noliva,pasta\\n\"\n",
    "# ricetta_orig = \"oliva\\t, pepe,cappero ,\\n dete\\nrsivo,\\t \\n cappero, peperone, acciuga ,oliva , pepe\\t,\\t cappero , \\noliva,pasta\\n\"\n",
    "# ricetta_orig = \"cappone , pepe,\\noliva\\n,\\n\\tpepe, acciuga \"   #  1 oliva 2 pepe 0 cappero\n",
    "\n",
    "\n",
    "\n",
    "ricetta_dict= {}\n",
    "\n",
    "ricetta_origin_list = ricetta_orig.split(',')\n",
    "\n",
    "for ingrediente in ricetta_origin_list:\n",
    "    \n",
    "    if ingrediente in ricetta_dict:\n",
    "        ricetta_dict[ingrediente] += 1\n",
    "    else:\n",
    "        ricetta_dict[ingrediente] = 1\n",
    "\n",
    "print(ricetta_dict)\n",
    "print('Servono:' )  \n",
    "\n",
    "for key in ricetta_dict:\n",
    "     if ricetta_dict[key] > 1:\n",
    "        print('\\t', ricetta_dict[key],key)\n",
    "       \n",
    "\n",
    "  #  else:\n",
    "   #         report_spesa[ingrediente] = 1\n",
    "\n",
    "#print(report_spesa)\n",
    "#print('Servono:' )  \n",
    "\n",
    "#for key in report_spesa:\n",
    " #    if report_spesa[key] > 1:\n",
    "  #        print('\\t', report_spesa[key], key)"
   ]
  },
  {
   "cell_type": "code",
   "execution_count": 7,
   "metadata": {},
   "outputs": [
    {
     "name": "stdout",
     "output_type": "stream",
     "text": [
      "Servono:\n",
      "\t 5 oliva\n",
      "\t 25 ,\n",
      "\t 5 pepe,cappero\n",
      "\t 5 deersivo,\n",
      "\t 5 cappero,\n",
      "\t 5 peperone,\n",
      "\t 5 acciuga\n",
      "\t 5 ,oliva\n",
      "\t 5 pepe\n",
      "\t 5 cappero\n",
      "\t 5 oliva,pasa\n"
     ]
    }
   ],
   "source": [
    "ricetta_orig = \"oliva\\t, pepe,cappero ,\\n detersivo,\\t \\n cappero, peperone, acciuga ,oliva , pepe\\t,\\t cappero , \\noliva,pasta\\n\"\n",
    "# ricetta_orig = \"oliva\\t, pepe,cappero ,\\n dete\\nrsivo,\\t \\n cappero, peperone, acciuga ,oliva , pepe\\t,\\t cappero , \\noliva,pasta\\n\"\n",
    "# ricetta_orig = \"cappone , pepe,\\noliva\\n,\\n\\tpepe, acciuga \"   #  1 oliva 2 pepe 0 cappero\n",
    "\n",
    "ricetta_pulita = ricetta_orig.replace('\\n', '').replace('t', '').replace('', '')\n",
    "ricetta_list = ricetta_pulita.split()\n",
    "ricetta_pulita.split(',')\n",
    "\n",
    "ricetta_dict = {}\n",
    "\n",
    "for ingrediente in ricetta_list:\n",
    "    if ingrediente in report_spesa:\n",
    "        report_spesa[ingrediente] += 1\n",
    "\n",
    "    else:\n",
    "            report_spesa[ingrediente] = 1\n",
    "\n",
    "#print(report_spesa)\n",
    "print('Servono:' )  \n",
    "\n",
    "for key in report_spesa:\n",
    "     if report_spesa[key] > 1:\n",
    "          print('\\t', report_spesa[key], key)"
   ]
  }
 ],
 "metadata": {
  "kernelspec": {
   "display_name": "Python 3",
   "language": "python",
   "name": "python3"
  },
  "language_info": {
   "codemirror_mode": {
    "name": "ipython",
    "version": 3
   },
   "file_extension": ".py",
   "mimetype": "text/x-python",
   "name": "python",
   "nbconvert_exporter": "python",
   "pygments_lexer": "ipython3",
   "version": "3.10.0"
  },
  "orig_nbformat": 4
 },
 "nbformat": 4,
 "nbformat_minor": 2
}
