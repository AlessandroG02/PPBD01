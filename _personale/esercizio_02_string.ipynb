{
 "cells": [
  {
   "attachments": {},
   "cell_type": "markdown",
   "metadata": {},
   "source": []
  },
  {
   "cell_type": "code",
   "execution_count": 1,
   "metadata": {},
   "outputs": [
    {
     "name": "stdout",
     "output_type": "stream",
     "text": [
      "Servono:\n",
      "\t 3 oliva\n",
      "\t 2 pepe\n",
      "\t 3 cappero\n"
     ]
    }
   ],
   "source": [
    "#esercizio finito\n",
    "ricetta_orig = \"oliva\\t, pepe,cappero ,\\n detersivo,\\t \\n cappero, peperone, acciuga ,oliva , pepe\\t,\\t cappero , \\noliva,pasta\\n\"\n",
    "ricetta_pulita= ricetta_orig.replace('\\t','').replace('\\n','').replace(' ','')\n",
    "ricetta_list=ricetta_pulita.split(',')\n",
    "report_spesa = {}\n",
    "for Ingrediente in ricetta_list:\n",
    "    if Ingrediente in report_spesa:\n",
    "        report_spesa[Ingrediente] += 1\n",
    "    \n",
    "    else: \n",
    "        report_spesa[Ingrediente] = 1\n",
    "\n",
    "print('Servono:')\n",
    "for key in report_spesa:\n",
    "    if report_spesa[key] > 1:\n",
    "        print('\\t', report_spesa[key], key)\n"
   ]
  },
  {
   "cell_type": "code",
   "execution_count": 5,
   "metadata": {},
   "outputs": [
    {
     "name": "stdout",
     "output_type": "stream",
     "text": [
      "oliva,pepe,cappero,detersivo,cappero,peperone,acciuga,oliva,pepe,cappero,oliva,pasta\n"
     ]
    }
   ],
   "source": [
    "ricetta_orig = \"oliva\\t, pepe,cappero ,\\n detersivo,\\t \\n cappero, peperone, acciuga ,oliva , pepe\\t,\\t cappero , \\noliva,pasta\\n\"\n",
    "# ricetta = \"oliva\\t, pepe,cappero ,\\n dete\\nrsivo,\\t \\n cappero, peperone, acciuga ,oliva , pepe\\t,\\t cappero , \\noliva,pasta\\n\"\n",
    "# ricetta = \"cappone , pepe,\\noliva\\n,\\n\\tpepe, acciuga \"   #  1 oliva 2 pepe 0 cappero\n",
    "#possiamo fare anche ricetta_pulita= ricetta_orig.replace('\\t','').replace('\\n','').replace(' ','')\n",
    "# str.replace(str, str) ho utilizzato un replace\n",
    "ricetta_pulita= ricetta_orig.replace('\\t','')\n",
    "ricetta_pulita= ricetta_pulita.replace('\\n','')\n",
    "ricetta_pulita= ricetta_pulita.replace(' ','')\n",
    "print(ricetta_pulita)\n"
   ]
  },
  {
   "cell_type": "code",
   "execution_count": 6,
   "metadata": {},
   "outputs": [
    {
     "data": {
      "text/plain": [
       "['oliva',\n",
       " 'pepe',\n",
       " 'cappero',\n",
       " 'detersivo',\n",
       " 'cappero',\n",
       " 'peperone',\n",
       " 'acciuga',\n",
       " 'oliva',\n",
       " 'pepe',\n",
       " 'cappero',\n",
       " 'oliva',\n",
       " 'pasta']"
      ]
     },
     "execution_count": 6,
     "metadata": {},
     "output_type": "execute_result"
    }
   ],
   "source": [
    "#utilizzo uno split `str.split(str)`\n",
    "\n",
    "ricetta_list=ricetta_pulita.split(',')\n",
    "ricetta_list"
   ]
  },
  {
   "cell_type": "code",
   "execution_count": 21,
   "metadata": {},
   "outputs": [],
   "source": [
    "#dizionario\n",
    "report_spesa = {}"
   ]
  },
  {
   "cell_type": "code",
   "execution_count": 22,
   "metadata": {},
   "outputs": [
    {
     "data": {
      "text/plain": [
       "{'oliva': 3,\n",
       " 'pepe': 2,\n",
       " 'cappero': 3,\n",
       " 'detersivo': 1,\n",
       " 'peperone': 1,\n",
       " 'acciuga': 1,\n",
       " 'pasta': 1}"
      ]
     },
     "execution_count": 22,
     "metadata": {},
     "output_type": "execute_result"
    }
   ],
   "source": [
    "#utilizzo un ciclo for\n",
    "for Ingrediente in ricetta_list:\n",
    "    if Ingrediente in report_spesa:\n",
    "        report_spesa[Ingrediente] += 1\n",
    "    \n",
    "    else: \n",
    "        report_spesa[Ingrediente] = 1\n",
    "\n",
    "report_spesa"
   ]
  },
  {
   "cell_type": "code",
   "execution_count": 26,
   "metadata": {},
   "outputs": [
    {
     "name": "stdout",
     "output_type": "stream",
     "text": [
      "Servono:\n",
      "\t 3 oliva\n",
      "\t 2 pepe\n",
      "\t 3 cappero\n"
     ]
    }
   ],
   "source": [
    "#ora printo visivamente il tutto\n",
    "print('Servono:')\n",
    "for key in report_spesa:\n",
    "    if report_spesa[key] > 1:\n",
    "        print('\\t', report_spesa[key], key)\n"
   ]
  }
 ],
 "metadata": {
  "kernelspec": {
   "display_name": "Python 3",
   "language": "python",
   "name": "python3"
  },
  "language_info": {
   "codemirror_mode": {
    "name": "ipython",
    "version": 3
   },
   "file_extension": ".py",
   "mimetype": "text/x-python",
   "name": "python",
   "nbconvert_exporter": "python",
   "pygments_lexer": "ipython3",
   "version": "3.10.0"
  },
  "orig_nbformat": 4
 },
 "nbformat": 4,
 "nbformat_minor": 2
}
