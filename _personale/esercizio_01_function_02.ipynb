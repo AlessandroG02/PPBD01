{
 "cells": [
  {
   "attachments": {},
   "cell_type": "markdown",
   "metadata": {},
   "source": [
    "### Esercizio - Convertitori di grandezze\n",
    "\n",
    "Convertire la temperatura da Fahrenheit a Celsius nella funzione sottostante. È possibile utilizzare questa formula:\n",
    "\n",
    "$$ C° = (F° - 32)  \\times  \\frac{5}{9} $$\n",
    "\n",
    "Arrotondare il risultato restituito a 3 cifre decimali.\n",
    "\n",
    "Non è necessario gestire l'input, basta implementare la funzione sottostante.\n",
    "\n",
    "Inoltre, assicurarsi che la funzione restituisca il valore. NON stampare nulla."
   ]
  },
  {
   "cell_type": "code",
   "execution_count": 27,
   "metadata": {},
   "outputs": [
    {
     "name": "stdout",
     "output_type": "stream",
     "text": [
      "37.78\n"
     ]
    }
   ],
   "source": [
    "f = 100\n",
    "a = (f - 32)\n",
    "c = a * (5/9)\n",
    "print(round(c, 2))\n",
    "\n"
   ]
  },
  {
   "cell_type": "code",
   "execution_count": 31,
   "metadata": {},
   "outputs": [
    {
     "name": "stdout",
     "output_type": "stream",
     "text": [
      "37.778\n",
      "37.778\n"
     ]
    }
   ],
   "source": [
    "def fahrenheit_to_celsius(f):\n",
    "    f = 100\n",
    "    a = (f - 32)\n",
    "    c = a * (5/9)\n",
    "    return c\n",
    "    \n",
    "    \n",
    "    \n",
    "print(round(c, 3))\n",
    "\n",
    "risultato = ((round(c, 3)))\n",
    "\n",
    "print(risultato)"
   ]
  },
  {
   "attachments": {},
   "cell_type": "markdown",
   "metadata": {},
   "source": [
    "Passiamo al livello successivo della conversione di miglia in chilometri! Definite una funzione che accetti il numero di miglia e restituisca la distanza in chilometri.\n",
    "\n",
    "Supponiamo che un miglio sia approssimativamente uguale a 1,609 chilometri.\n",
    "\n",
    "Non è necessario gestire l'input, basta implementare la funzione."
   ]
  },
  {
   "cell_type": "code",
   "execution_count": 15,
   "metadata": {},
   "outputs": [
    {
     "name": "stdout",
     "output_type": "stream",
     "text": [
      "104.585\n"
     ]
    }
   ],
   "source": [
    "KM_PER_MILE = 1.609\n",
    "def mi_to_km(mi):\n",
    "    return mi * KM_PER_MILE\n",
    "\n",
    "   \n",
    "user_input = input('inserire numero di miglia da convertire:')   #input serve a\n",
    "result = mi_to_km(float(user_input))                             #creare un input \n",
    "print(result)                                                    #che dovrà inserire l'utente"
   ]
  },
  {
   "cell_type": "code",
   "execution_count": 16,
   "metadata": {},
   "outputs": [
    {
     "name": "stdout",
     "output_type": "stream",
     "text": [
      "Help on function mi_to_km in module __main__:\n",
      "\n",
      "mi_to_km(mi: int) -> float\n",
      "    #le tre virgolette si usano per creare\n",
      "    Converts miles to kilometers     #una spiegazione di una funzione visualizzabile\n",
      "    :param mi: number of miles       # con help(), in questo caso help(mi_to_km)\n",
      "    :type mi: int\n",
      "    :rtype: float\n",
      "\n"
     ]
    }
   ],
   "source": [
    "KM_PER_MILE = 1.609\n",
    "\n",
    "def mi_to_km(mi: int) -> float:\n",
    "    \"\"\"                              #le tre virgolette si usano per creare\n",
    "    Converts miles to kilometers     #una spiegazione di una funzione visualizzabile\n",
    "    :param mi: number of miles       # con help(), in questo caso help(mi_to_km)\n",
    "    :type mi: int\n",
    "    :rtype: float\n",
    "    \"\"\"\n",
    "    return mi * KM_PER_MILE\n",
    "\n",
    "\n",
    "help(mi_to_km)"
   ]
  }
 ],
 "metadata": {
  "kernelspec": {
   "display_name": ".venv",
   "language": "python",
   "name": "python3"
  },
  "language_info": {
   "codemirror_mode": {
    "name": "ipython",
    "version": 3
   },
   "file_extension": ".py",
   "mimetype": "text/x-python",
   "name": "python",
   "nbconvert_exporter": "python",
   "pygments_lexer": "ipython3",
   "version": "3.10.0"
  },
  "orig_nbformat": 4
 },
 "nbformat": 4,
 "nbformat_minor": 2
}
