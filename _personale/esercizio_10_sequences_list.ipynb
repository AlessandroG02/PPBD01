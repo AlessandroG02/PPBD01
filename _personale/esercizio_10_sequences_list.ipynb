{
 "cells": [
  {
   "attachments": {},
   "cell_type": "markdown",
   "metadata": {},
   "source": [
    "## Esercizio - Guardaroba\n",
    "\n",
    "Produrre una sequenza di stringhe combinando due di input.\n",
    "\n",
    "- **NON** usare `range`\n",
    "- **USA UNA** sola list comprehension\n",
    "- il tuo codice deve stare in una riga sola\n",
    "\n",
    "Esempio - data:\n",
    "\n",
    "```python\n",
    "indumenti = ['cappotti', 'giacconi', 'mantelli', 'ventine']\n",
    "capi = [9,5,7,3]\n",
    "```\n",
    "\n",
    "Il tuo codice deve produrre:\n",
    "\n",
    "```python\n",
    "['ci sono 9 cappotti', 'ci sono 5 giacconi', 'ci sono 7 mantelli',\n",
    " 'ci sono 3 ventine']\n",
    "```\n"
   ]
  },
  {
   "cell_type": "code",
   "execution_count": 1,
   "metadata": {},
   "outputs": [
    {
     "data": {
      "text/plain": [
       "{'ci sono 3 ventine',\n",
       " 'ci sono 5 giacconi',\n",
       " 'ci sono 7 mantelli',\n",
       " 'ci sono 9 cappotti'}"
      ]
     },
     "execution_count": 1,
     "metadata": {},
     "output_type": "execute_result"
    }
   ],
   "source": [
    "indumenti = ['cappotti', 'giacconi', 'mantelli', 'ventine']\n",
    "capi = [9,5,7,3]\n",
    "\n",
    "{'ci sono %s %s' % elem for elem in zip(capi, indumenti)}\n",
    "\n",
    "# scrivi qui\n"
   ]
  }
 ],
 "metadata": {
  "kernelspec": {
   "display_name": "Python 3",
   "language": "python",
   "name": "python3"
  },
  "language_info": {
   "codemirror_mode": {
    "name": "ipython",
    "version": 3
   },
   "file_extension": ".py",
   "mimetype": "text/x-python",
   "name": "python",
   "nbconvert_exporter": "python",
   "pygments_lexer": "ipython3",
   "version": "3.11.3"
  },
  "orig_nbformat": 4
 },
 "nbformat": 4,
 "nbformat_minor": 2
}
