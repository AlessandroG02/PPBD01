{
 "cells": [
  {
   "attachments": {},
   "cell_type": "markdown",
   "metadata": {},
   "source": [
    "### Esercizio - dondolo\n",
    "\n",
    "Requisiti: stringhe, dizionari, if, cicli\n",
    "\n",
    "Scrivi del codice che data una lista di parole costituite solo dalla stessa lettera, crea un dizionario `freq` che associa a ciascuna lettera il numero di occorrenze di quella lettera trovate **in tutta la lista**\n",
    "\n",
    "Esempio - data:\n",
    "\n",
    "```python\n",
    "parole = ['dddd', 'oooo', 'nnn', 'dddd', 'o', 'lllllll', 'oo']\n",
    "```\n",
    "\n",
    "\n",
    "deve risultare:\n",
    "\n",
    "```python\n",
    ">>> print(freq)\n",
    "{'d': 8, 'o': 7, 'n': 3, 'l': 7}\n",
    "```"
   ]
  },
  {
   "cell_type": "code",
   "execution_count": 6,
   "metadata": {},
   "outputs": [
    {
     "data": {
      "text/plain": [
       "{'parola: dddd, numero: 1.000000e+00',\n",
       " 'parola: dddd, numero: 7.000000e+00',\n",
       " 'parola: lllllll, numero: 1.100000e+01',\n",
       " 'parola: nnn, numero: 5.000000e+00',\n",
       " 'parola: o, numero: 9.000000e+00',\n",
       " 'parola: oo, numero: 1.300000e+01',\n",
       " 'parola: oooo, numero: 3.000000e+00'}"
      ]
     },
     "execution_count": 6,
     "metadata": {},
     "output_type": "execute_result"
    }
   ],
   "source": [
    "parole = ['dddd', 'oooo', 'nnn', 'dddd', 'o', 'lllllll', 'oo'] # {'d': 8, 'o': 7, 'n': 3, 'l': 7}\n",
    "numeri = [1, 3, 5, 7, 9, 11, 13]# parole = ['d','ii','nnn','dd','ooo','n']                     \n",
    "## {'d': 3, 'i': 2, 'n': 4, 'o': 3}\n",
    "\n",
    "{'parola: %s, numero: %e' % elem for elem in zip(parole, numeri)}\n",
    "# val = \"The percentage is 92.27\"\n",
    "# {\"%s%%\"%val}\n",
    "             \n",
    "# scrivi qui"
   ]
  }
 ],
 "metadata": {
  "kernelspec": {
   "display_name": ".venv",
   "language": "python",
   "name": "python3"
  },
  "language_info": {
   "codemirror_mode": {
    "name": "ipython",
    "version": 3
   },
   "file_extension": ".py",
   "mimetype": "text/x-python",
   "name": "python",
   "nbconvert_exporter": "python",
   "pygments_lexer": "ipython3",
   "version": "3.11.3"
  },
  "orig_nbformat": 4
 },
 "nbformat": 4,
 "nbformat_minor": 2
}
