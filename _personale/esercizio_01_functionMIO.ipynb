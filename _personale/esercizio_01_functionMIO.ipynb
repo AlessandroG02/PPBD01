{
 "cells": [
  {
   "attachments": {},
   "cell_type": "markdown",
   "metadata": {},
   "source": [
    "### Esercizio - Convertitori di grandezze\n",
    "\n",
    "Convertire la temperatura da Fahrenheit a Celsius nella funzione sottostante. È possibile utilizzare questa formula:\n",
    "\n",
    "$$ C° = (F° - 32)  \\times  \\frac{5}{9} $$\n",
    "\n",
    "Arrotondare il risultato restituito a 3 cifre decimali.\n",
    "\n",
    "Non è necessario gestire l'input, basta implementare la funzione sottostante.\n",
    "\n",
    "Inoltre, assicurarsi che la funzione restituisca il valore. NON stampare nulla."
   ]
  },
  {
   "cell_type": "code",
   "execution_count": 6,
   "metadata": {},
   "outputs": [
    {
     "name": "stdout",
     "output_type": "stream",
     "text": [
      "37.7778\n"
     ]
    },
    {
     "data": {
      "text/plain": [
       "37.778"
      ]
     },
     "execution_count": 6,
     "metadata": {},
     "output_type": "execute_result"
    }
   ],
   "source": [
    "\n",
    "def far_to_celsius(f):\n",
    "    a=round((f-32)*(5/9),4)\n",
    "    print(a)\n",
    "far_to_celsius(100)\n",
    "\n",
    "def far_cel(g):\n",
    "    return round((g-32)*(5/9),3)\n",
    "far_cel(100)\n",
    "\n"
   ]
  },
  {
   "attachments": {},
   "cell_type": "markdown",
   "metadata": {},
   "source": [
    "Passiamo al livello successivo della conversione di miglia in chilometri! Definite una funzione che accetti il numero di miglia e restituisca la distanza in chilometri.\n",
    "\n",
    "Supponiamo che un miglio sia approssimativamente uguale a 1,609 chilometri.\n",
    "\n",
    "Non è necessario gestire l'input, basta implementare la funzione."
   ]
  },
  {
   "cell_type": "code",
   "execution_count": 1,
   "metadata": {},
   "outputs": [
    {
     "name": "stdout",
     "output_type": "stream",
     "text": [
      "3.22\n",
      "3.218\n",
      "54.706\n"
     ]
    }
   ],
   "source": [
    "def mi_to_km(m):\n",
    "    a=m*1.609\n",
    "    return round(a,2)\n",
    "print(mi_to_km(2))\n",
    "\n",
    "def m_t_k(km):\n",
    "    return km*1.609\n",
    "print(m_t_k(2))\n",
    "\n",
    "def m_t_w(ho:int):\n",
    "    return ho*1.609\n",
    "print(m_t_w(34))\n",
    "\n",
    "km_per_mille = 1.609\n",
    "def migliakm(mi):\n",
    "    return mi*km_per_mille\n",
    "user_input = (input('inserisci miglia'))\n",
    "result = migliakm(float(user_input))\n",
    "print(result)\n",
    "\n",
    "km_per_mille = 1.609\n",
    "def migliakm(mi):\n",
    "    return mi*km_per_mille\n",
    "user_input = (input('inserisci miglia'))\n",
    "result = migliakm(float(user_input))\n",
    "print(result)"
   ]
  }
 ],
 "metadata": {
  "kernelspec": {
   "display_name": ".venv",
   "language": "python",
   "name": "python3"
  },
  "language_info": {
   "codemirror_mode": {
    "name": "ipython",
    "version": 3
   },
   "file_extension": ".py",
   "mimetype": "text/x-python",
   "name": "python",
   "nbconvert_exporter": "python",
   "pygments_lexer": "ipython3",
   "version": "3.10.0"
  },
  "orig_nbformat": 4
 },
 "nbformat": 4,
 "nbformat_minor": 2
}
