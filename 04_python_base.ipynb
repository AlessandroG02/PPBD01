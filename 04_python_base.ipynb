{
 "cells": [
  {
   "cell_type": "markdown",
   "metadata": {
    "slideshow": {
     "slide_type": "slide"
    },
    "tags": []
   },
   "source": [
    "# Estensioni dei file di Python\n",
    "\n",
    "- `.py` file contentente un generico script in Python.\n",
    "- `.pyw` script che avvia una GUI (usato su sistemi Windows).\n",
    "- `.pyc` script compilato in bytecode. Questi file vengono generati automaticamente dall'interprete quando si importa un modulo, velocizzando così le importazioni future di quel modulo.\n",
    "- `.pyd` *Python Dynamic Module*, praticamente un \"modulo di estensione\" o \"libreria condivisa\" (*shared library*). Contiene una DLL Python ed è usato su sistemi Windows. Su sistemi Linux e macOS questi file hanno estensione `.so`.\n",
    "- `.pyi` stub file (file di stub) che contiene i *type hints*, anche note come *variable annotations*, utilizzati per rendere più \"statica\" la tipizzazione delle variabili. I *type hints* possono essere scritti direttamente assieme al codice contenuto in un normale file `.py`, ma se non vogliamo toccare il codice originale e aggiundere il controllo sui tipi di dato, possiamo utilizzare questi file di stub esterni.\n",
    "- `.ipynb` Interactive Python NoteBook. File di Juputer Notebook. Possono contenere sia testo Markdown sia codice Python."
   ]
  },
  {
   "cell_type": "markdown",
   "metadata": {
    "slideshow": {
     "slide_type": "slide"
    },
    "tags": []
   },
   "source": [
    "# Panoramica di un programma di base\n",
    "\n",
    "Un programma Python si compone di moduli, istruzioni, espressioni e oggetti:\n",
    "\n",
    "- i moduli contengono istruzioni;\n",
    "- le istruzioni contengono espressioni;\n",
    "- le espressioni creano e processano gli oggetti."
   ]
  },
  {
   "cell_type": "markdown",
   "metadata": {
    "slideshow": {
     "slide_type": "subslide"
    },
    "tags": []
   },
   "source": [
    "Un'espressione (*expression*) è qualsiasi porzione di codice che restituisce un valore. In generale usiamo le espressioni per ottenere dei risultati. Esempio:\n",
    "\n",
    "```python\n",
    "1 + 1\n",
    "\"Roger\"\n",
    "```"
   ]
  },
  {
   "cell_type": "markdown",
   "metadata": {
    "slideshow": {
     "slide_type": "fragment"
    },
    "tags": []
   },
   "source": [
    "Un'istruzione (*statement*) è invece un'operazione su un valore. In generale utilizziamo le istruzione per creare variabili o per visualizzare valori, non per ottenere risultati. Esempio:\n",
    "\n",
    "```python\n",
    "nome = \"Roger\"\n",
    "print(nome)\n",
    "```"
   ]
  },
  {
   "cell_type": "markdown",
   "metadata": {
    "slideshow": {
     "slide_type": "subslide"
    },
    "tags": []
   },
   "source": [
    "Nella sua forma più semplice, un programma Python è un insieme di istruzioni che vengono eseguite dall'alto in basso una dietro l'altra dall'interprete. "
   ]
  },
  {
   "cell_type": "markdown",
   "metadata": {
    "slideshow": {
     "slide_type": "fragment"
    },
    "tags": []
   },
   "source": [
    "Ci sono due modi di scrivere ed eseguire codice Python:"
   ]
  },
  {
   "cell_type": "markdown",
   "metadata": {
    "slideshow": {
     "slide_type": "fragment"
    },
    "tags": []
   },
   "source": [
    "- Scrivere il codice un file `.py` e successivamente eseguirlo tramite l'eseguibile dell'interprete Python.\n",
    "- Scrivere il codice nella shell interattiva nativa di Python oppure in una alternativa, genericamente chiamata **REPL** (Read-Evaluate-Print-Loop)."
   ]
  },
  {
   "cell_type": "markdown",
   "metadata": {
    "slideshow": {
     "slide_type": "notes"
    },
    "tags": []
   },
   "source": [
    "Abbiamo già provato ad eseguire uno script (moltiplica_due_numeri.py) dal contenuto dato.\n",
    "\n",
    "Ora proveremo a crearne di nostri."
   ]
  },
  {
   "cell_type": "markdown",
   "metadata": {
    "slideshow": {
     "slide_type": "subslide"
    },
    "tags": []
   },
   "source": [
    "Prima però di scrivere direttamente il codice in un file `.py` possiamo fare pratica e studiare tramite un cosiddetto \"Python REPL\", ovvero scrivendo in un interprete interattivo di Python."
   ]
  },
  {
   "cell_type": "markdown",
   "metadata": {
    "slideshow": {
     "slide_type": "notes"
    },
    "tags": []
   },
   "source": [
    "Oltre all'interprete interattivo ufficiale chiamato CPython che offre funzionalità minimali, ne sono stati creati altri che offrono strumenti interattivi più avanzati permettendo allo sviluppatore di esplorare, studiare e scrivere il codice con una migliore esperienza utente."
   ]
  },
  {
   "cell_type": "markdown",
   "metadata": {
    "slideshow": {
     "slide_type": "fragment"
    },
    "tags": []
   },
   "source": [
    "Abbiamo già visto IDLE, l'IDE integrato ufficiale di Python e IPython, l'interprete ufficiale del progetto Jupyter Notebook."
   ]
  },
  {
   "cell_type": "markdown",
   "metadata": {
    "slideshow": {
     "slide_type": "fragment"
    },
    "tags": []
   },
   "source": [
    "Due altri progetti interessanti sono [bpython](https://pypi.org/project/bpython/) e [ptpython](https://pypi.org/project/ptpython/), tuttavia attualmente non vi è un buon supporto per i sistemi Windows."
   ]
  },
  {
   "cell_type": "markdown",
   "metadata": {
    "slideshow": {
     "slide_type": "notes"
    },
    "tags": []
   },
   "source": [
    "Dato che ci troviamo dentro un notebook di Jupyter ora useremo IPython, ma potete replicare gli stessi esercizi con IDLE o direttamente nell'interprete nativo."
   ]
  },
  {
   "cell_type": "markdown",
   "metadata": {
    "slideshow": {
     "slide_type": "subslide"
    },
    "tags": []
   },
   "source": [
    "## Hello, World! \n",
    "\n",
    "Il nostro primo esempio sarà \"Hello, World!\" (Ciao mondo!), che tradizionalmente è utilizzato per introdurre i principianti a un nuovo linguaggio di programmazione."
   ]
  },
  {
   "cell_type": "code",
   "execution_count": 1,
   "metadata": {
    "slideshow": {
     "slide_type": "fragment"
    },
    "tags": []
   },
   "outputs": [
    {
     "name": "stdout",
     "output_type": "stream",
     "text": [
      "Hello, World!\n"
     ]
    }
   ],
   "source": [
    "print(\"Hello, World!\")"
   ]
  },
  {
   "cell_type": "markdown",
   "metadata": {
    "slideshow": {
     "slide_type": "fragment"
    },
    "tags": []
   },
   "source": [
    "> NOTA: In Jupyter l'istruzione qui sopra viene scritta all'interno di una cella di tipo code ed eseguita cliccando per esempio sul bottone Run/Esegui. L'output viene mostrato subito sotto la cella."
   ]
  },
  {
   "cell_type": "markdown",
   "metadata": {
    "slideshow": {
     "slide_type": "fragment"
    },
    "tags": []
   },
   "source": [
    "Come si può vedere, il programma consiste in una sola riga di codice contenente una sola istruzione."
   ]
  },
  {
   "cell_type": "markdown",
   "metadata": {
    "slideshow": {
     "slide_type": "fragment"
    },
    "tags": []
   },
   "source": [
    "`print` è il nome di una **funzione** *built-in*, direttamente disponibile senza dover importare nulla."
   ]
  },
  {
   "cell_type": "markdown",
   "metadata": {
    "slideshow": {
     "slide_type": "fragment"
    },
    "tags": []
   },
   "source": [
    "Quando l'istruzione viene eseguita, `print()` mostra il valore passato tra parentesi, detto _**argomento**_."
   ]
  },
  {
   "cell_type": "markdown",
   "metadata": {
    "slideshow": {
     "slide_type": "subslide"
    },
    "tags": []
   },
   "source": [
    "Una funzione è un blocco di codice che svolge una serie di azioni utili, ad esempio, come in questo caso, stampa un testo."
   ]
  },
  {
   "cell_type": "markdown",
   "metadata": {
    "slideshow": {
     "slide_type": "fragment"
    },
    "tags": []
   },
   "source": [
    "Più in generale, possiamo vedere una funzione come un sottoprogramma (o subroutine) che può essere **riutilizzato** all'interno dei programmi."
   ]
  },
  {
   "cell_type": "markdown",
   "metadata": {
    "slideshow": {
     "slide_type": "fragment"
    },
    "tags": []
   },
   "source": [
    "Quando il nome di una funzione è seguito da parentesi come `print()`, significa che questa è stata **chiamata/invocata** per ottenere il risultato."
   ]
  },
  {
   "cell_type": "markdown",
   "metadata": {
    "slideshow": {
     "slide_type": "fragment"
    },
    "tags": []
   },
   "source": [
    "Con \"stringa\", in inglese `string`, si intende un tipo di dato che può contenere caratteri alfanumerici e simboli, ovvero del testo generico."
   ]
  },
  {
   "cell_type": "markdown",
   "metadata": {
    "slideshow": {
     "slide_type": "fragment"
    },
    "tags": []
   },
   "source": [
    "Osserviamo ora la nostra stringa \"Hello, World!\"."
   ]
  },
  {
   "cell_type": "markdown",
   "metadata": {
    "slideshow": {
     "slide_type": "fragment"
    },
    "tags": []
   },
   "source": [
    "Tutte le stringhe definite dal programmatore direttamente nel codice vengono definite _**string literal**_ e devono essere delimitate apici singoli (`'`), virgolette (`\"`) oppure apici o virgolette triple (`'''` o `\"\"\"`). Quindi \"Hello, World!\" è una stringa valida."
   ]
  },
  {
   "cell_type": "markdown",
   "metadata": {
    "slideshow": {
     "slide_type": "notes"
    },
    "tags": []
   },
   "source": [
    "È possibile sostituire questa stringa con un'altra e il programma stamperà la nuova stringa. Ad esempio:"
   ]
  },
  {
   "cell_type": "code",
   "execution_count": 2,
   "metadata": {
    "slideshow": {
     "slide_type": "notes"
    },
    "tags": []
   },
   "outputs": [
    {
     "name": "stdout",
     "output_type": "stream",
     "text": [
      "Beautiful is better than ugly.\n"
     ]
    }
   ],
   "source": [
    "print('Beautiful is better than ugly.')"
   ]
  },
  {
   "cell_type": "markdown",
   "metadata": {
    "slideshow": {
     "slide_type": "subslide"
    },
    "tags": []
   },
   "source": [
    "## Stampa delle virgolette\n",
    "\n",
    "Immaginate ora che la stringa che volete stampare contenga già un qualche tipo di virgolette. Se volete includere le virgolette in una stringa, racchiudete questa stringa tra le virgolette dell'altro tipo. Esempio:\n"
   ]
  },
  {
   "cell_type": "code",
   "execution_count": 3,
   "metadata": {
    "slideshow": {
     "slide_type": "fragment"
    },
    "tags": []
   },
   "outputs": [
    {
     "name": "stdout",
     "output_type": "stream",
     "text": [
      "Special cases aren't special enough to break the rules.\n"
     ]
    }
   ],
   "source": [
    "\n",
    "print(\"Special cases aren't special enough to break the rules.\")"
   ]
  },
  {
   "cell_type": "markdown",
   "metadata": {
    "slideshow": {
     "slide_type": "fragment"
    },
    "tags": []
   },
   "source": [
    "Se si scrive nel seguente modo sbagliato, il programma non saprà dove inizia e dove finisce la stringa, generando un errore:"
   ]
  },
  {
   "cell_type": "code",
   "execution_count": 4,
   "metadata": {
    "slideshow": {
     "slide_type": "fragment"
    },
    "tags": []
   },
   "outputs": [
    {
     "ename": "SyntaxError",
     "evalue": "unterminated string literal (detected at line 1) (944374151.py, line 1)",
     "output_type": "error",
     "traceback": [
      "\u001b[0;36m  Cell \u001b[0;32mIn[4], line 1\u001b[0;36m\u001b[0m\n\u001b[0;31m    print('Special cases aren't special enough to break the rules.')\u001b[0m\n\u001b[0m                                                                  ^\u001b[0m\n\u001b[0;31mSyntaxError\u001b[0m\u001b[0;31m:\u001b[0m unterminated string literal (detected at line 1)\n"
     ]
    }
   ],
   "source": [
    "print('Special cases aren't special enough to break the rules.')"
   ]
  },
  {
   "cell_type": "markdown",
   "metadata": {
    "slideshow": {
     "slide_type": "subslide"
    },
    "tags": []
   },
   "source": [
    "Se poi la nostra stringa contiene sia di apici singoli che virgolette, possiamo utilizzare il *carattere di escape* `\\` per indicare a Python come interpretare correttamente il nostro *string literal*."
   ]
  },
  {
   "cell_type": "code",
   "execution_count": 5,
   "metadata": {
    "slideshow": {
     "slide_type": "fragment"
    },
    "tags": []
   },
   "outputs": [
    {
     "name": "stdout",
     "output_type": "stream",
     "text": [
      "L'hai letto \"The Zen of Python\"?\n"
     ]
    }
   ],
   "source": [
    "print('L\\'hai letto \"The Zen of Python\"?')"
   ]
  },
  {
   "cell_type": "markdown",
   "metadata": {
    "slideshow": {
     "slide_type": "subslide"
    },
    "tags": []
   },
   "source": [
    "## Errori più comuni\n",
    "\n",
    "Anche questa semplice istruzione può contenere degli errori. Vediamo quali possono essere i più comuni."
   ]
  },
  {
   "cell_type": "markdown",
   "metadata": {
    "slideshow": {
     "slide_type": "fragment"
    },
    "tags": []
   },
   "source": [
    "Gli errori nel codice possono essere di due tipi:\n",
    "\n",
    "1. Sintattici, quando Python non capisce il codice perché non abbiamo rispettato il vocabolario o le regole del linguaggio e Python solleva un errore;"
   ]
  },
  {
   "cell_type": "markdown",
   "metadata": {
    "slideshow": {
     "slide_type": "fragment"
    },
    "tags": []
   },
   "source": [
    "2. Semantici, quando è la parte logica ad essere errata e dunque i risultati che ci restituisce sono errati; tuttavia Python non solleva nessun errore."
   ]
  },
  {
   "cell_type": "markdown",
   "metadata": {
    "slideshow": {
     "slide_type": "subslide"
    },
    "tags": []
   },
   "source": [
    "### Errori semantici\n",
    "\n",
    "Gli errori semantici sono più difficili da individuare e spesso richiedono appositi strumenti di test quando si tratta di programmi complessi."
   ]
  },
  {
   "cell_type": "markdown",
   "metadata": {
    "slideshow": {
     "slide_type": "fragment"
    },
    "tags": []
   },
   "source": [
    "L'esempio più banale può essere un semplice errore di ortografia all'interno di una stringa:"
   ]
  },
  {
   "cell_type": "code",
   "execution_count": 6,
   "metadata": {
    "slideshow": {
     "slide_type": "fragment"
    },
    "tags": []
   },
   "outputs": [
    {
     "name": "stdout",
     "output_type": "stream",
     "text": [
      "Cito a tutti!\n"
     ]
    }
   ],
   "source": [
    "print('Cito a tutti!')"
   ]
  },
  {
   "cell_type": "markdown",
   "metadata": {
    "slideshow": {
     "slide_type": "fragment"
    },
    "tags": []
   },
   "source": [
    "Per Python una stringa è un testo qualunque. La funzione `print` non esegue alcun controllo ortografico sulle stringhe stampate e dunque non viene sollevato alcun errore."
   ]
  },
  {
   "cell_type": "markdown",
   "metadata": {
    "slideshow": {
     "slide_type": "subslide"
    },
    "tags": []
   },
   "source": [
    "### Errori sintattici\n",
    "\n",
    "Gli errori sintattici sono un po' più facili da individuare perché generano solitamente degli errori o dei comportamenti palesemente anomali."
   ]
  },
  {
   "cell_type": "markdown",
   "metadata": {
    "slideshow": {
     "slide_type": "fragment"
    },
    "tags": []
   },
   "source": [
    "\n",
    "- Mettere un'indentazione extra e non necessaria all'inizio dell'istruzione:"
   ]
  },
  {
   "cell_type": "code",
   "execution_count": 7,
   "metadata": {
    "slideshow": {
     "slide_type": "fragment"
    },
    "tags": []
   },
   "outputs": [
    {
     "ename": "IndentationError",
     "evalue": "unexpected indent (4077253867.py, line 2)",
     "output_type": "error",
     "traceback": [
      "\u001b[0;36m  Cell \u001b[0;32mIn[7], line 2\u001b[0;36m\u001b[0m\n\u001b[0;31m    print(\"Ciao, mondo!\")\u001b[0m\n\u001b[0m    ^\u001b[0m\n\u001b[0;31mIndentationError\u001b[0m\u001b[0;31m:\u001b[0m unexpected indent\n"
     ]
    }
   ],
   "source": [
    "# La seguente riga genererà un errore\n",
    "   print(\"Ciao, mondo!\")"
   ]
  },
  {
   "cell_type": "markdown",
   "metadata": {
    "slideshow": {
     "slide_type": "subslide"
    },
    "tags": []
   },
   "source": [
    "- Chiamare la funzione con il nome sbagliato:"
   ]
  },
  {
   "cell_type": "code",
   "execution_count": 8,
   "metadata": {
    "slideshow": {
     "slide_type": "fragment"
    },
    "tags": []
   },
   "outputs": [
    {
     "ename": "NameError",
     "evalue": "name 'pint' is not defined",
     "output_type": "error",
     "traceback": [
      "\u001b[0;31m---------------------------------------------------------------------------\u001b[0m",
      "\u001b[0;31mNameError\u001b[0m                                 Traceback (most recent call last)",
      "Cell \u001b[0;32mIn[8], line 1\u001b[0m\n\u001b[0;32m----> 1\u001b[0m \u001b[43mpint\u001b[49m(\u001b[38;5;124m\"\u001b[39m\u001b[38;5;124mCiao, mondo!\u001b[39m\u001b[38;5;124m\"\u001b[39m)\n",
      "\u001b[0;31mNameError\u001b[0m: name 'pint' is not defined"
     ]
    }
   ],
   "source": [
    "pint(\"Ciao, mondo!\")"
   ]
  },
  {
   "cell_type": "markdown",
   "metadata": {
    "slideshow": {
     "slide_type": "fragment"
    },
    "tags": []
   },
   "source": [
    "La riga qua sopra contiene `pint` invece di `print`. Assicurati di riferirti a ogni funzione con il suo nome corretto."
   ]
  },
  {
   "cell_type": "markdown",
   "metadata": {
    "slideshow": {
     "slide_type": "subslide"
    },
    "tags": []
   },
   "source": [
    "- Scrivere i nomi senza rispettare il corretto uso di maiuscole e minuscole:"
   ]
  },
  {
   "cell_type": "code",
   "execution_count": 9,
   "metadata": {
    "slideshow": {
     "slide_type": "fragment"
    },
    "tags": []
   },
   "outputs": [
    {
     "ename": "NameError",
     "evalue": "name 'PRINT' is not defined",
     "output_type": "error",
     "traceback": [
      "\u001b[0;31m---------------------------------------------------------------------------\u001b[0m",
      "\u001b[0;31mNameError\u001b[0m                                 Traceback (most recent call last)",
      "Cell \u001b[0;32mIn[9], line 1\u001b[0m\n\u001b[0;32m----> 1\u001b[0m \u001b[43mPRINT\u001b[49m(\u001b[38;5;124m\"\u001b[39m\u001b[38;5;124mTutto maiuscolo\u001b[39m\u001b[38;5;124m\"\u001b[39m)\n",
      "\u001b[0;31mNameError\u001b[0m: name 'PRINT' is not defined"
     ]
    }
   ],
   "source": [
    "PRINT(\"Tutto maiuscolo\")"
   ]
  },
  {
   "cell_type": "markdown",
   "metadata": {
    "slideshow": {
     "slide_type": "fragment"
    },
    "tags": []
   },
   "source": [
    "Dato che Python i nomi sono sensibili alle maiuscole e alle minuscole (*case sensitive*), `Print`, `print` e `PRINT` non sono la stessa cosa."
   ]
  },
  {
   "cell_type": "markdown",
   "metadata": {
    "slideshow": {
     "slide_type": "subslide"
    },
    "tags": []
   },
   "source": [
    "\n",
    "- Omettere uno o entrambi gli apici che devono racchiudere una stringa:\n"
   ]
  },
  {
   "cell_type": "code",
   "execution_count": 10,
   "metadata": {
    "slideshow": {
     "slide_type": "fragment"
    },
    "tags": []
   },
   "outputs": [
    {
     "ename": "SyntaxError",
     "evalue": "unterminated string literal (detected at line 1) (344492435.py, line 1)",
     "output_type": "error",
     "traceback": [
      "\u001b[0;36m  Cell \u001b[0;32mIn[10], line 1\u001b[0;36m\u001b[0m\n\u001b[0;31m    print(\"Python)\u001b[0m\n\u001b[0m          ^\u001b[0m\n\u001b[0;31mSyntaxError\u001b[0m\u001b[0;31m:\u001b[0m unterminated string literal (detected at line 1)\n"
     ]
    }
   ],
   "source": [
    "print(\"Python)"
   ]
  },
  {
   "cell_type": "markdown",
   "metadata": {
    "slideshow": {
     "slide_type": "fragment"
    },
    "tags": []
   },
   "source": [
    "La riga qua sopra genera un errore perché mancano le virgolette di chiusura."
   ]
  },
  {
   "cell_type": "markdown",
   "metadata": {
    "slideshow": {
     "slide_type": "subslide"
    },
    "tags": []
   },
   "source": [
    "- Omettere una o entrambe le parentesi di chiamata:"
   ]
  },
  {
   "cell_type": "code",
   "execution_count": 11,
   "metadata": {
    "slideshow": {
     "slide_type": "fragment"
    },
    "tags": []
   },
   "outputs": [
    {
     "ename": "SyntaxError",
     "evalue": "incomplete input (517778993.py, line 1)",
     "output_type": "error",
     "traceback": [
      "\u001b[0;36m  Cell \u001b[0;32mIn[11], line 1\u001b[0;36m\u001b[0m\n\u001b[0;31m    print(\"Non ho una fine\"\u001b[0m\n\u001b[0m                           ^\u001b[0m\n\u001b[0;31mSyntaxError\u001b[0m\u001b[0;31m:\u001b[0m incomplete input\n"
     ]
    }
   ],
   "source": [
    "print(\"Non ho una fine\""
   ]
  },
  {
   "cell_type": "markdown",
   "metadata": {
    "slideshow": {
     "slide_type": "subslide"
    },
    "tags": []
   },
   "source": [
    "Fate attenzione alle parentesi, soprattutto quando volete chiamate una funzione.\n",
    "\n",
    "`print` ci restituisce l'oggetto contenente la funzione `print`, ma senza eseguirla:"
   ]
  },
  {
   "cell_type": "code",
   "execution_count": 12,
   "metadata": {
    "slideshow": {
     "slide_type": "fragment"
    },
    "tags": []
   },
   "outputs": [
    {
     "data": {
      "text/plain": [
       "<function print(*args, sep=' ', end='\\n', file=None, flush=False)>"
      ]
     },
     "execution_count": 12,
     "metadata": {},
     "output_type": "execute_result"
    }
   ],
   "source": [
    "print"
   ]
  },
  {
   "cell_type": "markdown",
   "metadata": {
    "slideshow": {
     "slide_type": "fragment"
    },
    "tags": []
   },
   "source": [
    "`print()` esegue/chiama/invoca la funzione `print`:"
   ]
  },
  {
   "cell_type": "code",
   "execution_count": 13,
   "metadata": {
    "slideshow": {
     "slide_type": "fragment"
    },
    "tags": []
   },
   "outputs": [
    {
     "name": "stdout",
     "output_type": "stream",
     "text": [
      "\n"
     ]
    }
   ],
   "source": [
    "print()"
   ]
  },
  {
   "cell_type": "markdown",
   "metadata": {
    "slideshow": {
     "slide_type": "fragment"
    },
    "tags": []
   },
   "source": [
    "In questo caso non stampa nulla perché non abbiamo passato alcun argomento."
   ]
  },
  {
   "cell_type": "markdown",
   "metadata": {
    "slideshow": {
     "slide_type": "subslide"
    },
    "tags": []
   },
   "source": [
    "## Programmi su più righe\n",
    "\n",
    "Per ora abbiamo creato solo semplici programmi composti da una sola riga che stampano un testo. Tuttavia, i programmi reali contengono un numero maggiore di righe: da decine e centinaia per i piccoli script a migliaia e anche di più per i grandi progetti."
   ]
  },
  {
   "cell_type": "markdown",
   "metadata": {
    "slideshow": {
     "slide_type": "fragment"
    },
    "tags": []
   },
   "source": [
    "In questa sezione, quindi, trattiamo programmi che stampano più righe."
   ]
  },
  {
   "cell_type": "markdown",
   "metadata": {
    "slideshow": {
     "slide_type": "subslide"
    },
    "tags": []
   },
   "source": [
    "### Modi per stampare righe multiple\n",
    "\n",
    "Partiamo con un esempio. Il codice seguente stampa esattamente tre stringhe, ciascuna su una nuova riga:"
   ]
  },
  {
   "cell_type": "code",
   "execution_count": 14,
   "metadata": {
    "slideshow": {
     "slide_type": "fragment"
    },
    "tags": []
   },
   "outputs": [
    {
     "name": "stdout",
     "output_type": "stream",
     "text": [
      "Io\n",
      "studio\n",
      "Python.\n"
     ]
    }
   ],
   "source": [
    "print('Io')\n",
    "print('studio')\n",
    "print('Python.')"
   ]
  },
  {
   "cell_type": "markdown",
   "metadata": {
    "slideshow": {
     "slide_type": "notes"
    },
    "tags": []
   },
   "source": [
    "Esistono altri modi per stampare lo stesso testo utilizzando una sola chiamata di funzione, ma li tratteremo più avanti."
   ]
  },
  {
   "cell_type": "markdown",
   "metadata": {
    "slideshow": {
     "slide_type": "subslide"
    },
    "tags": []
   },
   "source": [
    "La funzione `print` consente anche di stampare una riga vuota senza specificare alcuna stringa:"
   ]
  },
  {
   "cell_type": "code",
   "execution_count": 15,
   "metadata": {
    "slideshow": {
     "slide_type": "fragment"
    },
    "tags": []
   },
   "outputs": [
    {
     "name": "stdout",
     "output_type": "stream",
     "text": [
      "Io\n",
      "\n",
      "studio\n",
      "\n",
      "Python\n"
     ]
    }
   ],
   "source": [
    "print('Io')\n",
    "print()\n",
    "print('studio')\n",
    "print('')\n",
    "print('Python')"
   ]
  },
  {
   "cell_type": "markdown",
   "metadata": {
    "slideshow": {
     "slide_type": "fragment"
    },
    "tags": []
   },
   "source": [
    "Si noti che `print()` e `print('')` danno lo stesso risultato."
   ]
  },
  {
   "cell_type": "markdown",
   "metadata": {
    "slideshow": {
     "slide_type": "subslide"
    },
    "tags": []
   },
   "source": [
    "> ATTENZIONE! Saltare la riga lasciando una riga vuota nel codice non avrà alcun effetto:"
   ]
  },
  {
   "cell_type": "code",
   "execution_count": 16,
   "metadata": {},
   "outputs": [
    {
     "name": "stdout",
     "output_type": "stream",
     "text": [
      "E\n",
      "tu?\n"
     ]
    }
   ],
   "source": [
    "print('E')\n",
    "\n",
    "print('tu?')"
   ]
  },
  {
   "cell_type": "markdown",
   "metadata": {
    "slideshow": {
     "slide_type": "subslide"
    },
    "tags": []
   },
   "source": [
    "## Commenti\n",
    "\n",
    "A volte è necessario spiegare a cosa servono alcune parti particolari del codice. È possibile lasciare note speciali chiamate commenti. Sono particolarmente utili per i principianti."
   ]
  },
  {
   "cell_type": "markdown",
   "metadata": {
    "slideshow": {
     "slide_type": "notes"
    },
    "tags": []
   },
   "source": [
    "Nel corso di questo corso, utilizzeremo spesso i commenti per spiegare i nostri esempi."
   ]
  },
  {
   "cell_type": "markdown",
   "metadata": {
    "slideshow": {
     "slide_type": "subslide"
    },
    "tags": []
   },
   "source": [
    "### Che cos'è un commento?\n",
    "\n",
    "I commenti in Python iniziano con un hash `#`. Tutto ciò che si trova dopo il simbolo hash e fino alla fine della riga è considerato un commento e verrà ignorato durante l'esecuzione del codice."
   ]
  },
  {
   "cell_type": "code",
   "execution_count": 17,
   "metadata": {
    "slideshow": {
     "slide_type": "fragment"
    },
    "tags": []
   },
   "outputs": [
    {
     "name": "stdout",
     "output_type": "stream",
     "text": [
      "Questo verrà eseguito.\n"
     ]
    }
   ],
   "source": [
    "print(\"Questo verrà eseguito.\")  # Questo non verrà eseguito"
   ]
  },
  {
   "cell_type": "markdown",
   "metadata": {
    "slideshow": {
     "slide_type": "fragment"
    },
    "tags": []
   },
   "source": [
    "Nell'esempio precedente, si può vedere quello che il PEP 8 chiama un commento *inline*, perché è scritto sulla stessa riga del codice."
   ]
  },
  {
   "cell_type": "markdown",
   "metadata": {
    "slideshow": {
     "slide_type": "subslide"
    },
    "tags": []
   },
   "source": [
    "Un commento può anche riferirsi al blocco di codice che lo segue:"
   ]
  },
  {
   "cell_type": "code",
   "execution_count": 18,
   "metadata": {
    "slideshow": {
     "slide_type": "fragment"
    },
    "tags": []
   },
   "outputs": [
    {
     "name": "stdout",
     "output_type": "stream",
     "text": [
      "1\n",
      "2\n",
      "3\n"
     ]
    }
   ],
   "source": [
    "# Stampa tre numeri\n",
    "print(\"1\")\n",
    "print(\"2\")\n",
    "print(\"3\")"
   ]
  },
  {
   "cell_type": "markdown",
   "metadata": {
    "slideshow": {
     "slide_type": "subslide"
    },
    "tags": []
   },
   "source": [
    "### Formattazione dei commenti\n",
    "\n",
    "Anche se è abbastanza facile scrivere un commento, vediamo come farlo secondo le buone pratiche."
   ]
  },
  {
   "cell_type": "markdown",
   "metadata": {
    "slideshow": {
     "slide_type": "fragment"
    },
    "tags": []
   },
   "source": [
    "Per cominciare, dopo un segno di hash ci dovrebbe essere uno spazio e, nei commenti in linea, ci dovrebbero essere due spazi tra la fine del codice e il segno di hash."
   ]
  },
  {
   "cell_type": "markdown",
   "metadata": {
    "slideshow": {
     "slide_type": "notes"
    },
    "tags": []
   },
   "source": [
    "È accettabile anche mettere più di due spazi tra la fine del codice e il segno di hash, ma più comunemente ci sono esattamente due spazi."
   ]
  },
  {
   "cell_type": "markdown",
   "metadata": {
    "slideshow": {
     "slide_type": "fragment"
    },
    "tags": []
   },
   "source": [
    "```python\n",
    "print(\"Imparare Python è divertente!\")  # Questa è la formattazione corretta dei commenti\n",
    "print(\"PEP-8 è importante!\")#Questo è un pessimo esempio\n",
    "```"
   ]
  },
  {
   "cell_type": "markdown",
   "metadata": {
    "slideshow": {
     "slide_type": "subslide"
    },
    "tags": []
   },
   "source": [
    "Indentare il commento allo stesso livello dell'istruzione che spiega. Ad esempio, il seguente esempio è sbagliato:\n",
    "\n",
    "```python\n",
    "    # questo commento è nel posto sbagliato\n",
    "print(\"Questa è un'istruzione da stampare.\")\n",
    "```"
   ]
  },
  {
   "cell_type": "markdown",
   "metadata": {
    "slideshow": {
     "slide_type": "subslide"
    },
    "tags": []
   },
   "source": [
    "Un commento non è un comando Python: non deve essere troppo lungo. Secondo la PEP-8, la lunghezza dei commenti dovrebbe essere limitata a 72 caratteri."
   ]
  },
  {
   "cell_type": "markdown",
   "metadata": {
    "slideshow": {
     "slide_type": "fragment"
    },
    "tags": []
   },
   "source": [
    "È meglio dividere un commento lungo in più righe: lo si può fare aggiungendo un segno di hash all'inizio di ogni nuova riga:"
   ]
  },
  {
   "cell_type": "markdown",
   "metadata": {
    "slideshow": {
     "slide_type": "fragment"
    },
    "tags": []
   },
   "source": [
    "```python\n",
    "# Immaginiamo che questo sia un esempio di commento molto lungo\n",
    "# che dobbiamo distribuire su tre righe, quindi continuiamo a\n",
    "# a scriverlo anche qui.\n",
    "print(\"Il lungo commento precedente spiega questa riga di codice.\")\n",
    "```"
   ]
  },
  {
   "cell_type": "markdown",
   "metadata": {
    "slideshow": {
     "slide_type": "fragment"
    },
    "tags": []
   },
   "source": [
    "I commenti che si estendono su più righe sono chiamati commenti multilinea o a blocchi (*multi-line comments*, *block comments*)."
   ]
  },
  {
   "cell_type": "markdown",
   "metadata": {
    "slideshow": {
     "slide_type": "fragment"
    },
    "tags": []
   },
   "source": [
    "È possibile imbattersi in commenti multilinea racchiusi tra tripli apici `'''...'''` o `\"\"\"...\"\"\"`; tuttavia, si consiglia di utilizzare commenti con il simbolo di hash per questo scopo."
   ]
  },
  {
   "cell_type": "markdown",
   "metadata": {
    "slideshow": {
     "slide_type": "fragment"
    },
    "tags": []
   },
   "source": [
    "La PEP-8 indica che le virgolette triple dovrebbero essere riservate alle stringhe di documentazione, o _**docstring**_. Possono anche essere commenti informativi, ma il loro uso è limitato a documentare tecnicamente funzioni, metodi e altri casi."
   ]
  },
  {
   "cell_type": "markdown",
   "metadata": {
    "slideshow": {
     "slide_type": "subslide"
    },
    "tags": []
   },
   "source": [
    "### Riassumendo\n",
    "\n",
    "In questa sezione abbiamo imparato cosa sono i commenti e a cosa servono. I punti principali sono:\n",
    "\n",
    "- I commenti servono a spiegare a cosa servono determinate parti del codice.\n",
    "- I commenti iniziano con un hash `#`.\n",
    "- I commenti vengono ignorati durante l'esecuzione del codice;\n",
    "- I commenti possono trovarsi al di sopra di un pezzo di codice, in linea, o formare un blocco."
   ]
  },
  {
   "cell_type": "markdown",
   "metadata": {
    "slideshow": {
     "slide_type": "fragment"
    },
    "tags": []
   },
   "source": [
    "Secondo la PEP 8, ci sono anche alcune regole da seguire per la formattazione dei commenti:\n",
    "\n",
    "- Dopo il segno `#` iniziale ci deve essere uno spazio; inoltre, nei commenti in linea, ci devono essere due spazi tra la fine del codice e il segno `#`.\n",
    "- La lunghezza del commento deve essere limitata a 72 caratteri; è possibile dividere un commento lungo in più righe, formando così un \"blocco\".\n",
    "- Il commento deve essere indentato allo stesso livello dell'istruzione che spiega."
   ]
  }
 ],
 "metadata": {
  "kernelspec": {
   "display_name": "Python 3 (ipykernel)",
   "language": "python",
   "name": "python3"
  },
  "language_info": {
   "codemirror_mode": {
    "name": "ipython",
    "version": 3
   },
   "file_extension": ".py",
   "mimetype": "text/x-python",
   "name": "python",
   "nbconvert_exporter": "python",
   "pygments_lexer": "ipython3",
   "version": "3.11.2"
  }
 },
 "nbformat": 4,
 "nbformat_minor": 4
}
