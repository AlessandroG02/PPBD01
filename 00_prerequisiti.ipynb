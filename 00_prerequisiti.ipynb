{
 "cells": [
  {
   "attachments": {},
   "cell_type": "markdown",
   "metadata": {},
   "source": [
    "# Prerequisiti\n",
    "\n",
    "Per poter affrontare tutti gli aspetti più tecnici di questo corso, è necessaria una serie di conoscenze e competenze che possiamo definire ***di base e propedeutiche***.\n",
    "\n",
    "Assicurati di possedere queste conoscenze e, in caso contrario, non aspettare troppo e trova il tempo per approfondirle ed acquisirle in quanto non vi sarà il tempo di trattarle nella prima parte introduttiva.\n",
    "\n",
    "Gli argomenti segnati con una freccia \"&rarr;\" sono da considerarsi FONDAMENTALI E IMPRESCINDIBILI. Insomma, per poter programmare software, dovete prima essere anche un po' \"informatici\". Come possiamo altrimenti pensare di dare istruzioni a una *cosa* che nemmeno conosciamo?\n",
    "\n",
    "Gli argomenti non contrassegnati con la freccia sono comunque da considerarsi propedeutici e quindi avrete vita più semplice se possedete quelle conoscenze.\n",
    "\n",
    "- Conoscenza di base della lingua inglese.\n",
    "- &rarr; Aritmetica e geometria di base, concetti di: funzione matematica, grafico cartesiano, operatori logici e insiemi.\n",
    "- &rarr; Concetti di analogico vs digitale.\n",
    "- &rarr; Conoscenza di base dei componenti hardware di un computer e della loro funzione.\n",
    "- &rarr; Prefissi del Sistema Internazionale e unità di misura dell'informazione (dimensione, capacità, banda, velocità ecc.).\n",
    "- &rarr; Operare col sistema operativo (livello utente) e installare applicazioni.\n",
    "- &rarr; Operazioni base con file e cartelle da riga di comando.\n",
    "- &rarr; Nozioni di base sui formati e tipi di file.\n",
    "- Nozioni di base sulla compressione dei dati (dallo zip all'mp4).\n",
    "- Nozioni di base su grafica e immagini (pixel, dimensioni, risoluzione).\n",
    "- Uso del browser, navigazione sul web, nozioni di protocollo, URL, dominio e DNS.\n",
    "- Uso di un client email.\n",
    "- Uso base dell'elaboratore testi.\n",
    "- &rarr; Uso base del foglio di calcolo: uso delle funzioni più semplici.\n",
    "- Concetti basilari sulle tecnologie web HTML, JavaScript e CSS.\n",
    "- &rarr; Nozioni basilari di sicurezza informatica.\n",
    "\n",
    "> NOTA: Gli argomenti non sono in ordine casuale ma da quelli più generali si va a quelli più specifici."
   ]
  },
  {
   "attachments": {},
   "cell_type": "markdown",
   "metadata": {},
   "source": [
    "## Curiosità, orientamento e senso critico\n",
    "\n",
    "Il mondo dell'informatica e soprattutto della programmazione è basato sulla logica, dunque quando qualcosa vi sembra illogico, è probabile o che non abbiate capito qualcosa o che ci sia qualcosa che non va. Nel primo caso avete un'occasione per imparare una cosa nuova, nel secondo avete scoperto qualcosa!\n",
    "\n",
    "Quindi la regola fondamentale è che ogni volta che qualcosa non è chiaro, non prendetelo come un dato di fatto da memorizzare e passare oltre, ma cercate di capire il perché una certa cosa è fatta o funziona in un modo che non vi è chiaro. Quindi chiedete in classe quando avete dubbi!\n",
    "\n",
    "Si dice che non esistano domande stupide. Sono d'accordo. Esistono però domande \"non efficienti\". Per esempio nel caso in cui la risposta sia palese e sotto gli occhi di tutti, o ancora peggio, quando la domanda posta contiene al suo interno già la risposta.\n",
    "\n",
    "A scuola però non esistono nemmeno le domande non efficienti: nulla deve essere dato per scontato, anche se in apparenza può essere sotto gli occhi di tutti. Non siamo su un forum, quindi non riceverete *RTFM* come risposta, ma vi indicherò gentilmente dove poter trovare le risposte alle vostre domande.\n",
    "\n",
    "La scuola non può però insegnnarci tutto. In fin dei conti, il compito ultimo della scuola è dare una risposta alla domanda:\n",
    "\n",
    "> *Come faccio a sapere come fare a sapere?*\n",
    "\n",
    "Tre consigli dunque per affrontare questo corso con il giusto atteggiamento:\n",
    "\n",
    "- Siate curiosi, non date nulla per scontato.\n",
    "- Cercate sempre dei punti di riferimento e abbiate ben chiare tutte le risorse e le informazioni a vostra disposizione.\n",
    "- Siate critici, non date MAI nulla per scontato.\n",
    "\n",
    "Senza dubbio queste attitudini vi faciliteranno la vita nel vostro percorso per diventare dei bravi sviluppatori."
   ]
  }
 ],
 "metadata": {
  "kernelspec": {
   "display_name": "Python 3",
   "language": "python",
   "name": "python3"
  },
  "language_info": {
   "codemirror_mode": {
    "name": "ipython",
    "version": 3
   },
   "file_extension": ".py",
   "mimetype": "text/x-python",
   "name": "python",
   "nbconvert_exporter": "python",
   "pygments_lexer": "ipython3",
   "version": "3.11.1"
  },
  "orig_nbformat": 4,
  "vscode": {
   "interpreter": {
    "hash": "20e40d8fc09a6690434ad602c7eb2d8de15d36ec466bfbfb0de97c7c540d7363"
   }
  }
 },
 "nbformat": 4,
 "nbformat_minor": 2
}
